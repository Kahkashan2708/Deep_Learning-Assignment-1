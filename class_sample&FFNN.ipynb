{
  "nbformat": 4,
  "nbformat_minor": 0,
  "metadata": {
    "colab": {
      "provenance": []
    },
    "kernelspec": {
      "name": "python3",
      "display_name": "Python 3"
    },
    "language_info": {
      "name": "python"
    }
  },
  "cells": [
    {
      "cell_type": "markdown",
      "source": [
        "# Class Sample Visualization"
      ],
      "metadata": {
        "id": "GPCYiVtqbmPE"
      }
    },
    {
      "cell_type": "code",
      "execution_count": null,
      "metadata": {
        "colab": {
          "base_uri": "https://localhost:8080/",
          "height": 523
        },
        "id": "rxXAqOW9bX7Q",
        "outputId": "eabf5db4-3027-4e21-fcb0-4f2c1c7472d2"
      },
      "outputs": [
        {
          "output_type": "stream",
          "name": "stderr",
          "text": [
            "\u001b[34m\u001b[1mwandb\u001b[0m: Using wandb-core as the SDK backend.  Please refer to https://wandb.me/wandb-core for more information.\n"
          ]
        },
        {
          "output_type": "display_data",
          "data": {
            "text/plain": [
              "<IPython.core.display.Javascript object>"
            ],
            "application/javascript": [
              "\n",
              "        window._wandbApiKey = new Promise((resolve, reject) => {\n",
              "            function loadScript(url) {\n",
              "            return new Promise(function(resolve, reject) {\n",
              "                let newScript = document.createElement(\"script\");\n",
              "                newScript.onerror = reject;\n",
              "                newScript.onload = resolve;\n",
              "                document.body.appendChild(newScript);\n",
              "                newScript.src = url;\n",
              "            });\n",
              "            }\n",
              "            loadScript(\"https://cdn.jsdelivr.net/npm/postmate/build/postmate.min.js\").then(() => {\n",
              "            const iframe = document.createElement('iframe')\n",
              "            iframe.style.cssText = \"width:0;height:0;border:none\"\n",
              "            document.body.appendChild(iframe)\n",
              "            const handshake = new Postmate({\n",
              "                container: iframe,\n",
              "                url: 'https://wandb.ai/authorize'\n",
              "            });\n",
              "            const timeout = setTimeout(() => reject(\"Couldn't auto authenticate\"), 5000)\n",
              "            handshake.then(function(child) {\n",
              "                child.on('authorize', data => {\n",
              "                    clearTimeout(timeout)\n",
              "                    resolve(data)\n",
              "                });\n",
              "            });\n",
              "            })\n",
              "        });\n",
              "    "
            ]
          },
          "metadata": {}
        },
        {
          "output_type": "stream",
          "name": "stderr",
          "text": [
            "\u001b[34m\u001b[1mwandb\u001b[0m: Logging into wandb.ai. (Learn how to deploy a W&B server locally: https://wandb.me/wandb-server)\n",
            "\u001b[34m\u001b[1mwandb\u001b[0m: You can find your API key in your browser here: https://wandb.ai/authorize\n",
            "wandb: Paste an API key from your profile and hit enter:"
          ]
        },
        {
          "name": "stdout",
          "output_type": "stream",
          "text": [
            " ··········\n"
          ]
        },
        {
          "output_type": "stream",
          "name": "stderr",
          "text": [
            "\u001b[34m\u001b[1mwandb\u001b[0m: \u001b[33mWARNING\u001b[0m If you're specifying your api key in code, ensure this code is not shared publicly.\n",
            "\u001b[34m\u001b[1mwandb\u001b[0m: \u001b[33mWARNING\u001b[0m Consider setting the WANDB_API_KEY environment variable, or running `wandb login` from the command line.\n",
            "\u001b[34m\u001b[1mwandb\u001b[0m: No netrc file found, creating one.\n",
            "\u001b[34m\u001b[1mwandb\u001b[0m: Appending key for api.wandb.ai to your netrc file: /root/.netrc\n",
            "\u001b[34m\u001b[1mwandb\u001b[0m: Currently logged in as: \u001b[33mma23c014\u001b[0m (\u001b[33mma23c014-indian-institute-of-technology-madras\u001b[0m) to \u001b[32mhttps://api.wandb.ai\u001b[0m. Use \u001b[1m`wandb login --relogin`\u001b[0m to force relogin\n"
          ]
        },
        {
          "output_type": "display_data",
          "data": {
            "text/plain": [
              "<IPython.core.display.HTML object>"
            ],
            "text/html": [
              "Tracking run with wandb version 0.19.8"
            ]
          },
          "metadata": {}
        },
        {
          "output_type": "display_data",
          "data": {
            "text/plain": [
              "<IPython.core.display.HTML object>"
            ],
            "text/html": [
              "Run data is saved locally in <code>/content/wandb/run-20250317_001408-d5xr4t3l</code>"
            ]
          },
          "metadata": {}
        },
        {
          "output_type": "display_data",
          "data": {
            "text/plain": [
              "<IPython.core.display.HTML object>"
            ],
            "text/html": [
              "Syncing run <strong><a href='https://wandb.ai/ma23c014-indian-institute-of-technology-madras/fashion-mnist-dataset/runs/d5xr4t3l' target=\"_blank\">class_samples</a></strong> to <a href='https://wandb.ai/ma23c014-indian-institute-of-technology-madras/fashion-mnist-dataset' target=\"_blank\">Weights & Biases</a> (<a href='https://wandb.me/developer-guide' target=\"_blank\">docs</a>)<br>"
            ]
          },
          "metadata": {}
        },
        {
          "output_type": "display_data",
          "data": {
            "text/plain": [
              "<IPython.core.display.HTML object>"
            ],
            "text/html": [
              " View project at <a href='https://wandb.ai/ma23c014-indian-institute-of-technology-madras/fashion-mnist-dataset' target=\"_blank\">https://wandb.ai/ma23c014-indian-institute-of-technology-madras/fashion-mnist-dataset</a>"
            ]
          },
          "metadata": {}
        },
        {
          "output_type": "display_data",
          "data": {
            "text/plain": [
              "<IPython.core.display.HTML object>"
            ],
            "text/html": [
              " View run at <a href='https://wandb.ai/ma23c014-indian-institute-of-technology-madras/fashion-mnist-dataset/runs/d5xr4t3l' target=\"_blank\">https://wandb.ai/ma23c014-indian-institute-of-technology-madras/fashion-mnist-dataset/runs/d5xr4t3l</a>"
            ]
          },
          "metadata": {}
        },
        {
          "output_type": "stream",
          "name": "stdout",
          "text": [
            "Downloading data from https://storage.googleapis.com/tensorflow/tf-keras-datasets/train-labels-idx1-ubyte.gz\n",
            "\u001b[1m29515/29515\u001b[0m \u001b[32m━━━━━━━━━━━━━━━━━━━━\u001b[0m\u001b[37m\u001b[0m \u001b[1m0s\u001b[0m 0us/step\n",
            "Downloading data from https://storage.googleapis.com/tensorflow/tf-keras-datasets/train-images-idx3-ubyte.gz\n",
            "\u001b[1m26421880/26421880\u001b[0m \u001b[32m━━━━━━━━━━━━━━━━━━━━\u001b[0m\u001b[37m\u001b[0m \u001b[1m0s\u001b[0m 0us/step\n",
            "Downloading data from https://storage.googleapis.com/tensorflow/tf-keras-datasets/t10k-labels-idx1-ubyte.gz\n",
            "\u001b[1m5148/5148\u001b[0m \u001b[32m━━━━━━━━━━━━━━━━━━━━\u001b[0m\u001b[37m\u001b[0m \u001b[1m0s\u001b[0m 0us/step\n",
            "Downloading data from https://storage.googleapis.com/tensorflow/tf-keras-datasets/t10k-images-idx3-ubyte.gz\n",
            "\u001b[1m4422102/4422102\u001b[0m \u001b[32m━━━━━━━━━━━━━━━━━━━━\u001b[0m\u001b[37m\u001b[0m \u001b[1m0s\u001b[0m 0us/step\n"
          ]
        },
        {
          "output_type": "display_data",
          "data": {
            "text/plain": [
              "<IPython.core.display.HTML object>"
            ],
            "text/html": []
          },
          "metadata": {}
        },
        {
          "output_type": "display_data",
          "data": {
            "text/plain": [
              "<IPython.core.display.HTML object>"
            ],
            "text/html": [
              " View run <strong style=\"color:#cdcd00\">class_samples</strong> at: <a href='https://wandb.ai/ma23c014-indian-institute-of-technology-madras/fashion-mnist-dataset/runs/d5xr4t3l' target=\"_blank\">https://wandb.ai/ma23c014-indian-institute-of-technology-madras/fashion-mnist-dataset/runs/d5xr4t3l</a><br> View project at: <a href='https://wandb.ai/ma23c014-indian-institute-of-technology-madras/fashion-mnist-dataset' target=\"_blank\">https://wandb.ai/ma23c014-indian-institute-of-technology-madras/fashion-mnist-dataset</a><br>Synced 5 W&B file(s), 10 media file(s), 0 artifact file(s) and 0 other file(s)"
            ]
          },
          "metadata": {}
        },
        {
          "output_type": "display_data",
          "data": {
            "text/plain": [
              "<IPython.core.display.HTML object>"
            ],
            "text/html": [
              "Find logs at: <code>./wandb/run-20250317_001408-d5xr4t3l/logs</code>"
            ]
          },
          "metadata": {}
        }
      ],
      "source": [
        "import numpy as np\n",
        "import wandb\n",
        "from tensorflow.keras.datasets import fashion_mnist\n",
        "\n",
        "# Initialize wandb\n",
        "wandb.init(project=\"fashion-mnist-dataset\", name=\"class_samples\")\n",
        "\n",
        "# Load Fashion-MNIST dataset\n",
        "(x_train, y_train), (x_test, y_test) = fashion_mnist.load_data()\n",
        "\n",
        "# Class labels\n",
        "class_labels = [\n",
        "    \"T-shirt/top\", \"Trouser\", \"Pullover\", \"Dress\", \"Coat\",\n",
        "    \"Sandal\", \"Shirt\", \"Sneaker\", \"Bag\", \"Ankle boot\"\n",
        "]\n",
        "\n",
        "# Log one sample image for each class\n",
        "images = []\n",
        "for i in range(10):\n",
        "    idx = np.where(y_train == i)[0][0]\n",
        "    image = x_train[idx]\n",
        "    images.append(wandb.Image(image, caption=class_labels[i]))\n",
        "\n",
        "# Log images to wandb\n",
        "wandb.log({\"fashion-mnist-visualization\": images})\n",
        "\n",
        "# Finish wandb run\n",
        "wandb.finish()"
      ]
    },
    {
      "cell_type": "markdown",
      "source": [
        "# Feedforward Neural Network"
      ],
      "metadata": {
        "id": "2BWfsWJLbkuj"
      }
    },
    {
      "cell_type": "code",
      "source": [
        "import argparse\n",
        "import numpy as np\n",
        "import wandb\n",
        "from tensorflow.keras.datasets import fashion_mnist\n",
        "\n",
        "# Activation Functions and Derivatives\n",
        "def identity(x): return x\n",
        "def identity_derivative(x): return np.ones_like(x)\n",
        "\n",
        "def sigmoid(x): return 1 / (1 + np.exp(-x))\n",
        "def sigmoid_derivative(x): return sigmoid(x) * (1 - sigmoid(x))\n",
        "\n",
        "def tanh(x): return np.tanh(x)\n",
        "def tanh_derivative(x): return 1 - np.tanh(x)**2\n",
        "\n",
        "def relu(x): return np.maximum(0, x)\n",
        "def relu_derivative(x): return (x > 0).astype(float)\n",
        "\n",
        "activation_functions = {\n",
        "    \"identity\": (identity, identity_derivative),\n",
        "    \"sigmoid\": (sigmoid, sigmoid_derivative),\n",
        "    \"tanh\": (tanh, tanh_derivative),\n",
        "    \"ReLU\": (relu, relu_derivative)\n",
        "}\n",
        "\n",
        "# Loss Functions\n",
        "def mse(y_true, y_pred): return np.mean((y_true - y_pred) ** 2)\n",
        "def mse_derivative(y_true, y_pred): return 2 * (y_pred - y_true) / y_true.size\n",
        "\n",
        "def cross_entropy(y_true, y_pred):\n",
        "    return -np.sum(y_true * np.log(y_pred + 1e-8)) / y_true.shape[0]\n",
        "\n",
        "def cross_entropy_derivative(y_true, y_pred):\n",
        "    return -y_true / (y_pred + 1e-8)\n",
        "\n",
        "loss_functions = {\n",
        "    \"mean_squared_error\": (mse, mse_derivative),\n",
        "    \"cross_entropy\": (cross_entropy, cross_entropy_derivative)\n",
        "}\n",
        "\n",
        "# Neural Network Class\n",
        "class FeedForwardNN:\n",
        "    def __init__(self, input_size, output_size, hidden_layers, hidden_size, activation, weight_init):\n",
        "        self.input_size = input_size\n",
        "        self.output_size = output_size\n",
        "        self.hidden_layers = hidden_layers\n",
        "        self.hidden_size = hidden_size\n",
        "        self.activation_func, self.activation_deriv = activation_functions[activation]\n",
        "\n",
        "        # Weight Initialization\n",
        "        if weight_init == \"random\":\n",
        "            self.weights = [np.random.randn(self.input_size, self.hidden_size) * 0.01]\n",
        "            self.biases = [np.zeros((1, self.hidden_size))]\n",
        "            for _ in range(hidden_layers - 1):\n",
        "                self.weights.append(np.random.randn(self.hidden_size, self.hidden_size) * 0.01)\n",
        "                self.biases.append(np.zeros((1, self.hidden_size)))\n",
        "            self.weights.append(np.random.randn(self.hidden_size, self.output_size) * 0.01)\n",
        "            self.biases.append(np.zeros((1, self.output_size)))\n",
        "        elif weight_init == \"Xavier\":\n",
        "            self.weights = [np.random.randn(self.input_size, self.hidden_size) * np.sqrt(1 / self.input_size)]\n",
        "            self.biases = [np.zeros((1, self.hidden_size))]\n",
        "            for _ in range(hidden_layers - 1):\n",
        "                self.weights.append(np.random.randn(self.hidden_size, self.hidden_size) * np.sqrt(1 / self.hidden_size))\n",
        "                self.biases.append(np.zeros((1, self.hidden_size)))\n",
        "            self.weights.append(np.random.randn(self.hidden_size, self.output_size) * np.sqrt(1 / self.hidden_size))\n",
        "            self.biases.append(np.zeros((1, self.output_size)))\n",
        "\n",
        "    def forward(self, X):\n",
        "        self.a = [X]\n",
        "        self.z = []\n",
        "        for i in range(self.hidden_layers):\n",
        "            self.z.append(self.a[-1] @ self.weights[i] + self.biases[i])\n",
        "            self.a.append(self.activation_func(self.z[-1]))\n",
        "        self.z.append(self.a[-1] @ self.weights[-1] + self.biases[-1])\n",
        "        self.a.append(self.softmax(self.z[-1]))  # Output Layer (Softmax)\n",
        "        return self.a[-1]\n",
        "\n",
        "    def softmax(self, x):\n",
        "        exp_x = np.exp(x - np.max(x, axis=1, keepdims=True))\n",
        "        return exp_x / np.sum(exp_x, axis=1, keepdims=True)\n",
        "\n",
        "    def backward(self, X, y, learning_rate, loss_derivative):\n",
        "        m = X.shape[0]\n",
        "        dZ = loss_derivative(y, self.a[-1])\n",
        "        dW = self.a[-2].T @ dZ / m\n",
        "        dB = np.sum(dZ, axis=0, keepdims=True) / m\n",
        "\n",
        "        self.weights[-1] -= learning_rate * dW\n",
        "        self.biases[-1] -= learning_rate * dB\n",
        "\n",
        "        for i in range(self.hidden_layers - 1, -1, -1):\n",
        "            dZ = dZ @ self.weights[i + 1].T * self.activation_deriv(self.z[i])\n",
        "            dW = self.a[i].T @ dZ / m\n",
        "            dB = np.sum(dZ, axis=0, keepdims=True) / m\n",
        "            self.weights[i] -= learning_rate * dW\n",
        "            self.biases[i] -= learning_rate * dB\n",
        "\n",
        "\n",
        "# Training Function\n",
        "def train(args):\n",
        "    wandb.init(project=args.wandb_project, entity=args.wandb_entity)\n",
        "\n",
        "    # Load dataset\n",
        "    (X_train, y_train), (X_test, y_test) = fashion_mnist.load_data()\n",
        "    X_train, X_test = X_train / 255.0, X_test / 255.0\n",
        "    X_train, X_test = X_train.reshape(-1, 28 * 28), X_test.reshape(-1, 28 * 28)\n",
        "\n",
        "    y_train_one_hot = np.eye(10)[y_train]\n",
        "\n",
        "    # Initialize Model\n",
        "    model = FeedForwardNN(input_size=784, output_size=10,\n",
        "                          hidden_layers=args.num_layers, hidden_size=args.hidden_size,\n",
        "                          activation=args.activation, weight_init=args.weight_init)\n",
        "\n",
        "    loss_fn, loss_deriv = loss_functions[args.loss]\n",
        "\n",
        "\n",
        "# Training Loop\n",
        "    for epoch in range(args.epochs):\n",
        "        for i in range(0, len(X_train), args.batch_size):\n",
        "            X_batch = X_train[i:i + args.batch_size]\n",
        "            y_batch = y_train_one_hot[i:i + args.batch_size]\n",
        "\n",
        "            y_pred = model.forward(X_batch)\n",
        "            model.backward(X_batch, y_batch, args.learning_rate, loss_deriv)\n",
        "\n",
        "        y_train_pred = model.forward(X_train)\n",
        "        train_loss = loss_fn(y_train_one_hot, y_train_pred)\n",
        "\n",
        "        print(f\"Epoch {epoch + 1}/{args.epochs}, Loss: {train_loss:.4f}\")\n",
        "        wandb.log({\"epoch\": epoch + 1, \"loss\": train_loss})\n",
        "# Argument Parser\n",
        "if __name__ == \"__main__\":\n",
        "    parser = argparse.ArgumentParser()\n",
        "    parser.add_argument(\"-wp\", \"--wandb_project\", type=str, default=\"fashion-mnist-dataset)\")\n",
        "    parser.add_argument(\"-we\", \"--wandb_entity\", type=str, default=\"ma23c014-indian-institute-of-technology-madras\")\n",
        "    parser.add_argument(\"-e\", \"--epochs\", type=int, default=1)\n",
        "    parser.add_argument(\"-b\", \"--batch_size\", type=int, default=4)\n",
        "    parser.add_argument(\"-l\", \"--loss\", type=str, choices=[\"mean_squared_error\", \"cross_entropy\"], default=\"cross_entropy\")\n",
        "    parser.add_argument(\"-o\", \"--optimizer\", type=str, choices=[\"sgd\"], default=\"sgd\")\n",
        "    parser.add_argument(\"-lr\", \"--learning_rate\", type=float, default=0.1)\n",
        "    parser.add_argument(\"-nhl\", \"--num_layers\", type=int, default=1)\n",
        "    parser.add_argument(\"-sz\", \"--hidden_size\", type=int, default=4)\n",
        "    parser.add_argument(\"-a\", \"--activation\", type=str, choices=[\"identity\", \"sigmoid\", \"tanh\", \"ReLU\"], default=\"sigmoid\")\n",
        "    parser.add_argument(\"-w_i\", \"--weight_init\", type=str, choices=[\"random\", \"Xavier\"], default=\"random\")\n",
        "\n",
        "    args, unknown = parser.parse_known_args()\n",
        "    train(args)"
      ],
      "metadata": {
        "colab": {
          "base_uri": "https://localhost:8080/",
          "height": 123
        },
        "id": "0GX99kpEcsDX",
        "outputId": "d6f74501-50ee-4f45-a886-898e59240c49"
      },
      "execution_count": null,
      "outputs": [
        {
          "output_type": "display_data",
          "data": {
            "text/plain": [
              "<IPython.core.display.HTML object>"
            ],
            "text/html": [
              "Tracking run with wandb version 0.19.8"
            ]
          },
          "metadata": {}
        },
        {
          "output_type": "display_data",
          "data": {
            "text/plain": [
              "<IPython.core.display.HTML object>"
            ],
            "text/html": [
              "Run data is saved locally in <code>/content/wandb/run-20250317_001606-82o2iqtv</code>"
            ]
          },
          "metadata": {}
        },
        {
          "output_type": "display_data",
          "data": {
            "text/plain": [
              "<IPython.core.display.HTML object>"
            ],
            "text/html": [
              "Syncing run <strong><a href='https://wandb.ai/ma23c014-indian-institute-of-technology-madras/fashion-mnist-DA6401%29/runs/82o2iqtv' target=\"_blank\">vital-night-2</a></strong> to <a href='https://wandb.ai/ma23c014-indian-institute-of-technology-madras/fashion-mnist-DA6401%29' target=\"_blank\">Weights & Biases</a> (<a href='https://wandb.me/developer-guide' target=\"_blank\">docs</a>)<br>"
            ]
          },
          "metadata": {}
        },
        {
          "output_type": "display_data",
          "data": {
            "text/plain": [
              "<IPython.core.display.HTML object>"
            ],
            "text/html": [
              " View project at <a href='https://wandb.ai/ma23c014-indian-institute-of-technology-madras/fashion-mnist-DA6401%29' target=\"_blank\">https://wandb.ai/ma23c014-indian-institute-of-technology-madras/fashion-mnist-DA6401%29</a>"
            ]
          },
          "metadata": {}
        },
        {
          "output_type": "display_data",
          "data": {
            "text/plain": [
              "<IPython.core.display.HTML object>"
            ],
            "text/html": [
              " View run at <a href='https://wandb.ai/ma23c014-indian-institute-of-technology-madras/fashion-mnist-DA6401%29/runs/82o2iqtv' target=\"_blank\">https://wandb.ai/ma23c014-indian-institute-of-technology-madras/fashion-mnist-DA6401%29/runs/82o2iqtv</a>"
            ]
          },
          "metadata": {}
        },
        {
          "output_type": "stream",
          "name": "stdout",
          "text": [
            "Epoch 1/1, Loss: 16.5786\n"
          ]
        }
      ]
    }
  ]
}