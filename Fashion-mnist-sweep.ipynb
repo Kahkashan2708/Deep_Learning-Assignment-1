{
 "cells": [
  {
   "cell_type": "markdown",
   "id": "02e8311f-7f46-472c-ab75-3b6837a90100",
   "metadata": {},
   "source": [
    "# Question-4"
   ]
  },
  {
   "cell_type": "code",
   "execution_count": 1,
   "id": "e9bc0831-6ec7-45dd-bec5-8a69e3120175",
   "metadata": {},
   "outputs": [
    {
     "name": "stderr",
     "output_type": "stream",
     "text": [
      "wandb: Using wandb-core as the SDK backend.  Please refer to https://wandb.me/wandb-core for more information.\n"
     ]
    },
    {
     "name": "stdout",
     "output_type": "stream",
     "text": [
      "Create sweep with ID: f4yt29uq\n",
      "Sweep URL: https://wandb.ai/ma23c014-indian-institute-of-technology-madras/fashion-mnist-dataset/sweeps/f4yt29uq\n"
     ]
    },
    {
     "name": "stderr",
     "output_type": "stream",
     "text": [
      "wandb: Agent Starting Run: 6kw719nc with config:\n",
      "wandb: \tactivation: relu\n",
      "wandb: \tbatch_size: 128\n",
      "wandb: \tepochs: 10\n",
      "wandb: \thidden_size: 32\n",
      "wandb: \tlearning_rate: 0.01\n",
      "wandb: \tloss: cross_entropy\n",
      "wandb: \tnum_layers: 4\n",
      "wandb: \toptimizer: momentum\n",
      "wandb: \tweight_decay: 0.0005\n",
      "wandb: \tweight_init: random\n",
      "wandb: Currently logged in as: ma23c014 (ma23c014-indian-institute-of-technology-madras) to https://api.wandb.ai. Use `wandb login --relogin` to force relogin\n"
     ]
    },
    {
     "data": {
      "text/html": [
       "creating run (0.1s)"
      ],
      "text/plain": [
       "<IPython.core.display.HTML object>"
      ]
     },
     "metadata": {},
     "output_type": "display_data"
    },
    {
     "data": {
      "text/html": [
       "Tracking run with wandb version 0.19.8"
      ],
      "text/plain": [
       "<IPython.core.display.HTML object>"
      ]
     },
     "metadata": {},
     "output_type": "display_data"
    },
    {
     "data": {
      "text/html": [
       "Run data is saved locally in <code>C:\\Users\\lenovo\\fashion_mnist-backpropagation\\wandb\\run-20250317_064802-6kw719nc</code>"
      ],
      "text/plain": [
       "<IPython.core.display.HTML object>"
      ]
     },
     "metadata": {},
     "output_type": "display_data"
    },
    {
     "data": {
      "text/html": [
       "Syncing run <strong><a href='https://wandb.ai/ma23c014-indian-institute-of-technology-madras/fashion-mnist-dataset/runs/6kw719nc' target=\"_blank\">brisk-sweep-1</a></strong> to <a href='https://wandb.ai/ma23c014-indian-institute-of-technology-madras/fashion-mnist-dataset' target=\"_blank\">Weights & Biases</a> (<a href='https://wandb.me/developer-guide' target=\"_blank\">docs</a>)<br>Sweep page: <a href='https://wandb.ai/ma23c014-indian-institute-of-technology-madras/fashion-mnist-dataset/sweeps/f4yt29uq' target=\"_blank\">https://wandb.ai/ma23c014-indian-institute-of-technology-madras/fashion-mnist-dataset/sweeps/f4yt29uq</a>"
      ],
      "text/plain": [
       "<IPython.core.display.HTML object>"
      ]
     },
     "metadata": {},
     "output_type": "display_data"
    },
    {
     "data": {
      "text/html": [
       " View project at <a href='https://wandb.ai/ma23c014-indian-institute-of-technology-madras/fashion-mnist-dataset' target=\"_blank\">https://wandb.ai/ma23c014-indian-institute-of-technology-madras/fashion-mnist-dataset</a>"
      ],
      "text/plain": [
       "<IPython.core.display.HTML object>"
      ]
     },
     "metadata": {},
     "output_type": "display_data"
    },
    {
     "data": {
      "text/html": [
       " View sweep at <a href='https://wandb.ai/ma23c014-indian-institute-of-technology-madras/fashion-mnist-dataset/sweeps/f4yt29uq' target=\"_blank\">https://wandb.ai/ma23c014-indian-institute-of-technology-madras/fashion-mnist-dataset/sweeps/f4yt29uq</a>"
      ],
      "text/plain": [
       "<IPython.core.display.HTML object>"
      ]
     },
     "metadata": {},
     "output_type": "display_data"
    },
    {
     "data": {
      "text/html": [
       " View run at <a href='https://wandb.ai/ma23c014-indian-institute-of-technology-madras/fashion-mnist-dataset/runs/6kw719nc' target=\"_blank\">https://wandb.ai/ma23c014-indian-institute-of-technology-madras/fashion-mnist-dataset/runs/6kw719nc</a>"
      ],
      "text/plain": [
       "<IPython.core.display.HTML object>"
      ]
     },
     "metadata": {},
     "output_type": "display_data"
    },
    {
     "data": {
      "text/html": [],
      "text/plain": [
       "<IPython.core.display.HTML object>"
      ]
     },
     "metadata": {},
     "output_type": "display_data"
    },
    {
     "data": {
      "text/html": [
       "<br>    <style><br>        .wandb-row {<br>            display: flex;<br>            flex-direction: row;<br>            flex-wrap: wrap;<br>            justify-content: flex-start;<br>            width: 100%;<br>        }<br>        .wandb-col {<br>            display: flex;<br>            flex-direction: column;<br>            flex-basis: 100%;<br>            flex: 1;<br>            padding: 10px;<br>        }<br>    </style><br><div class=\"wandb-row\"><div class=\"wandb-col\"><h3>Run history:</h3><br/><table class=\"wandb\"><tr><td>epoch</td><td>▁▂▃▃▄▅▆▆▇█</td></tr><tr><td>train_accuracy</td><td>▁▄▄▆▆▇▇▇██</td></tr><tr><td>train_loss</td><td>█▅▅▄▃▂▂▂▁▁</td></tr><tr><td>val_accuracy</td><td>▁▄▅▆▆▇▇▇██</td></tr><tr><td>val_loss</td><td>█▅▅▃▃▂▂▂▁▁</td></tr></table><br/></div><div class=\"wandb-col\"><h3>Run summary:</h3><br/><table class=\"wandb\"><tr><td>epoch</td><td>10</td></tr><tr><td>train_accuracy</td><td>0.86219</td></tr><tr><td>train_loss</td><td>0.37697</td></tr><tr><td>val_accuracy</td><td>0.851</td></tr><tr><td>val_loss</td><td>0.41279</td></tr></table><br/></div></div>"
      ],
      "text/plain": [
       "<IPython.core.display.HTML object>"
      ]
     },
     "metadata": {},
     "output_type": "display_data"
    },
    {
     "data": {
      "text/html": [
       " View run <strong style=\"color:#cdcd00\">_hl_4_hn_32_opt_momentum_act_relu_lr_0.01_bs_128_init_random_ep_10_l2_0.0005</strong> at: <a href='https://wandb.ai/ma23c014-indian-institute-of-technology-madras/fashion-mnist-dataset/runs/6kw719nc' target=\"_blank\">https://wandb.ai/ma23c014-indian-institute-of-technology-madras/fashion-mnist-dataset/runs/6kw719nc</a><br> View project at: <a href='https://wandb.ai/ma23c014-indian-institute-of-technology-madras/fashion-mnist-dataset' target=\"_blank\">https://wandb.ai/ma23c014-indian-institute-of-technology-madras/fashion-mnist-dataset</a><br>Synced 5 W&B file(s), 0 media file(s), 0 artifact file(s) and 0 other file(s)"
      ],
      "text/plain": [
       "<IPython.core.display.HTML object>"
      ]
     },
     "metadata": {},
     "output_type": "display_data"
    },
    {
     "data": {
      "text/html": [
       "Find logs at: <code>.\\wandb\\run-20250317_064802-6kw719nc\\logs</code>"
      ],
      "text/plain": [
       "<IPython.core.display.HTML object>"
      ]
     },
     "metadata": {},
     "output_type": "display_data"
    },
    {
     "name": "stderr",
     "output_type": "stream",
     "text": [
      "wandb: Agent Starting Run: g3vfy0k3 with config:\n",
      "wandb: \tactivation: tanh\n",
      "wandb: \tbatch_size: 64\n",
      "wandb: \tepochs: 20\n",
      "wandb: \thidden_size: 64\n",
      "wandb: \tlearning_rate: 0.001\n",
      "wandb: \tloss: cross_entropy\n",
      "wandb: \tnum_layers: 3\n",
      "wandb: \toptimizer: rmsprop\n",
      "wandb: \tweight_decay: 0.0005\n",
      "wandb: \tweight_init: random\n"
     ]
    },
    {
     "data": {
      "text/html": [
       "Tracking run with wandb version 0.19.8"
      ],
      "text/plain": [
       "<IPython.core.display.HTML object>"
      ]
     },
     "metadata": {},
     "output_type": "display_data"
    },
    {
     "data": {
      "text/html": [
       "Run data is saved locally in <code>C:\\Users\\lenovo\\fashion_mnist-backpropagation\\wandb\\run-20250317_064828-g3vfy0k3</code>"
      ],
      "text/plain": [
       "<IPython.core.display.HTML object>"
      ]
     },
     "metadata": {},
     "output_type": "display_data"
    },
    {
     "data": {
      "text/html": [
       "Syncing run <strong><a href='https://wandb.ai/ma23c014-indian-institute-of-technology-madras/fashion-mnist-dataset/runs/g3vfy0k3' target=\"_blank\">wobbly-sweep-2</a></strong> to <a href='https://wandb.ai/ma23c014-indian-institute-of-technology-madras/fashion-mnist-dataset' target=\"_blank\">Weights & Biases</a> (<a href='https://wandb.me/developer-guide' target=\"_blank\">docs</a>)<br>Sweep page: <a href='https://wandb.ai/ma23c014-indian-institute-of-technology-madras/fashion-mnist-dataset/sweeps/f4yt29uq' target=\"_blank\">https://wandb.ai/ma23c014-indian-institute-of-technology-madras/fashion-mnist-dataset/sweeps/f4yt29uq</a>"
      ],
      "text/plain": [
       "<IPython.core.display.HTML object>"
      ]
     },
     "metadata": {},
     "output_type": "display_data"
    },
    {
     "data": {
      "text/html": [
       " View project at <a href='https://wandb.ai/ma23c014-indian-institute-of-technology-madras/fashion-mnist-dataset' target=\"_blank\">https://wandb.ai/ma23c014-indian-institute-of-technology-madras/fashion-mnist-dataset</a>"
      ],
      "text/plain": [
       "<IPython.core.display.HTML object>"
      ]
     },
     "metadata": {},
     "output_type": "display_data"
    },
    {
     "data": {
      "text/html": [
       " View sweep at <a href='https://wandb.ai/ma23c014-indian-institute-of-technology-madras/fashion-mnist-dataset/sweeps/f4yt29uq' target=\"_blank\">https://wandb.ai/ma23c014-indian-institute-of-technology-madras/fashion-mnist-dataset/sweeps/f4yt29uq</a>"
      ],
      "text/plain": [
       "<IPython.core.display.HTML object>"
      ]
     },
     "metadata": {},
     "output_type": "display_data"
    },
    {
     "data": {
      "text/html": [
       " View run at <a href='https://wandb.ai/ma23c014-indian-institute-of-technology-madras/fashion-mnist-dataset/runs/g3vfy0k3' target=\"_blank\">https://wandb.ai/ma23c014-indian-institute-of-technology-madras/fashion-mnist-dataset/runs/g3vfy0k3</a>"
      ],
      "text/plain": [
       "<IPython.core.display.HTML object>"
      ]
     },
     "metadata": {},
     "output_type": "display_data"
    },
    {
     "name": "stderr",
     "output_type": "stream",
     "text": [
      "C:\\Users\\lenovo\\AppData\\Local\\Temp\\ipykernel_9236\\1778772917.py:86: RuntimeWarning: overflow encountered in exp\n",
      "  A[f'A{i}'] = np.maximum(0, Z[f'Z{i}']) if activation == \"relu\" else 1 / (1 + np.exp(-Z[f'Z{i}']))\n"
     ]
    },
    {
     "data": {
      "text/html": [],
      "text/plain": [
       "<IPython.core.display.HTML object>"
      ]
     },
     "metadata": {},
     "output_type": "display_data"
    },
    {
     "data": {
      "text/html": [
       "<br>    <style><br>        .wandb-row {<br>            display: flex;<br>            flex-direction: row;<br>            flex-wrap: wrap;<br>            justify-content: flex-start;<br>            width: 100%;<br>        }<br>        .wandb-col {<br>            display: flex;<br>            flex-direction: column;<br>            flex-basis: 100%;<br>            flex: 1;<br>            padding: 10px;<br>        }<br>    </style><br><div class=\"wandb-row\"><div class=\"wandb-col\"><h3>Run history:</h3><br/><table class=\"wandb\"><tr><td>epoch</td><td>▁▁▂▂▂▃▃▄▄▄▅▅▅▆▆▇▇▇██</td></tr><tr><td>train_accuracy</td><td>▁▂▄▅▆▆▆▇▇███▇▇▇▇▇███</td></tr><tr><td>train_loss</td><td>█▇▅▄▃▃▃▃▂▂▂▁▂▂▂▂▂▁▁▁</td></tr><tr><td>val_accuracy</td><td>▁▃▄▅▆▆▆▇▇███▇▇▇▇▇███</td></tr><tr><td>val_loss</td><td>█▇▅▃▃▃▃▂▂▂▁▁▁▂▂▂▂▁▁▁</td></tr></table><br/></div><div class=\"wandb-col\"><h3>Run summary:</h3><br/><table class=\"wandb\"><tr><td>epoch</td><td>20</td></tr><tr><td>train_accuracy</td><td>0.73654</td></tr><tr><td>train_loss</td><td>0.73798</td></tr><tr><td>val_accuracy</td><td>0.73833</td></tr><tr><td>val_loss</td><td>0.75304</td></tr></table><br/></div></div>"
      ],
      "text/plain": [
       "<IPython.core.display.HTML object>"
      ]
     },
     "metadata": {},
     "output_type": "display_data"
    },
    {
     "data": {
      "text/html": [
       " View run <strong style=\"color:#cdcd00\">_hl_3_hn_64_opt_rmsprop_act_tanh_lr_0.001_bs_64_init_random_ep_20_l2_0.0005</strong> at: <a href='https://wandb.ai/ma23c014-indian-institute-of-technology-madras/fashion-mnist-dataset/runs/g3vfy0k3' target=\"_blank\">https://wandb.ai/ma23c014-indian-institute-of-technology-madras/fashion-mnist-dataset/runs/g3vfy0k3</a><br> View project at: <a href='https://wandb.ai/ma23c014-indian-institute-of-technology-madras/fashion-mnist-dataset' target=\"_blank\">https://wandb.ai/ma23c014-indian-institute-of-technology-madras/fashion-mnist-dataset</a><br>Synced 5 W&B file(s), 0 media file(s), 0 artifact file(s) and 0 other file(s)"
      ],
      "text/plain": [
       "<IPython.core.display.HTML object>"
      ]
     },
     "metadata": {},
     "output_type": "display_data"
    },
    {
     "data": {
      "text/html": [
       "Find logs at: <code>.\\wandb\\run-20250317_064828-g3vfy0k3\\logs</code>"
      ],
      "text/plain": [
       "<IPython.core.display.HTML object>"
      ]
     },
     "metadata": {},
     "output_type": "display_data"
    },
    {
     "name": "stderr",
     "output_type": "stream",
     "text": [
      "wandb: Sweep Agent: Waiting for job.\n",
      "wandb: Job received.\n",
      "wandb: Agent Starting Run: ranufayz with config:\n",
      "wandb: \tactivation: sigmoid\n",
      "wandb: \tbatch_size: 64\n",
      "wandb: \tepochs: 20\n",
      "wandb: \thidden_size: 128\n",
      "wandb: \tlearning_rate: 0.0001\n",
      "wandb: \tloss: cross_entropy\n",
      "wandb: \tnum_layers: 2\n",
      "wandb: \toptimizer: sgd\n",
      "wandb: \tweight_decay: 0.0005\n",
      "wandb: \tweight_init: random\n"
     ]
    },
    {
     "data": {
      "text/html": [
       "Tracking run with wandb version 0.19.8"
      ],
      "text/plain": [
       "<IPython.core.display.HTML object>"
      ]
     },
     "metadata": {},
     "output_type": "display_data"
    },
    {
     "data": {
      "text/html": [
       "Run data is saved locally in <code>C:\\Users\\lenovo\\fashion_mnist-backpropagation\\wandb\\run-20250317_065015-ranufayz</code>"
      ],
      "text/plain": [
       "<IPython.core.display.HTML object>"
      ]
     },
     "metadata": {},
     "output_type": "display_data"
    },
    {
     "data": {
      "text/html": [
       "Syncing run <strong><a href='https://wandb.ai/ma23c014-indian-institute-of-technology-madras/fashion-mnist-dataset/runs/ranufayz' target=\"_blank\">major-sweep-3</a></strong> to <a href='https://wandb.ai/ma23c014-indian-institute-of-technology-madras/fashion-mnist-dataset' target=\"_blank\">Weights & Biases</a> (<a href='https://wandb.me/developer-guide' target=\"_blank\">docs</a>)<br>Sweep page: <a href='https://wandb.ai/ma23c014-indian-institute-of-technology-madras/fashion-mnist-dataset/sweeps/f4yt29uq' target=\"_blank\">https://wandb.ai/ma23c014-indian-institute-of-technology-madras/fashion-mnist-dataset/sweeps/f4yt29uq</a>"
      ],
      "text/plain": [
       "<IPython.core.display.HTML object>"
      ]
     },
     "metadata": {},
     "output_type": "display_data"
    },
    {
     "data": {
      "text/html": [
       " View project at <a href='https://wandb.ai/ma23c014-indian-institute-of-technology-madras/fashion-mnist-dataset' target=\"_blank\">https://wandb.ai/ma23c014-indian-institute-of-technology-madras/fashion-mnist-dataset</a>"
      ],
      "text/plain": [
       "<IPython.core.display.HTML object>"
      ]
     },
     "metadata": {},
     "output_type": "display_data"
    },
    {
     "data": {
      "text/html": [
       " View sweep at <a href='https://wandb.ai/ma23c014-indian-institute-of-technology-madras/fashion-mnist-dataset/sweeps/f4yt29uq' target=\"_blank\">https://wandb.ai/ma23c014-indian-institute-of-technology-madras/fashion-mnist-dataset/sweeps/f4yt29uq</a>"
      ],
      "text/plain": [
       "<IPython.core.display.HTML object>"
      ]
     },
     "metadata": {},
     "output_type": "display_data"
    },
    {
     "data": {
      "text/html": [
       " View run at <a href='https://wandb.ai/ma23c014-indian-institute-of-technology-madras/fashion-mnist-dataset/runs/ranufayz' target=\"_blank\">https://wandb.ai/ma23c014-indian-institute-of-technology-madras/fashion-mnist-dataset/runs/ranufayz</a>"
      ],
      "text/plain": [
       "<IPython.core.display.HTML object>"
      ]
     },
     "metadata": {},
     "output_type": "display_data"
    },
    {
     "data": {
      "text/html": [],
      "text/plain": [
       "<IPython.core.display.HTML object>"
      ]
     },
     "metadata": {},
     "output_type": "display_data"
    },
    {
     "data": {
      "text/html": [
       "<br>    <style><br>        .wandb-row {<br>            display: flex;<br>            flex-direction: row;<br>            flex-wrap: wrap;<br>            justify-content: flex-start;<br>            width: 100%;<br>        }<br>        .wandb-col {<br>            display: flex;<br>            flex-direction: column;<br>            flex-basis: 100%;<br>            flex: 1;<br>            padding: 10px;<br>        }<br>    </style><br><div class=\"wandb-row\"><div class=\"wandb-col\"><h3>Run history:</h3><br/><table class=\"wandb\"><tr><td>epoch</td><td>▁▁▂▂▂▃▃▄▄▄▅▅▅▆▆▇▇▇██</td></tr><tr><td>train_accuracy</td><td>████▇▇▆▅▅▄▃▂▂▁▁▁▁▁▁▁</td></tr><tr><td>train_loss</td><td>█▇▇▆▅▅▄▄▄▃▃▃▂▂▂▂▂▁▁▁</td></tr><tr><td>val_accuracy</td><td>█████▇▇▆▅▅▅▅▄▃▃▂▁▁▂▂</td></tr><tr><td>val_loss</td><td>█▇▇▆▅▅▄▄▄▃▃▃▂▂▂▂▂▁▁▁</td></tr></table><br/></div><div class=\"wandb-col\"><h3>Run summary:</h3><br/><table class=\"wandb\"><tr><td>epoch</td><td>20</td></tr><tr><td>train_accuracy</td><td>0.09469</td></tr><tr><td>train_loss</td><td>2.39926</td></tr><tr><td>val_accuracy</td><td>0.08783</td></tr><tr><td>val_loss</td><td>2.40403</td></tr></table><br/></div></div>"
      ],
      "text/plain": [
       "<IPython.core.display.HTML object>"
      ]
     },
     "metadata": {},
     "output_type": "display_data"
    },
    {
     "data": {
      "text/html": [
       " View run <strong style=\"color:#cdcd00\">_hl_2_hn_128_opt_sgd_act_sigmoid_lr_0.0001_bs_64_init_random_ep_20_l2_0.0005</strong> at: <a href='https://wandb.ai/ma23c014-indian-institute-of-technology-madras/fashion-mnist-dataset/runs/ranufayz' target=\"_blank\">https://wandb.ai/ma23c014-indian-institute-of-technology-madras/fashion-mnist-dataset/runs/ranufayz</a><br> View project at: <a href='https://wandb.ai/ma23c014-indian-institute-of-technology-madras/fashion-mnist-dataset' target=\"_blank\">https://wandb.ai/ma23c014-indian-institute-of-technology-madras/fashion-mnist-dataset</a><br>Synced 5 W&B file(s), 0 media file(s), 0 artifact file(s) and 0 other file(s)"
      ],
      "text/plain": [
       "<IPython.core.display.HTML object>"
      ]
     },
     "metadata": {},
     "output_type": "display_data"
    },
    {
     "data": {
      "text/html": [
       "Find logs at: <code>.\\wandb\\run-20250317_065015-ranufayz\\logs</code>"
      ],
      "text/plain": [
       "<IPython.core.display.HTML object>"
      ]
     },
     "metadata": {},
     "output_type": "display_data"
    },
    {
     "name": "stderr",
     "output_type": "stream",
     "text": [
      "wandb: Agent Starting Run: xh7chx3r with config:\n",
      "wandb: \tactivation: tanh\n",
      "wandb: \tbatch_size: 128\n",
      "wandb: \tepochs: 10\n",
      "wandb: \thidden_size: 128\n",
      "wandb: \tlearning_rate: 0.0001\n",
      "wandb: \tloss: cross_entropy\n",
      "wandb: \tnum_layers: 3\n",
      "wandb: \toptimizer: adam\n",
      "wandb: \tweight_decay: 0.001\n",
      "wandb: \tweight_init: xavier\n"
     ]
    },
    {
     "data": {
      "text/html": [
       "Tracking run with wandb version 0.19.8"
      ],
      "text/plain": [
       "<IPython.core.display.HTML object>"
      ]
     },
     "metadata": {},
     "output_type": "display_data"
    },
    {
     "data": {
      "text/html": [
       "Run data is saved locally in <code>C:\\Users\\lenovo\\fashion_mnist-backpropagation\\wandb\\run-20250317_065216-xh7chx3r</code>"
      ],
      "text/plain": [
       "<IPython.core.display.HTML object>"
      ]
     },
     "metadata": {},
     "output_type": "display_data"
    },
    {
     "data": {
      "text/html": [
       "Syncing run <strong><a href='https://wandb.ai/ma23c014-indian-institute-of-technology-madras/fashion-mnist-dataset/runs/xh7chx3r' target=\"_blank\">lemon-sweep-4</a></strong> to <a href='https://wandb.ai/ma23c014-indian-institute-of-technology-madras/fashion-mnist-dataset' target=\"_blank\">Weights & Biases</a> (<a href='https://wandb.me/developer-guide' target=\"_blank\">docs</a>)<br>Sweep page: <a href='https://wandb.ai/ma23c014-indian-institute-of-technology-madras/fashion-mnist-dataset/sweeps/f4yt29uq' target=\"_blank\">https://wandb.ai/ma23c014-indian-institute-of-technology-madras/fashion-mnist-dataset/sweeps/f4yt29uq</a>"
      ],
      "text/plain": [
       "<IPython.core.display.HTML object>"
      ]
     },
     "metadata": {},
     "output_type": "display_data"
    },
    {
     "data": {
      "text/html": [
       " View project at <a href='https://wandb.ai/ma23c014-indian-institute-of-technology-madras/fashion-mnist-dataset' target=\"_blank\">https://wandb.ai/ma23c014-indian-institute-of-technology-madras/fashion-mnist-dataset</a>"
      ],
      "text/plain": [
       "<IPython.core.display.HTML object>"
      ]
     },
     "metadata": {},
     "output_type": "display_data"
    },
    {
     "data": {
      "text/html": [
       " View sweep at <a href='https://wandb.ai/ma23c014-indian-institute-of-technology-madras/fashion-mnist-dataset/sweeps/f4yt29uq' target=\"_blank\">https://wandb.ai/ma23c014-indian-institute-of-technology-madras/fashion-mnist-dataset/sweeps/f4yt29uq</a>"
      ],
      "text/plain": [
       "<IPython.core.display.HTML object>"
      ]
     },
     "metadata": {},
     "output_type": "display_data"
    },
    {
     "data": {
      "text/html": [
       " View run at <a href='https://wandb.ai/ma23c014-indian-institute-of-technology-madras/fashion-mnist-dataset/runs/xh7chx3r' target=\"_blank\">https://wandb.ai/ma23c014-indian-institute-of-technology-madras/fashion-mnist-dataset/runs/xh7chx3r</a>"
      ],
      "text/plain": [
       "<IPython.core.display.HTML object>"
      ]
     },
     "metadata": {},
     "output_type": "display_data"
    },
    {
     "data": {
      "text/html": [],
      "text/plain": [
       "<IPython.core.display.HTML object>"
      ]
     },
     "metadata": {},
     "output_type": "display_data"
    },
    {
     "data": {
      "text/html": [
       "<br>    <style><br>        .wandb-row {<br>            display: flex;<br>            flex-direction: row;<br>            flex-wrap: wrap;<br>            justify-content: flex-start;<br>            width: 100%;<br>        }<br>        .wandb-col {<br>            display: flex;<br>            flex-direction: column;<br>            flex-basis: 100%;<br>            flex: 1;<br>            padding: 10px;<br>        }<br>    </style><br><div class=\"wandb-row\"><div class=\"wandb-col\"><h3>Run history:</h3><br/><table class=\"wandb\"><tr><td>epoch</td><td>▁▂▃▃▄▅▆▆▇█</td></tr><tr><td>train_accuracy</td><td>▁▃▅▅▅█▇▇▇█</td></tr><tr><td>train_loss</td><td>█▅▄▃▃▂▂▂▁▁</td></tr><tr><td>val_accuracy</td><td>▁▃▅▅▆█▆▇▇█</td></tr><tr><td>val_loss</td><td>█▅▄▃▃▂▂▂▁▁</td></tr></table><br/></div><div class=\"wandb-col\"><h3>Run summary:</h3><br/><table class=\"wandb\"><tr><td>epoch</td><td>10</td></tr><tr><td>train_accuracy</td><td>0.54759</td></tr><tr><td>train_loss</td><td>1.11113</td></tr><tr><td>val_accuracy</td><td>0.55017</td></tr><tr><td>val_loss</td><td>1.11022</td></tr></table><br/></div></div>"
      ],
      "text/plain": [
       "<IPython.core.display.HTML object>"
      ]
     },
     "metadata": {},
     "output_type": "display_data"
    },
    {
     "data": {
      "text/html": [
       " View run <strong style=\"color:#cdcd00\">_hl_3_hn_128_opt_adam_act_tanh_lr_0.0001_bs_128_init_xavier_ep_10_l2_0.001</strong> at: <a href='https://wandb.ai/ma23c014-indian-institute-of-technology-madras/fashion-mnist-dataset/runs/xh7chx3r' target=\"_blank\">https://wandb.ai/ma23c014-indian-institute-of-technology-madras/fashion-mnist-dataset/runs/xh7chx3r</a><br> View project at: <a href='https://wandb.ai/ma23c014-indian-institute-of-technology-madras/fashion-mnist-dataset' target=\"_blank\">https://wandb.ai/ma23c014-indian-institute-of-technology-madras/fashion-mnist-dataset</a><br>Synced 5 W&B file(s), 0 media file(s), 0 artifact file(s) and 0 other file(s)"
      ],
      "text/plain": [
       "<IPython.core.display.HTML object>"
      ]
     },
     "metadata": {},
     "output_type": "display_data"
    },
    {
     "data": {
      "text/html": [
       "Find logs at: <code>.\\wandb\\run-20250317_065216-xh7chx3r\\logs</code>"
      ],
      "text/plain": [
       "<IPython.core.display.HTML object>"
      ]
     },
     "metadata": {},
     "output_type": "display_data"
    },
    {
     "name": "stderr",
     "output_type": "stream",
     "text": [
      "wandb: Agent Starting Run: 12yq54e1 with config:\n",
      "wandb: \tactivation: sigmoid\n",
      "wandb: \tbatch_size: 128\n",
      "wandb: \tepochs: 10\n",
      "wandb: \thidden_size: 128\n",
      "wandb: \tlearning_rate: 0.0001\n",
      "wandb: \tloss: cross_entropy\n",
      "wandb: \tnum_layers: 4\n",
      "wandb: \toptimizer: sgd\n",
      "wandb: \tweight_decay: 0.0001\n",
      "wandb: \tweight_init: random\n"
     ]
    },
    {
     "data": {
      "text/html": [
       "Tracking run with wandb version 0.19.8"
      ],
      "text/plain": [
       "<IPython.core.display.HTML object>"
      ]
     },
     "metadata": {},
     "output_type": "display_data"
    },
    {
     "data": {
      "text/html": [
       "Run data is saved locally in <code>C:\\Users\\lenovo\\fashion_mnist-backpropagation\\wandb\\run-20250317_065331-12yq54e1</code>"
      ],
      "text/plain": [
       "<IPython.core.display.HTML object>"
      ]
     },
     "metadata": {},
     "output_type": "display_data"
    },
    {
     "data": {
      "text/html": [
       "Syncing run <strong><a href='https://wandb.ai/ma23c014-indian-institute-of-technology-madras/fashion-mnist-dataset/runs/12yq54e1' target=\"_blank\">tough-sweep-5</a></strong> to <a href='https://wandb.ai/ma23c014-indian-institute-of-technology-madras/fashion-mnist-dataset' target=\"_blank\">Weights & Biases</a> (<a href='https://wandb.me/developer-guide' target=\"_blank\">docs</a>)<br>Sweep page: <a href='https://wandb.ai/ma23c014-indian-institute-of-technology-madras/fashion-mnist-dataset/sweeps/f4yt29uq' target=\"_blank\">https://wandb.ai/ma23c014-indian-institute-of-technology-madras/fashion-mnist-dataset/sweeps/f4yt29uq</a>"
      ],
      "text/plain": [
       "<IPython.core.display.HTML object>"
      ]
     },
     "metadata": {},
     "output_type": "display_data"
    },
    {
     "data": {
      "text/html": [
       " View project at <a href='https://wandb.ai/ma23c014-indian-institute-of-technology-madras/fashion-mnist-dataset' target=\"_blank\">https://wandb.ai/ma23c014-indian-institute-of-technology-madras/fashion-mnist-dataset</a>"
      ],
      "text/plain": [
       "<IPython.core.display.HTML object>"
      ]
     },
     "metadata": {},
     "output_type": "display_data"
    },
    {
     "data": {
      "text/html": [
       " View sweep at <a href='https://wandb.ai/ma23c014-indian-institute-of-technology-madras/fashion-mnist-dataset/sweeps/f4yt29uq' target=\"_blank\">https://wandb.ai/ma23c014-indian-institute-of-technology-madras/fashion-mnist-dataset/sweeps/f4yt29uq</a>"
      ],
      "text/plain": [
       "<IPython.core.display.HTML object>"
      ]
     },
     "metadata": {},
     "output_type": "display_data"
    },
    {
     "data": {
      "text/html": [
       " View run at <a href='https://wandb.ai/ma23c014-indian-institute-of-technology-madras/fashion-mnist-dataset/runs/12yq54e1' target=\"_blank\">https://wandb.ai/ma23c014-indian-institute-of-technology-madras/fashion-mnist-dataset/runs/12yq54e1</a>"
      ],
      "text/plain": [
       "<IPython.core.display.HTML object>"
      ]
     },
     "metadata": {},
     "output_type": "display_data"
    },
    {
     "data": {
      "text/html": [],
      "text/plain": [
       "<IPython.core.display.HTML object>"
      ]
     },
     "metadata": {},
     "output_type": "display_data"
    },
    {
     "data": {
      "text/html": [
       "<br>    <style><br>        .wandb-row {<br>            display: flex;<br>            flex-direction: row;<br>            flex-wrap: wrap;<br>            justify-content: flex-start;<br>            width: 100%;<br>        }<br>        .wandb-col {<br>            display: flex;<br>            flex-direction: column;<br>            flex-basis: 100%;<br>            flex: 1;<br>            padding: 10px;<br>        }<br>    </style><br><div class=\"wandb-row\"><div class=\"wandb-col\"><h3>Run history:</h3><br/><table class=\"wandb\"><tr><td>epoch</td><td>▁▂▃▃▄▅▆▆▇█</td></tr><tr><td>train_accuracy</td><td>▁▁▁▁▁▁▁▁▁▁</td></tr><tr><td>train_loss</td><td>█▇▆▅▅▄▃▂▂▁</td></tr><tr><td>val_accuracy</td><td>▁▁▁▁▁▁▁▁▁▁</td></tr><tr><td>val_loss</td><td>█▇▆▅▅▄▃▂▂▁</td></tr></table><br/></div><div class=\"wandb-col\"><h3>Run summary:</h3><br/><table class=\"wandb\"><tr><td>epoch</td><td>10</td></tr><tr><td>train_accuracy</td><td>0.09996</td></tr><tr><td>train_loss</td><td>2.43683</td></tr><tr><td>val_accuracy</td><td>0.10033</td></tr><tr><td>val_loss</td><td>2.4276</td></tr></table><br/></div></div>"
      ],
      "text/plain": [
       "<IPython.core.display.HTML object>"
      ]
     },
     "metadata": {},
     "output_type": "display_data"
    },
    {
     "data": {
      "text/html": [
       " View run <strong style=\"color:#cdcd00\">_hl_4_hn_128_opt_sgd_act_sigmoid_lr_0.0001_bs_128_init_random_ep_10_l2_0.0001</strong> at: <a href='https://wandb.ai/ma23c014-indian-institute-of-technology-madras/fashion-mnist-dataset/runs/12yq54e1' target=\"_blank\">https://wandb.ai/ma23c014-indian-institute-of-technology-madras/fashion-mnist-dataset/runs/12yq54e1</a><br> View project at: <a href='https://wandb.ai/ma23c014-indian-institute-of-technology-madras/fashion-mnist-dataset' target=\"_blank\">https://wandb.ai/ma23c014-indian-institute-of-technology-madras/fashion-mnist-dataset</a><br>Synced 5 W&B file(s), 0 media file(s), 0 artifact file(s) and 0 other file(s)"
      ],
      "text/plain": [
       "<IPython.core.display.HTML object>"
      ]
     },
     "metadata": {},
     "output_type": "display_data"
    },
    {
     "data": {
      "text/html": [
       "Find logs at: <code>.\\wandb\\run-20250317_065331-12yq54e1\\logs</code>"
      ],
      "text/plain": [
       "<IPython.core.display.HTML object>"
      ]
     },
     "metadata": {},
     "output_type": "display_data"
    },
    {
     "name": "stderr",
     "output_type": "stream",
     "text": [
      "wandb: Agent Starting Run: c06iauwh with config:\n",
      "wandb: \tactivation: relu\n",
      "wandb: \tbatch_size: 128\n",
      "wandb: \tepochs: 20\n",
      "wandb: \thidden_size: 64\n",
      "wandb: \tlearning_rate: 0.001\n",
      "wandb: \tloss: cross_entropy\n",
      "wandb: \tnum_layers: 3\n",
      "wandb: \toptimizer: nag\n",
      "wandb: \tweight_decay: 0.001\n",
      "wandb: \tweight_init: xavier\n"
     ]
    },
    {
     "data": {
      "text/html": [
       "Tracking run with wandb version 0.19.8"
      ],
      "text/plain": [
       "<IPython.core.display.HTML object>"
      ]
     },
     "metadata": {},
     "output_type": "display_data"
    },
    {
     "data": {
      "text/html": [
       "Run data is saved locally in <code>C:\\Users\\lenovo\\fashion_mnist-backpropagation\\wandb\\run-20250317_065436-c06iauwh</code>"
      ],
      "text/plain": [
       "<IPython.core.display.HTML object>"
      ]
     },
     "metadata": {},
     "output_type": "display_data"
    },
    {
     "data": {
      "text/html": [
       "Syncing run <strong><a href='https://wandb.ai/ma23c014-indian-institute-of-technology-madras/fashion-mnist-dataset/runs/c06iauwh' target=\"_blank\">valiant-sweep-6</a></strong> to <a href='https://wandb.ai/ma23c014-indian-institute-of-technology-madras/fashion-mnist-dataset' target=\"_blank\">Weights & Biases</a> (<a href='https://wandb.me/developer-guide' target=\"_blank\">docs</a>)<br>Sweep page: <a href='https://wandb.ai/ma23c014-indian-institute-of-technology-madras/fashion-mnist-dataset/sweeps/f4yt29uq' target=\"_blank\">https://wandb.ai/ma23c014-indian-institute-of-technology-madras/fashion-mnist-dataset/sweeps/f4yt29uq</a>"
      ],
      "text/plain": [
       "<IPython.core.display.HTML object>"
      ]
     },
     "metadata": {},
     "output_type": "display_data"
    },
    {
     "data": {
      "text/html": [
       " View project at <a href='https://wandb.ai/ma23c014-indian-institute-of-technology-madras/fashion-mnist-dataset' target=\"_blank\">https://wandb.ai/ma23c014-indian-institute-of-technology-madras/fashion-mnist-dataset</a>"
      ],
      "text/plain": [
       "<IPython.core.display.HTML object>"
      ]
     },
     "metadata": {},
     "output_type": "display_data"
    },
    {
     "data": {
      "text/html": [
       " View sweep at <a href='https://wandb.ai/ma23c014-indian-institute-of-technology-madras/fashion-mnist-dataset/sweeps/f4yt29uq' target=\"_blank\">https://wandb.ai/ma23c014-indian-institute-of-technology-madras/fashion-mnist-dataset/sweeps/f4yt29uq</a>"
      ],
      "text/plain": [
       "<IPython.core.display.HTML object>"
      ]
     },
     "metadata": {},
     "output_type": "display_data"
    },
    {
     "data": {
      "text/html": [
       " View run at <a href='https://wandb.ai/ma23c014-indian-institute-of-technology-madras/fashion-mnist-dataset/runs/c06iauwh' target=\"_blank\">https://wandb.ai/ma23c014-indian-institute-of-technology-madras/fashion-mnist-dataset/runs/c06iauwh</a>"
      ],
      "text/plain": [
       "<IPython.core.display.HTML object>"
      ]
     },
     "metadata": {},
     "output_type": "display_data"
    },
    {
     "data": {
      "text/html": [],
      "text/plain": [
       "<IPython.core.display.HTML object>"
      ]
     },
     "metadata": {},
     "output_type": "display_data"
    },
    {
     "data": {
      "text/html": [
       "<br>    <style><br>        .wandb-row {<br>            display: flex;<br>            flex-direction: row;<br>            flex-wrap: wrap;<br>            justify-content: flex-start;<br>            width: 100%;<br>        }<br>        .wandb-col {<br>            display: flex;<br>            flex-direction: column;<br>            flex-basis: 100%;<br>            flex: 1;<br>            padding: 10px;<br>        }<br>    </style><br><div class=\"wandb-row\"><div class=\"wandb-col\"><h3>Run history:</h3><br/><table class=\"wandb\"><tr><td>epoch</td><td>▁▁▂▂▂▃▃▄▄▄▅▅▅▆▆▇▇▇██</td></tr><tr><td>train_accuracy</td><td>▁▄▅▅▆▆▆▇▇▇▇▇▇▇██████</td></tr><tr><td>train_loss</td><td>█▅▄▄▃▃▃▂▂▂▂▂▂▂▁▁▁▁▁▁</td></tr><tr><td>val_accuracy</td><td>▁▄▅▆▆▆▇▇▇▇▇▇████████</td></tr><tr><td>val_loss</td><td>█▅▄▄▃▃▂▂▂▂▂▂▂▁▁▁▁▁▁▁</td></tr></table><br/></div><div class=\"wandb-col\"><h3>Run summary:</h3><br/><table class=\"wandb\"><tr><td>epoch</td><td>20</td></tr><tr><td>train_accuracy</td><td>0.87959</td></tr><tr><td>train_loss</td><td>0.33821</td></tr><tr><td>val_accuracy</td><td>0.87033</td></tr><tr><td>val_loss</td><td>0.3638</td></tr></table><br/></div></div>"
      ],
      "text/plain": [
       "<IPython.core.display.HTML object>"
      ]
     },
     "metadata": {},
     "output_type": "display_data"
    },
    {
     "data": {
      "text/html": [
       " View run <strong style=\"color:#cdcd00\">_hl_3_hn_64_opt_nag_act_relu_lr_0.001_bs_128_init_xavier_ep_20_l2_0.001</strong> at: <a href='https://wandb.ai/ma23c014-indian-institute-of-technology-madras/fashion-mnist-dataset/runs/c06iauwh' target=\"_blank\">https://wandb.ai/ma23c014-indian-institute-of-technology-madras/fashion-mnist-dataset/runs/c06iauwh</a><br> View project at: <a href='https://wandb.ai/ma23c014-indian-institute-of-technology-madras/fashion-mnist-dataset' target=\"_blank\">https://wandb.ai/ma23c014-indian-institute-of-technology-madras/fashion-mnist-dataset</a><br>Synced 5 W&B file(s), 0 media file(s), 0 artifact file(s) and 0 other file(s)"
      ],
      "text/plain": [
       "<IPython.core.display.HTML object>"
      ]
     },
     "metadata": {},
     "output_type": "display_data"
    },
    {
     "data": {
      "text/html": [
       "Find logs at: <code>.\\wandb\\run-20250317_065436-c06iauwh\\logs</code>"
      ],
      "text/plain": [
       "<IPython.core.display.HTML object>"
      ]
     },
     "metadata": {},
     "output_type": "display_data"
    },
    {
     "name": "stderr",
     "output_type": "stream",
     "text": [
      "wandb: Agent Starting Run: bk56c4t4 with config:\n",
      "wandb: \tactivation: relu\n",
      "wandb: \tbatch_size: 128\n",
      "wandb: \tepochs: 20\n",
      "wandb: \thidden_size: 32\n",
      "wandb: \tlearning_rate: 0.01\n",
      "wandb: \tloss: cross_entropy\n",
      "wandb: \tnum_layers: 4\n",
      "wandb: \toptimizer: rmsprop\n",
      "wandb: \tweight_decay: 0.001\n",
      "wandb: \tweight_init: xavier\n"
     ]
    },
    {
     "data": {
      "text/html": [
       "Tracking run with wandb version 0.19.8"
      ],
      "text/plain": [
       "<IPython.core.display.HTML object>"
      ]
     },
     "metadata": {},
     "output_type": "display_data"
    },
    {
     "data": {
      "text/html": [
       "Run data is saved locally in <code>C:\\Users\\lenovo\\fashion_mnist-backpropagation\\wandb\\run-20250317_065529-bk56c4t4</code>"
      ],
      "text/plain": [
       "<IPython.core.display.HTML object>"
      ]
     },
     "metadata": {},
     "output_type": "display_data"
    },
    {
     "data": {
      "text/html": [
       "Syncing run <strong><a href='https://wandb.ai/ma23c014-indian-institute-of-technology-madras/fashion-mnist-dataset/runs/bk56c4t4' target=\"_blank\">dazzling-sweep-7</a></strong> to <a href='https://wandb.ai/ma23c014-indian-institute-of-technology-madras/fashion-mnist-dataset' target=\"_blank\">Weights & Biases</a> (<a href='https://wandb.me/developer-guide' target=\"_blank\">docs</a>)<br>Sweep page: <a href='https://wandb.ai/ma23c014-indian-institute-of-technology-madras/fashion-mnist-dataset/sweeps/f4yt29uq' target=\"_blank\">https://wandb.ai/ma23c014-indian-institute-of-technology-madras/fashion-mnist-dataset/sweeps/f4yt29uq</a>"
      ],
      "text/plain": [
       "<IPython.core.display.HTML object>"
      ]
     },
     "metadata": {},
     "output_type": "display_data"
    },
    {
     "data": {
      "text/html": [
       " View project at <a href='https://wandb.ai/ma23c014-indian-institute-of-technology-madras/fashion-mnist-dataset' target=\"_blank\">https://wandb.ai/ma23c014-indian-institute-of-technology-madras/fashion-mnist-dataset</a>"
      ],
      "text/plain": [
       "<IPython.core.display.HTML object>"
      ]
     },
     "metadata": {},
     "output_type": "display_data"
    },
    {
     "data": {
      "text/html": [
       " View sweep at <a href='https://wandb.ai/ma23c014-indian-institute-of-technology-madras/fashion-mnist-dataset/sweeps/f4yt29uq' target=\"_blank\">https://wandb.ai/ma23c014-indian-institute-of-technology-madras/fashion-mnist-dataset/sweeps/f4yt29uq</a>"
      ],
      "text/plain": [
       "<IPython.core.display.HTML object>"
      ]
     },
     "metadata": {},
     "output_type": "display_data"
    },
    {
     "data": {
      "text/html": [
       " View run at <a href='https://wandb.ai/ma23c014-indian-institute-of-technology-madras/fashion-mnist-dataset/runs/bk56c4t4' target=\"_blank\">https://wandb.ai/ma23c014-indian-institute-of-technology-madras/fashion-mnist-dataset/runs/bk56c4t4</a>"
      ],
      "text/plain": [
       "<IPython.core.display.HTML object>"
      ]
     },
     "metadata": {},
     "output_type": "display_data"
    },
    {
     "data": {
      "text/html": [],
      "text/plain": [
       "<IPython.core.display.HTML object>"
      ]
     },
     "metadata": {},
     "output_type": "display_data"
    },
    {
     "data": {
      "text/html": [
       "<br>    <style><br>        .wandb-row {<br>            display: flex;<br>            flex-direction: row;<br>            flex-wrap: wrap;<br>            justify-content: flex-start;<br>            width: 100%;<br>        }<br>        .wandb-col {<br>            display: flex;<br>            flex-direction: column;<br>            flex-basis: 100%;<br>            flex: 1;<br>            padding: 10px;<br>        }<br>    </style><br><div class=\"wandb-row\"><div class=\"wandb-col\"><h3>Run history:</h3><br/><table class=\"wandb\"><tr><td>epoch</td><td>▁▁▂▂▂▃▃▄▄▄▅▅▅▆▆▇▇▇██</td></tr><tr><td>train_accuracy</td><td>▁▃▇▃▃▆█▂▄▄▇▆▂▃▁▄▄▃▃▃</td></tr><tr><td>train_loss</td><td>▆▅▂▅▆▂▁█▅▄▂▃▆▆▇▄▅▅█▆</td></tr><tr><td>val_accuracy</td><td>▂▃▇▃▃▆█▂▄▄█▆▂▃▁▅▄▄▃▃</td></tr><tr><td>val_loss</td><td>▆▅▂▅▆▂▁█▅▄▂▃▇▆▇▄▅▅█▆</td></tr></table><br/></div><div class=\"wandb-col\"><h3>Run summary:</h3><br/><table class=\"wandb\"><tr><td>epoch</td><td>20</td></tr><tr><td>train_accuracy</td><td>0.77293</td></tr><tr><td>train_loss</td><td>0.64859</td></tr><tr><td>val_accuracy</td><td>0.7795</td></tr><tr><td>val_loss</td><td>0.65397</td></tr></table><br/></div></div>"
      ],
      "text/plain": [
       "<IPython.core.display.HTML object>"
      ]
     },
     "metadata": {},
     "output_type": "display_data"
    },
    {
     "data": {
      "text/html": [
       " View run <strong style=\"color:#cdcd00\">_hl_4_hn_32_opt_rmsprop_act_relu_lr_0.01_bs_128_init_xavier_ep_20_l2_0.001</strong> at: <a href='https://wandb.ai/ma23c014-indian-institute-of-technology-madras/fashion-mnist-dataset/runs/bk56c4t4' target=\"_blank\">https://wandb.ai/ma23c014-indian-institute-of-technology-madras/fashion-mnist-dataset/runs/bk56c4t4</a><br> View project at: <a href='https://wandb.ai/ma23c014-indian-institute-of-technology-madras/fashion-mnist-dataset' target=\"_blank\">https://wandb.ai/ma23c014-indian-institute-of-technology-madras/fashion-mnist-dataset</a><br>Synced 5 W&B file(s), 0 media file(s), 0 artifact file(s) and 0 other file(s)"
      ],
      "text/plain": [
       "<IPython.core.display.HTML object>"
      ]
     },
     "metadata": {},
     "output_type": "display_data"
    },
    {
     "data": {
      "text/html": [
       "Find logs at: <code>.\\wandb\\run-20250317_065529-bk56c4t4\\logs</code>"
      ],
      "text/plain": [
       "<IPython.core.display.HTML object>"
      ]
     },
     "metadata": {},
     "output_type": "display_data"
    },
    {
     "name": "stderr",
     "output_type": "stream",
     "text": [
      "wandb: Sweep Agent: Waiting for job.\n",
      "wandb: Job received.\n",
      "wandb: Agent Starting Run: p1k1x3z8 with config:\n",
      "wandb: \tactivation: relu\n",
      "wandb: \tbatch_size: 128\n",
      "wandb: \tepochs: 20\n",
      "wandb: \thidden_size: 32\n",
      "wandb: \tlearning_rate: 0.001\n",
      "wandb: \tloss: cross_entropy\n",
      "wandb: \tnum_layers: 4\n",
      "wandb: \toptimizer: rmsprop\n",
      "wandb: \tweight_decay: 0.001\n",
      "wandb: \tweight_init: random\n"
     ]
    },
    {
     "data": {
      "text/html": [
       "Tracking run with wandb version 0.19.8"
      ],
      "text/plain": [
       "<IPython.core.display.HTML object>"
      ]
     },
     "metadata": {},
     "output_type": "display_data"
    },
    {
     "data": {
      "text/html": [
       "Run data is saved locally in <code>C:\\Users\\lenovo\\fashion_mnist-backpropagation\\wandb\\run-20250317_065617-p1k1x3z8</code>"
      ],
      "text/plain": [
       "<IPython.core.display.HTML object>"
      ]
     },
     "metadata": {},
     "output_type": "display_data"
    },
    {
     "data": {
      "text/html": [
       "Syncing run <strong><a href='https://wandb.ai/ma23c014-indian-institute-of-technology-madras/fashion-mnist-dataset/runs/p1k1x3z8' target=\"_blank\">gentle-sweep-8</a></strong> to <a href='https://wandb.ai/ma23c014-indian-institute-of-technology-madras/fashion-mnist-dataset' target=\"_blank\">Weights & Biases</a> (<a href='https://wandb.me/developer-guide' target=\"_blank\">docs</a>)<br>Sweep page: <a href='https://wandb.ai/ma23c014-indian-institute-of-technology-madras/fashion-mnist-dataset/sweeps/f4yt29uq' target=\"_blank\">https://wandb.ai/ma23c014-indian-institute-of-technology-madras/fashion-mnist-dataset/sweeps/f4yt29uq</a>"
      ],
      "text/plain": [
       "<IPython.core.display.HTML object>"
      ]
     },
     "metadata": {},
     "output_type": "display_data"
    },
    {
     "data": {
      "text/html": [
       " View project at <a href='https://wandb.ai/ma23c014-indian-institute-of-technology-madras/fashion-mnist-dataset' target=\"_blank\">https://wandb.ai/ma23c014-indian-institute-of-technology-madras/fashion-mnist-dataset</a>"
      ],
      "text/plain": [
       "<IPython.core.display.HTML object>"
      ]
     },
     "metadata": {},
     "output_type": "display_data"
    },
    {
     "data": {
      "text/html": [
       " View sweep at <a href='https://wandb.ai/ma23c014-indian-institute-of-technology-madras/fashion-mnist-dataset/sweeps/f4yt29uq' target=\"_blank\">https://wandb.ai/ma23c014-indian-institute-of-technology-madras/fashion-mnist-dataset/sweeps/f4yt29uq</a>"
      ],
      "text/plain": [
       "<IPython.core.display.HTML object>"
      ]
     },
     "metadata": {},
     "output_type": "display_data"
    },
    {
     "data": {
      "text/html": [
       " View run at <a href='https://wandb.ai/ma23c014-indian-institute-of-technology-madras/fashion-mnist-dataset/runs/p1k1x3z8' target=\"_blank\">https://wandb.ai/ma23c014-indian-institute-of-technology-madras/fashion-mnist-dataset/runs/p1k1x3z8</a>"
      ],
      "text/plain": [
       "<IPython.core.display.HTML object>"
      ]
     },
     "metadata": {},
     "output_type": "display_data"
    },
    {
     "data": {
      "text/html": [],
      "text/plain": [
       "<IPython.core.display.HTML object>"
      ]
     },
     "metadata": {},
     "output_type": "display_data"
    },
    {
     "data": {
      "text/html": [
       "<br>    <style><br>        .wandb-row {<br>            display: flex;<br>            flex-direction: row;<br>            flex-wrap: wrap;<br>            justify-content: flex-start;<br>            width: 100%;<br>        }<br>        .wandb-col {<br>            display: flex;<br>            flex-direction: column;<br>            flex-basis: 100%;<br>            flex: 1;<br>            padding: 10px;<br>        }<br>    </style><br><div class=\"wandb-row\"><div class=\"wandb-col\"><h3>Run history:</h3><br/><table class=\"wandb\"><tr><td>epoch</td><td>▁▁▂▂▂▃▃▄▄▄▅▅▅▆▆▇▇▇██</td></tr><tr><td>train_accuracy</td><td>▁▃▅▅▆▆▆▇▇▇▇▇▇▇▇▇▇███</td></tr><tr><td>train_loss</td><td>█▆▅▄▃▃▃▂▂▂▂▂▂▂▂▂▁▁▁▁</td></tr><tr><td>val_accuracy</td><td>▁▄▅▆▆▆▇▇▇▇▇▇▇▇██████</td></tr><tr><td>val_loss</td><td>█▅▄▄▃▂▂▂▂▂▂▁▁▁▁▁▁▁▁▁</td></tr></table><br/></div><div class=\"wandb-col\"><h3>Run summary:</h3><br/><table class=\"wandb\"><tr><td>epoch</td><td>20</td></tr><tr><td>train_accuracy</td><td>0.89346</td></tr><tr><td>train_loss</td><td>0.29028</td></tr><tr><td>val_accuracy</td><td>0.87617</td></tr><tr><td>val_loss</td><td>0.33709</td></tr></table><br/></div></div>"
      ],
      "text/plain": [
       "<IPython.core.display.HTML object>"
      ]
     },
     "metadata": {},
     "output_type": "display_data"
    },
    {
     "data": {
      "text/html": [
       " View run <strong style=\"color:#cdcd00\">_hl_4_hn_32_opt_rmsprop_act_relu_lr_0.001_bs_128_init_random_ep_20_l2_0.001</strong> at: <a href='https://wandb.ai/ma23c014-indian-institute-of-technology-madras/fashion-mnist-dataset/runs/p1k1x3z8' target=\"_blank\">https://wandb.ai/ma23c014-indian-institute-of-technology-madras/fashion-mnist-dataset/runs/p1k1x3z8</a><br> View project at: <a href='https://wandb.ai/ma23c014-indian-institute-of-technology-madras/fashion-mnist-dataset' target=\"_blank\">https://wandb.ai/ma23c014-indian-institute-of-technology-madras/fashion-mnist-dataset</a><br>Synced 5 W&B file(s), 0 media file(s), 0 artifact file(s) and 0 other file(s)"
      ],
      "text/plain": [
       "<IPython.core.display.HTML object>"
      ]
     },
     "metadata": {},
     "output_type": "display_data"
    },
    {
     "data": {
      "text/html": [
       "Find logs at: <code>.\\wandb\\run-20250317_065617-p1k1x3z8\\logs</code>"
      ],
      "text/plain": [
       "<IPython.core.display.HTML object>"
      ]
     },
     "metadata": {},
     "output_type": "display_data"
    },
    {
     "name": "stderr",
     "output_type": "stream",
     "text": [
      "wandb: Agent Starting Run: e4p2idl3 with config:\n",
      "wandb: \tactivation: relu\n",
      "wandb: \tbatch_size: 128\n",
      "wandb: \tepochs: 10\n",
      "wandb: \thidden_size: 64\n",
      "wandb: \tlearning_rate: 0.001\n",
      "wandb: \tloss: cross_entropy\n",
      "wandb: \tnum_layers: 3\n",
      "wandb: \toptimizer: adam\n",
      "wandb: \tweight_decay: 0.001\n",
      "wandb: \tweight_init: xavier\n"
     ]
    },
    {
     "data": {
      "text/html": [
       "Tracking run with wandb version 0.19.8"
      ],
      "text/plain": [
       "<IPython.core.display.HTML object>"
      ]
     },
     "metadata": {},
     "output_type": "display_data"
    },
    {
     "data": {
      "text/html": [
       "Run data is saved locally in <code>C:\\Users\\lenovo\\fashion_mnist-backpropagation\\wandb\\run-20250317_065700-e4p2idl3</code>"
      ],
      "text/plain": [
       "<IPython.core.display.HTML object>"
      ]
     },
     "metadata": {},
     "output_type": "display_data"
    },
    {
     "data": {
      "text/html": [
       "Syncing run <strong><a href='https://wandb.ai/ma23c014-indian-institute-of-technology-madras/fashion-mnist-dataset/runs/e4p2idl3' target=\"_blank\">magic-sweep-9</a></strong> to <a href='https://wandb.ai/ma23c014-indian-institute-of-technology-madras/fashion-mnist-dataset' target=\"_blank\">Weights & Biases</a> (<a href='https://wandb.me/developer-guide' target=\"_blank\">docs</a>)<br>Sweep page: <a href='https://wandb.ai/ma23c014-indian-institute-of-technology-madras/fashion-mnist-dataset/sweeps/f4yt29uq' target=\"_blank\">https://wandb.ai/ma23c014-indian-institute-of-technology-madras/fashion-mnist-dataset/sweeps/f4yt29uq</a>"
      ],
      "text/plain": [
       "<IPython.core.display.HTML object>"
      ]
     },
     "metadata": {},
     "output_type": "display_data"
    },
    {
     "data": {
      "text/html": [
       " View project at <a href='https://wandb.ai/ma23c014-indian-institute-of-technology-madras/fashion-mnist-dataset' target=\"_blank\">https://wandb.ai/ma23c014-indian-institute-of-technology-madras/fashion-mnist-dataset</a>"
      ],
      "text/plain": [
       "<IPython.core.display.HTML object>"
      ]
     },
     "metadata": {},
     "output_type": "display_data"
    },
    {
     "data": {
      "text/html": [
       " View sweep at <a href='https://wandb.ai/ma23c014-indian-institute-of-technology-madras/fashion-mnist-dataset/sweeps/f4yt29uq' target=\"_blank\">https://wandb.ai/ma23c014-indian-institute-of-technology-madras/fashion-mnist-dataset/sweeps/f4yt29uq</a>"
      ],
      "text/plain": [
       "<IPython.core.display.HTML object>"
      ]
     },
     "metadata": {},
     "output_type": "display_data"
    },
    {
     "data": {
      "text/html": [
       " View run at <a href='https://wandb.ai/ma23c014-indian-institute-of-technology-madras/fashion-mnist-dataset/runs/e4p2idl3' target=\"_blank\">https://wandb.ai/ma23c014-indian-institute-of-technology-madras/fashion-mnist-dataset/runs/e4p2idl3</a>"
      ],
      "text/plain": [
       "<IPython.core.display.HTML object>"
      ]
     },
     "metadata": {},
     "output_type": "display_data"
    },
    {
     "data": {
      "text/html": [],
      "text/plain": [
       "<IPython.core.display.HTML object>"
      ]
     },
     "metadata": {},
     "output_type": "display_data"
    },
    {
     "data": {
      "text/html": [
       "<br>    <style><br>        .wandb-row {<br>            display: flex;<br>            flex-direction: row;<br>            flex-wrap: wrap;<br>            justify-content: flex-start;<br>            width: 100%;<br>        }<br>        .wandb-col {<br>            display: flex;<br>            flex-direction: column;<br>            flex-basis: 100%;<br>            flex: 1;<br>            padding: 10px;<br>        }<br>    </style><br><div class=\"wandb-row\"><div class=\"wandb-col\"><h3>Run history:</h3><br/><table class=\"wandb\"><tr><td>epoch</td><td>▁▂▃▃▄▅▆▆▇█</td></tr><tr><td>train_accuracy</td><td>▁▄▆▆▇▇████</td></tr><tr><td>train_loss</td><td>█▅▃▃▂▂▁▁▁▁</td></tr><tr><td>val_accuracy</td><td>▁▆▇▇▇██▇▇█</td></tr><tr><td>val_loss</td><td>█▄▂▂▂▁▁▁▁▁</td></tr></table><br/></div><div class=\"wandb-col\"><h3>Run summary:</h3><br/><table class=\"wandb\"><tr><td>epoch</td><td>10</td></tr><tr><td>train_accuracy</td><td>0.88991</td></tr><tr><td>train_loss</td><td>0.30085</td></tr><tr><td>val_accuracy</td><td>0.87583</td></tr><tr><td>val_loss</td><td>0.33927</td></tr></table><br/></div></div>"
      ],
      "text/plain": [
       "<IPython.core.display.HTML object>"
      ]
     },
     "metadata": {},
     "output_type": "display_data"
    },
    {
     "data": {
      "text/html": [
       " View run <strong style=\"color:#cdcd00\">_hl_3_hn_64_opt_adam_act_relu_lr_0.001_bs_128_init_xavier_ep_10_l2_0.001</strong> at: <a href='https://wandb.ai/ma23c014-indian-institute-of-technology-madras/fashion-mnist-dataset/runs/e4p2idl3' target=\"_blank\">https://wandb.ai/ma23c014-indian-institute-of-technology-madras/fashion-mnist-dataset/runs/e4p2idl3</a><br> View project at: <a href='https://wandb.ai/ma23c014-indian-institute-of-technology-madras/fashion-mnist-dataset' target=\"_blank\">https://wandb.ai/ma23c014-indian-institute-of-technology-madras/fashion-mnist-dataset</a><br>Synced 5 W&B file(s), 0 media file(s), 0 artifact file(s) and 0 other file(s)"
      ],
      "text/plain": [
       "<IPython.core.display.HTML object>"
      ]
     },
     "metadata": {},
     "output_type": "display_data"
    },
    {
     "data": {
      "text/html": [
       "Find logs at: <code>.\\wandb\\run-20250317_065700-e4p2idl3\\logs</code>"
      ],
      "text/plain": [
       "<IPython.core.display.HTML object>"
      ]
     },
     "metadata": {},
     "output_type": "display_data"
    },
    {
     "name": "stderr",
     "output_type": "stream",
     "text": [
      "wandb: Agent Starting Run: vkl3xyhh with config:\n",
      "wandb: \tactivation: relu\n",
      "wandb: \tbatch_size: 128\n",
      "wandb: \tepochs: 10\n",
      "wandb: \thidden_size: 32\n",
      "wandb: \tlearning_rate: 0.01\n",
      "wandb: \tloss: cross_entropy\n",
      "wandb: \tnum_layers: 3\n",
      "wandb: \toptimizer: rmsprop\n",
      "wandb: \tweight_decay: 0.001\n",
      "wandb: \tweight_init: xavier\n"
     ]
    },
    {
     "data": {
      "text/html": [
       "Tracking run with wandb version 0.19.8"
      ],
      "text/plain": [
       "<IPython.core.display.HTML object>"
      ]
     },
     "metadata": {},
     "output_type": "display_data"
    },
    {
     "data": {
      "text/html": [
       "Run data is saved locally in <code>C:\\Users\\lenovo\\fashion_mnist-backpropagation\\wandb\\run-20250317_065739-vkl3xyhh</code>"
      ],
      "text/plain": [
       "<IPython.core.display.HTML object>"
      ]
     },
     "metadata": {},
     "output_type": "display_data"
    },
    {
     "data": {
      "text/html": [
       "Syncing run <strong><a href='https://wandb.ai/ma23c014-indian-institute-of-technology-madras/fashion-mnist-dataset/runs/vkl3xyhh' target=\"_blank\">light-sweep-10</a></strong> to <a href='https://wandb.ai/ma23c014-indian-institute-of-technology-madras/fashion-mnist-dataset' target=\"_blank\">Weights & Biases</a> (<a href='https://wandb.me/developer-guide' target=\"_blank\">docs</a>)<br>Sweep page: <a href='https://wandb.ai/ma23c014-indian-institute-of-technology-madras/fashion-mnist-dataset/sweeps/f4yt29uq' target=\"_blank\">https://wandb.ai/ma23c014-indian-institute-of-technology-madras/fashion-mnist-dataset/sweeps/f4yt29uq</a>"
      ],
      "text/plain": [
       "<IPython.core.display.HTML object>"
      ]
     },
     "metadata": {},
     "output_type": "display_data"
    },
    {
     "data": {
      "text/html": [
       " View project at <a href='https://wandb.ai/ma23c014-indian-institute-of-technology-madras/fashion-mnist-dataset' target=\"_blank\">https://wandb.ai/ma23c014-indian-institute-of-technology-madras/fashion-mnist-dataset</a>"
      ],
      "text/plain": [
       "<IPython.core.display.HTML object>"
      ]
     },
     "metadata": {},
     "output_type": "display_data"
    },
    {
     "data": {
      "text/html": [
       " View sweep at <a href='https://wandb.ai/ma23c014-indian-institute-of-technology-madras/fashion-mnist-dataset/sweeps/f4yt29uq' target=\"_blank\">https://wandb.ai/ma23c014-indian-institute-of-technology-madras/fashion-mnist-dataset/sweeps/f4yt29uq</a>"
      ],
      "text/plain": [
       "<IPython.core.display.HTML object>"
      ]
     },
     "metadata": {},
     "output_type": "display_data"
    },
    {
     "data": {
      "text/html": [
       " View run at <a href='https://wandb.ai/ma23c014-indian-institute-of-technology-madras/fashion-mnist-dataset/runs/vkl3xyhh' target=\"_blank\">https://wandb.ai/ma23c014-indian-institute-of-technology-madras/fashion-mnist-dataset/runs/vkl3xyhh</a>"
      ],
      "text/plain": [
       "<IPython.core.display.HTML object>"
      ]
     },
     "metadata": {},
     "output_type": "display_data"
    },
    {
     "data": {
      "text/html": [],
      "text/plain": [
       "<IPython.core.display.HTML object>"
      ]
     },
     "metadata": {},
     "output_type": "display_data"
    },
    {
     "data": {
      "text/html": [
       "<br>    <style><br>        .wandb-row {<br>            display: flex;<br>            flex-direction: row;<br>            flex-wrap: wrap;<br>            justify-content: flex-start;<br>            width: 100%;<br>        }<br>        .wandb-col {<br>            display: flex;<br>            flex-direction: column;<br>            flex-basis: 100%;<br>            flex: 1;<br>            padding: 10px;<br>        }<br>    </style><br><div class=\"wandb-row\"><div class=\"wandb-col\"><h3>Run history:</h3><br/><table class=\"wandb\"><tr><td>epoch</td><td>▁▂▃▃▄▅▆▆▇█</td></tr><tr><td>train_accuracy</td><td>▆▆▁█▇▇▃▆▅▁</td></tr><tr><td>train_loss</td><td>▃▃█▁▂▂▅▃▃▇</td></tr><tr><td>val_accuracy</td><td>▆▇▁█▇█▄▆▄▁</td></tr><tr><td>val_loss</td><td>▃▃█▁▂▂▅▃▃▇</td></tr></table><br/></div><div class=\"wandb-col\"><h3>Run summary:</h3><br/><table class=\"wandb\"><tr><td>epoch</td><td>10</td></tr><tr><td>train_accuracy</td><td>0.77015</td></tr><tr><td>train_loss</td><td>0.60044</td></tr><tr><td>val_accuracy</td><td>0.77117</td></tr><tr><td>val_loss</td><td>0.60594</td></tr></table><br/></div></div>"
      ],
      "text/plain": [
       "<IPython.core.display.HTML object>"
      ]
     },
     "metadata": {},
     "output_type": "display_data"
    },
    {
     "data": {
      "text/html": [
       " View run <strong style=\"color:#cdcd00\">_hl_3_hn_32_opt_rmsprop_act_relu_lr_0.01_bs_128_init_xavier_ep_10_l2_0.001</strong> at: <a href='https://wandb.ai/ma23c014-indian-institute-of-technology-madras/fashion-mnist-dataset/runs/vkl3xyhh' target=\"_blank\">https://wandb.ai/ma23c014-indian-institute-of-technology-madras/fashion-mnist-dataset/runs/vkl3xyhh</a><br> View project at: <a href='https://wandb.ai/ma23c014-indian-institute-of-technology-madras/fashion-mnist-dataset' target=\"_blank\">https://wandb.ai/ma23c014-indian-institute-of-technology-madras/fashion-mnist-dataset</a><br>Synced 5 W&B file(s), 0 media file(s), 0 artifact file(s) and 0 other file(s)"
      ],
      "text/plain": [
       "<IPython.core.display.HTML object>"
      ]
     },
     "metadata": {},
     "output_type": "display_data"
    },
    {
     "data": {
      "text/html": [
       "Find logs at: <code>.\\wandb\\run-20250317_065739-vkl3xyhh\\logs</code>"
      ],
      "text/plain": [
       "<IPython.core.display.HTML object>"
      ]
     },
     "metadata": {},
     "output_type": "display_data"
    },
    {
     "name": "stderr",
     "output_type": "stream",
     "text": [
      "wandb: Agent Starting Run: ib9dbxfe with config:\n",
      "wandb: \tactivation: relu\n",
      "wandb: \tbatch_size: 64\n",
      "wandb: \tepochs: 20\n",
      "wandb: \thidden_size: 32\n",
      "wandb: \tlearning_rate: 0.01\n",
      "wandb: \tloss: cross_entropy\n",
      "wandb: \tnum_layers: 4\n",
      "wandb: \toptimizer: adam\n",
      "wandb: \tweight_decay: 0.001\n",
      "wandb: \tweight_init: random\n"
     ]
    },
    {
     "data": {
      "text/html": [
       "Tracking run with wandb version 0.19.8"
      ],
      "text/plain": [
       "<IPython.core.display.HTML object>"
      ]
     },
     "metadata": {},
     "output_type": "display_data"
    },
    {
     "data": {
      "text/html": [
       "Run data is saved locally in <code>C:\\Users\\lenovo\\fashion_mnist-backpropagation\\wandb\\run-20250317_065805-ib9dbxfe</code>"
      ],
      "text/plain": [
       "<IPython.core.display.HTML object>"
      ]
     },
     "metadata": {},
     "output_type": "display_data"
    },
    {
     "data": {
      "text/html": [
       "Syncing run <strong><a href='https://wandb.ai/ma23c014-indian-institute-of-technology-madras/fashion-mnist-dataset/runs/ib9dbxfe' target=\"_blank\">vivid-sweep-11</a></strong> to <a href='https://wandb.ai/ma23c014-indian-institute-of-technology-madras/fashion-mnist-dataset' target=\"_blank\">Weights & Biases</a> (<a href='https://wandb.me/developer-guide' target=\"_blank\">docs</a>)<br>Sweep page: <a href='https://wandb.ai/ma23c014-indian-institute-of-technology-madras/fashion-mnist-dataset/sweeps/f4yt29uq' target=\"_blank\">https://wandb.ai/ma23c014-indian-institute-of-technology-madras/fashion-mnist-dataset/sweeps/f4yt29uq</a>"
      ],
      "text/plain": [
       "<IPython.core.display.HTML object>"
      ]
     },
     "metadata": {},
     "output_type": "display_data"
    },
    {
     "data": {
      "text/html": [
       " View project at <a href='https://wandb.ai/ma23c014-indian-institute-of-technology-madras/fashion-mnist-dataset' target=\"_blank\">https://wandb.ai/ma23c014-indian-institute-of-technology-madras/fashion-mnist-dataset</a>"
      ],
      "text/plain": [
       "<IPython.core.display.HTML object>"
      ]
     },
     "metadata": {},
     "output_type": "display_data"
    },
    {
     "data": {
      "text/html": [
       " View sweep at <a href='https://wandb.ai/ma23c014-indian-institute-of-technology-madras/fashion-mnist-dataset/sweeps/f4yt29uq' target=\"_blank\">https://wandb.ai/ma23c014-indian-institute-of-technology-madras/fashion-mnist-dataset/sweeps/f4yt29uq</a>"
      ],
      "text/plain": [
       "<IPython.core.display.HTML object>"
      ]
     },
     "metadata": {},
     "output_type": "display_data"
    },
    {
     "data": {
      "text/html": [
       " View run at <a href='https://wandb.ai/ma23c014-indian-institute-of-technology-madras/fashion-mnist-dataset/runs/ib9dbxfe' target=\"_blank\">https://wandb.ai/ma23c014-indian-institute-of-technology-madras/fashion-mnist-dataset/runs/ib9dbxfe</a>"
      ],
      "text/plain": [
       "<IPython.core.display.HTML object>"
      ]
     },
     "metadata": {},
     "output_type": "display_data"
    },
    {
     "data": {
      "text/html": [],
      "text/plain": [
       "<IPython.core.display.HTML object>"
      ]
     },
     "metadata": {},
     "output_type": "display_data"
    },
    {
     "data": {
      "text/html": [
       "<br>    <style><br>        .wandb-row {<br>            display: flex;<br>            flex-direction: row;<br>            flex-wrap: wrap;<br>            justify-content: flex-start;<br>            width: 100%;<br>        }<br>        .wandb-col {<br>            display: flex;<br>            flex-direction: column;<br>            flex-basis: 100%;<br>            flex: 1;<br>            padding: 10px;<br>        }<br>    </style><br><div class=\"wandb-row\"><div class=\"wandb-col\"><h3>Run history:</h3><br/><table class=\"wandb\"><tr><td>epoch</td><td>▁▁▂▂▂▃▃▄▄▄▅▅▅▆▆▇▇▇██</td></tr><tr><td>train_accuracy</td><td>▁▆▃▂▄▁▅▅▆▄▄▅█▅▇▆▇▆▇▃</td></tr><tr><td>train_loss</td><td>▇▄▇▇▅█▅▅▄▆▄▃▁▃▂▃▂▃▁▇</td></tr><tr><td>val_accuracy</td><td>▂▅▃▂▄▁▄▅▅▄▄▅█▅▇▆▆▆▇▃</td></tr><tr><td>val_loss</td><td>▆▄▇▇▅█▅▆▅▇▅▃▁▄▃▄▃▄▂█</td></tr></table><br/></div><div class=\"wandb-col\"><h3>Run summary:</h3><br/><table class=\"wandb\"><tr><td>epoch</td><td>20</td></tr><tr><td>train_accuracy</td><td>0.80304</td></tr><tr><td>train_loss</td><td>0.55118</td></tr><tr><td>val_accuracy</td><td>0.8015</td></tr><tr><td>val_loss</td><td>0.56369</td></tr></table><br/></div></div>"
      ],
      "text/plain": [
       "<IPython.core.display.HTML object>"
      ]
     },
     "metadata": {},
     "output_type": "display_data"
    },
    {
     "data": {
      "text/html": [
       " View run <strong style=\"color:#cdcd00\">_hl_4_hn_32_opt_adam_act_relu_lr_0.01_bs_64_init_random_ep_20_l2_0.001</strong> at: <a href='https://wandb.ai/ma23c014-indian-institute-of-technology-madras/fashion-mnist-dataset/runs/ib9dbxfe' target=\"_blank\">https://wandb.ai/ma23c014-indian-institute-of-technology-madras/fashion-mnist-dataset/runs/ib9dbxfe</a><br> View project at: <a href='https://wandb.ai/ma23c014-indian-institute-of-technology-madras/fashion-mnist-dataset' target=\"_blank\">https://wandb.ai/ma23c014-indian-institute-of-technology-madras/fashion-mnist-dataset</a><br>Synced 5 W&B file(s), 0 media file(s), 0 artifact file(s) and 0 other file(s)"
      ],
      "text/plain": [
       "<IPython.core.display.HTML object>"
      ]
     },
     "metadata": {},
     "output_type": "display_data"
    },
    {
     "data": {
      "text/html": [
       "Find logs at: <code>.\\wandb\\run-20250317_065805-ib9dbxfe\\logs</code>"
      ],
      "text/plain": [
       "<IPython.core.display.HTML object>"
      ]
     },
     "metadata": {},
     "output_type": "display_data"
    },
    {
     "name": "stderr",
     "output_type": "stream",
     "text": [
      "wandb: Agent Starting Run: cwmvdcni with config:\n",
      "wandb: \tactivation: relu\n",
      "wandb: \tbatch_size: 128\n",
      "wandb: \tepochs: 5\n",
      "wandb: \thidden_size: 32\n",
      "wandb: \tlearning_rate: 0.01\n",
      "wandb: \tloss: cross_entropy\n",
      "wandb: \tnum_layers: 4\n",
      "wandb: \toptimizer: nag\n",
      "wandb: \tweight_decay: 0.001\n",
      "wandb: \tweight_init: random\n"
     ]
    },
    {
     "data": {
      "text/html": [
       "Tracking run with wandb version 0.19.8"
      ],
      "text/plain": [
       "<IPython.core.display.HTML object>"
      ]
     },
     "metadata": {},
     "output_type": "display_data"
    },
    {
     "data": {
      "text/html": [
       "Run data is saved locally in <code>C:\\Users\\lenovo\\fashion_mnist-backpropagation\\wandb\\run-20250317_065935-cwmvdcni</code>"
      ],
      "text/plain": [
       "<IPython.core.display.HTML object>"
      ]
     },
     "metadata": {},
     "output_type": "display_data"
    },
    {
     "data": {
      "text/html": [
       "Syncing run <strong><a href='https://wandb.ai/ma23c014-indian-institute-of-technology-madras/fashion-mnist-dataset/runs/cwmvdcni' target=\"_blank\">swept-sweep-12</a></strong> to <a href='https://wandb.ai/ma23c014-indian-institute-of-technology-madras/fashion-mnist-dataset' target=\"_blank\">Weights & Biases</a> (<a href='https://wandb.me/developer-guide' target=\"_blank\">docs</a>)<br>Sweep page: <a href='https://wandb.ai/ma23c014-indian-institute-of-technology-madras/fashion-mnist-dataset/sweeps/f4yt29uq' target=\"_blank\">https://wandb.ai/ma23c014-indian-institute-of-technology-madras/fashion-mnist-dataset/sweeps/f4yt29uq</a>"
      ],
      "text/plain": [
       "<IPython.core.display.HTML object>"
      ]
     },
     "metadata": {},
     "output_type": "display_data"
    },
    {
     "data": {
      "text/html": [
       " View project at <a href='https://wandb.ai/ma23c014-indian-institute-of-technology-madras/fashion-mnist-dataset' target=\"_blank\">https://wandb.ai/ma23c014-indian-institute-of-technology-madras/fashion-mnist-dataset</a>"
      ],
      "text/plain": [
       "<IPython.core.display.HTML object>"
      ]
     },
     "metadata": {},
     "output_type": "display_data"
    },
    {
     "data": {
      "text/html": [
       " View sweep at <a href='https://wandb.ai/ma23c014-indian-institute-of-technology-madras/fashion-mnist-dataset/sweeps/f4yt29uq' target=\"_blank\">https://wandb.ai/ma23c014-indian-institute-of-technology-madras/fashion-mnist-dataset/sweeps/f4yt29uq</a>"
      ],
      "text/plain": [
       "<IPython.core.display.HTML object>"
      ]
     },
     "metadata": {},
     "output_type": "display_data"
    },
    {
     "data": {
      "text/html": [
       " View run at <a href='https://wandb.ai/ma23c014-indian-institute-of-technology-madras/fashion-mnist-dataset/runs/cwmvdcni' target=\"_blank\">https://wandb.ai/ma23c014-indian-institute-of-technology-madras/fashion-mnist-dataset/runs/cwmvdcni</a>"
      ],
      "text/plain": [
       "<IPython.core.display.HTML object>"
      ]
     },
     "metadata": {},
     "output_type": "display_data"
    },
    {
     "data": {
      "text/html": [],
      "text/plain": [
       "<IPython.core.display.HTML object>"
      ]
     },
     "metadata": {},
     "output_type": "display_data"
    },
    {
     "data": {
      "text/html": [
       "<br>    <style><br>        .wandb-row {<br>            display: flex;<br>            flex-direction: row;<br>            flex-wrap: wrap;<br>            justify-content: flex-start;<br>            width: 100%;<br>        }<br>        .wandb-col {<br>            display: flex;<br>            flex-direction: column;<br>            flex-basis: 100%;<br>            flex: 1;<br>            padding: 10px;<br>        }<br>    </style><br><div class=\"wandb-row\"><div class=\"wandb-col\"><h3>Run history:</h3><br/><table class=\"wandb\"><tr><td>epoch</td><td>▁▃▅▆█</td></tr><tr><td>train_accuracy</td><td>▁▅▆▇█</td></tr><tr><td>train_loss</td><td>█▄▃▁▁</td></tr><tr><td>val_accuracy</td><td>▁▄▆██</td></tr><tr><td>val_loss</td><td>█▄▃▁▁</td></tr></table><br/></div><div class=\"wandb-col\"><h3>Run summary:</h3><br/><table class=\"wandb\"><tr><td>epoch</td><td>5</td></tr><tr><td>train_accuracy</td><td>0.85533</td></tr><tr><td>train_loss</td><td>0.399</td></tr><tr><td>val_accuracy</td><td>0.851</td></tr><tr><td>val_loss</td><td>0.418</td></tr></table><br/></div></div>"
      ],
      "text/plain": [
       "<IPython.core.display.HTML object>"
      ]
     },
     "metadata": {},
     "output_type": "display_data"
    },
    {
     "data": {
      "text/html": [
       " View run <strong style=\"color:#cdcd00\">_hl_4_hn_32_opt_nag_act_relu_lr_0.01_bs_128_init_random_ep_5_l2_0.001</strong> at: <a href='https://wandb.ai/ma23c014-indian-institute-of-technology-madras/fashion-mnist-dataset/runs/cwmvdcni' target=\"_blank\">https://wandb.ai/ma23c014-indian-institute-of-technology-madras/fashion-mnist-dataset/runs/cwmvdcni</a><br> View project at: <a href='https://wandb.ai/ma23c014-indian-institute-of-technology-madras/fashion-mnist-dataset' target=\"_blank\">https://wandb.ai/ma23c014-indian-institute-of-technology-madras/fashion-mnist-dataset</a><br>Synced 5 W&B file(s), 0 media file(s), 0 artifact file(s) and 0 other file(s)"
      ],
      "text/plain": [
       "<IPython.core.display.HTML object>"
      ]
     },
     "metadata": {},
     "output_type": "display_data"
    },
    {
     "data": {
      "text/html": [
       "Find logs at: <code>.\\wandb\\run-20250317_065935-cwmvdcni\\logs</code>"
      ],
      "text/plain": [
       "<IPython.core.display.HTML object>"
      ]
     },
     "metadata": {},
     "output_type": "display_data"
    },
    {
     "name": "stderr",
     "output_type": "stream",
     "text": [
      "wandb: Agent Starting Run: 66gkx7fd with config:\n",
      "wandb: \tactivation: relu\n",
      "wandb: \tbatch_size: 128\n",
      "wandb: \tepochs: 20\n",
      "wandb: \thidden_size: 32\n",
      "wandb: \tlearning_rate: 0.01\n",
      "wandb: \tloss: cross_entropy\n",
      "wandb: \tnum_layers: 3\n",
      "wandb: \toptimizer: rmsprop\n",
      "wandb: \tweight_decay: 0.001\n",
      "wandb: \tweight_init: random\n"
     ]
    },
    {
     "data": {
      "text/html": [
       "Tracking run with wandb version 0.19.8"
      ],
      "text/plain": [
       "<IPython.core.display.HTML object>"
      ]
     },
     "metadata": {},
     "output_type": "display_data"
    },
    {
     "data": {
      "text/html": [
       "Run data is saved locally in <code>C:\\Users\\lenovo\\fashion_mnist-backpropagation\\wandb\\run-20250317_065951-66gkx7fd</code>"
      ],
      "text/plain": [
       "<IPython.core.display.HTML object>"
      ]
     },
     "metadata": {},
     "output_type": "display_data"
    },
    {
     "data": {
      "text/html": [
       "Syncing run <strong><a href='https://wandb.ai/ma23c014-indian-institute-of-technology-madras/fashion-mnist-dataset/runs/66gkx7fd' target=\"_blank\">polar-sweep-13</a></strong> to <a href='https://wandb.ai/ma23c014-indian-institute-of-technology-madras/fashion-mnist-dataset' target=\"_blank\">Weights & Biases</a> (<a href='https://wandb.me/developer-guide' target=\"_blank\">docs</a>)<br>Sweep page: <a href='https://wandb.ai/ma23c014-indian-institute-of-technology-madras/fashion-mnist-dataset/sweeps/f4yt29uq' target=\"_blank\">https://wandb.ai/ma23c014-indian-institute-of-technology-madras/fashion-mnist-dataset/sweeps/f4yt29uq</a>"
      ],
      "text/plain": [
       "<IPython.core.display.HTML object>"
      ]
     },
     "metadata": {},
     "output_type": "display_data"
    },
    {
     "data": {
      "text/html": [
       " View project at <a href='https://wandb.ai/ma23c014-indian-institute-of-technology-madras/fashion-mnist-dataset' target=\"_blank\">https://wandb.ai/ma23c014-indian-institute-of-technology-madras/fashion-mnist-dataset</a>"
      ],
      "text/plain": [
       "<IPython.core.display.HTML object>"
      ]
     },
     "metadata": {},
     "output_type": "display_data"
    },
    {
     "data": {
      "text/html": [
       " View sweep at <a href='https://wandb.ai/ma23c014-indian-institute-of-technology-madras/fashion-mnist-dataset/sweeps/f4yt29uq' target=\"_blank\">https://wandb.ai/ma23c014-indian-institute-of-technology-madras/fashion-mnist-dataset/sweeps/f4yt29uq</a>"
      ],
      "text/plain": [
       "<IPython.core.display.HTML object>"
      ]
     },
     "metadata": {},
     "output_type": "display_data"
    },
    {
     "data": {
      "text/html": [
       " View run at <a href='https://wandb.ai/ma23c014-indian-institute-of-technology-madras/fashion-mnist-dataset/runs/66gkx7fd' target=\"_blank\">https://wandb.ai/ma23c014-indian-institute-of-technology-madras/fashion-mnist-dataset/runs/66gkx7fd</a>"
      ],
      "text/plain": [
       "<IPython.core.display.HTML object>"
      ]
     },
     "metadata": {},
     "output_type": "display_data"
    },
    {
     "data": {
      "text/html": [],
      "text/plain": [
       "<IPython.core.display.HTML object>"
      ]
     },
     "metadata": {},
     "output_type": "display_data"
    },
    {
     "data": {
      "text/html": [
       "<br>    <style><br>        .wandb-row {<br>            display: flex;<br>            flex-direction: row;<br>            flex-wrap: wrap;<br>            justify-content: flex-start;<br>            width: 100%;<br>        }<br>        .wandb-col {<br>            display: flex;<br>            flex-direction: column;<br>            flex-basis: 100%;<br>            flex: 1;<br>            padding: 10px;<br>        }<br>    </style><br><div class=\"wandb-row\"><div class=\"wandb-col\"><h3>Run history:</h3><br/><table class=\"wandb\"><tr><td>epoch</td><td>▁▁▂▂▂▃▃▄▄▄▅▅▅▆▆▇▇▇██</td></tr><tr><td>train_accuracy</td><td>▁▃▅▅▇▆▆▆▅▇▅▇█▁▆█▇▇█▆</td></tr><tr><td>train_loss</td><td>█▆▄▄▂▃▃▃▃▃▄▃▁▅▃▁▂▂▂▂</td></tr><tr><td>val_accuracy</td><td>▂▄▅▅▇▆▆▅▄▇▄▇█▁▅█▇▇▇▇</td></tr><tr><td>val_loss</td><td>█▆▄▅▂▃▃▃▄▃▅▃▁▆▄▁▂▂▂▂</td></tr></table><br/></div><div class=\"wandb-col\"><h3>Run summary:</h3><br/><table class=\"wandb\"><tr><td>epoch</td><td>20</td></tr><tr><td>train_accuracy</td><td>0.83369</td></tr><tr><td>train_loss</td><td>0.44432</td></tr><tr><td>val_accuracy</td><td>0.8355</td></tr><tr><td>val_loss</td><td>0.45091</td></tr></table><br/></div></div>"
      ],
      "text/plain": [
       "<IPython.core.display.HTML object>"
      ]
     },
     "metadata": {},
     "output_type": "display_data"
    },
    {
     "data": {
      "text/html": [
       " View run <strong style=\"color:#cdcd00\">_hl_3_hn_32_opt_rmsprop_act_relu_lr_0.01_bs_128_init_random_ep_20_l2_0.001</strong> at: <a href='https://wandb.ai/ma23c014-indian-institute-of-technology-madras/fashion-mnist-dataset/runs/66gkx7fd' target=\"_blank\">https://wandb.ai/ma23c014-indian-institute-of-technology-madras/fashion-mnist-dataset/runs/66gkx7fd</a><br> View project at: <a href='https://wandb.ai/ma23c014-indian-institute-of-technology-madras/fashion-mnist-dataset' target=\"_blank\">https://wandb.ai/ma23c014-indian-institute-of-technology-madras/fashion-mnist-dataset</a><br>Synced 5 W&B file(s), 0 media file(s), 0 artifact file(s) and 0 other file(s)"
      ],
      "text/plain": [
       "<IPython.core.display.HTML object>"
      ]
     },
     "metadata": {},
     "output_type": "display_data"
    },
    {
     "data": {
      "text/html": [
       "Find logs at: <code>.\\wandb\\run-20250317_065951-66gkx7fd\\logs</code>"
      ],
      "text/plain": [
       "<IPython.core.display.HTML object>"
      ]
     },
     "metadata": {},
     "output_type": "display_data"
    },
    {
     "name": "stderr",
     "output_type": "stream",
     "text": [
      "wandb: Agent Starting Run: 5qb9uai3 with config:\n",
      "wandb: \tactivation: relu\n",
      "wandb: \tbatch_size: 128\n",
      "wandb: \tepochs: 10\n",
      "wandb: \thidden_size: 32\n",
      "wandb: \tlearning_rate: 0.001\n",
      "wandb: \tloss: cross_entropy\n",
      "wandb: \tnum_layers: 4\n",
      "wandb: \toptimizer: adam\n",
      "wandb: \tweight_decay: 0.001\n",
      "wandb: \tweight_init: random\n"
     ]
    },
    {
     "data": {
      "text/html": [
       "Tracking run with wandb version 0.19.8"
      ],
      "text/plain": [
       "<IPython.core.display.HTML object>"
      ]
     },
     "metadata": {},
     "output_type": "display_data"
    },
    {
     "data": {
      "text/html": [
       "Run data is saved locally in <code>C:\\Users\\lenovo\\fashion_mnist-backpropagation\\wandb\\run-20250317_070044-5qb9uai3</code>"
      ],
      "text/plain": [
       "<IPython.core.display.HTML object>"
      ]
     },
     "metadata": {},
     "output_type": "display_data"
    },
    {
     "data": {
      "text/html": [
       "Syncing run <strong><a href='https://wandb.ai/ma23c014-indian-institute-of-technology-madras/fashion-mnist-dataset/runs/5qb9uai3' target=\"_blank\">daily-sweep-14</a></strong> to <a href='https://wandb.ai/ma23c014-indian-institute-of-technology-madras/fashion-mnist-dataset' target=\"_blank\">Weights & Biases</a> (<a href='https://wandb.me/developer-guide' target=\"_blank\">docs</a>)<br>Sweep page: <a href='https://wandb.ai/ma23c014-indian-institute-of-technology-madras/fashion-mnist-dataset/sweeps/f4yt29uq' target=\"_blank\">https://wandb.ai/ma23c014-indian-institute-of-technology-madras/fashion-mnist-dataset/sweeps/f4yt29uq</a>"
      ],
      "text/plain": [
       "<IPython.core.display.HTML object>"
      ]
     },
     "metadata": {},
     "output_type": "display_data"
    },
    {
     "data": {
      "text/html": [
       " View project at <a href='https://wandb.ai/ma23c014-indian-institute-of-technology-madras/fashion-mnist-dataset' target=\"_blank\">https://wandb.ai/ma23c014-indian-institute-of-technology-madras/fashion-mnist-dataset</a>"
      ],
      "text/plain": [
       "<IPython.core.display.HTML object>"
      ]
     },
     "metadata": {},
     "output_type": "display_data"
    },
    {
     "data": {
      "text/html": [
       " View sweep at <a href='https://wandb.ai/ma23c014-indian-institute-of-technology-madras/fashion-mnist-dataset/sweeps/f4yt29uq' target=\"_blank\">https://wandb.ai/ma23c014-indian-institute-of-technology-madras/fashion-mnist-dataset/sweeps/f4yt29uq</a>"
      ],
      "text/plain": [
       "<IPython.core.display.HTML object>"
      ]
     },
     "metadata": {},
     "output_type": "display_data"
    },
    {
     "data": {
      "text/html": [
       " View run at <a href='https://wandb.ai/ma23c014-indian-institute-of-technology-madras/fashion-mnist-dataset/runs/5qb9uai3' target=\"_blank\">https://wandb.ai/ma23c014-indian-institute-of-technology-madras/fashion-mnist-dataset/runs/5qb9uai3</a>"
      ],
      "text/plain": [
       "<IPython.core.display.HTML object>"
      ]
     },
     "metadata": {},
     "output_type": "display_data"
    },
    {
     "data": {
      "text/html": [],
      "text/plain": [
       "<IPython.core.display.HTML object>"
      ]
     },
     "metadata": {},
     "output_type": "display_data"
    },
    {
     "data": {
      "text/html": [
       "<br>    <style><br>        .wandb-row {<br>            display: flex;<br>            flex-direction: row;<br>            flex-wrap: wrap;<br>            justify-content: flex-start;<br>            width: 100%;<br>        }<br>        .wandb-col {<br>            display: flex;<br>            flex-direction: column;<br>            flex-basis: 100%;<br>            flex: 1;<br>            padding: 10px;<br>        }<br>    </style><br><div class=\"wandb-row\"><div class=\"wandb-col\"><h3>Run history:</h3><br/><table class=\"wandb\"><tr><td>epoch</td><td>▁▂▃▃▄▅▆▆▇█</td></tr><tr><td>train_accuracy</td><td>▁▅▅▆▆▇████</td></tr><tr><td>train_loss</td><td>█▅▄▃▃▂▂▁▁▁</td></tr><tr><td>val_accuracy</td><td>▁▅▆▆▆▇████</td></tr><tr><td>val_loss</td><td>█▄▃▃▂▂▁▁▁▁</td></tr></table><br/></div><div class=\"wandb-col\"><h3>Run summary:</h3><br/><table class=\"wandb\"><tr><td>epoch</td><td>10</td></tr><tr><td>train_accuracy</td><td>0.87513</td></tr><tr><td>train_loss</td><td>0.33911</td></tr><tr><td>val_accuracy</td><td>0.86483</td></tr><tr><td>val_loss</td><td>0.37264</td></tr></table><br/></div></div>"
      ],
      "text/plain": [
       "<IPython.core.display.HTML object>"
      ]
     },
     "metadata": {},
     "output_type": "display_data"
    },
    {
     "data": {
      "text/html": [
       " View run <strong style=\"color:#cdcd00\">_hl_4_hn_32_opt_adam_act_relu_lr_0.001_bs_128_init_random_ep_10_l2_0.001</strong> at: <a href='https://wandb.ai/ma23c014-indian-institute-of-technology-madras/fashion-mnist-dataset/runs/5qb9uai3' target=\"_blank\">https://wandb.ai/ma23c014-indian-institute-of-technology-madras/fashion-mnist-dataset/runs/5qb9uai3</a><br> View project at: <a href='https://wandb.ai/ma23c014-indian-institute-of-technology-madras/fashion-mnist-dataset' target=\"_blank\">https://wandb.ai/ma23c014-indian-institute-of-technology-madras/fashion-mnist-dataset</a><br>Synced 5 W&B file(s), 0 media file(s), 0 artifact file(s) and 0 other file(s)"
      ],
      "text/plain": [
       "<IPython.core.display.HTML object>"
      ]
     },
     "metadata": {},
     "output_type": "display_data"
    },
    {
     "data": {
      "text/html": [
       "Find logs at: <code>.\\wandb\\run-20250317_070044-5qb9uai3\\logs</code>"
      ],
      "text/plain": [
       "<IPython.core.display.HTML object>"
      ]
     },
     "metadata": {},
     "output_type": "display_data"
    },
    {
     "name": "stderr",
     "output_type": "stream",
     "text": [
      "wandb: Agent Starting Run: 8c8ztaes with config:\n",
      "wandb: \tactivation: relu\n",
      "wandb: \tbatch_size: 128\n",
      "wandb: \tepochs: 10\n",
      "wandb: \thidden_size: 32\n",
      "wandb: \tlearning_rate: 0.01\n",
      "wandb: \tloss: cross_entropy\n",
      "wandb: \tnum_layers: 4\n",
      "wandb: \toptimizer: nag\n",
      "wandb: \tweight_decay: 0.001\n",
      "wandb: \tweight_init: random\n"
     ]
    },
    {
     "data": {
      "text/html": [
       "Tracking run with wandb version 0.19.8"
      ],
      "text/plain": [
       "<IPython.core.display.HTML object>"
      ]
     },
     "metadata": {},
     "output_type": "display_data"
    },
    {
     "data": {
      "text/html": [
       "Run data is saved locally in <code>C:\\Users\\lenovo\\fashion_mnist-backpropagation\\wandb\\run-20250317_070112-8c8ztaes</code>"
      ],
      "text/plain": [
       "<IPython.core.display.HTML object>"
      ]
     },
     "metadata": {},
     "output_type": "display_data"
    },
    {
     "data": {
      "text/html": [
       "Syncing run <strong><a href='https://wandb.ai/ma23c014-indian-institute-of-technology-madras/fashion-mnist-dataset/runs/8c8ztaes' target=\"_blank\">devout-sweep-15</a></strong> to <a href='https://wandb.ai/ma23c014-indian-institute-of-technology-madras/fashion-mnist-dataset' target=\"_blank\">Weights & Biases</a> (<a href='https://wandb.me/developer-guide' target=\"_blank\">docs</a>)<br>Sweep page: <a href='https://wandb.ai/ma23c014-indian-institute-of-technology-madras/fashion-mnist-dataset/sweeps/f4yt29uq' target=\"_blank\">https://wandb.ai/ma23c014-indian-institute-of-technology-madras/fashion-mnist-dataset/sweeps/f4yt29uq</a>"
      ],
      "text/plain": [
       "<IPython.core.display.HTML object>"
      ]
     },
     "metadata": {},
     "output_type": "display_data"
    },
    {
     "data": {
      "text/html": [
       " View project at <a href='https://wandb.ai/ma23c014-indian-institute-of-technology-madras/fashion-mnist-dataset' target=\"_blank\">https://wandb.ai/ma23c014-indian-institute-of-technology-madras/fashion-mnist-dataset</a>"
      ],
      "text/plain": [
       "<IPython.core.display.HTML object>"
      ]
     },
     "metadata": {},
     "output_type": "display_data"
    },
    {
     "data": {
      "text/html": [
       " View sweep at <a href='https://wandb.ai/ma23c014-indian-institute-of-technology-madras/fashion-mnist-dataset/sweeps/f4yt29uq' target=\"_blank\">https://wandb.ai/ma23c014-indian-institute-of-technology-madras/fashion-mnist-dataset/sweeps/f4yt29uq</a>"
      ],
      "text/plain": [
       "<IPython.core.display.HTML object>"
      ]
     },
     "metadata": {},
     "output_type": "display_data"
    },
    {
     "data": {
      "text/html": [
       " View run at <a href='https://wandb.ai/ma23c014-indian-institute-of-technology-madras/fashion-mnist-dataset/runs/8c8ztaes' target=\"_blank\">https://wandb.ai/ma23c014-indian-institute-of-technology-madras/fashion-mnist-dataset/runs/8c8ztaes</a>"
      ],
      "text/plain": [
       "<IPython.core.display.HTML object>"
      ]
     },
     "metadata": {},
     "output_type": "display_data"
    },
    {
     "data": {
      "text/html": [],
      "text/plain": [
       "<IPython.core.display.HTML object>"
      ]
     },
     "metadata": {},
     "output_type": "display_data"
    },
    {
     "data": {
      "text/html": [
       "<br>    <style><br>        .wandb-row {<br>            display: flex;<br>            flex-direction: row;<br>            flex-wrap: wrap;<br>            justify-content: flex-start;<br>            width: 100%;<br>        }<br>        .wandb-col {<br>            display: flex;<br>            flex-direction: column;<br>            flex-basis: 100%;<br>            flex: 1;<br>            padding: 10px;<br>        }<br>    </style><br><div class=\"wandb-row\"><div class=\"wandb-col\"><h3>Run history:</h3><br/><table class=\"wandb\"><tr><td>epoch</td><td>▁▂▃▃▄▅▆▆▇█</td></tr><tr><td>train_accuracy</td><td>▁▅▅▆▆▇████</td></tr><tr><td>train_loss</td><td>█▄▄▃▃▂▂▁▁▁</td></tr><tr><td>val_accuracy</td><td>▁▅▆▇▇▇████</td></tr><tr><td>val_loss</td><td>█▄▃▃▂▂▁▁▁▁</td></tr></table><br/></div><div class=\"wandb-col\"><h3>Run summary:</h3><br/><table class=\"wandb\"><tr><td>epoch</td><td>10</td></tr><tr><td>train_accuracy</td><td>0.87531</td></tr><tr><td>train_loss</td><td>0.34194</td></tr><tr><td>val_accuracy</td><td>0.86633</td></tr><tr><td>val_loss</td><td>0.37329</td></tr></table><br/></div></div>"
      ],
      "text/plain": [
       "<IPython.core.display.HTML object>"
      ]
     },
     "metadata": {},
     "output_type": "display_data"
    },
    {
     "data": {
      "text/html": [
       " View run <strong style=\"color:#cdcd00\">_hl_4_hn_32_opt_nag_act_relu_lr_0.01_bs_128_init_random_ep_10_l2_0.001</strong> at: <a href='https://wandb.ai/ma23c014-indian-institute-of-technology-madras/fashion-mnist-dataset/runs/8c8ztaes' target=\"_blank\">https://wandb.ai/ma23c014-indian-institute-of-technology-madras/fashion-mnist-dataset/runs/8c8ztaes</a><br> View project at: <a href='https://wandb.ai/ma23c014-indian-institute-of-technology-madras/fashion-mnist-dataset' target=\"_blank\">https://wandb.ai/ma23c014-indian-institute-of-technology-madras/fashion-mnist-dataset</a><br>Synced 5 W&B file(s), 0 media file(s), 0 artifact file(s) and 0 other file(s)"
      ],
      "text/plain": [
       "<IPython.core.display.HTML object>"
      ]
     },
     "metadata": {},
     "output_type": "display_data"
    },
    {
     "data": {
      "text/html": [
       "Find logs at: <code>.\\wandb\\run-20250317_070112-8c8ztaes\\logs</code>"
      ],
      "text/plain": [
       "<IPython.core.display.HTML object>"
      ]
     },
     "metadata": {},
     "output_type": "display_data"
    },
    {
     "name": "stderr",
     "output_type": "stream",
     "text": [
      "wandb: Agent Starting Run: isisfoq8 with config:\n",
      "wandb: \tactivation: relu\n",
      "wandb: \tbatch_size: 64\n",
      "wandb: \tepochs: 5\n",
      "wandb: \thidden_size: 32\n",
      "wandb: \tlearning_rate: 0.01\n",
      "wandb: \tloss: cross_entropy\n",
      "wandb: \tnum_layers: 2\n",
      "wandb: \toptimizer: rmsprop\n",
      "wandb: \tweight_decay: 0.001\n",
      "wandb: \tweight_init: random\n"
     ]
    },
    {
     "data": {
      "text/html": [
       "Tracking run with wandb version 0.19.8"
      ],
      "text/plain": [
       "<IPython.core.display.HTML object>"
      ]
     },
     "metadata": {},
     "output_type": "display_data"
    },
    {
     "data": {
      "text/html": [
       "Run data is saved locally in <code>C:\\Users\\lenovo\\fashion_mnist-backpropagation\\wandb\\run-20250317_070140-isisfoq8</code>"
      ],
      "text/plain": [
       "<IPython.core.display.HTML object>"
      ]
     },
     "metadata": {},
     "output_type": "display_data"
    },
    {
     "data": {
      "text/html": [
       "Syncing run <strong><a href='https://wandb.ai/ma23c014-indian-institute-of-technology-madras/fashion-mnist-dataset/runs/isisfoq8' target=\"_blank\">sage-sweep-16</a></strong> to <a href='https://wandb.ai/ma23c014-indian-institute-of-technology-madras/fashion-mnist-dataset' target=\"_blank\">Weights & Biases</a> (<a href='https://wandb.me/developer-guide' target=\"_blank\">docs</a>)<br>Sweep page: <a href='https://wandb.ai/ma23c014-indian-institute-of-technology-madras/fashion-mnist-dataset/sweeps/f4yt29uq' target=\"_blank\">https://wandb.ai/ma23c014-indian-institute-of-technology-madras/fashion-mnist-dataset/sweeps/f4yt29uq</a>"
      ],
      "text/plain": [
       "<IPython.core.display.HTML object>"
      ]
     },
     "metadata": {},
     "output_type": "display_data"
    },
    {
     "data": {
      "text/html": [
       " View project at <a href='https://wandb.ai/ma23c014-indian-institute-of-technology-madras/fashion-mnist-dataset' target=\"_blank\">https://wandb.ai/ma23c014-indian-institute-of-technology-madras/fashion-mnist-dataset</a>"
      ],
      "text/plain": [
       "<IPython.core.display.HTML object>"
      ]
     },
     "metadata": {},
     "output_type": "display_data"
    },
    {
     "data": {
      "text/html": [
       " View sweep at <a href='https://wandb.ai/ma23c014-indian-institute-of-technology-madras/fashion-mnist-dataset/sweeps/f4yt29uq' target=\"_blank\">https://wandb.ai/ma23c014-indian-institute-of-technology-madras/fashion-mnist-dataset/sweeps/f4yt29uq</a>"
      ],
      "text/plain": [
       "<IPython.core.display.HTML object>"
      ]
     },
     "metadata": {},
     "output_type": "display_data"
    },
    {
     "data": {
      "text/html": [
       " View run at <a href='https://wandb.ai/ma23c014-indian-institute-of-technology-madras/fashion-mnist-dataset/runs/isisfoq8' target=\"_blank\">https://wandb.ai/ma23c014-indian-institute-of-technology-madras/fashion-mnist-dataset/runs/isisfoq8</a>"
      ],
      "text/plain": [
       "<IPython.core.display.HTML object>"
      ]
     },
     "metadata": {},
     "output_type": "display_data"
    },
    {
     "data": {
      "text/html": [],
      "text/plain": [
       "<IPython.core.display.HTML object>"
      ]
     },
     "metadata": {},
     "output_type": "display_data"
    },
    {
     "data": {
      "text/html": [
       "<br>    <style><br>        .wandb-row {<br>            display: flex;<br>            flex-direction: row;<br>            flex-wrap: wrap;<br>            justify-content: flex-start;<br>            width: 100%;<br>        }<br>        .wandb-col {<br>            display: flex;<br>            flex-direction: column;<br>            flex-basis: 100%;<br>            flex: 1;<br>            padding: 10px;<br>        }<br>    </style><br><div class=\"wandb-row\"><div class=\"wandb-col\"><h3>Run history:</h3><br/><table class=\"wandb\"><tr><td>epoch</td><td>▁▃▅▆█</td></tr><tr><td>train_accuracy</td><td>▆▄▁▁█</td></tr><tr><td>train_loss</td><td>▄▄█▅▁</td></tr><tr><td>val_accuracy</td><td>█▇▁▃█</td></tr><tr><td>val_loss</td><td>▃▂█▄▁</td></tr></table><br/></div><div class=\"wandb-col\"><h3>Run summary:</h3><br/><table class=\"wandb\"><tr><td>epoch</td><td>5</td></tr><tr><td>train_accuracy</td><td>0.79896</td></tr><tr><td>train_loss</td><td>0.53926</td></tr><tr><td>val_accuracy</td><td>0.79567</td></tr><tr><td>val_loss</td><td>0.54997</td></tr></table><br/></div></div>"
      ],
      "text/plain": [
       "<IPython.core.display.HTML object>"
      ]
     },
     "metadata": {},
     "output_type": "display_data"
    },
    {
     "data": {
      "text/html": [
       " View run <strong style=\"color:#cdcd00\">_hl_2_hn_32_opt_rmsprop_act_relu_lr_0.01_bs_64_init_random_ep_5_l2_0.001</strong> at: <a href='https://wandb.ai/ma23c014-indian-institute-of-technology-madras/fashion-mnist-dataset/runs/isisfoq8' target=\"_blank\">https://wandb.ai/ma23c014-indian-institute-of-technology-madras/fashion-mnist-dataset/runs/isisfoq8</a><br> View project at: <a href='https://wandb.ai/ma23c014-indian-institute-of-technology-madras/fashion-mnist-dataset' target=\"_blank\">https://wandb.ai/ma23c014-indian-institute-of-technology-madras/fashion-mnist-dataset</a><br>Synced 5 W&B file(s), 0 media file(s), 0 artifact file(s) and 0 other file(s)"
      ],
      "text/plain": [
       "<IPython.core.display.HTML object>"
      ]
     },
     "metadata": {},
     "output_type": "display_data"
    },
    {
     "data": {
      "text/html": [
       "Find logs at: <code>.\\wandb\\run-20250317_070140-isisfoq8\\logs</code>"
      ],
      "text/plain": [
       "<IPython.core.display.HTML object>"
      ]
     },
     "metadata": {},
     "output_type": "display_data"
    },
    {
     "name": "stderr",
     "output_type": "stream",
     "text": [
      "wandb: Agent Starting Run: kuehhk3w with config:\n",
      "wandb: \tactivation: relu\n",
      "wandb: \tbatch_size: 128\n",
      "wandb: \tepochs: 5\n",
      "wandb: \thidden_size: 32\n",
      "wandb: \tlearning_rate: 0.01\n",
      "wandb: \tloss: cross_entropy\n",
      "wandb: \tnum_layers: 4\n",
      "wandb: \toptimizer: nag\n",
      "wandb: \tweight_decay: 0.001\n",
      "wandb: \tweight_init: random\n"
     ]
    },
    {
     "data": {
      "text/html": [
       "Tracking run with wandb version 0.19.8"
      ],
      "text/plain": [
       "<IPython.core.display.HTML object>"
      ]
     },
     "metadata": {},
     "output_type": "display_data"
    },
    {
     "data": {
      "text/html": [
       "Run data is saved locally in <code>C:\\Users\\lenovo\\fashion_mnist-backpropagation\\wandb\\run-20250317_070201-kuehhk3w</code>"
      ],
      "text/plain": [
       "<IPython.core.display.HTML object>"
      ]
     },
     "metadata": {},
     "output_type": "display_data"
    },
    {
     "data": {
      "text/html": [
       "Syncing run <strong><a href='https://wandb.ai/ma23c014-indian-institute-of-technology-madras/fashion-mnist-dataset/runs/kuehhk3w' target=\"_blank\">glowing-sweep-17</a></strong> to <a href='https://wandb.ai/ma23c014-indian-institute-of-technology-madras/fashion-mnist-dataset' target=\"_blank\">Weights & Biases</a> (<a href='https://wandb.me/developer-guide' target=\"_blank\">docs</a>)<br>Sweep page: <a href='https://wandb.ai/ma23c014-indian-institute-of-technology-madras/fashion-mnist-dataset/sweeps/f4yt29uq' target=\"_blank\">https://wandb.ai/ma23c014-indian-institute-of-technology-madras/fashion-mnist-dataset/sweeps/f4yt29uq</a>"
      ],
      "text/plain": [
       "<IPython.core.display.HTML object>"
      ]
     },
     "metadata": {},
     "output_type": "display_data"
    },
    {
     "data": {
      "text/html": [
       " View project at <a href='https://wandb.ai/ma23c014-indian-institute-of-technology-madras/fashion-mnist-dataset' target=\"_blank\">https://wandb.ai/ma23c014-indian-institute-of-technology-madras/fashion-mnist-dataset</a>"
      ],
      "text/plain": [
       "<IPython.core.display.HTML object>"
      ]
     },
     "metadata": {},
     "output_type": "display_data"
    },
    {
     "data": {
      "text/html": [
       " View sweep at <a href='https://wandb.ai/ma23c014-indian-institute-of-technology-madras/fashion-mnist-dataset/sweeps/f4yt29uq' target=\"_blank\">https://wandb.ai/ma23c014-indian-institute-of-technology-madras/fashion-mnist-dataset/sweeps/f4yt29uq</a>"
      ],
      "text/plain": [
       "<IPython.core.display.HTML object>"
      ]
     },
     "metadata": {},
     "output_type": "display_data"
    },
    {
     "data": {
      "text/html": [
       " View run at <a href='https://wandb.ai/ma23c014-indian-institute-of-technology-madras/fashion-mnist-dataset/runs/kuehhk3w' target=\"_blank\">https://wandb.ai/ma23c014-indian-institute-of-technology-madras/fashion-mnist-dataset/runs/kuehhk3w</a>"
      ],
      "text/plain": [
       "<IPython.core.display.HTML object>"
      ]
     },
     "metadata": {},
     "output_type": "display_data"
    },
    {
     "data": {
      "text/html": [],
      "text/plain": [
       "<IPython.core.display.HTML object>"
      ]
     },
     "metadata": {},
     "output_type": "display_data"
    },
    {
     "data": {
      "text/html": [
       "<br>    <style><br>        .wandb-row {<br>            display: flex;<br>            flex-direction: row;<br>            flex-wrap: wrap;<br>            justify-content: flex-start;<br>            width: 100%;<br>        }<br>        .wandb-col {<br>            display: flex;<br>            flex-direction: column;<br>            flex-basis: 100%;<br>            flex: 1;<br>            padding: 10px;<br>        }<br>    </style><br><div class=\"wandb-row\"><div class=\"wandb-col\"><h3>Run history:</h3><br/><table class=\"wandb\"><tr><td>epoch</td><td>▁▃▅▆█</td></tr><tr><td>train_accuracy</td><td>▁▆▇██</td></tr><tr><td>train_loss</td><td>█▃▂▁▁</td></tr><tr><td>val_accuracy</td><td>▁▆▇██</td></tr><tr><td>val_loss</td><td>█▃▂▁▁</td></tr></table><br/></div><div class=\"wandb-col\"><h3>Run summary:</h3><br/><table class=\"wandb\"><tr><td>epoch</td><td>5</td></tr><tr><td>train_accuracy</td><td>0.85957</td></tr><tr><td>train_loss</td><td>0.38805</td></tr><tr><td>val_accuracy</td><td>0.8555</td></tr><tr><td>val_loss</td><td>0.40146</td></tr></table><br/></div></div>"
      ],
      "text/plain": [
       "<IPython.core.display.HTML object>"
      ]
     },
     "metadata": {},
     "output_type": "display_data"
    },
    {
     "data": {
      "text/html": [
       " View run <strong style=\"color:#cdcd00\">_hl_4_hn_32_opt_nag_act_relu_lr_0.01_bs_128_init_random_ep_5_l2_0.001</strong> at: <a href='https://wandb.ai/ma23c014-indian-institute-of-technology-madras/fashion-mnist-dataset/runs/kuehhk3w' target=\"_blank\">https://wandb.ai/ma23c014-indian-institute-of-technology-madras/fashion-mnist-dataset/runs/kuehhk3w</a><br> View project at: <a href='https://wandb.ai/ma23c014-indian-institute-of-technology-madras/fashion-mnist-dataset' target=\"_blank\">https://wandb.ai/ma23c014-indian-institute-of-technology-madras/fashion-mnist-dataset</a><br>Synced 5 W&B file(s), 0 media file(s), 0 artifact file(s) and 0 other file(s)"
      ],
      "text/plain": [
       "<IPython.core.display.HTML object>"
      ]
     },
     "metadata": {},
     "output_type": "display_data"
    },
    {
     "data": {
      "text/html": [
       "Find logs at: <code>.\\wandb\\run-20250317_070201-kuehhk3w\\logs</code>"
      ],
      "text/plain": [
       "<IPython.core.display.HTML object>"
      ]
     },
     "metadata": {},
     "output_type": "display_data"
    },
    {
     "name": "stderr",
     "output_type": "stream",
     "text": [
      "wandb: Agent Starting Run: xsxux03h with config:\n",
      "wandb: \tactivation: tanh\n",
      "wandb: \tbatch_size: 128\n",
      "wandb: \tepochs: 20\n",
      "wandb: \thidden_size: 32\n",
      "wandb: \tlearning_rate: 0.01\n",
      "wandb: \tloss: cross_entropy\n",
      "wandb: \tnum_layers: 3\n",
      "wandb: \toptimizer: rmsprop\n",
      "wandb: \tweight_decay: 0.001\n",
      "wandb: \tweight_init: xavier\n"
     ]
    },
    {
     "data": {
      "text/html": [
       "Tracking run with wandb version 0.19.8"
      ],
      "text/plain": [
       "<IPython.core.display.HTML object>"
      ]
     },
     "metadata": {},
     "output_type": "display_data"
    },
    {
     "data": {
      "text/html": [
       "Run data is saved locally in <code>C:\\Users\\lenovo\\fashion_mnist-backpropagation\\wandb\\run-20250317_070216-xsxux03h</code>"
      ],
      "text/plain": [
       "<IPython.core.display.HTML object>"
      ]
     },
     "metadata": {},
     "output_type": "display_data"
    },
    {
     "data": {
      "text/html": [
       "Syncing run <strong><a href='https://wandb.ai/ma23c014-indian-institute-of-technology-madras/fashion-mnist-dataset/runs/xsxux03h' target=\"_blank\">fresh-sweep-18</a></strong> to <a href='https://wandb.ai/ma23c014-indian-institute-of-technology-madras/fashion-mnist-dataset' target=\"_blank\">Weights & Biases</a> (<a href='https://wandb.me/developer-guide' target=\"_blank\">docs</a>)<br>Sweep page: <a href='https://wandb.ai/ma23c014-indian-institute-of-technology-madras/fashion-mnist-dataset/sweeps/f4yt29uq' target=\"_blank\">https://wandb.ai/ma23c014-indian-institute-of-technology-madras/fashion-mnist-dataset/sweeps/f4yt29uq</a>"
      ],
      "text/plain": [
       "<IPython.core.display.HTML object>"
      ]
     },
     "metadata": {},
     "output_type": "display_data"
    },
    {
     "data": {
      "text/html": [
       " View project at <a href='https://wandb.ai/ma23c014-indian-institute-of-technology-madras/fashion-mnist-dataset' target=\"_blank\">https://wandb.ai/ma23c014-indian-institute-of-technology-madras/fashion-mnist-dataset</a>"
      ],
      "text/plain": [
       "<IPython.core.display.HTML object>"
      ]
     },
     "metadata": {},
     "output_type": "display_data"
    },
    {
     "data": {
      "text/html": [
       " View sweep at <a href='https://wandb.ai/ma23c014-indian-institute-of-technology-madras/fashion-mnist-dataset/sweeps/f4yt29uq' target=\"_blank\">https://wandb.ai/ma23c014-indian-institute-of-technology-madras/fashion-mnist-dataset/sweeps/f4yt29uq</a>"
      ],
      "text/plain": [
       "<IPython.core.display.HTML object>"
      ]
     },
     "metadata": {},
     "output_type": "display_data"
    },
    {
     "data": {
      "text/html": [
       " View run at <a href='https://wandb.ai/ma23c014-indian-institute-of-technology-madras/fashion-mnist-dataset/runs/xsxux03h' target=\"_blank\">https://wandb.ai/ma23c014-indian-institute-of-technology-madras/fashion-mnist-dataset/runs/xsxux03h</a>"
      ],
      "text/plain": [
       "<IPython.core.display.HTML object>"
      ]
     },
     "metadata": {},
     "output_type": "display_data"
    },
    {
     "data": {
      "text/html": [],
      "text/plain": [
       "<IPython.core.display.HTML object>"
      ]
     },
     "metadata": {},
     "output_type": "display_data"
    },
    {
     "data": {
      "text/html": [
       "<br>    <style><br>        .wandb-row {<br>            display: flex;<br>            flex-direction: row;<br>            flex-wrap: wrap;<br>            justify-content: flex-start;<br>            width: 100%;<br>        }<br>        .wandb-col {<br>            display: flex;<br>            flex-direction: column;<br>            flex-basis: 100%;<br>            flex: 1;<br>            padding: 10px;<br>        }<br>    </style><br><div class=\"wandb-row\"><div class=\"wandb-col\"><h3>Run history:</h3><br/><table class=\"wandb\"><tr><td>epoch</td><td>▁▁▂▂▂▃▃▄▄▄▅▅▅▆▆▇▇▇██</td></tr><tr><td>train_accuracy</td><td>███▅▃▂▁▃▂▄▃▂▂▂▂▂▁▁▁▁</td></tr><tr><td>train_loss</td><td>▂▁▃▅▇██▆▆▆▇▇▇▇▇▇▇███</td></tr><tr><td>val_accuracy</td><td>███▅▃▂▁▄▂▄▃▂▂▂▂▂▂▂▂▁</td></tr><tr><td>val_loss</td><td>▂▁▂▅▇██▆▆▆▇▇▇▇▇▇████</td></tr></table><br/></div><div class=\"wandb-col\"><h3>Run summary:</h3><br/><table class=\"wandb\"><tr><td>epoch</td><td>20</td></tr><tr><td>train_accuracy</td><td>0.37093</td></tr><tr><td>train_loss</td><td>1.49657</td></tr><tr><td>val_accuracy</td><td>0.37733</td></tr><tr><td>val_loss</td><td>1.50466</td></tr></table><br/></div></div>"
      ],
      "text/plain": [
       "<IPython.core.display.HTML object>"
      ]
     },
     "metadata": {},
     "output_type": "display_data"
    },
    {
     "data": {
      "text/html": [
       " View run <strong style=\"color:#cdcd00\">_hl_3_hn_32_opt_rmsprop_act_tanh_lr_0.01_bs_128_init_xavier_ep_20_l2_0.001</strong> at: <a href='https://wandb.ai/ma23c014-indian-institute-of-technology-madras/fashion-mnist-dataset/runs/xsxux03h' target=\"_blank\">https://wandb.ai/ma23c014-indian-institute-of-technology-madras/fashion-mnist-dataset/runs/xsxux03h</a><br> View project at: <a href='https://wandb.ai/ma23c014-indian-institute-of-technology-madras/fashion-mnist-dataset' target=\"_blank\">https://wandb.ai/ma23c014-indian-institute-of-technology-madras/fashion-mnist-dataset</a><br>Synced 5 W&B file(s), 0 media file(s), 0 artifact file(s) and 0 other file(s)"
      ],
      "text/plain": [
       "<IPython.core.display.HTML object>"
      ]
     },
     "metadata": {},
     "output_type": "display_data"
    },
    {
     "data": {
      "text/html": [
       "Find logs at: <code>.\\wandb\\run-20250317_070216-xsxux03h\\logs</code>"
      ],
      "text/plain": [
       "<IPython.core.display.HTML object>"
      ]
     },
     "metadata": {},
     "output_type": "display_data"
    },
    {
     "name": "stderr",
     "output_type": "stream",
     "text": [
      "wandb: Sweep Agent: Waiting for job.\n",
      "wandb: Job received.\n",
      "wandb: Agent Starting Run: h175hlf4 with config:\n",
      "wandb: \tactivation: relu\n",
      "wandb: \tbatch_size: 128\n",
      "wandb: \tepochs: 10\n",
      "wandb: \thidden_size: 64\n",
      "wandb: \tlearning_rate: 0.0001\n",
      "wandb: \tloss: cross_entropy\n",
      "wandb: \tnum_layers: 4\n",
      "wandb: \toptimizer: rmsprop\n",
      "wandb: \tweight_decay: 0.001\n",
      "wandb: \tweight_init: xavier\n"
     ]
    },
    {
     "data": {
      "text/html": [
       "Tracking run with wandb version 0.19.8"
      ],
      "text/plain": [
       "<IPython.core.display.HTML object>"
      ]
     },
     "metadata": {},
     "output_type": "display_data"
    },
    {
     "data": {
      "text/html": [
       "Run data is saved locally in <code>C:\\Users\\lenovo\\fashion_mnist-backpropagation\\wandb\\run-20250317_070310-h175hlf4</code>"
      ],
      "text/plain": [
       "<IPython.core.display.HTML object>"
      ]
     },
     "metadata": {},
     "output_type": "display_data"
    },
    {
     "data": {
      "text/html": [
       "Syncing run <strong><a href='https://wandb.ai/ma23c014-indian-institute-of-technology-madras/fashion-mnist-dataset/runs/h175hlf4' target=\"_blank\">northern-sweep-19</a></strong> to <a href='https://wandb.ai/ma23c014-indian-institute-of-technology-madras/fashion-mnist-dataset' target=\"_blank\">Weights & Biases</a> (<a href='https://wandb.me/developer-guide' target=\"_blank\">docs</a>)<br>Sweep page: <a href='https://wandb.ai/ma23c014-indian-institute-of-technology-madras/fashion-mnist-dataset/sweeps/f4yt29uq' target=\"_blank\">https://wandb.ai/ma23c014-indian-institute-of-technology-madras/fashion-mnist-dataset/sweeps/f4yt29uq</a>"
      ],
      "text/plain": [
       "<IPython.core.display.HTML object>"
      ]
     },
     "metadata": {},
     "output_type": "display_data"
    },
    {
     "data": {
      "text/html": [
       " View project at <a href='https://wandb.ai/ma23c014-indian-institute-of-technology-madras/fashion-mnist-dataset' target=\"_blank\">https://wandb.ai/ma23c014-indian-institute-of-technology-madras/fashion-mnist-dataset</a>"
      ],
      "text/plain": [
       "<IPython.core.display.HTML object>"
      ]
     },
     "metadata": {},
     "output_type": "display_data"
    },
    {
     "data": {
      "text/html": [
       " View sweep at <a href='https://wandb.ai/ma23c014-indian-institute-of-technology-madras/fashion-mnist-dataset/sweeps/f4yt29uq' target=\"_blank\">https://wandb.ai/ma23c014-indian-institute-of-technology-madras/fashion-mnist-dataset/sweeps/f4yt29uq</a>"
      ],
      "text/plain": [
       "<IPython.core.display.HTML object>"
      ]
     },
     "metadata": {},
     "output_type": "display_data"
    },
    {
     "data": {
      "text/html": [
       " View run at <a href='https://wandb.ai/ma23c014-indian-institute-of-technology-madras/fashion-mnist-dataset/runs/h175hlf4' target=\"_blank\">https://wandb.ai/ma23c014-indian-institute-of-technology-madras/fashion-mnist-dataset/runs/h175hlf4</a>"
      ],
      "text/plain": [
       "<IPython.core.display.HTML object>"
      ]
     },
     "metadata": {},
     "output_type": "display_data"
    },
    {
     "data": {
      "text/html": [],
      "text/plain": [
       "<IPython.core.display.HTML object>"
      ]
     },
     "metadata": {},
     "output_type": "display_data"
    },
    {
     "data": {
      "text/html": [
       "<br>    <style><br>        .wandb-row {<br>            display: flex;<br>            flex-direction: row;<br>            flex-wrap: wrap;<br>            justify-content: flex-start;<br>            width: 100%;<br>        }<br>        .wandb-col {<br>            display: flex;<br>            flex-direction: column;<br>            flex-basis: 100%;<br>            flex: 1;<br>            padding: 10px;<br>        }<br>    </style><br><div class=\"wandb-row\"><div class=\"wandb-col\"><h3>Run history:</h3><br/><table class=\"wandb\"><tr><td>epoch</td><td>▁▂▃▃▄▅▆▆▇█</td></tr><tr><td>train_accuracy</td><td>▁▄▆▇▇▇▇███</td></tr><tr><td>train_loss</td><td>█▅▃▃▂▂▂▁▁▁</td></tr><tr><td>val_accuracy</td><td>▁▅▆▇▇▇████</td></tr><tr><td>val_loss</td><td>█▅▃▂▂▂▁▁▁▁</td></tr></table><br/></div><div class=\"wandb-col\"><h3>Run summary:</h3><br/><table class=\"wandb\"><tr><td>epoch</td><td>10</td></tr><tr><td>train_accuracy</td><td>0.86089</td></tr><tr><td>train_loss</td><td>0.39677</td></tr><tr><td>val_accuracy</td><td>0.85883</td></tr><tr><td>val_loss</td><td>0.4057</td></tr></table><br/></div></div>"
      ],
      "text/plain": [
       "<IPython.core.display.HTML object>"
      ]
     },
     "metadata": {},
     "output_type": "display_data"
    },
    {
     "data": {
      "text/html": [
       " View run <strong style=\"color:#cdcd00\">_hl_4_hn_64_opt_rmsprop_act_relu_lr_0.0001_bs_128_init_xavier_ep_10_l2_0.001</strong> at: <a href='https://wandb.ai/ma23c014-indian-institute-of-technology-madras/fashion-mnist-dataset/runs/h175hlf4' target=\"_blank\">https://wandb.ai/ma23c014-indian-institute-of-technology-madras/fashion-mnist-dataset/runs/h175hlf4</a><br> View project at: <a href='https://wandb.ai/ma23c014-indian-institute-of-technology-madras/fashion-mnist-dataset' target=\"_blank\">https://wandb.ai/ma23c014-indian-institute-of-technology-madras/fashion-mnist-dataset</a><br>Synced 5 W&B file(s), 0 media file(s), 0 artifact file(s) and 0 other file(s)"
      ],
      "text/plain": [
       "<IPython.core.display.HTML object>"
      ]
     },
     "metadata": {},
     "output_type": "display_data"
    },
    {
     "data": {
      "text/html": [
       "Find logs at: <code>.\\wandb\\run-20250317_070310-h175hlf4\\logs</code>"
      ],
      "text/plain": [
       "<IPython.core.display.HTML object>"
      ]
     },
     "metadata": {},
     "output_type": "display_data"
    },
    {
     "name": "stderr",
     "output_type": "stream",
     "text": [
      "wandb: Agent Starting Run: 01pv3od4 with config:\n",
      "wandb: \tactivation: relu\n",
      "wandb: \tbatch_size: 128\n",
      "wandb: \tepochs: 20\n",
      "wandb: \thidden_size: 32\n",
      "wandb: \tlearning_rate: 0.01\n",
      "wandb: \tloss: cross_entropy\n",
      "wandb: \tnum_layers: 3\n",
      "wandb: \toptimizer: nag\n",
      "wandb: \tweight_decay: 0.001\n",
      "wandb: \tweight_init: random\n"
     ]
    },
    {
     "data": {
      "text/html": [
       "Tracking run with wandb version 0.19.8"
      ],
      "text/plain": [
       "<IPython.core.display.HTML object>"
      ]
     },
     "metadata": {},
     "output_type": "display_data"
    },
    {
     "data": {
      "text/html": [
       "Run data is saved locally in <code>C:\\Users\\lenovo\\fashion_mnist-backpropagation\\wandb\\run-20250317_070348-01pv3od4</code>"
      ],
      "text/plain": [
       "<IPython.core.display.HTML object>"
      ]
     },
     "metadata": {},
     "output_type": "display_data"
    },
    {
     "data": {
      "text/html": [
       "Syncing run <strong><a href='https://wandb.ai/ma23c014-indian-institute-of-technology-madras/fashion-mnist-dataset/runs/01pv3od4' target=\"_blank\">elated-sweep-20</a></strong> to <a href='https://wandb.ai/ma23c014-indian-institute-of-technology-madras/fashion-mnist-dataset' target=\"_blank\">Weights & Biases</a> (<a href='https://wandb.me/developer-guide' target=\"_blank\">docs</a>)<br>Sweep page: <a href='https://wandb.ai/ma23c014-indian-institute-of-technology-madras/fashion-mnist-dataset/sweeps/f4yt29uq' target=\"_blank\">https://wandb.ai/ma23c014-indian-institute-of-technology-madras/fashion-mnist-dataset/sweeps/f4yt29uq</a>"
      ],
      "text/plain": [
       "<IPython.core.display.HTML object>"
      ]
     },
     "metadata": {},
     "output_type": "display_data"
    },
    {
     "data": {
      "text/html": [
       " View project at <a href='https://wandb.ai/ma23c014-indian-institute-of-technology-madras/fashion-mnist-dataset' target=\"_blank\">https://wandb.ai/ma23c014-indian-institute-of-technology-madras/fashion-mnist-dataset</a>"
      ],
      "text/plain": [
       "<IPython.core.display.HTML object>"
      ]
     },
     "metadata": {},
     "output_type": "display_data"
    },
    {
     "data": {
      "text/html": [
       " View sweep at <a href='https://wandb.ai/ma23c014-indian-institute-of-technology-madras/fashion-mnist-dataset/sweeps/f4yt29uq' target=\"_blank\">https://wandb.ai/ma23c014-indian-institute-of-technology-madras/fashion-mnist-dataset/sweeps/f4yt29uq</a>"
      ],
      "text/plain": [
       "<IPython.core.display.HTML object>"
      ]
     },
     "metadata": {},
     "output_type": "display_data"
    },
    {
     "data": {
      "text/html": [
       " View run at <a href='https://wandb.ai/ma23c014-indian-institute-of-technology-madras/fashion-mnist-dataset/runs/01pv3od4' target=\"_blank\">https://wandb.ai/ma23c014-indian-institute-of-technology-madras/fashion-mnist-dataset/runs/01pv3od4</a>"
      ],
      "text/plain": [
       "<IPython.core.display.HTML object>"
      ]
     },
     "metadata": {},
     "output_type": "display_data"
    },
    {
     "data": {
      "text/html": [],
      "text/plain": [
       "<IPython.core.display.HTML object>"
      ]
     },
     "metadata": {},
     "output_type": "display_data"
    },
    {
     "data": {
      "text/html": [
       "<br>    <style><br>        .wandb-row {<br>            display: flex;<br>            flex-direction: row;<br>            flex-wrap: wrap;<br>            justify-content: flex-start;<br>            width: 100%;<br>        }<br>        .wandb-col {<br>            display: flex;<br>            flex-direction: column;<br>            flex-basis: 100%;<br>            flex: 1;<br>            padding: 10px;<br>        }<br>    </style><br><div class=\"wandb-row\"><div class=\"wandb-col\"><h3>Run history:</h3><br/><table class=\"wandb\"><tr><td>epoch</td><td>▁▁▂▂▂▃▃▄▄▄▅▅▅▆▆▇▇▇██</td></tr><tr><td>train_accuracy</td><td>▁▅▅▆▆▅▇▆▇▇▇▇▇▇▇▇██▇█</td></tr><tr><td>train_loss</td><td>█▅▄▃▃▄▂▃▂▂▂▂▂▂▂▂▁▁▁▁</td></tr><tr><td>val_accuracy</td><td>▁▅▅▆▇▆▇▇▇███▇▇▇▇██▇█</td></tr><tr><td>val_loss</td><td>█▄▄▃▃▄▂▂▂▂▁▂▂▂▂▂▁▁▂▁</td></tr></table><br/></div><div class=\"wandb-col\"><h3>Run summary:</h3><br/><table class=\"wandb\"><tr><td>epoch</td><td>20</td></tr><tr><td>train_accuracy</td><td>0.88717</td></tr><tr><td>train_loss</td><td>0.30567</td></tr><tr><td>val_accuracy</td><td>0.87733</td></tr><tr><td>val_loss</td><td>0.33673</td></tr></table><br/></div></div>"
      ],
      "text/plain": [
       "<IPython.core.display.HTML object>"
      ]
     },
     "metadata": {},
     "output_type": "display_data"
    },
    {
     "data": {
      "text/html": [
       " View run <strong style=\"color:#cdcd00\">_hl_3_hn_32_opt_nag_act_relu_lr_0.01_bs_128_init_random_ep_20_l2_0.001</strong> at: <a href='https://wandb.ai/ma23c014-indian-institute-of-technology-madras/fashion-mnist-dataset/runs/01pv3od4' target=\"_blank\">https://wandb.ai/ma23c014-indian-institute-of-technology-madras/fashion-mnist-dataset/runs/01pv3od4</a><br> View project at: <a href='https://wandb.ai/ma23c014-indian-institute-of-technology-madras/fashion-mnist-dataset' target=\"_blank\">https://wandb.ai/ma23c014-indian-institute-of-technology-madras/fashion-mnist-dataset</a><br>Synced 5 W&B file(s), 0 media file(s), 0 artifact file(s) and 0 other file(s)"
      ],
      "text/plain": [
       "<IPython.core.display.HTML object>"
      ]
     },
     "metadata": {},
     "output_type": "display_data"
    },
    {
     "data": {
      "text/html": [
       "Find logs at: <code>.\\wandb\\run-20250317_070348-01pv3od4\\logs</code>"
      ],
      "text/plain": [
       "<IPython.core.display.HTML object>"
      ]
     },
     "metadata": {},
     "output_type": "display_data"
    },
    {
     "name": "stderr",
     "output_type": "stream",
     "text": [
      "wandb: Agent Starting Run: 3tywmx1i with config:\n",
      "wandb: \tactivation: relu\n",
      "wandb: \tbatch_size: 128\n",
      "wandb: \tepochs: 20\n",
      "wandb: \thidden_size: 32\n",
      "wandb: \tlearning_rate: 0.01\n",
      "wandb: \tloss: cross_entropy\n",
      "wandb: \tnum_layers: 3\n",
      "wandb: \toptimizer: momentum\n",
      "wandb: \tweight_decay: 0.001\n",
      "wandb: \tweight_init: random\n"
     ]
    },
    {
     "data": {
      "text/html": [
       "Tracking run with wandb version 0.19.8"
      ],
      "text/plain": [
       "<IPython.core.display.HTML object>"
      ]
     },
     "metadata": {},
     "output_type": "display_data"
    },
    {
     "data": {
      "text/html": [
       "Run data is saved locally in <code>C:\\Users\\lenovo\\fashion_mnist-backpropagation\\wandb\\run-20250317_070426-3tywmx1i</code>"
      ],
      "text/plain": [
       "<IPython.core.display.HTML object>"
      ]
     },
     "metadata": {},
     "output_type": "display_data"
    },
    {
     "data": {
      "text/html": [
       "Syncing run <strong><a href='https://wandb.ai/ma23c014-indian-institute-of-technology-madras/fashion-mnist-dataset/runs/3tywmx1i' target=\"_blank\">whole-sweep-21</a></strong> to <a href='https://wandb.ai/ma23c014-indian-institute-of-technology-madras/fashion-mnist-dataset' target=\"_blank\">Weights & Biases</a> (<a href='https://wandb.me/developer-guide' target=\"_blank\">docs</a>)<br>Sweep page: <a href='https://wandb.ai/ma23c014-indian-institute-of-technology-madras/fashion-mnist-dataset/sweeps/f4yt29uq' target=\"_blank\">https://wandb.ai/ma23c014-indian-institute-of-technology-madras/fashion-mnist-dataset/sweeps/f4yt29uq</a>"
      ],
      "text/plain": [
       "<IPython.core.display.HTML object>"
      ]
     },
     "metadata": {},
     "output_type": "display_data"
    },
    {
     "data": {
      "text/html": [
       " View project at <a href='https://wandb.ai/ma23c014-indian-institute-of-technology-madras/fashion-mnist-dataset' target=\"_blank\">https://wandb.ai/ma23c014-indian-institute-of-technology-madras/fashion-mnist-dataset</a>"
      ],
      "text/plain": [
       "<IPython.core.display.HTML object>"
      ]
     },
     "metadata": {},
     "output_type": "display_data"
    },
    {
     "data": {
      "text/html": [
       " View sweep at <a href='https://wandb.ai/ma23c014-indian-institute-of-technology-madras/fashion-mnist-dataset/sweeps/f4yt29uq' target=\"_blank\">https://wandb.ai/ma23c014-indian-institute-of-technology-madras/fashion-mnist-dataset/sweeps/f4yt29uq</a>"
      ],
      "text/plain": [
       "<IPython.core.display.HTML object>"
      ]
     },
     "metadata": {},
     "output_type": "display_data"
    },
    {
     "data": {
      "text/html": [
       " View run at <a href='https://wandb.ai/ma23c014-indian-institute-of-technology-madras/fashion-mnist-dataset/runs/3tywmx1i' target=\"_blank\">https://wandb.ai/ma23c014-indian-institute-of-technology-madras/fashion-mnist-dataset/runs/3tywmx1i</a>"
      ],
      "text/plain": [
       "<IPython.core.display.HTML object>"
      ]
     },
     "metadata": {},
     "output_type": "display_data"
    },
    {
     "data": {
      "text/html": [],
      "text/plain": [
       "<IPython.core.display.HTML object>"
      ]
     },
     "metadata": {},
     "output_type": "display_data"
    },
    {
     "data": {
      "text/html": [
       "<br>    <style><br>        .wandb-row {<br>            display: flex;<br>            flex-direction: row;<br>            flex-wrap: wrap;<br>            justify-content: flex-start;<br>            width: 100%;<br>        }<br>        .wandb-col {<br>            display: flex;<br>            flex-direction: column;<br>            flex-basis: 100%;<br>            flex: 1;<br>            padding: 10px;<br>        }<br>    </style><br><div class=\"wandb-row\"><div class=\"wandb-col\"><h3>Run history:</h3><br/><table class=\"wandb\"><tr><td>epoch</td><td>▁▁▂▂▂▃▃▄▄▄▅▅▅▆▆▇▇▇██</td></tr><tr><td>train_accuracy</td><td>▁▄▅▆▆▆▇▇▇▇▇▇▇███████</td></tr><tr><td>train_loss</td><td>█▅▄▃▃▃▂▂▂▂▂▂▂▁▁▁▁▁▁▁</td></tr><tr><td>val_accuracy</td><td>▁▄▆▆▇▇▇▇▇███████████</td></tr><tr><td>val_loss</td><td>█▅▃▃▂▂▂▂▂▂▂▁▁▁▁▁▁▁▁▁</td></tr></table><br/></div><div class=\"wandb-col\"><h3>Run summary:</h3><br/><table class=\"wandb\"><tr><td>epoch</td><td>20</td></tr><tr><td>train_accuracy</td><td>0.88465</td></tr><tr><td>train_loss</td><td>0.31226</td></tr><tr><td>val_accuracy</td><td>0.86767</td></tr><tr><td>val_loss</td><td>0.35769</td></tr></table><br/></div></div>"
      ],
      "text/plain": [
       "<IPython.core.display.HTML object>"
      ]
     },
     "metadata": {},
     "output_type": "display_data"
    },
    {
     "data": {
      "text/html": [
       " View run <strong style=\"color:#cdcd00\">_hl_3_hn_32_opt_momentum_act_relu_lr_0.01_bs_128_init_random_ep_20_l2_0.001</strong> at: <a href='https://wandb.ai/ma23c014-indian-institute-of-technology-madras/fashion-mnist-dataset/runs/3tywmx1i' target=\"_blank\">https://wandb.ai/ma23c014-indian-institute-of-technology-madras/fashion-mnist-dataset/runs/3tywmx1i</a><br> View project at: <a href='https://wandb.ai/ma23c014-indian-institute-of-technology-madras/fashion-mnist-dataset' target=\"_blank\">https://wandb.ai/ma23c014-indian-institute-of-technology-madras/fashion-mnist-dataset</a><br>Synced 5 W&B file(s), 0 media file(s), 0 artifact file(s) and 0 other file(s)"
      ],
      "text/plain": [
       "<IPython.core.display.HTML object>"
      ]
     },
     "metadata": {},
     "output_type": "display_data"
    },
    {
     "data": {
      "text/html": [
       "Find logs at: <code>.\\wandb\\run-20250317_070426-3tywmx1i\\logs</code>"
      ],
      "text/plain": [
       "<IPython.core.display.HTML object>"
      ]
     },
     "metadata": {},
     "output_type": "display_data"
    },
    {
     "name": "stderr",
     "output_type": "stream",
     "text": [
      "wandb: Agent Starting Run: p12gszu2 with config:\n",
      "wandb: \tactivation: relu\n",
      "wandb: \tbatch_size: 128\n",
      "wandb: \tepochs: 10\n",
      "wandb: \thidden_size: 32\n",
      "wandb: \tlearning_rate: 0.001\n",
      "wandb: \tloss: cross_entropy\n",
      "wandb: \tnum_layers: 4\n",
      "wandb: \toptimizer: adam\n",
      "wandb: \tweight_decay: 0.001\n",
      "wandb: \tweight_init: xavier\n"
     ]
    },
    {
     "data": {
      "text/html": [
       "Tracking run with wandb version 0.19.8"
      ],
      "text/plain": [
       "<IPython.core.display.HTML object>"
      ]
     },
     "metadata": {},
     "output_type": "display_data"
    },
    {
     "data": {
      "text/html": [
       "Run data is saved locally in <code>C:\\Users\\lenovo\\fashion_mnist-backpropagation\\wandb\\run-20250317_070458-p12gszu2</code>"
      ],
      "text/plain": [
       "<IPython.core.display.HTML object>"
      ]
     },
     "metadata": {},
     "output_type": "display_data"
    },
    {
     "data": {
      "text/html": [
       "Syncing run <strong><a href='https://wandb.ai/ma23c014-indian-institute-of-technology-madras/fashion-mnist-dataset/runs/p12gszu2' target=\"_blank\">dulcet-sweep-22</a></strong> to <a href='https://wandb.ai/ma23c014-indian-institute-of-technology-madras/fashion-mnist-dataset' target=\"_blank\">Weights & Biases</a> (<a href='https://wandb.me/developer-guide' target=\"_blank\">docs</a>)<br>Sweep page: <a href='https://wandb.ai/ma23c014-indian-institute-of-technology-madras/fashion-mnist-dataset/sweeps/f4yt29uq' target=\"_blank\">https://wandb.ai/ma23c014-indian-institute-of-technology-madras/fashion-mnist-dataset/sweeps/f4yt29uq</a>"
      ],
      "text/plain": [
       "<IPython.core.display.HTML object>"
      ]
     },
     "metadata": {},
     "output_type": "display_data"
    },
    {
     "data": {
      "text/html": [
       " View project at <a href='https://wandb.ai/ma23c014-indian-institute-of-technology-madras/fashion-mnist-dataset' target=\"_blank\">https://wandb.ai/ma23c014-indian-institute-of-technology-madras/fashion-mnist-dataset</a>"
      ],
      "text/plain": [
       "<IPython.core.display.HTML object>"
      ]
     },
     "metadata": {},
     "output_type": "display_data"
    },
    {
     "data": {
      "text/html": [
       " View sweep at <a href='https://wandb.ai/ma23c014-indian-institute-of-technology-madras/fashion-mnist-dataset/sweeps/f4yt29uq' target=\"_blank\">https://wandb.ai/ma23c014-indian-institute-of-technology-madras/fashion-mnist-dataset/sweeps/f4yt29uq</a>"
      ],
      "text/plain": [
       "<IPython.core.display.HTML object>"
      ]
     },
     "metadata": {},
     "output_type": "display_data"
    },
    {
     "data": {
      "text/html": [
       " View run at <a href='https://wandb.ai/ma23c014-indian-institute-of-technology-madras/fashion-mnist-dataset/runs/p12gszu2' target=\"_blank\">https://wandb.ai/ma23c014-indian-institute-of-technology-madras/fashion-mnist-dataset/runs/p12gszu2</a>"
      ],
      "text/plain": [
       "<IPython.core.display.HTML object>"
      ]
     },
     "metadata": {},
     "output_type": "display_data"
    },
    {
     "data": {
      "text/html": [],
      "text/plain": [
       "<IPython.core.display.HTML object>"
      ]
     },
     "metadata": {},
     "output_type": "display_data"
    },
    {
     "data": {
      "text/html": [
       "<br>    <style><br>        .wandb-row {<br>            display: flex;<br>            flex-direction: row;<br>            flex-wrap: wrap;<br>            justify-content: flex-start;<br>            width: 100%;<br>        }<br>        .wandb-col {<br>            display: flex;<br>            flex-direction: column;<br>            flex-basis: 100%;<br>            flex: 1;<br>            padding: 10px;<br>        }<br>    </style><br><div class=\"wandb-row\"><div class=\"wandb-col\"><h3>Run history:</h3><br/><table class=\"wandb\"><tr><td>epoch</td><td>▁▂▃▃▄▅▆▆▇█</td></tr><tr><td>train_accuracy</td><td>▁▄▄▅▅▆▇███</td></tr><tr><td>train_loss</td><td>█▅▅▄▃▃▂▂▁▁</td></tr><tr><td>val_accuracy</td><td>▁▄▃▅▅▅▇▇██</td></tr><tr><td>val_loss</td><td>█▅▄▃▃▂▂▁▁▁</td></tr></table><br/></div><div class=\"wandb-col\"><h3>Run summary:</h3><br/><table class=\"wandb\"><tr><td>epoch</td><td>10</td></tr><tr><td>train_accuracy</td><td>0.87607</td></tr><tr><td>train_loss</td><td>0.33779</td></tr><tr><td>val_accuracy</td><td>0.86767</td></tr><tr><td>val_loss</td><td>0.36807</td></tr></table><br/></div></div>"
      ],
      "text/plain": [
       "<IPython.core.display.HTML object>"
      ]
     },
     "metadata": {},
     "output_type": "display_data"
    },
    {
     "data": {
      "text/html": [
       " View run <strong style=\"color:#cdcd00\">_hl_4_hn_32_opt_adam_act_relu_lr_0.001_bs_128_init_xavier_ep_10_l2_0.001</strong> at: <a href='https://wandb.ai/ma23c014-indian-institute-of-technology-madras/fashion-mnist-dataset/runs/p12gszu2' target=\"_blank\">https://wandb.ai/ma23c014-indian-institute-of-technology-madras/fashion-mnist-dataset/runs/p12gszu2</a><br> View project at: <a href='https://wandb.ai/ma23c014-indian-institute-of-technology-madras/fashion-mnist-dataset' target=\"_blank\">https://wandb.ai/ma23c014-indian-institute-of-technology-madras/fashion-mnist-dataset</a><br>Synced 5 W&B file(s), 0 media file(s), 0 artifact file(s) and 0 other file(s)"
      ],
      "text/plain": [
       "<IPython.core.display.HTML object>"
      ]
     },
     "metadata": {},
     "output_type": "display_data"
    },
    {
     "data": {
      "text/html": [
       "Find logs at: <code>.\\wandb\\run-20250317_070458-p12gszu2\\logs</code>"
      ],
      "text/plain": [
       "<IPython.core.display.HTML object>"
      ]
     },
     "metadata": {},
     "output_type": "display_data"
    },
    {
     "name": "stderr",
     "output_type": "stream",
     "text": [
      "wandb: Agent Starting Run: 9ft9yafw with config:\n",
      "wandb: \tactivation: relu\n",
      "wandb: \tbatch_size: 128\n",
      "wandb: \tepochs: 20\n",
      "wandb: \thidden_size: 32\n",
      "wandb: \tlearning_rate: 0.001\n",
      "wandb: \tloss: cross_entropy\n",
      "wandb: \tnum_layers: 4\n",
      "wandb: \toptimizer: rmsprop\n",
      "wandb: \tweight_decay: 0.001\n",
      "wandb: \tweight_init: random\n"
     ]
    },
    {
     "data": {
      "text/html": [
       "Tracking run with wandb version 0.19.8"
      ],
      "text/plain": [
       "<IPython.core.display.HTML object>"
      ]
     },
     "metadata": {},
     "output_type": "display_data"
    },
    {
     "data": {
      "text/html": [
       "Run data is saved locally in <code>C:\\Users\\lenovo\\fashion_mnist-backpropagation\\wandb\\run-20250317_070525-9ft9yafw</code>"
      ],
      "text/plain": [
       "<IPython.core.display.HTML object>"
      ]
     },
     "metadata": {},
     "output_type": "display_data"
    },
    {
     "data": {
      "text/html": [
       "Syncing run <strong><a href='https://wandb.ai/ma23c014-indian-institute-of-technology-madras/fashion-mnist-dataset/runs/9ft9yafw' target=\"_blank\">chocolate-sweep-23</a></strong> to <a href='https://wandb.ai/ma23c014-indian-institute-of-technology-madras/fashion-mnist-dataset' target=\"_blank\">Weights & Biases</a> (<a href='https://wandb.me/developer-guide' target=\"_blank\">docs</a>)<br>Sweep page: <a href='https://wandb.ai/ma23c014-indian-institute-of-technology-madras/fashion-mnist-dataset/sweeps/f4yt29uq' target=\"_blank\">https://wandb.ai/ma23c014-indian-institute-of-technology-madras/fashion-mnist-dataset/sweeps/f4yt29uq</a>"
      ],
      "text/plain": [
       "<IPython.core.display.HTML object>"
      ]
     },
     "metadata": {},
     "output_type": "display_data"
    },
    {
     "data": {
      "text/html": [
       " View project at <a href='https://wandb.ai/ma23c014-indian-institute-of-technology-madras/fashion-mnist-dataset' target=\"_blank\">https://wandb.ai/ma23c014-indian-institute-of-technology-madras/fashion-mnist-dataset</a>"
      ],
      "text/plain": [
       "<IPython.core.display.HTML object>"
      ]
     },
     "metadata": {},
     "output_type": "display_data"
    },
    {
     "data": {
      "text/html": [
       " View sweep at <a href='https://wandb.ai/ma23c014-indian-institute-of-technology-madras/fashion-mnist-dataset/sweeps/f4yt29uq' target=\"_blank\">https://wandb.ai/ma23c014-indian-institute-of-technology-madras/fashion-mnist-dataset/sweeps/f4yt29uq</a>"
      ],
      "text/plain": [
       "<IPython.core.display.HTML object>"
      ]
     },
     "metadata": {},
     "output_type": "display_data"
    },
    {
     "data": {
      "text/html": [
       " View run at <a href='https://wandb.ai/ma23c014-indian-institute-of-technology-madras/fashion-mnist-dataset/runs/9ft9yafw' target=\"_blank\">https://wandb.ai/ma23c014-indian-institute-of-technology-madras/fashion-mnist-dataset/runs/9ft9yafw</a>"
      ],
      "text/plain": [
       "<IPython.core.display.HTML object>"
      ]
     },
     "metadata": {},
     "output_type": "display_data"
    },
    {
     "data": {
      "text/html": [],
      "text/plain": [
       "<IPython.core.display.HTML object>"
      ]
     },
     "metadata": {},
     "output_type": "display_data"
    },
    {
     "data": {
      "text/html": [
       "<br>    <style><br>        .wandb-row {<br>            display: flex;<br>            flex-direction: row;<br>            flex-wrap: wrap;<br>            justify-content: flex-start;<br>            width: 100%;<br>        }<br>        .wandb-col {<br>            display: flex;<br>            flex-direction: column;<br>            flex-basis: 100%;<br>            flex: 1;<br>            padding: 10px;<br>        }<br>    </style><br><div class=\"wandb-row\"><div class=\"wandb-col\"><h3>Run history:</h3><br/><table class=\"wandb\"><tr><td>epoch</td><td>▁▁▂▂▂▃▃▄▄▄▅▅▅▆▆▇▇▇██</td></tr><tr><td>train_accuracy</td><td>▁▄▅▅▆▆▆▇▇▇▇█████████</td></tr><tr><td>train_loss</td><td>█▆▅▄▄▃▃▂▂▂▂▂▁▁▁▁▁▁▁▁</td></tr><tr><td>val_accuracy</td><td>▁▄▅▅▆▆▇▇▇▇██████████</td></tr><tr><td>val_loss</td><td>█▅▄▄▃▃▂▂▂▁▁▁▁▁▁▁▁▁▁▁</td></tr></table><br/></div><div class=\"wandb-col\"><h3>Run summary:</h3><br/><table class=\"wandb\"><tr><td>epoch</td><td>20</td></tr><tr><td>train_accuracy</td><td>0.88781</td></tr><tr><td>train_loss</td><td>0.30921</td></tr><tr><td>val_accuracy</td><td>0.87533</td></tr><tr><td>val_loss</td><td>0.35588</td></tr></table><br/></div></div>"
      ],
      "text/plain": [
       "<IPython.core.display.HTML object>"
      ]
     },
     "metadata": {},
     "output_type": "display_data"
    },
    {
     "data": {
      "text/html": [
       " View run <strong style=\"color:#cdcd00\">_hl_4_hn_32_opt_rmsprop_act_relu_lr_0.001_bs_128_init_random_ep_20_l2_0.001</strong> at: <a href='https://wandb.ai/ma23c014-indian-institute-of-technology-madras/fashion-mnist-dataset/runs/9ft9yafw' target=\"_blank\">https://wandb.ai/ma23c014-indian-institute-of-technology-madras/fashion-mnist-dataset/runs/9ft9yafw</a><br> View project at: <a href='https://wandb.ai/ma23c014-indian-institute-of-technology-madras/fashion-mnist-dataset' target=\"_blank\">https://wandb.ai/ma23c014-indian-institute-of-technology-madras/fashion-mnist-dataset</a><br>Synced 5 W&B file(s), 0 media file(s), 0 artifact file(s) and 0 other file(s)"
      ],
      "text/plain": [
       "<IPython.core.display.HTML object>"
      ]
     },
     "metadata": {},
     "output_type": "display_data"
    },
    {
     "data": {
      "text/html": [
       "Find logs at: <code>.\\wandb\\run-20250317_070525-9ft9yafw\\logs</code>"
      ],
      "text/plain": [
       "<IPython.core.display.HTML object>"
      ]
     },
     "metadata": {},
     "output_type": "display_data"
    },
    {
     "name": "stderr",
     "output_type": "stream",
     "text": [
      "wandb: Agent Starting Run: 1s4s1acg with config:\n",
      "wandb: \tactivation: relu\n",
      "wandb: \tbatch_size: 128\n",
      "wandb: \tepochs: 10\n",
      "wandb: \thidden_size: 32\n",
      "wandb: \tlearning_rate: 0.0001\n",
      "wandb: \tloss: cross_entropy\n",
      "wandb: \tnum_layers: 4\n",
      "wandb: \toptimizer: rmsprop\n",
      "wandb: \tweight_decay: 0.001\n",
      "wandb: \tweight_init: xavier\n"
     ]
    },
    {
     "data": {
      "text/html": [
       "Tracking run with wandb version 0.19.8"
      ],
      "text/plain": [
       "<IPython.core.display.HTML object>"
      ]
     },
     "metadata": {},
     "output_type": "display_data"
    },
    {
     "data": {
      "text/html": [
       "Run data is saved locally in <code>C:\\Users\\lenovo\\fashion_mnist-backpropagation\\wandb\\run-20250317_070613-1s4s1acg</code>"
      ],
      "text/plain": [
       "<IPython.core.display.HTML object>"
      ]
     },
     "metadata": {},
     "output_type": "display_data"
    },
    {
     "data": {
      "text/html": [
       "Syncing run <strong><a href='https://wandb.ai/ma23c014-indian-institute-of-technology-madras/fashion-mnist-dataset/runs/1s4s1acg' target=\"_blank\">crimson-sweep-24</a></strong> to <a href='https://wandb.ai/ma23c014-indian-institute-of-technology-madras/fashion-mnist-dataset' target=\"_blank\">Weights & Biases</a> (<a href='https://wandb.me/developer-guide' target=\"_blank\">docs</a>)<br>Sweep page: <a href='https://wandb.ai/ma23c014-indian-institute-of-technology-madras/fashion-mnist-dataset/sweeps/f4yt29uq' target=\"_blank\">https://wandb.ai/ma23c014-indian-institute-of-technology-madras/fashion-mnist-dataset/sweeps/f4yt29uq</a>"
      ],
      "text/plain": [
       "<IPython.core.display.HTML object>"
      ]
     },
     "metadata": {},
     "output_type": "display_data"
    },
    {
     "data": {
      "text/html": [
       " View project at <a href='https://wandb.ai/ma23c014-indian-institute-of-technology-madras/fashion-mnist-dataset' target=\"_blank\">https://wandb.ai/ma23c014-indian-institute-of-technology-madras/fashion-mnist-dataset</a>"
      ],
      "text/plain": [
       "<IPython.core.display.HTML object>"
      ]
     },
     "metadata": {},
     "output_type": "display_data"
    },
    {
     "data": {
      "text/html": [
       " View sweep at <a href='https://wandb.ai/ma23c014-indian-institute-of-technology-madras/fashion-mnist-dataset/sweeps/f4yt29uq' target=\"_blank\">https://wandb.ai/ma23c014-indian-institute-of-technology-madras/fashion-mnist-dataset/sweeps/f4yt29uq</a>"
      ],
      "text/plain": [
       "<IPython.core.display.HTML object>"
      ]
     },
     "metadata": {},
     "output_type": "display_data"
    },
    {
     "data": {
      "text/html": [
       " View run at <a href='https://wandb.ai/ma23c014-indian-institute-of-technology-madras/fashion-mnist-dataset/runs/1s4s1acg' target=\"_blank\">https://wandb.ai/ma23c014-indian-institute-of-technology-madras/fashion-mnist-dataset/runs/1s4s1acg</a>"
      ],
      "text/plain": [
       "<IPython.core.display.HTML object>"
      ]
     },
     "metadata": {},
     "output_type": "display_data"
    },
    {
     "data": {
      "text/html": [],
      "text/plain": [
       "<IPython.core.display.HTML object>"
      ]
     },
     "metadata": {},
     "output_type": "display_data"
    },
    {
     "data": {
      "text/html": [
       "<br>    <style><br>        .wandb-row {<br>            display: flex;<br>            flex-direction: row;<br>            flex-wrap: wrap;<br>            justify-content: flex-start;<br>            width: 100%;<br>        }<br>        .wandb-col {<br>            display: flex;<br>            flex-direction: column;<br>            flex-basis: 100%;<br>            flex: 1;<br>            padding: 10px;<br>        }<br>    </style><br><div class=\"wandb-row\"><div class=\"wandb-col\"><h3>Run history:</h3><br/><table class=\"wandb\"><tr><td>epoch</td><td>▁▂▃▃▄▅▆▆▇█</td></tr><tr><td>train_accuracy</td><td>▁▅▆▇▇▇████</td></tr><tr><td>train_loss</td><td>█▄▃▂▂▂▁▁▁▁</td></tr><tr><td>val_accuracy</td><td>▁▅▆▇▇▇████</td></tr><tr><td>val_loss</td><td>█▄▃▂▂▂▁▁▁▁</td></tr></table><br/></div><div class=\"wandb-col\"><h3>Run summary:</h3><br/><table class=\"wandb\"><tr><td>epoch</td><td>10</td></tr><tr><td>train_accuracy</td><td>0.84339</td></tr><tr><td>train_loss</td><td>0.44326</td></tr><tr><td>val_accuracy</td><td>0.845</td></tr><tr><td>val_loss</td><td>0.44575</td></tr></table><br/></div></div>"
      ],
      "text/plain": [
       "<IPython.core.display.HTML object>"
      ]
     },
     "metadata": {},
     "output_type": "display_data"
    },
    {
     "data": {
      "text/html": [
       " View run <strong style=\"color:#cdcd00\">_hl_4_hn_32_opt_rmsprop_act_relu_lr_0.0001_bs_128_init_xavier_ep_10_l2_0.001</strong> at: <a href='https://wandb.ai/ma23c014-indian-institute-of-technology-madras/fashion-mnist-dataset/runs/1s4s1acg' target=\"_blank\">https://wandb.ai/ma23c014-indian-institute-of-technology-madras/fashion-mnist-dataset/runs/1s4s1acg</a><br> View project at: <a href='https://wandb.ai/ma23c014-indian-institute-of-technology-madras/fashion-mnist-dataset' target=\"_blank\">https://wandb.ai/ma23c014-indian-institute-of-technology-madras/fashion-mnist-dataset</a><br>Synced 5 W&B file(s), 0 media file(s), 0 artifact file(s) and 0 other file(s)"
      ],
      "text/plain": [
       "<IPython.core.display.HTML object>"
      ]
     },
     "metadata": {},
     "output_type": "display_data"
    },
    {
     "data": {
      "text/html": [
       "Find logs at: <code>.\\wandb\\run-20250317_070613-1s4s1acg\\logs</code>"
      ],
      "text/plain": [
       "<IPython.core.display.HTML object>"
      ]
     },
     "metadata": {},
     "output_type": "display_data"
    },
    {
     "name": "stderr",
     "output_type": "stream",
     "text": [
      "wandb: Agent Starting Run: j7901eqk with config:\n",
      "wandb: \tactivation: relu\n",
      "wandb: \tbatch_size: 128\n",
      "wandb: \tepochs: 20\n",
      "wandb: \thidden_size: 64\n",
      "wandb: \tlearning_rate: 0.01\n",
      "wandb: \tloss: cross_entropy\n",
      "wandb: \tnum_layers: 3\n",
      "wandb: \toptimizer: adam\n",
      "wandb: \tweight_decay: 0.001\n",
      "wandb: \tweight_init: xavier\n"
     ]
    },
    {
     "data": {
      "text/html": [
       "Tracking run with wandb version 0.19.8"
      ],
      "text/plain": [
       "<IPython.core.display.HTML object>"
      ]
     },
     "metadata": {},
     "output_type": "display_data"
    },
    {
     "data": {
      "text/html": [
       "Run data is saved locally in <code>C:\\Users\\lenovo\\fashion_mnist-backpropagation\\wandb\\run-20250317_070646-j7901eqk</code>"
      ],
      "text/plain": [
       "<IPython.core.display.HTML object>"
      ]
     },
     "metadata": {},
     "output_type": "display_data"
    },
    {
     "data": {
      "text/html": [
       "Syncing run <strong><a href='https://wandb.ai/ma23c014-indian-institute-of-technology-madras/fashion-mnist-dataset/runs/j7901eqk' target=\"_blank\">valiant-sweep-25</a></strong> to <a href='https://wandb.ai/ma23c014-indian-institute-of-technology-madras/fashion-mnist-dataset' target=\"_blank\">Weights & Biases</a> (<a href='https://wandb.me/developer-guide' target=\"_blank\">docs</a>)<br>Sweep page: <a href='https://wandb.ai/ma23c014-indian-institute-of-technology-madras/fashion-mnist-dataset/sweeps/f4yt29uq' target=\"_blank\">https://wandb.ai/ma23c014-indian-institute-of-technology-madras/fashion-mnist-dataset/sweeps/f4yt29uq</a>"
      ],
      "text/plain": [
       "<IPython.core.display.HTML object>"
      ]
     },
     "metadata": {},
     "output_type": "display_data"
    },
    {
     "data": {
      "text/html": [
       " View project at <a href='https://wandb.ai/ma23c014-indian-institute-of-technology-madras/fashion-mnist-dataset' target=\"_blank\">https://wandb.ai/ma23c014-indian-institute-of-technology-madras/fashion-mnist-dataset</a>"
      ],
      "text/plain": [
       "<IPython.core.display.HTML object>"
      ]
     },
     "metadata": {},
     "output_type": "display_data"
    },
    {
     "data": {
      "text/html": [
       " View sweep at <a href='https://wandb.ai/ma23c014-indian-institute-of-technology-madras/fashion-mnist-dataset/sweeps/f4yt29uq' target=\"_blank\">https://wandb.ai/ma23c014-indian-institute-of-technology-madras/fashion-mnist-dataset/sweeps/f4yt29uq</a>"
      ],
      "text/plain": [
       "<IPython.core.display.HTML object>"
      ]
     },
     "metadata": {},
     "output_type": "display_data"
    },
    {
     "data": {
      "text/html": [
       " View run at <a href='https://wandb.ai/ma23c014-indian-institute-of-technology-madras/fashion-mnist-dataset/runs/j7901eqk' target=\"_blank\">https://wandb.ai/ma23c014-indian-institute-of-technology-madras/fashion-mnist-dataset/runs/j7901eqk</a>"
      ],
      "text/plain": [
       "<IPython.core.display.HTML object>"
      ]
     },
     "metadata": {},
     "output_type": "display_data"
    },
    {
     "data": {
      "text/html": [],
      "text/plain": [
       "<IPython.core.display.HTML object>"
      ]
     },
     "metadata": {},
     "output_type": "display_data"
    },
    {
     "data": {
      "text/html": [
       "<br>    <style><br>        .wandb-row {<br>            display: flex;<br>            flex-direction: row;<br>            flex-wrap: wrap;<br>            justify-content: flex-start;<br>            width: 100%;<br>        }<br>        .wandb-col {<br>            display: flex;<br>            flex-direction: column;<br>            flex-basis: 100%;<br>            flex: 1;<br>            padding: 10px;<br>        }<br>    </style><br><div class=\"wandb-row\"><div class=\"wandb-col\"><h3>Run history:</h3><br/><table class=\"wandb\"><tr><td>epoch</td><td>▁▁▂▂▂▃▃▄▄▄▅▅▅▆▆▇▇▇██</td></tr><tr><td>train_accuracy</td><td>▄▁▄▇▆▇▇▅█▇█▅▇▆▇▇▇▆▄▆</td></tr><tr><td>train_loss</td><td>▇█▆▂▄▂▂▄▁▂▁▅▂▃▂▂▃▃▅▂</td></tr><tr><td>val_accuracy</td><td>▃▁▄▇▆▇▇▅█▇█▄▇▆▇▇▆▆▄▆</td></tr><tr><td>val_loss</td><td>▇█▆▂▄▂▂▄▁▂▁▆▂▄▂▂▃▃▆▂</td></tr></table><br/></div><div class=\"wandb-col\"><h3>Run summary:</h3><br/><table class=\"wandb\"><tr><td>epoch</td><td>20</td></tr><tr><td>train_accuracy</td><td>0.84231</td></tr><tr><td>train_loss</td><td>0.41734</td></tr><tr><td>val_accuracy</td><td>0.83917</td></tr><tr><td>val_loss</td><td>0.43007</td></tr></table><br/></div></div>"
      ],
      "text/plain": [
       "<IPython.core.display.HTML object>"
      ]
     },
     "metadata": {},
     "output_type": "display_data"
    },
    {
     "data": {
      "text/html": [
       " View run <strong style=\"color:#cdcd00\">_hl_3_hn_64_opt_adam_act_relu_lr_0.01_bs_128_init_xavier_ep_20_l2_0.001</strong> at: <a href='https://wandb.ai/ma23c014-indian-institute-of-technology-madras/fashion-mnist-dataset/runs/j7901eqk' target=\"_blank\">https://wandb.ai/ma23c014-indian-institute-of-technology-madras/fashion-mnist-dataset/runs/j7901eqk</a><br> View project at: <a href='https://wandb.ai/ma23c014-indian-institute-of-technology-madras/fashion-mnist-dataset' target=\"_blank\">https://wandb.ai/ma23c014-indian-institute-of-technology-madras/fashion-mnist-dataset</a><br>Synced 5 W&B file(s), 0 media file(s), 0 artifact file(s) and 0 other file(s)"
      ],
      "text/plain": [
       "<IPython.core.display.HTML object>"
      ]
     },
     "metadata": {},
     "output_type": "display_data"
    },
    {
     "data": {
      "text/html": [
       "Find logs at: <code>.\\wandb\\run-20250317_070646-j7901eqk\\logs</code>"
      ],
      "text/plain": [
       "<IPython.core.display.HTML object>"
      ]
     },
     "metadata": {},
     "output_type": "display_data"
    },
    {
     "name": "stderr",
     "output_type": "stream",
     "text": [
      "wandb: Sweep Agent: Waiting for job.\n",
      "wandb: Job received.\n",
      "wandb: Agent Starting Run: grt30gs1 with config:\n",
      "wandb: \tactivation: relu\n",
      "wandb: \tbatch_size: 128\n",
      "wandb: \tepochs: 10\n",
      "wandb: \thidden_size: 64\n",
      "wandb: \tlearning_rate: 0.001\n",
      "wandb: \tloss: cross_entropy\n",
      "wandb: \tnum_layers: 4\n",
      "wandb: \toptimizer: nag\n",
      "wandb: \tweight_decay: 0.001\n",
      "wandb: \tweight_init: xavier\n"
     ]
    },
    {
     "data": {
      "text/html": [
       "Tracking run with wandb version 0.19.8"
      ],
      "text/plain": [
       "<IPython.core.display.HTML object>"
      ]
     },
     "metadata": {},
     "output_type": "display_data"
    },
    {
     "data": {
      "text/html": [
       "Run data is saved locally in <code>C:\\Users\\lenovo\\fashion_mnist-backpropagation\\wandb\\run-20250317_070801-grt30gs1</code>"
      ],
      "text/plain": [
       "<IPython.core.display.HTML object>"
      ]
     },
     "metadata": {},
     "output_type": "display_data"
    },
    {
     "data": {
      "text/html": [
       "Syncing run <strong><a href='https://wandb.ai/ma23c014-indian-institute-of-technology-madras/fashion-mnist-dataset/runs/grt30gs1' target=\"_blank\">cool-sweep-26</a></strong> to <a href='https://wandb.ai/ma23c014-indian-institute-of-technology-madras/fashion-mnist-dataset' target=\"_blank\">Weights & Biases</a> (<a href='https://wandb.me/developer-guide' target=\"_blank\">docs</a>)<br>Sweep page: <a href='https://wandb.ai/ma23c014-indian-institute-of-technology-madras/fashion-mnist-dataset/sweeps/f4yt29uq' target=\"_blank\">https://wandb.ai/ma23c014-indian-institute-of-technology-madras/fashion-mnist-dataset/sweeps/f4yt29uq</a>"
      ],
      "text/plain": [
       "<IPython.core.display.HTML object>"
      ]
     },
     "metadata": {},
     "output_type": "display_data"
    },
    {
     "data": {
      "text/html": [
       " View project at <a href='https://wandb.ai/ma23c014-indian-institute-of-technology-madras/fashion-mnist-dataset' target=\"_blank\">https://wandb.ai/ma23c014-indian-institute-of-technology-madras/fashion-mnist-dataset</a>"
      ],
      "text/plain": [
       "<IPython.core.display.HTML object>"
      ]
     },
     "metadata": {},
     "output_type": "display_data"
    },
    {
     "data": {
      "text/html": [
       " View sweep at <a href='https://wandb.ai/ma23c014-indian-institute-of-technology-madras/fashion-mnist-dataset/sweeps/f4yt29uq' target=\"_blank\">https://wandb.ai/ma23c014-indian-institute-of-technology-madras/fashion-mnist-dataset/sweeps/f4yt29uq</a>"
      ],
      "text/plain": [
       "<IPython.core.display.HTML object>"
      ]
     },
     "metadata": {},
     "output_type": "display_data"
    },
    {
     "data": {
      "text/html": [
       " View run at <a href='https://wandb.ai/ma23c014-indian-institute-of-technology-madras/fashion-mnist-dataset/runs/grt30gs1' target=\"_blank\">https://wandb.ai/ma23c014-indian-institute-of-technology-madras/fashion-mnist-dataset/runs/grt30gs1</a>"
      ],
      "text/plain": [
       "<IPython.core.display.HTML object>"
      ]
     },
     "metadata": {},
     "output_type": "display_data"
    },
    {
     "data": {
      "text/html": [],
      "text/plain": [
       "<IPython.core.display.HTML object>"
      ]
     },
     "metadata": {},
     "output_type": "display_data"
    },
    {
     "data": {
      "text/html": [
       "<br>    <style><br>        .wandb-row {<br>            display: flex;<br>            flex-direction: row;<br>            flex-wrap: wrap;<br>            justify-content: flex-start;<br>            width: 100%;<br>        }<br>        .wandb-col {<br>            display: flex;<br>            flex-direction: column;<br>            flex-basis: 100%;<br>            flex: 1;<br>            padding: 10px;<br>        }<br>    </style><br><div class=\"wandb-row\"><div class=\"wandb-col\"><h3>Run history:</h3><br/><table class=\"wandb\"><tr><td>epoch</td><td>▁▂▃▃▄▅▆▆▇█</td></tr><tr><td>train_accuracy</td><td>▁▅▆▇▇▇▇███</td></tr><tr><td>train_loss</td><td>█▅▃▃▂▂▂▁▁▁</td></tr><tr><td>val_accuracy</td><td>▁▅▆▇▇▇████</td></tr><tr><td>val_loss</td><td>█▄▃▂▂▂▂▁▁▁</td></tr></table><br/></div><div class=\"wandb-col\"><h3>Run summary:</h3><br/><table class=\"wandb\"><tr><td>epoch</td><td>10</td></tr><tr><td>train_accuracy</td><td>0.85881</td></tr><tr><td>train_loss</td><td>0.39383</td></tr><tr><td>val_accuracy</td><td>0.8585</td></tr><tr><td>val_loss</td><td>0.39608</td></tr></table><br/></div></div>"
      ],
      "text/plain": [
       "<IPython.core.display.HTML object>"
      ]
     },
     "metadata": {},
     "output_type": "display_data"
    },
    {
     "data": {
      "text/html": [
       " View run <strong style=\"color:#cdcd00\">_hl_4_hn_64_opt_nag_act_relu_lr_0.001_bs_128_init_xavier_ep_10_l2_0.001</strong> at: <a href='https://wandb.ai/ma23c014-indian-institute-of-technology-madras/fashion-mnist-dataset/runs/grt30gs1' target=\"_blank\">https://wandb.ai/ma23c014-indian-institute-of-technology-madras/fashion-mnist-dataset/runs/grt30gs1</a><br> View project at: <a href='https://wandb.ai/ma23c014-indian-institute-of-technology-madras/fashion-mnist-dataset' target=\"_blank\">https://wandb.ai/ma23c014-indian-institute-of-technology-madras/fashion-mnist-dataset</a><br>Synced 5 W&B file(s), 0 media file(s), 0 artifact file(s) and 0 other file(s)"
      ],
      "text/plain": [
       "<IPython.core.display.HTML object>"
      ]
     },
     "metadata": {},
     "output_type": "display_data"
    },
    {
     "data": {
      "text/html": [
       "Find logs at: <code>.\\wandb\\run-20250317_070801-grt30gs1\\logs</code>"
      ],
      "text/plain": [
       "<IPython.core.display.HTML object>"
      ]
     },
     "metadata": {},
     "output_type": "display_data"
    },
    {
     "name": "stderr",
     "output_type": "stream",
     "text": [
      "wandb: Agent Starting Run: afauxmch with config:\n",
      "wandb: \tactivation: relu\n",
      "wandb: \tbatch_size: 128\n",
      "wandb: \tepochs: 10\n",
      "wandb: \thidden_size: 64\n",
      "wandb: \tlearning_rate: 0.001\n",
      "wandb: \tloss: cross_entropy\n",
      "wandb: \tnum_layers: 4\n",
      "wandb: \toptimizer: rmsprop\n",
      "wandb: \tweight_decay: 0.001\n",
      "wandb: \tweight_init: random\n"
     ]
    },
    {
     "data": {
      "text/html": [
       "Tracking run with wandb version 0.19.8"
      ],
      "text/plain": [
       "<IPython.core.display.HTML object>"
      ]
     },
     "metadata": {},
     "output_type": "display_data"
    },
    {
     "data": {
      "text/html": [
       "Run data is saved locally in <code>C:\\Users\\lenovo\\fashion_mnist-backpropagation\\wandb\\run-20250317_070838-afauxmch</code>"
      ],
      "text/plain": [
       "<IPython.core.display.HTML object>"
      ]
     },
     "metadata": {},
     "output_type": "display_data"
    },
    {
     "data": {
      "text/html": [
       "Syncing run <strong><a href='https://wandb.ai/ma23c014-indian-institute-of-technology-madras/fashion-mnist-dataset/runs/afauxmch' target=\"_blank\">jolly-sweep-27</a></strong> to <a href='https://wandb.ai/ma23c014-indian-institute-of-technology-madras/fashion-mnist-dataset' target=\"_blank\">Weights & Biases</a> (<a href='https://wandb.me/developer-guide' target=\"_blank\">docs</a>)<br>Sweep page: <a href='https://wandb.ai/ma23c014-indian-institute-of-technology-madras/fashion-mnist-dataset/sweeps/f4yt29uq' target=\"_blank\">https://wandb.ai/ma23c014-indian-institute-of-technology-madras/fashion-mnist-dataset/sweeps/f4yt29uq</a>"
      ],
      "text/plain": [
       "<IPython.core.display.HTML object>"
      ]
     },
     "metadata": {},
     "output_type": "display_data"
    },
    {
     "data": {
      "text/html": [
       " View project at <a href='https://wandb.ai/ma23c014-indian-institute-of-technology-madras/fashion-mnist-dataset' target=\"_blank\">https://wandb.ai/ma23c014-indian-institute-of-technology-madras/fashion-mnist-dataset</a>"
      ],
      "text/plain": [
       "<IPython.core.display.HTML object>"
      ]
     },
     "metadata": {},
     "output_type": "display_data"
    },
    {
     "data": {
      "text/html": [
       " View sweep at <a href='https://wandb.ai/ma23c014-indian-institute-of-technology-madras/fashion-mnist-dataset/sweeps/f4yt29uq' target=\"_blank\">https://wandb.ai/ma23c014-indian-institute-of-technology-madras/fashion-mnist-dataset/sweeps/f4yt29uq</a>"
      ],
      "text/plain": [
       "<IPython.core.display.HTML object>"
      ]
     },
     "metadata": {},
     "output_type": "display_data"
    },
    {
     "data": {
      "text/html": [
       " View run at <a href='https://wandb.ai/ma23c014-indian-institute-of-technology-madras/fashion-mnist-dataset/runs/afauxmch' target=\"_blank\">https://wandb.ai/ma23c014-indian-institute-of-technology-madras/fashion-mnist-dataset/runs/afauxmch</a>"
      ],
      "text/plain": [
       "<IPython.core.display.HTML object>"
      ]
     },
     "metadata": {},
     "output_type": "display_data"
    },
    {
     "data": {
      "text/html": [],
      "text/plain": [
       "<IPython.core.display.HTML object>"
      ]
     },
     "metadata": {},
     "output_type": "display_data"
    },
    {
     "data": {
      "text/html": [
       "<br>    <style><br>        .wandb-row {<br>            display: flex;<br>            flex-direction: row;<br>            flex-wrap: wrap;<br>            justify-content: flex-start;<br>            width: 100%;<br>        }<br>        .wandb-col {<br>            display: flex;<br>            flex-direction: column;<br>            flex-basis: 100%;<br>            flex: 1;<br>            padding: 10px;<br>        }<br>    </style><br><div class=\"wandb-row\"><div class=\"wandb-col\"><h3>Run history:</h3><br/><table class=\"wandb\"><tr><td>epoch</td><td>▁▂▃▃▄▅▆▆▇█</td></tr><tr><td>train_accuracy</td><td>▁▄▅▆▆▇▇███</td></tr><tr><td>train_loss</td><td>█▅▃▂▂▂▂▁▁▁</td></tr><tr><td>val_accuracy</td><td>▁▅▆▇▇█▇█▇█</td></tr><tr><td>val_loss</td><td>█▄▃▂▂▁▂▁▁▁</td></tr></table><br/></div><div class=\"wandb-col\"><h3>Run summary:</h3><br/><table class=\"wandb\"><tr><td>epoch</td><td>10</td></tr><tr><td>train_accuracy</td><td>0.88233</td></tr><tr><td>train_loss</td><td>0.32449</td></tr><tr><td>val_accuracy</td><td>0.86617</td></tr><tr><td>val_loss</td><td>0.37156</td></tr></table><br/></div></div>"
      ],
      "text/plain": [
       "<IPython.core.display.HTML object>"
      ]
     },
     "metadata": {},
     "output_type": "display_data"
    },
    {
     "data": {
      "text/html": [
       " View run <strong style=\"color:#cdcd00\">_hl_4_hn_64_opt_rmsprop_act_relu_lr_0.001_bs_128_init_random_ep_10_l2_0.001</strong> at: <a href='https://wandb.ai/ma23c014-indian-institute-of-technology-madras/fashion-mnist-dataset/runs/afauxmch' target=\"_blank\">https://wandb.ai/ma23c014-indian-institute-of-technology-madras/fashion-mnist-dataset/runs/afauxmch</a><br> View project at: <a href='https://wandb.ai/ma23c014-indian-institute-of-technology-madras/fashion-mnist-dataset' target=\"_blank\">https://wandb.ai/ma23c014-indian-institute-of-technology-madras/fashion-mnist-dataset</a><br>Synced 5 W&B file(s), 0 media file(s), 0 artifact file(s) and 0 other file(s)"
      ],
      "text/plain": [
       "<IPython.core.display.HTML object>"
      ]
     },
     "metadata": {},
     "output_type": "display_data"
    },
    {
     "data": {
      "text/html": [
       "Find logs at: <code>.\\wandb\\run-20250317_070838-afauxmch\\logs</code>"
      ],
      "text/plain": [
       "<IPython.core.display.HTML object>"
      ]
     },
     "metadata": {},
     "output_type": "display_data"
    },
    {
     "name": "stderr",
     "output_type": "stream",
     "text": [
      "wandb: Agent Starting Run: qky0cmbl with config:\n",
      "wandb: \tactivation: relu\n",
      "wandb: \tbatch_size: 128\n",
      "wandb: \tepochs: 20\n",
      "wandb: \thidden_size: 64\n",
      "wandb: \tlearning_rate: 0.0001\n",
      "wandb: \tloss: cross_entropy\n",
      "wandb: \tnum_layers: 3\n",
      "wandb: \toptimizer: rmsprop\n",
      "wandb: \tweight_decay: 0.001\n",
      "wandb: \tweight_init: xavier\n"
     ]
    },
    {
     "data": {
      "text/html": [
       "Tracking run with wandb version 0.19.8"
      ],
      "text/plain": [
       "<IPython.core.display.HTML object>"
      ]
     },
     "metadata": {},
     "output_type": "display_data"
    },
    {
     "data": {
      "text/html": [
       "Run data is saved locally in <code>C:\\Users\\lenovo\\fashion_mnist-backpropagation\\wandb\\run-20250317_070915-qky0cmbl</code>"
      ],
      "text/plain": [
       "<IPython.core.display.HTML object>"
      ]
     },
     "metadata": {},
     "output_type": "display_data"
    },
    {
     "data": {
      "text/html": [
       "Syncing run <strong><a href='https://wandb.ai/ma23c014-indian-institute-of-technology-madras/fashion-mnist-dataset/runs/qky0cmbl' target=\"_blank\">dainty-sweep-28</a></strong> to <a href='https://wandb.ai/ma23c014-indian-institute-of-technology-madras/fashion-mnist-dataset' target=\"_blank\">Weights & Biases</a> (<a href='https://wandb.me/developer-guide' target=\"_blank\">docs</a>)<br>Sweep page: <a href='https://wandb.ai/ma23c014-indian-institute-of-technology-madras/fashion-mnist-dataset/sweeps/f4yt29uq' target=\"_blank\">https://wandb.ai/ma23c014-indian-institute-of-technology-madras/fashion-mnist-dataset/sweeps/f4yt29uq</a>"
      ],
      "text/plain": [
       "<IPython.core.display.HTML object>"
      ]
     },
     "metadata": {},
     "output_type": "display_data"
    },
    {
     "data": {
      "text/html": [
       " View project at <a href='https://wandb.ai/ma23c014-indian-institute-of-technology-madras/fashion-mnist-dataset' target=\"_blank\">https://wandb.ai/ma23c014-indian-institute-of-technology-madras/fashion-mnist-dataset</a>"
      ],
      "text/plain": [
       "<IPython.core.display.HTML object>"
      ]
     },
     "metadata": {},
     "output_type": "display_data"
    },
    {
     "data": {
      "text/html": [
       " View sweep at <a href='https://wandb.ai/ma23c014-indian-institute-of-technology-madras/fashion-mnist-dataset/sweeps/f4yt29uq' target=\"_blank\">https://wandb.ai/ma23c014-indian-institute-of-technology-madras/fashion-mnist-dataset/sweeps/f4yt29uq</a>"
      ],
      "text/plain": [
       "<IPython.core.display.HTML object>"
      ]
     },
     "metadata": {},
     "output_type": "display_data"
    },
    {
     "data": {
      "text/html": [
       " View run at <a href='https://wandb.ai/ma23c014-indian-institute-of-technology-madras/fashion-mnist-dataset/runs/qky0cmbl' target=\"_blank\">https://wandb.ai/ma23c014-indian-institute-of-technology-madras/fashion-mnist-dataset/runs/qky0cmbl</a>"
      ],
      "text/plain": [
       "<IPython.core.display.HTML object>"
      ]
     },
     "metadata": {},
     "output_type": "display_data"
    },
    {
     "data": {
      "text/html": [],
      "text/plain": [
       "<IPython.core.display.HTML object>"
      ]
     },
     "metadata": {},
     "output_type": "display_data"
    },
    {
     "data": {
      "text/html": [
       "<br>    <style><br>        .wandb-row {<br>            display: flex;<br>            flex-direction: row;<br>            flex-wrap: wrap;<br>            justify-content: flex-start;<br>            width: 100%;<br>        }<br>        .wandb-col {<br>            display: flex;<br>            flex-direction: column;<br>            flex-basis: 100%;<br>            flex: 1;<br>            padding: 10px;<br>        }<br>    </style><br><div class=\"wandb-row\"><div class=\"wandb-col\"><h3>Run history:</h3><br/><table class=\"wandb\"><tr><td>epoch</td><td>▁▁▂▂▂▃▃▄▄▄▅▅▅▆▆▇▇▇██</td></tr><tr><td>train_accuracy</td><td>▁▄▅▆▆▆▇▇▇▇▇▇▇███████</td></tr><tr><td>train_loss</td><td>█▅▄▃▃▃▂▂▂▂▂▂▂▁▁▁▁▁▁▁</td></tr><tr><td>val_accuracy</td><td>▁▄▆▆▇▇▇▇▇███████████</td></tr><tr><td>val_loss</td><td>█▅▄▃▃▂▂▂▂▂▂▁▁▁▁▁▁▁▁▁</td></tr></table><br/></div><div class=\"wandb-col\"><h3>Run summary:</h3><br/><table class=\"wandb\"><tr><td>epoch</td><td>20</td></tr><tr><td>train_accuracy</td><td>0.876</td></tr><tr><td>train_loss</td><td>0.35366</td></tr><tr><td>val_accuracy</td><td>0.8685</td></tr><tr><td>val_loss</td><td>0.37548</td></tr></table><br/></div></div>"
      ],
      "text/plain": [
       "<IPython.core.display.HTML object>"
      ]
     },
     "metadata": {},
     "output_type": "display_data"
    },
    {
     "data": {
      "text/html": [
       " View run <strong style=\"color:#cdcd00\">_hl_3_hn_64_opt_rmsprop_act_relu_lr_0.0001_bs_128_init_xavier_ep_20_l2_0.001</strong> at: <a href='https://wandb.ai/ma23c014-indian-institute-of-technology-madras/fashion-mnist-dataset/runs/qky0cmbl' target=\"_blank\">https://wandb.ai/ma23c014-indian-institute-of-technology-madras/fashion-mnist-dataset/runs/qky0cmbl</a><br> View project at: <a href='https://wandb.ai/ma23c014-indian-institute-of-technology-madras/fashion-mnist-dataset' target=\"_blank\">https://wandb.ai/ma23c014-indian-institute-of-technology-madras/fashion-mnist-dataset</a><br>Synced 5 W&B file(s), 0 media file(s), 0 artifact file(s) and 0 other file(s)"
      ],
      "text/plain": [
       "<IPython.core.display.HTML object>"
      ]
     },
     "metadata": {},
     "output_type": "display_data"
    },
    {
     "data": {
      "text/html": [
       "Find logs at: <code>.\\wandb\\run-20250317_070915-qky0cmbl\\logs</code>"
      ],
      "text/plain": [
       "<IPython.core.display.HTML object>"
      ]
     },
     "metadata": {},
     "output_type": "display_data"
    },
    {
     "name": "stderr",
     "output_type": "stream",
     "text": [
      "wandb: Agent Starting Run: wfdo1uio with config:\n",
      "wandb: \tactivation: relu\n",
      "wandb: \tbatch_size: 128\n",
      "wandb: \tepochs: 20\n",
      "wandb: \thidden_size: 32\n",
      "wandb: \tlearning_rate: 0.01\n",
      "wandb: \tloss: cross_entropy\n",
      "wandb: \tnum_layers: 4\n",
      "wandb: \toptimizer: adam\n",
      "wandb: \tweight_decay: 0.001\n",
      "wandb: \tweight_init: random\n"
     ]
    },
    {
     "data": {
      "text/html": [
       "Tracking run with wandb version 0.19.8"
      ],
      "text/plain": [
       "<IPython.core.display.HTML object>"
      ]
     },
     "metadata": {},
     "output_type": "display_data"
    },
    {
     "data": {
      "text/html": [
       "Run data is saved locally in <code>C:\\Users\\lenovo\\fashion_mnist-backpropagation\\wandb\\run-20250317_071014-wfdo1uio</code>"
      ],
      "text/plain": [
       "<IPython.core.display.HTML object>"
      ]
     },
     "metadata": {},
     "output_type": "display_data"
    },
    {
     "data": {
      "text/html": [
       "Syncing run <strong><a href='https://wandb.ai/ma23c014-indian-institute-of-technology-madras/fashion-mnist-dataset/runs/wfdo1uio' target=\"_blank\">zany-sweep-29</a></strong> to <a href='https://wandb.ai/ma23c014-indian-institute-of-technology-madras/fashion-mnist-dataset' target=\"_blank\">Weights & Biases</a> (<a href='https://wandb.me/developer-guide' target=\"_blank\">docs</a>)<br>Sweep page: <a href='https://wandb.ai/ma23c014-indian-institute-of-technology-madras/fashion-mnist-dataset/sweeps/f4yt29uq' target=\"_blank\">https://wandb.ai/ma23c014-indian-institute-of-technology-madras/fashion-mnist-dataset/sweeps/f4yt29uq</a>"
      ],
      "text/plain": [
       "<IPython.core.display.HTML object>"
      ]
     },
     "metadata": {},
     "output_type": "display_data"
    },
    {
     "data": {
      "text/html": [
       " View project at <a href='https://wandb.ai/ma23c014-indian-institute-of-technology-madras/fashion-mnist-dataset' target=\"_blank\">https://wandb.ai/ma23c014-indian-institute-of-technology-madras/fashion-mnist-dataset</a>"
      ],
      "text/plain": [
       "<IPython.core.display.HTML object>"
      ]
     },
     "metadata": {},
     "output_type": "display_data"
    },
    {
     "data": {
      "text/html": [
       " View sweep at <a href='https://wandb.ai/ma23c014-indian-institute-of-technology-madras/fashion-mnist-dataset/sweeps/f4yt29uq' target=\"_blank\">https://wandb.ai/ma23c014-indian-institute-of-technology-madras/fashion-mnist-dataset/sweeps/f4yt29uq</a>"
      ],
      "text/plain": [
       "<IPython.core.display.HTML object>"
      ]
     },
     "metadata": {},
     "output_type": "display_data"
    },
    {
     "data": {
      "text/html": [
       " View run at <a href='https://wandb.ai/ma23c014-indian-institute-of-technology-madras/fashion-mnist-dataset/runs/wfdo1uio' target=\"_blank\">https://wandb.ai/ma23c014-indian-institute-of-technology-madras/fashion-mnist-dataset/runs/wfdo1uio</a>"
      ],
      "text/plain": [
       "<IPython.core.display.HTML object>"
      ]
     },
     "metadata": {},
     "output_type": "display_data"
    },
    {
     "data": {
      "text/html": [],
      "text/plain": [
       "<IPython.core.display.HTML object>"
      ]
     },
     "metadata": {},
     "output_type": "display_data"
    },
    {
     "data": {
      "text/html": [
       "<br>    <style><br>        .wandb-row {<br>            display: flex;<br>            flex-direction: row;<br>            flex-wrap: wrap;<br>            justify-content: flex-start;<br>            width: 100%;<br>        }<br>        .wandb-col {<br>            display: flex;<br>            flex-direction: column;<br>            flex-basis: 100%;<br>            flex: 1;<br>            padding: 10px;<br>        }<br>    </style><br><div class=\"wandb-row\"><div class=\"wandb-col\"><h3>Run history:</h3><br/><table class=\"wandb\"><tr><td>epoch</td><td>▁▁▂▂▂▃▃▄▄▄▅▅▅▆▆▇▇▇██</td></tr><tr><td>train_accuracy</td><td>▁▂▄▄▇▇▇██▇▆▆▇▇▇▆▇▇▇█</td></tr><tr><td>train_loss</td><td>▇█▅▅▂▃▂▁▁▂▂▁▂▂▁▂▁▂▂▁</td></tr><tr><td>val_accuracy</td><td>▁▂▄▄▇▇▇█▇▆▅▆▆▆▆▆▆▇▇█</td></tr><tr><td>val_loss</td><td>▇█▅▅▂▃▂▁▁▂▃▁▂▁▂▃▁▁▂▁</td></tr></table><br/></div><div class=\"wandb-col\"><h3>Run summary:</h3><br/><table class=\"wandb\"><tr><td>epoch</td><td>20</td></tr><tr><td>train_accuracy</td><td>0.84365</td></tr><tr><td>train_loss</td><td>0.43542</td></tr><tr><td>val_accuracy</td><td>0.84133</td></tr><tr><td>val_loss</td><td>0.44913</td></tr></table><br/></div></div>"
      ],
      "text/plain": [
       "<IPython.core.display.HTML object>"
      ]
     },
     "metadata": {},
     "output_type": "display_data"
    },
    {
     "data": {
      "text/html": [
       " View run <strong style=\"color:#cdcd00\">_hl_4_hn_32_opt_adam_act_relu_lr_0.01_bs_128_init_random_ep_20_l2_0.001</strong> at: <a href='https://wandb.ai/ma23c014-indian-institute-of-technology-madras/fashion-mnist-dataset/runs/wfdo1uio' target=\"_blank\">https://wandb.ai/ma23c014-indian-institute-of-technology-madras/fashion-mnist-dataset/runs/wfdo1uio</a><br> View project at: <a href='https://wandb.ai/ma23c014-indian-institute-of-technology-madras/fashion-mnist-dataset' target=\"_blank\">https://wandb.ai/ma23c014-indian-institute-of-technology-madras/fashion-mnist-dataset</a><br>Synced 5 W&B file(s), 0 media file(s), 0 artifact file(s) and 0 other file(s)"
      ],
      "text/plain": [
       "<IPython.core.display.HTML object>"
      ]
     },
     "metadata": {},
     "output_type": "display_data"
    },
    {
     "data": {
      "text/html": [
       "Find logs at: <code>.\\wandb\\run-20250317_071014-wfdo1uio\\logs</code>"
      ],
      "text/plain": [
       "<IPython.core.display.HTML object>"
      ]
     },
     "metadata": {},
     "output_type": "display_data"
    },
    {
     "name": "stderr",
     "output_type": "stream",
     "text": [
      "wandb: Agent Starting Run: b971fs12 with config:\n",
      "wandb: \tactivation: relu\n",
      "wandb: \tbatch_size: 128\n",
      "wandb: \tepochs: 20\n",
      "wandb: \thidden_size: 32\n",
      "wandb: \tlearning_rate: 0.001\n",
      "wandb: \tloss: cross_entropy\n",
      "wandb: \tnum_layers: 4\n",
      "wandb: \toptimizer: momentum\n",
      "wandb: \tweight_decay: 0.0005\n",
      "wandb: \tweight_init: xavier\n"
     ]
    },
    {
     "data": {
      "text/html": [
       "Tracking run with wandb version 0.19.8"
      ],
      "text/plain": [
       "<IPython.core.display.HTML object>"
      ]
     },
     "metadata": {},
     "output_type": "display_data"
    },
    {
     "data": {
      "text/html": [
       "Run data is saved locally in <code>C:\\Users\\lenovo\\fashion_mnist-backpropagation\\wandb\\run-20250317_071102-b971fs12</code>"
      ],
      "text/plain": [
       "<IPython.core.display.HTML object>"
      ]
     },
     "metadata": {},
     "output_type": "display_data"
    },
    {
     "data": {
      "text/html": [
       "Syncing run <strong><a href='https://wandb.ai/ma23c014-indian-institute-of-technology-madras/fashion-mnist-dataset/runs/b971fs12' target=\"_blank\">blooming-sweep-30</a></strong> to <a href='https://wandb.ai/ma23c014-indian-institute-of-technology-madras/fashion-mnist-dataset' target=\"_blank\">Weights & Biases</a> (<a href='https://wandb.me/developer-guide' target=\"_blank\">docs</a>)<br>Sweep page: <a href='https://wandb.ai/ma23c014-indian-institute-of-technology-madras/fashion-mnist-dataset/sweeps/f4yt29uq' target=\"_blank\">https://wandb.ai/ma23c014-indian-institute-of-technology-madras/fashion-mnist-dataset/sweeps/f4yt29uq</a>"
      ],
      "text/plain": [
       "<IPython.core.display.HTML object>"
      ]
     },
     "metadata": {},
     "output_type": "display_data"
    },
    {
     "data": {
      "text/html": [
       " View project at <a href='https://wandb.ai/ma23c014-indian-institute-of-technology-madras/fashion-mnist-dataset' target=\"_blank\">https://wandb.ai/ma23c014-indian-institute-of-technology-madras/fashion-mnist-dataset</a>"
      ],
      "text/plain": [
       "<IPython.core.display.HTML object>"
      ]
     },
     "metadata": {},
     "output_type": "display_data"
    },
    {
     "data": {
      "text/html": [
       " View sweep at <a href='https://wandb.ai/ma23c014-indian-institute-of-technology-madras/fashion-mnist-dataset/sweeps/f4yt29uq' target=\"_blank\">https://wandb.ai/ma23c014-indian-institute-of-technology-madras/fashion-mnist-dataset/sweeps/f4yt29uq</a>"
      ],
      "text/plain": [
       "<IPython.core.display.HTML object>"
      ]
     },
     "metadata": {},
     "output_type": "display_data"
    },
    {
     "data": {
      "text/html": [
       " View run at <a href='https://wandb.ai/ma23c014-indian-institute-of-technology-madras/fashion-mnist-dataset/runs/b971fs12' target=\"_blank\">https://wandb.ai/ma23c014-indian-institute-of-technology-madras/fashion-mnist-dataset/runs/b971fs12</a>"
      ],
      "text/plain": [
       "<IPython.core.display.HTML object>"
      ]
     },
     "metadata": {},
     "output_type": "display_data"
    },
    {
     "data": {
      "text/html": [],
      "text/plain": [
       "<IPython.core.display.HTML object>"
      ]
     },
     "metadata": {},
     "output_type": "display_data"
    },
    {
     "data": {
      "text/html": [
       "<br>    <style><br>        .wandb-row {<br>            display: flex;<br>            flex-direction: row;<br>            flex-wrap: wrap;<br>            justify-content: flex-start;<br>            width: 100%;<br>        }<br>        .wandb-col {<br>            display: flex;<br>            flex-direction: column;<br>            flex-basis: 100%;<br>            flex: 1;<br>            padding: 10px;<br>        }<br>    </style><br><div class=\"wandb-row\"><div class=\"wandb-col\"><h3>Run history:</h3><br/><table class=\"wandb\"><tr><td>epoch</td><td>▁▁▂▂▂▃▃▄▄▄▅▅▅▆▆▇▇▇██</td></tr><tr><td>train_accuracy</td><td>▁▅▆▇▇▇▇▇▇▇██████████</td></tr><tr><td>train_loss</td><td>█▄▃▂▂▂▂▂▂▁▁▁▁▁▁▁▁▁▁▁</td></tr><tr><td>val_accuracy</td><td>▁▅▆▇▇▇▇▇████████████</td></tr><tr><td>val_loss</td><td>█▃▃▂▂▂▂▂▁▁▁▁▁▁▁▁▁▁▁▁</td></tr></table><br/></div><div class=\"wandb-col\"><h3>Run summary:</h3><br/><table class=\"wandb\"><tr><td>epoch</td><td>20</td></tr><tr><td>train_accuracy</td><td>0.86757</td></tr><tr><td>train_loss</td><td>0.37801</td></tr><tr><td>val_accuracy</td><td>0.86083</td></tr><tr><td>val_loss</td><td>0.40246</td></tr></table><br/></div></div>"
      ],
      "text/plain": [
       "<IPython.core.display.HTML object>"
      ]
     },
     "metadata": {},
     "output_type": "display_data"
    },
    {
     "data": {
      "text/html": [
       " View run <strong style=\"color:#cdcd00\">_hl_4_hn_32_opt_momentum_act_relu_lr_0.001_bs_128_init_xavier_ep_20_l2_0.0005</strong> at: <a href='https://wandb.ai/ma23c014-indian-institute-of-technology-madras/fashion-mnist-dataset/runs/b971fs12' target=\"_blank\">https://wandb.ai/ma23c014-indian-institute-of-technology-madras/fashion-mnist-dataset/runs/b971fs12</a><br> View project at: <a href='https://wandb.ai/ma23c014-indian-institute-of-technology-madras/fashion-mnist-dataset' target=\"_blank\">https://wandb.ai/ma23c014-indian-institute-of-technology-madras/fashion-mnist-dataset</a><br>Synced 5 W&B file(s), 0 media file(s), 0 artifact file(s) and 0 other file(s)"
      ],
      "text/plain": [
       "<IPython.core.display.HTML object>"
      ]
     },
     "metadata": {},
     "output_type": "display_data"
    },
    {
     "data": {
      "text/html": [
       "Find logs at: <code>.\\wandb\\run-20250317_071102-b971fs12\\logs</code>"
      ],
      "text/plain": [
       "<IPython.core.display.HTML object>"
      ]
     },
     "metadata": {},
     "output_type": "display_data"
    },
    {
     "name": "stderr",
     "output_type": "stream",
     "text": [
      "wandb: Agent Starting Run: b10p7f7w with config:\n",
      "wandb: \tactivation: relu\n",
      "wandb: \tbatch_size: 128\n",
      "wandb: \tepochs: 10\n",
      "wandb: \thidden_size: 32\n",
      "wandb: \tlearning_rate: 0.01\n",
      "wandb: \tloss: cross_entropy\n",
      "wandb: \tnum_layers: 4\n",
      "wandb: \toptimizer: adam\n",
      "wandb: \tweight_decay: 0.001\n",
      "wandb: \tweight_init: xavier\n"
     ]
    },
    {
     "data": {
      "text/html": [
       "Tracking run with wandb version 0.19.8"
      ],
      "text/plain": [
       "<IPython.core.display.HTML object>"
      ]
     },
     "metadata": {},
     "output_type": "display_data"
    },
    {
     "data": {
      "text/html": [
       "Run data is saved locally in <code>C:\\Users\\lenovo\\fashion_mnist-backpropagation\\wandb\\run-20250317_071144-b10p7f7w</code>"
      ],
      "text/plain": [
       "<IPython.core.display.HTML object>"
      ]
     },
     "metadata": {},
     "output_type": "display_data"
    },
    {
     "data": {
      "text/html": [
       "Syncing run <strong><a href='https://wandb.ai/ma23c014-indian-institute-of-technology-madras/fashion-mnist-dataset/runs/b10p7f7w' target=\"_blank\">desert-sweep-31</a></strong> to <a href='https://wandb.ai/ma23c014-indian-institute-of-technology-madras/fashion-mnist-dataset' target=\"_blank\">Weights & Biases</a> (<a href='https://wandb.me/developer-guide' target=\"_blank\">docs</a>)<br>Sweep page: <a href='https://wandb.ai/ma23c014-indian-institute-of-technology-madras/fashion-mnist-dataset/sweeps/f4yt29uq' target=\"_blank\">https://wandb.ai/ma23c014-indian-institute-of-technology-madras/fashion-mnist-dataset/sweeps/f4yt29uq</a>"
      ],
      "text/plain": [
       "<IPython.core.display.HTML object>"
      ]
     },
     "metadata": {},
     "output_type": "display_data"
    },
    {
     "data": {
      "text/html": [
       " View project at <a href='https://wandb.ai/ma23c014-indian-institute-of-technology-madras/fashion-mnist-dataset' target=\"_blank\">https://wandb.ai/ma23c014-indian-institute-of-technology-madras/fashion-mnist-dataset</a>"
      ],
      "text/plain": [
       "<IPython.core.display.HTML object>"
      ]
     },
     "metadata": {},
     "output_type": "display_data"
    },
    {
     "data": {
      "text/html": [
       " View sweep at <a href='https://wandb.ai/ma23c014-indian-institute-of-technology-madras/fashion-mnist-dataset/sweeps/f4yt29uq' target=\"_blank\">https://wandb.ai/ma23c014-indian-institute-of-technology-madras/fashion-mnist-dataset/sweeps/f4yt29uq</a>"
      ],
      "text/plain": [
       "<IPython.core.display.HTML object>"
      ]
     },
     "metadata": {},
     "output_type": "display_data"
    },
    {
     "data": {
      "text/html": [
       " View run at <a href='https://wandb.ai/ma23c014-indian-institute-of-technology-madras/fashion-mnist-dataset/runs/b10p7f7w' target=\"_blank\">https://wandb.ai/ma23c014-indian-institute-of-technology-madras/fashion-mnist-dataset/runs/b10p7f7w</a>"
      ],
      "text/plain": [
       "<IPython.core.display.HTML object>"
      ]
     },
     "metadata": {},
     "output_type": "display_data"
    },
    {
     "data": {
      "text/html": [],
      "text/plain": [
       "<IPython.core.display.HTML object>"
      ]
     },
     "metadata": {},
     "output_type": "display_data"
    },
    {
     "data": {
      "text/html": [
       "<br>    <style><br>        .wandb-row {<br>            display: flex;<br>            flex-direction: row;<br>            flex-wrap: wrap;<br>            justify-content: flex-start;<br>            width: 100%;<br>        }<br>        .wandb-col {<br>            display: flex;<br>            flex-direction: column;<br>            flex-basis: 100%;<br>            flex: 1;<br>            padding: 10px;<br>        }<br>    </style><br><div class=\"wandb-row\"><div class=\"wandb-col\"><h3>Run history:</h3><br/><table class=\"wandb\"><tr><td>epoch</td><td>▁▂▃▃▄▅▆▆▇█</td></tr><tr><td>train_accuracy</td><td>▁▆▇▆▄▅▇▇█▇</td></tr><tr><td>train_loss</td><td>█▄▃▃▅▃▂▂▁▃</td></tr><tr><td>val_accuracy</td><td>▁█▇▆▃▄▆▆█▆</td></tr><tr><td>val_loss</td><td>█▃▃▃▇▄▃▂▁▄</td></tr></table><br/></div><div class=\"wandb-col\"><h3>Run summary:</h3><br/><table class=\"wandb\"><tr><td>epoch</td><td>10</td></tr><tr><td>train_accuracy</td><td>0.82435</td></tr><tr><td>train_loss</td><td>0.48712</td></tr><tr><td>val_accuracy</td><td>0.8195</td></tr><tr><td>val_loss</td><td>0.49979</td></tr></table><br/></div></div>"
      ],
      "text/plain": [
       "<IPython.core.display.HTML object>"
      ]
     },
     "metadata": {},
     "output_type": "display_data"
    },
    {
     "data": {
      "text/html": [
       " View run <strong style=\"color:#cdcd00\">_hl_4_hn_32_opt_adam_act_relu_lr_0.01_bs_128_init_xavier_ep_10_l2_0.001</strong> at: <a href='https://wandb.ai/ma23c014-indian-institute-of-technology-madras/fashion-mnist-dataset/runs/b10p7f7w' target=\"_blank\">https://wandb.ai/ma23c014-indian-institute-of-technology-madras/fashion-mnist-dataset/runs/b10p7f7w</a><br> View project at: <a href='https://wandb.ai/ma23c014-indian-institute-of-technology-madras/fashion-mnist-dataset' target=\"_blank\">https://wandb.ai/ma23c014-indian-institute-of-technology-madras/fashion-mnist-dataset</a><br>Synced 5 W&B file(s), 0 media file(s), 0 artifact file(s) and 0 other file(s)"
      ],
      "text/plain": [
       "<IPython.core.display.HTML object>"
      ]
     },
     "metadata": {},
     "output_type": "display_data"
    },
    {
     "data": {
      "text/html": [
       "Find logs at: <code>.\\wandb\\run-20250317_071144-b10p7f7w\\logs</code>"
      ],
      "text/plain": [
       "<IPython.core.display.HTML object>"
      ]
     },
     "metadata": {},
     "output_type": "display_data"
    },
    {
     "name": "stderr",
     "output_type": "stream",
     "text": [
      "wandb: Agent Starting Run: ku0kj0s2 with config:\n",
      "wandb: \tactivation: relu\n",
      "wandb: \tbatch_size: 128\n",
      "wandb: \tepochs: 10\n",
      "wandb: \thidden_size: 32\n",
      "wandb: \tlearning_rate: 0.01\n",
      "wandb: \tloss: cross_entropy\n",
      "wandb: \tnum_layers: 4\n",
      "wandb: \toptimizer: momentum\n",
      "wandb: \tweight_decay: 0.001\n",
      "wandb: \tweight_init: xavier\n"
     ]
    },
    {
     "data": {
      "text/html": [
       "Tracking run with wandb version 0.19.8"
      ],
      "text/plain": [
       "<IPython.core.display.HTML object>"
      ]
     },
     "metadata": {},
     "output_type": "display_data"
    },
    {
     "data": {
      "text/html": [
       "Run data is saved locally in <code>C:\\Users\\lenovo\\fashion_mnist-backpropagation\\wandb\\run-20250317_071227-ku0kj0s2</code>"
      ],
      "text/plain": [
       "<IPython.core.display.HTML object>"
      ]
     },
     "metadata": {},
     "output_type": "display_data"
    },
    {
     "data": {
      "text/html": [
       "Syncing run <strong><a href='https://wandb.ai/ma23c014-indian-institute-of-technology-madras/fashion-mnist-dataset/runs/ku0kj0s2' target=\"_blank\">ancient-sweep-32</a></strong> to <a href='https://wandb.ai/ma23c014-indian-institute-of-technology-madras/fashion-mnist-dataset' target=\"_blank\">Weights & Biases</a> (<a href='https://wandb.me/developer-guide' target=\"_blank\">docs</a>)<br>Sweep page: <a href='https://wandb.ai/ma23c014-indian-institute-of-technology-madras/fashion-mnist-dataset/sweeps/f4yt29uq' target=\"_blank\">https://wandb.ai/ma23c014-indian-institute-of-technology-madras/fashion-mnist-dataset/sweeps/f4yt29uq</a>"
      ],
      "text/plain": [
       "<IPython.core.display.HTML object>"
      ]
     },
     "metadata": {},
     "output_type": "display_data"
    },
    {
     "data": {
      "text/html": [
       " View project at <a href='https://wandb.ai/ma23c014-indian-institute-of-technology-madras/fashion-mnist-dataset' target=\"_blank\">https://wandb.ai/ma23c014-indian-institute-of-technology-madras/fashion-mnist-dataset</a>"
      ],
      "text/plain": [
       "<IPython.core.display.HTML object>"
      ]
     },
     "metadata": {},
     "output_type": "display_data"
    },
    {
     "data": {
      "text/html": [
       " View sweep at <a href='https://wandb.ai/ma23c014-indian-institute-of-technology-madras/fashion-mnist-dataset/sweeps/f4yt29uq' target=\"_blank\">https://wandb.ai/ma23c014-indian-institute-of-technology-madras/fashion-mnist-dataset/sweeps/f4yt29uq</a>"
      ],
      "text/plain": [
       "<IPython.core.display.HTML object>"
      ]
     },
     "metadata": {},
     "output_type": "display_data"
    },
    {
     "data": {
      "text/html": [
       " View run at <a href='https://wandb.ai/ma23c014-indian-institute-of-technology-madras/fashion-mnist-dataset/runs/ku0kj0s2' target=\"_blank\">https://wandb.ai/ma23c014-indian-institute-of-technology-madras/fashion-mnist-dataset/runs/ku0kj0s2</a>"
      ],
      "text/plain": [
       "<IPython.core.display.HTML object>"
      ]
     },
     "metadata": {},
     "output_type": "display_data"
    },
    {
     "data": {
      "text/html": [],
      "text/plain": [
       "<IPython.core.display.HTML object>"
      ]
     },
     "metadata": {},
     "output_type": "display_data"
    },
    {
     "data": {
      "text/html": [
       "<br>    <style><br>        .wandb-row {<br>            display: flex;<br>            flex-direction: row;<br>            flex-wrap: wrap;<br>            justify-content: flex-start;<br>            width: 100%;<br>        }<br>        .wandb-col {<br>            display: flex;<br>            flex-direction: column;<br>            flex-basis: 100%;<br>            flex: 1;<br>            padding: 10px;<br>        }<br>    </style><br><div class=\"wandb-row\"><div class=\"wandb-col\"><h3>Run history:</h3><br/><table class=\"wandb\"><tr><td>epoch</td><td>▁▂▃▃▄▅▆▆▇█</td></tr><tr><td>train_accuracy</td><td>▁▃▅▆▇▇████</td></tr><tr><td>train_loss</td><td>█▆▄▃▂▂▂▁▁▁</td></tr><tr><td>val_accuracy</td><td>▁▃▅▅▇▇█▇██</td></tr><tr><td>val_loss</td><td>█▆▄▃▂▂▁▁▁▁</td></tr></table><br/></div><div class=\"wandb-col\"><h3>Run summary:</h3><br/><table class=\"wandb\"><tr><td>epoch</td><td>10</td></tr><tr><td>train_accuracy</td><td>0.88002</td></tr><tr><td>train_loss</td><td>0.32776</td></tr><tr><td>val_accuracy</td><td>0.87317</td></tr><tr><td>val_loss</td><td>0.35824</td></tr></table><br/></div></div>"
      ],
      "text/plain": [
       "<IPython.core.display.HTML object>"
      ]
     },
     "metadata": {},
     "output_type": "display_data"
    },
    {
     "data": {
      "text/html": [
       " View run <strong style=\"color:#cdcd00\">_hl_4_hn_32_opt_momentum_act_relu_lr_0.01_bs_128_init_xavier_ep_10_l2_0.001</strong> at: <a href='https://wandb.ai/ma23c014-indian-institute-of-technology-madras/fashion-mnist-dataset/runs/ku0kj0s2' target=\"_blank\">https://wandb.ai/ma23c014-indian-institute-of-technology-madras/fashion-mnist-dataset/runs/ku0kj0s2</a><br> View project at: <a href='https://wandb.ai/ma23c014-indian-institute-of-technology-madras/fashion-mnist-dataset' target=\"_blank\">https://wandb.ai/ma23c014-indian-institute-of-technology-madras/fashion-mnist-dataset</a><br>Synced 5 W&B file(s), 0 media file(s), 0 artifact file(s) and 0 other file(s)"
      ],
      "text/plain": [
       "<IPython.core.display.HTML object>"
      ]
     },
     "metadata": {},
     "output_type": "display_data"
    },
    {
     "data": {
      "text/html": [
       "Find logs at: <code>.\\wandb\\run-20250317_071227-ku0kj0s2\\logs</code>"
      ],
      "text/plain": [
       "<IPython.core.display.HTML object>"
      ]
     },
     "metadata": {},
     "output_type": "display_data"
    },
    {
     "name": "stderr",
     "output_type": "stream",
     "text": [
      "wandb: Agent Starting Run: 89z4jmrw with config:\n",
      "wandb: \tactivation: relu\n",
      "wandb: \tbatch_size: 128\n",
      "wandb: \tepochs: 20\n",
      "wandb: \thidden_size: 64\n",
      "wandb: \tlearning_rate: 0.001\n",
      "wandb: \tloss: cross_entropy\n",
      "wandb: \tnum_layers: 4\n",
      "wandb: \toptimizer: rmsprop\n",
      "wandb: \tweight_decay: 0.001\n",
      "wandb: \tweight_init: xavier\n"
     ]
    },
    {
     "data": {
      "text/html": [
       "Tracking run with wandb version 0.19.8"
      ],
      "text/plain": [
       "<IPython.core.display.HTML object>"
      ]
     },
     "metadata": {},
     "output_type": "display_data"
    },
    {
     "data": {
      "text/html": [
       "Run data is saved locally in <code>C:\\Users\\lenovo\\fashion_mnist-backpropagation\\wandb\\run-20250317_071254-89z4jmrw</code>"
      ],
      "text/plain": [
       "<IPython.core.display.HTML object>"
      ]
     },
     "metadata": {},
     "output_type": "display_data"
    },
    {
     "data": {
      "text/html": [
       "Syncing run <strong><a href='https://wandb.ai/ma23c014-indian-institute-of-technology-madras/fashion-mnist-dataset/runs/89z4jmrw' target=\"_blank\">youthful-sweep-33</a></strong> to <a href='https://wandb.ai/ma23c014-indian-institute-of-technology-madras/fashion-mnist-dataset' target=\"_blank\">Weights & Biases</a> (<a href='https://wandb.me/developer-guide' target=\"_blank\">docs</a>)<br>Sweep page: <a href='https://wandb.ai/ma23c014-indian-institute-of-technology-madras/fashion-mnist-dataset/sweeps/f4yt29uq' target=\"_blank\">https://wandb.ai/ma23c014-indian-institute-of-technology-madras/fashion-mnist-dataset/sweeps/f4yt29uq</a>"
      ],
      "text/plain": [
       "<IPython.core.display.HTML object>"
      ]
     },
     "metadata": {},
     "output_type": "display_data"
    },
    {
     "data": {
      "text/html": [
       " View project at <a href='https://wandb.ai/ma23c014-indian-institute-of-technology-madras/fashion-mnist-dataset' target=\"_blank\">https://wandb.ai/ma23c014-indian-institute-of-technology-madras/fashion-mnist-dataset</a>"
      ],
      "text/plain": [
       "<IPython.core.display.HTML object>"
      ]
     },
     "metadata": {},
     "output_type": "display_data"
    },
    {
     "data": {
      "text/html": [
       " View sweep at <a href='https://wandb.ai/ma23c014-indian-institute-of-technology-madras/fashion-mnist-dataset/sweeps/f4yt29uq' target=\"_blank\">https://wandb.ai/ma23c014-indian-institute-of-technology-madras/fashion-mnist-dataset/sweeps/f4yt29uq</a>"
      ],
      "text/plain": [
       "<IPython.core.display.HTML object>"
      ]
     },
     "metadata": {},
     "output_type": "display_data"
    },
    {
     "data": {
      "text/html": [
       " View run at <a href='https://wandb.ai/ma23c014-indian-institute-of-technology-madras/fashion-mnist-dataset/runs/89z4jmrw' target=\"_blank\">https://wandb.ai/ma23c014-indian-institute-of-technology-madras/fashion-mnist-dataset/runs/89z4jmrw</a>"
      ],
      "text/plain": [
       "<IPython.core.display.HTML object>"
      ]
     },
     "metadata": {},
     "output_type": "display_data"
    },
    {
     "data": {
      "text/html": [],
      "text/plain": [
       "<IPython.core.display.HTML object>"
      ]
     },
     "metadata": {},
     "output_type": "display_data"
    },
    {
     "data": {
      "text/html": [
       "<br>    <style><br>        .wandb-row {<br>            display: flex;<br>            flex-direction: row;<br>            flex-wrap: wrap;<br>            justify-content: flex-start;<br>            width: 100%;<br>        }<br>        .wandb-col {<br>            display: flex;<br>            flex-direction: column;<br>            flex-basis: 100%;<br>            flex: 1;<br>            padding: 10px;<br>        }<br>    </style><br><div class=\"wandb-row\"><div class=\"wandb-col\"><h3>Run history:</h3><br/><table class=\"wandb\"><tr><td>epoch</td><td>▁▁▂▂▂▃▃▄▄▄▅▅▅▆▆▇▇▇██</td></tr><tr><td>train_accuracy</td><td>▁▄▅▅▆▆▆▆▇▇▆▇▇▇▇█▇▇██</td></tr><tr><td>train_loss</td><td>█▅▄▄▃▃▃▂▂▂▂▂▂▁▂▁▂▁▁▁</td></tr><tr><td>val_accuracy</td><td>▁▄▆▆▆▇▇▇▇▇▆▇▇█▇█▇███</td></tr><tr><td>val_loss</td><td>█▄▃▃▂▂▂▂▁▁▂▂▂▁▂▁▂▂▁▁</td></tr></table><br/></div><div class=\"wandb-col\"><h3>Run summary:</h3><br/><table class=\"wandb\"><tr><td>epoch</td><td>20</td></tr><tr><td>train_accuracy</td><td>0.90094</td></tr><tr><td>train_loss</td><td>0.26607</td></tr><tr><td>val_accuracy</td><td>0.87983</td></tr><tr><td>val_loss</td><td>0.33346</td></tr></table><br/></div></div>"
      ],
      "text/plain": [
       "<IPython.core.display.HTML object>"
      ]
     },
     "metadata": {},
     "output_type": "display_data"
    },
    {
     "data": {
      "text/html": [
       " View run <strong style=\"color:#cdcd00\">_hl_4_hn_64_opt_rmsprop_act_relu_lr_0.001_bs_128_init_xavier_ep_20_l2_0.001</strong> at: <a href='https://wandb.ai/ma23c014-indian-institute-of-technology-madras/fashion-mnist-dataset/runs/89z4jmrw' target=\"_blank\">https://wandb.ai/ma23c014-indian-institute-of-technology-madras/fashion-mnist-dataset/runs/89z4jmrw</a><br> View project at: <a href='https://wandb.ai/ma23c014-indian-institute-of-technology-madras/fashion-mnist-dataset' target=\"_blank\">https://wandb.ai/ma23c014-indian-institute-of-technology-madras/fashion-mnist-dataset</a><br>Synced 5 W&B file(s), 0 media file(s), 0 artifact file(s) and 0 other file(s)"
      ],
      "text/plain": [
       "<IPython.core.display.HTML object>"
      ]
     },
     "metadata": {},
     "output_type": "display_data"
    },
    {
     "data": {
      "text/html": [
       "Find logs at: <code>.\\wandb\\run-20250317_071254-89z4jmrw\\logs</code>"
      ],
      "text/plain": [
       "<IPython.core.display.HTML object>"
      ]
     },
     "metadata": {},
     "output_type": "display_data"
    },
    {
     "name": "stderr",
     "output_type": "stream",
     "text": [
      "wandb: Agent Starting Run: 1stn5w91 with config:\n",
      "wandb: \tactivation: relu\n",
      "wandb: \tbatch_size: 32\n",
      "wandb: \tepochs: 5\n",
      "wandb: \thidden_size: 32\n",
      "wandb: \tlearning_rate: 0.01\n",
      "wandb: \tloss: cross_entropy\n",
      "wandb: \tnum_layers: 4\n",
      "wandb: \toptimizer: rmsprop\n",
      "wandb: \tweight_decay: 0.0005\n",
      "wandb: \tweight_init: random\n"
     ]
    },
    {
     "data": {
      "text/html": [
       "Tracking run with wandb version 0.19.8"
      ],
      "text/plain": [
       "<IPython.core.display.HTML object>"
      ]
     },
     "metadata": {},
     "output_type": "display_data"
    },
    {
     "data": {
      "text/html": [
       "Run data is saved locally in <code>C:\\Users\\lenovo\\fashion_mnist-backpropagation\\wandb\\run-20250317_071357-1stn5w91</code>"
      ],
      "text/plain": [
       "<IPython.core.display.HTML object>"
      ]
     },
     "metadata": {},
     "output_type": "display_data"
    },
    {
     "data": {
      "text/html": [
       "Syncing run <strong><a href='https://wandb.ai/ma23c014-indian-institute-of-technology-madras/fashion-mnist-dataset/runs/1stn5w91' target=\"_blank\">peachy-sweep-34</a></strong> to <a href='https://wandb.ai/ma23c014-indian-institute-of-technology-madras/fashion-mnist-dataset' target=\"_blank\">Weights & Biases</a> (<a href='https://wandb.me/developer-guide' target=\"_blank\">docs</a>)<br>Sweep page: <a href='https://wandb.ai/ma23c014-indian-institute-of-technology-madras/fashion-mnist-dataset/sweeps/f4yt29uq' target=\"_blank\">https://wandb.ai/ma23c014-indian-institute-of-technology-madras/fashion-mnist-dataset/sweeps/f4yt29uq</a>"
      ],
      "text/plain": [
       "<IPython.core.display.HTML object>"
      ]
     },
     "metadata": {},
     "output_type": "display_data"
    },
    {
     "data": {
      "text/html": [
       " View project at <a href='https://wandb.ai/ma23c014-indian-institute-of-technology-madras/fashion-mnist-dataset' target=\"_blank\">https://wandb.ai/ma23c014-indian-institute-of-technology-madras/fashion-mnist-dataset</a>"
      ],
      "text/plain": [
       "<IPython.core.display.HTML object>"
      ]
     },
     "metadata": {},
     "output_type": "display_data"
    },
    {
     "data": {
      "text/html": [
       " View sweep at <a href='https://wandb.ai/ma23c014-indian-institute-of-technology-madras/fashion-mnist-dataset/sweeps/f4yt29uq' target=\"_blank\">https://wandb.ai/ma23c014-indian-institute-of-technology-madras/fashion-mnist-dataset/sweeps/f4yt29uq</a>"
      ],
      "text/plain": [
       "<IPython.core.display.HTML object>"
      ]
     },
     "metadata": {},
     "output_type": "display_data"
    },
    {
     "data": {
      "text/html": [
       " View run at <a href='https://wandb.ai/ma23c014-indian-institute-of-technology-madras/fashion-mnist-dataset/runs/1stn5w91' target=\"_blank\">https://wandb.ai/ma23c014-indian-institute-of-technology-madras/fashion-mnist-dataset/runs/1stn5w91</a>"
      ],
      "text/plain": [
       "<IPython.core.display.HTML object>"
      ]
     },
     "metadata": {},
     "output_type": "display_data"
    },
    {
     "data": {
      "text/html": [],
      "text/plain": [
       "<IPython.core.display.HTML object>"
      ]
     },
     "metadata": {},
     "output_type": "display_data"
    },
    {
     "data": {
      "text/html": [
       "<br>    <style><br>        .wandb-row {<br>            display: flex;<br>            flex-direction: row;<br>            flex-wrap: wrap;<br>            justify-content: flex-start;<br>            width: 100%;<br>        }<br>        .wandb-col {<br>            display: flex;<br>            flex-direction: column;<br>            flex-basis: 100%;<br>            flex: 1;<br>            padding: 10px;<br>        }<br>    </style><br><div class=\"wandb-row\"><div class=\"wandb-col\"><h3>Run history:</h3><br/><table class=\"wandb\"><tr><td>epoch</td><td>▁▃▅▆█</td></tr><tr><td>train_accuracy</td><td>▁▃█▇▃</td></tr><tr><td>train_loss</td><td>█▆▁▅▅</td></tr><tr><td>val_accuracy</td><td>▁▂█▄▂</td></tr><tr><td>val_loss</td><td>█▆▁▆▆</td></tr></table><br/></div><div class=\"wandb-col\"><h3>Run summary:</h3><br/><table class=\"wandb\"><tr><td>epoch</td><td>5</td></tr><tr><td>train_accuracy</td><td>0.79013</td></tr><tr><td>train_loss</td><td>0.57766</td></tr><tr><td>val_accuracy</td><td>0.79117</td></tr><tr><td>val_loss</td><td>0.58399</td></tr></table><br/></div></div>"
      ],
      "text/plain": [
       "<IPython.core.display.HTML object>"
      ]
     },
     "metadata": {},
     "output_type": "display_data"
    },
    {
     "data": {
      "text/html": [
       " View run <strong style=\"color:#cdcd00\">_hl_4_hn_32_opt_rmsprop_act_relu_lr_0.01_bs_32_init_random_ep_5_l2_0.0005</strong> at: <a href='https://wandb.ai/ma23c014-indian-institute-of-technology-madras/fashion-mnist-dataset/runs/1stn5w91' target=\"_blank\">https://wandb.ai/ma23c014-indian-institute-of-technology-madras/fashion-mnist-dataset/runs/1stn5w91</a><br> View project at: <a href='https://wandb.ai/ma23c014-indian-institute-of-technology-madras/fashion-mnist-dataset' target=\"_blank\">https://wandb.ai/ma23c014-indian-institute-of-technology-madras/fashion-mnist-dataset</a><br>Synced 5 W&B file(s), 0 media file(s), 0 artifact file(s) and 0 other file(s)"
      ],
      "text/plain": [
       "<IPython.core.display.HTML object>"
      ]
     },
     "metadata": {},
     "output_type": "display_data"
    },
    {
     "data": {
      "text/html": [
       "Find logs at: <code>.\\wandb\\run-20250317_071357-1stn5w91\\logs</code>"
      ],
      "text/plain": [
       "<IPython.core.display.HTML object>"
      ]
     },
     "metadata": {},
     "output_type": "display_data"
    },
    {
     "name": "stderr",
     "output_type": "stream",
     "text": [
      "wandb: Sweep Agent: Waiting for job.\n",
      "wandb: Job received.\n",
      "wandb: Agent Starting Run: qjxea2ga with config:\n",
      "wandb: \tactivation: relu\n",
      "wandb: \tbatch_size: 128\n",
      "wandb: \tepochs: 5\n",
      "wandb: \thidden_size: 32\n",
      "wandb: \tlearning_rate: 0.01\n",
      "wandb: \tloss: cross_entropy\n",
      "wandb: \tnum_layers: 4\n",
      "wandb: \toptimizer: rmsprop\n",
      "wandb: \tweight_decay: 0.0001\n",
      "wandb: \tweight_init: xavier\n"
     ]
    },
    {
     "data": {
      "text/html": [
       "Tracking run with wandb version 0.19.8"
      ],
      "text/plain": [
       "<IPython.core.display.HTML object>"
      ]
     },
     "metadata": {},
     "output_type": "display_data"
    },
    {
     "data": {
      "text/html": [
       "Run data is saved locally in <code>C:\\Users\\lenovo\\fashion_mnist-backpropagation\\wandb\\run-20250317_071429-qjxea2ga</code>"
      ],
      "text/plain": [
       "<IPython.core.display.HTML object>"
      ]
     },
     "metadata": {},
     "output_type": "display_data"
    },
    {
     "data": {
      "text/html": [
       "Syncing run <strong><a href='https://wandb.ai/ma23c014-indian-institute-of-technology-madras/fashion-mnist-dataset/runs/qjxea2ga' target=\"_blank\">likely-sweep-35</a></strong> to <a href='https://wandb.ai/ma23c014-indian-institute-of-technology-madras/fashion-mnist-dataset' target=\"_blank\">Weights & Biases</a> (<a href='https://wandb.me/developer-guide' target=\"_blank\">docs</a>)<br>Sweep page: <a href='https://wandb.ai/ma23c014-indian-institute-of-technology-madras/fashion-mnist-dataset/sweeps/f4yt29uq' target=\"_blank\">https://wandb.ai/ma23c014-indian-institute-of-technology-madras/fashion-mnist-dataset/sweeps/f4yt29uq</a>"
      ],
      "text/plain": [
       "<IPython.core.display.HTML object>"
      ]
     },
     "metadata": {},
     "output_type": "display_data"
    },
    {
     "data": {
      "text/html": [
       " View project at <a href='https://wandb.ai/ma23c014-indian-institute-of-technology-madras/fashion-mnist-dataset' target=\"_blank\">https://wandb.ai/ma23c014-indian-institute-of-technology-madras/fashion-mnist-dataset</a>"
      ],
      "text/plain": [
       "<IPython.core.display.HTML object>"
      ]
     },
     "metadata": {},
     "output_type": "display_data"
    },
    {
     "data": {
      "text/html": [
       " View sweep at <a href='https://wandb.ai/ma23c014-indian-institute-of-technology-madras/fashion-mnist-dataset/sweeps/f4yt29uq' target=\"_blank\">https://wandb.ai/ma23c014-indian-institute-of-technology-madras/fashion-mnist-dataset/sweeps/f4yt29uq</a>"
      ],
      "text/plain": [
       "<IPython.core.display.HTML object>"
      ]
     },
     "metadata": {},
     "output_type": "display_data"
    },
    {
     "data": {
      "text/html": [
       " View run at <a href='https://wandb.ai/ma23c014-indian-institute-of-technology-madras/fashion-mnist-dataset/runs/qjxea2ga' target=\"_blank\">https://wandb.ai/ma23c014-indian-institute-of-technology-madras/fashion-mnist-dataset/runs/qjxea2ga</a>"
      ],
      "text/plain": [
       "<IPython.core.display.HTML object>"
      ]
     },
     "metadata": {},
     "output_type": "display_data"
    },
    {
     "data": {
      "text/html": [],
      "text/plain": [
       "<IPython.core.display.HTML object>"
      ]
     },
     "metadata": {},
     "output_type": "display_data"
    },
    {
     "data": {
      "text/html": [
       "<br>    <style><br>        .wandb-row {<br>            display: flex;<br>            flex-direction: row;<br>            flex-wrap: wrap;<br>            justify-content: flex-start;<br>            width: 100%;<br>        }<br>        .wandb-col {<br>            display: flex;<br>            flex-direction: column;<br>            flex-basis: 100%;<br>            flex: 1;<br>            padding: 10px;<br>        }<br>    </style><br><div class=\"wandb-row\"><div class=\"wandb-col\"><h3>Run history:</h3><br/><table class=\"wandb\"><tr><td>epoch</td><td>▁▃▅▆█</td></tr><tr><td>train_accuracy</td><td>▁▅▇██</td></tr><tr><td>train_loss</td><td>█▄▂▁▁</td></tr><tr><td>val_accuracy</td><td>▁▅███</td></tr><tr><td>val_loss</td><td>█▄▁▁▁</td></tr></table><br/></div><div class=\"wandb-col\"><h3>Run summary:</h3><br/><table class=\"wandb\"><tr><td>epoch</td><td>5</td></tr><tr><td>train_accuracy</td><td>0.85796</td></tr><tr><td>train_loss</td><td>0.39621</td></tr><tr><td>val_accuracy</td><td>0.85383</td></tr><tr><td>val_loss</td><td>0.4263</td></tr></table><br/></div></div>"
      ],
      "text/plain": [
       "<IPython.core.display.HTML object>"
      ]
     },
     "metadata": {},
     "output_type": "display_data"
    },
    {
     "data": {
      "text/html": [
       " View run <strong style=\"color:#cdcd00\">_hl_4_hn_32_opt_rmsprop_act_relu_lr_0.01_bs_128_init_xavier_ep_5_l2_0.0001</strong> at: <a href='https://wandb.ai/ma23c014-indian-institute-of-technology-madras/fashion-mnist-dataset/runs/qjxea2ga' target=\"_blank\">https://wandb.ai/ma23c014-indian-institute-of-technology-madras/fashion-mnist-dataset/runs/qjxea2ga</a><br> View project at: <a href='https://wandb.ai/ma23c014-indian-institute-of-technology-madras/fashion-mnist-dataset' target=\"_blank\">https://wandb.ai/ma23c014-indian-institute-of-technology-madras/fashion-mnist-dataset</a><br>Synced 5 W&B file(s), 0 media file(s), 0 artifact file(s) and 0 other file(s)"
      ],
      "text/plain": [
       "<IPython.core.display.HTML object>"
      ]
     },
     "metadata": {},
     "output_type": "display_data"
    },
    {
     "data": {
      "text/html": [
       "Find logs at: <code>.\\wandb\\run-20250317_071429-qjxea2ga\\logs</code>"
      ],
      "text/plain": [
       "<IPython.core.display.HTML object>"
      ]
     },
     "metadata": {},
     "output_type": "display_data"
    },
    {
     "name": "stderr",
     "output_type": "stream",
     "text": [
      "wandb: Agent Starting Run: 15xdm59y with config:\n",
      "wandb: \tactivation: relu\n",
      "wandb: \tbatch_size: 128\n",
      "wandb: \tepochs: 20\n",
      "wandb: \thidden_size: 32\n",
      "wandb: \tlearning_rate: 0.001\n",
      "wandb: \tloss: cross_entropy\n",
      "wandb: \tnum_layers: 3\n",
      "wandb: \toptimizer: rmsprop\n",
      "wandb: \tweight_decay: 0.001\n",
      "wandb: \tweight_init: xavier\n"
     ]
    },
    {
     "data": {
      "text/html": [
       "Tracking run with wandb version 0.19.8"
      ],
      "text/plain": [
       "<IPython.core.display.HTML object>"
      ]
     },
     "metadata": {},
     "output_type": "display_data"
    },
    {
     "data": {
      "text/html": [
       "Run data is saved locally in <code>C:\\Users\\lenovo\\fashion_mnist-backpropagation\\wandb\\run-20250317_071446-15xdm59y</code>"
      ],
      "text/plain": [
       "<IPython.core.display.HTML object>"
      ]
     },
     "metadata": {},
     "output_type": "display_data"
    },
    {
     "data": {
      "text/html": [
       "Syncing run <strong><a href='https://wandb.ai/ma23c014-indian-institute-of-technology-madras/fashion-mnist-dataset/runs/15xdm59y' target=\"_blank\">drawn-sweep-36</a></strong> to <a href='https://wandb.ai/ma23c014-indian-institute-of-technology-madras/fashion-mnist-dataset' target=\"_blank\">Weights & Biases</a> (<a href='https://wandb.me/developer-guide' target=\"_blank\">docs</a>)<br>Sweep page: <a href='https://wandb.ai/ma23c014-indian-institute-of-technology-madras/fashion-mnist-dataset/sweeps/f4yt29uq' target=\"_blank\">https://wandb.ai/ma23c014-indian-institute-of-technology-madras/fashion-mnist-dataset/sweeps/f4yt29uq</a>"
      ],
      "text/plain": [
       "<IPython.core.display.HTML object>"
      ]
     },
     "metadata": {},
     "output_type": "display_data"
    },
    {
     "data": {
      "text/html": [
       " View project at <a href='https://wandb.ai/ma23c014-indian-institute-of-technology-madras/fashion-mnist-dataset' target=\"_blank\">https://wandb.ai/ma23c014-indian-institute-of-technology-madras/fashion-mnist-dataset</a>"
      ],
      "text/plain": [
       "<IPython.core.display.HTML object>"
      ]
     },
     "metadata": {},
     "output_type": "display_data"
    },
    {
     "data": {
      "text/html": [
       " View sweep at <a href='https://wandb.ai/ma23c014-indian-institute-of-technology-madras/fashion-mnist-dataset/sweeps/f4yt29uq' target=\"_blank\">https://wandb.ai/ma23c014-indian-institute-of-technology-madras/fashion-mnist-dataset/sweeps/f4yt29uq</a>"
      ],
      "text/plain": [
       "<IPython.core.display.HTML object>"
      ]
     },
     "metadata": {},
     "output_type": "display_data"
    },
    {
     "data": {
      "text/html": [
       " View run at <a href='https://wandb.ai/ma23c014-indian-institute-of-technology-madras/fashion-mnist-dataset/runs/15xdm59y' target=\"_blank\">https://wandb.ai/ma23c014-indian-institute-of-technology-madras/fashion-mnist-dataset/runs/15xdm59y</a>"
      ],
      "text/plain": [
       "<IPython.core.display.HTML object>"
      ]
     },
     "metadata": {},
     "output_type": "display_data"
    },
    {
     "data": {
      "text/html": [],
      "text/plain": [
       "<IPython.core.display.HTML object>"
      ]
     },
     "metadata": {},
     "output_type": "display_data"
    },
    {
     "data": {
      "text/html": [
       "<br>    <style><br>        .wandb-row {<br>            display: flex;<br>            flex-direction: row;<br>            flex-wrap: wrap;<br>            justify-content: flex-start;<br>            width: 100%;<br>        }<br>        .wandb-col {<br>            display: flex;<br>            flex-direction: column;<br>            flex-basis: 100%;<br>            flex: 1;<br>            padding: 10px;<br>        }<br>    </style><br><div class=\"wandb-row\"><div class=\"wandb-col\"><h3>Run history:</h3><br/><table class=\"wandb\"><tr><td>epoch</td><td>▁▁▂▂▂▃▃▄▄▄▅▅▅▆▆▇▇▇██</td></tr><tr><td>train_accuracy</td><td>▁▃▄▅▆▆▆▆▇▇▇▇████████</td></tr><tr><td>train_loss</td><td>█▆▅▄▃▃▃▂▂▂▂▂▁▁▁▁▁▁▁▁</td></tr><tr><td>val_accuracy</td><td>▁▄▅▆▇▇▇▇▇▇██████████</td></tr><tr><td>val_loss</td><td>█▅▄▃▃▂▂▂▂▂▁▁▁▁▁▁▁▁▁▁</td></tr></table><br/></div><div class=\"wandb-col\"><h3>Run summary:</h3><br/><table class=\"wandb\"><tr><td>epoch</td><td>20</td></tr><tr><td>train_accuracy</td><td>0.89115</td></tr><tr><td>train_loss</td><td>0.29932</td></tr><tr><td>val_accuracy</td><td>0.873</td></tr><tr><td>val_loss</td><td>0.34884</td></tr></table><br/></div></div>"
      ],
      "text/plain": [
       "<IPython.core.display.HTML object>"
      ]
     },
     "metadata": {},
     "output_type": "display_data"
    },
    {
     "data": {
      "text/html": [
       " View run <strong style=\"color:#cdcd00\">_hl_3_hn_32_opt_rmsprop_act_relu_lr_0.001_bs_128_init_xavier_ep_20_l2_0.001</strong> at: <a href='https://wandb.ai/ma23c014-indian-institute-of-technology-madras/fashion-mnist-dataset/runs/15xdm59y' target=\"_blank\">https://wandb.ai/ma23c014-indian-institute-of-technology-madras/fashion-mnist-dataset/runs/15xdm59y</a><br> View project at: <a href='https://wandb.ai/ma23c014-indian-institute-of-technology-madras/fashion-mnist-dataset' target=\"_blank\">https://wandb.ai/ma23c014-indian-institute-of-technology-madras/fashion-mnist-dataset</a><br>Synced 5 W&B file(s), 0 media file(s), 0 artifact file(s) and 0 other file(s)"
      ],
      "text/plain": [
       "<IPython.core.display.HTML object>"
      ]
     },
     "metadata": {},
     "output_type": "display_data"
    },
    {
     "data": {
      "text/html": [
       "Find logs at: <code>.\\wandb\\run-20250317_071446-15xdm59y\\logs</code>"
      ],
      "text/plain": [
       "<IPython.core.display.HTML object>"
      ]
     },
     "metadata": {},
     "output_type": "display_data"
    },
    {
     "name": "stderr",
     "output_type": "stream",
     "text": [
      "wandb: Agent Starting Run: jm11tiwh with config:\n",
      "wandb: \tactivation: relu\n",
      "wandb: \tbatch_size: 128\n",
      "wandb: \tepochs: 5\n",
      "wandb: \thidden_size: 32\n",
      "wandb: \tlearning_rate: 0.01\n",
      "wandb: \tloss: cross_entropy\n",
      "wandb: \tnum_layers: 4\n",
      "wandb: \toptimizer: rmsprop\n",
      "wandb: \tweight_decay: 0.001\n",
      "wandb: \tweight_init: random\n"
     ]
    },
    {
     "data": {
      "text/html": [
       "Tracking run with wandb version 0.19.8"
      ],
      "text/plain": [
       "<IPython.core.display.HTML object>"
      ]
     },
     "metadata": {},
     "output_type": "display_data"
    },
    {
     "data": {
      "text/html": [
       "Run data is saved locally in <code>C:\\Users\\lenovo\\fashion_mnist-backpropagation\\wandb\\run-20250317_071523-jm11tiwh</code>"
      ],
      "text/plain": [
       "<IPython.core.display.HTML object>"
      ]
     },
     "metadata": {},
     "output_type": "display_data"
    },
    {
     "data": {
      "text/html": [
       "Syncing run <strong><a href='https://wandb.ai/ma23c014-indian-institute-of-technology-madras/fashion-mnist-dataset/runs/jm11tiwh' target=\"_blank\">solar-sweep-37</a></strong> to <a href='https://wandb.ai/ma23c014-indian-institute-of-technology-madras/fashion-mnist-dataset' target=\"_blank\">Weights & Biases</a> (<a href='https://wandb.me/developer-guide' target=\"_blank\">docs</a>)<br>Sweep page: <a href='https://wandb.ai/ma23c014-indian-institute-of-technology-madras/fashion-mnist-dataset/sweeps/f4yt29uq' target=\"_blank\">https://wandb.ai/ma23c014-indian-institute-of-technology-madras/fashion-mnist-dataset/sweeps/f4yt29uq</a>"
      ],
      "text/plain": [
       "<IPython.core.display.HTML object>"
      ]
     },
     "metadata": {},
     "output_type": "display_data"
    },
    {
     "data": {
      "text/html": [
       " View project at <a href='https://wandb.ai/ma23c014-indian-institute-of-technology-madras/fashion-mnist-dataset' target=\"_blank\">https://wandb.ai/ma23c014-indian-institute-of-technology-madras/fashion-mnist-dataset</a>"
      ],
      "text/plain": [
       "<IPython.core.display.HTML object>"
      ]
     },
     "metadata": {},
     "output_type": "display_data"
    },
    {
     "data": {
      "text/html": [
       " View sweep at <a href='https://wandb.ai/ma23c014-indian-institute-of-technology-madras/fashion-mnist-dataset/sweeps/f4yt29uq' target=\"_blank\">https://wandb.ai/ma23c014-indian-institute-of-technology-madras/fashion-mnist-dataset/sweeps/f4yt29uq</a>"
      ],
      "text/plain": [
       "<IPython.core.display.HTML object>"
      ]
     },
     "metadata": {},
     "output_type": "display_data"
    },
    {
     "data": {
      "text/html": [
       " View run at <a href='https://wandb.ai/ma23c014-indian-institute-of-technology-madras/fashion-mnist-dataset/runs/jm11tiwh' target=\"_blank\">https://wandb.ai/ma23c014-indian-institute-of-technology-madras/fashion-mnist-dataset/runs/jm11tiwh</a>"
      ],
      "text/plain": [
       "<IPython.core.display.HTML object>"
      ]
     },
     "metadata": {},
     "output_type": "display_data"
    },
    {
     "data": {
      "text/html": [],
      "text/plain": [
       "<IPython.core.display.HTML object>"
      ]
     },
     "metadata": {},
     "output_type": "display_data"
    },
    {
     "data": {
      "text/html": [
       "<br>    <style><br>        .wandb-row {<br>            display: flex;<br>            flex-direction: row;<br>            flex-wrap: wrap;<br>            justify-content: flex-start;<br>            width: 100%;<br>        }<br>        .wandb-col {<br>            display: flex;<br>            flex-direction: column;<br>            flex-basis: 100%;<br>            flex: 1;<br>            padding: 10px;<br>        }<br>    </style><br><div class=\"wandb-row\"><div class=\"wandb-col\"><h3>Run history:</h3><br/><table class=\"wandb\"><tr><td>epoch</td><td>▁▃▅▆█</td></tr><tr><td>train_accuracy</td><td>▂▁███</td></tr><tr><td>train_loss</td><td>▇█▁▃▁</td></tr><tr><td>val_accuracy</td><td>▃▁███</td></tr><tr><td>val_loss</td><td>▆█▁▃▁</td></tr></table><br/></div><div class=\"wandb-col\"><h3>Run summary:</h3><br/><table class=\"wandb\"><tr><td>epoch</td><td>5</td></tr><tr><td>train_accuracy</td><td>0.81996</td></tr><tr><td>train_loss</td><td>0.49886</td></tr><tr><td>val_accuracy</td><td>0.81617</td></tr><tr><td>val_loss</td><td>0.51008</td></tr></table><br/></div></div>"
      ],
      "text/plain": [
       "<IPython.core.display.HTML object>"
      ]
     },
     "metadata": {},
     "output_type": "display_data"
    },
    {
     "data": {
      "text/html": [
       " View run <strong style=\"color:#cdcd00\">_hl_4_hn_32_opt_rmsprop_act_relu_lr_0.01_bs_128_init_random_ep_5_l2_0.001</strong> at: <a href='https://wandb.ai/ma23c014-indian-institute-of-technology-madras/fashion-mnist-dataset/runs/jm11tiwh' target=\"_blank\">https://wandb.ai/ma23c014-indian-institute-of-technology-madras/fashion-mnist-dataset/runs/jm11tiwh</a><br> View project at: <a href='https://wandb.ai/ma23c014-indian-institute-of-technology-madras/fashion-mnist-dataset' target=\"_blank\">https://wandb.ai/ma23c014-indian-institute-of-technology-madras/fashion-mnist-dataset</a><br>Synced 5 W&B file(s), 0 media file(s), 0 artifact file(s) and 0 other file(s)"
      ],
      "text/plain": [
       "<IPython.core.display.HTML object>"
      ]
     },
     "metadata": {},
     "output_type": "display_data"
    },
    {
     "data": {
      "text/html": [
       "Find logs at: <code>.\\wandb\\run-20250317_071523-jm11tiwh\\logs</code>"
      ],
      "text/plain": [
       "<IPython.core.display.HTML object>"
      ]
     },
     "metadata": {},
     "output_type": "display_data"
    },
    {
     "name": "stderr",
     "output_type": "stream",
     "text": [
      "wandb: Agent Starting Run: 18bprwkm with config:\n",
      "wandb: \tactivation: relu\n",
      "wandb: \tbatch_size: 128\n",
      "wandb: \tepochs: 10\n",
      "wandb: \thidden_size: 32\n",
      "wandb: \tlearning_rate: 0.01\n",
      "wandb: \tloss: cross_entropy\n",
      "wandb: \tnum_layers: 4\n",
      "wandb: \toptimizer: nag\n",
      "wandb: \tweight_decay: 0.0001\n",
      "wandb: \tweight_init: xavier\n"
     ]
    },
    {
     "data": {
      "text/html": [
       "Tracking run with wandb version 0.19.8"
      ],
      "text/plain": [
       "<IPython.core.display.HTML object>"
      ]
     },
     "metadata": {},
     "output_type": "display_data"
    },
    {
     "data": {
      "text/html": [
       "Run data is saved locally in <code>C:\\Users\\lenovo\\fashion_mnist-backpropagation\\wandb\\run-20250317_071539-18bprwkm</code>"
      ],
      "text/plain": [
       "<IPython.core.display.HTML object>"
      ]
     },
     "metadata": {},
     "output_type": "display_data"
    },
    {
     "data": {
      "text/html": [
       "Syncing run <strong><a href='https://wandb.ai/ma23c014-indian-institute-of-technology-madras/fashion-mnist-dataset/runs/18bprwkm' target=\"_blank\">devoted-sweep-38</a></strong> to <a href='https://wandb.ai/ma23c014-indian-institute-of-technology-madras/fashion-mnist-dataset' target=\"_blank\">Weights & Biases</a> (<a href='https://wandb.me/developer-guide' target=\"_blank\">docs</a>)<br>Sweep page: <a href='https://wandb.ai/ma23c014-indian-institute-of-technology-madras/fashion-mnist-dataset/sweeps/f4yt29uq' target=\"_blank\">https://wandb.ai/ma23c014-indian-institute-of-technology-madras/fashion-mnist-dataset/sweeps/f4yt29uq</a>"
      ],
      "text/plain": [
       "<IPython.core.display.HTML object>"
      ]
     },
     "metadata": {},
     "output_type": "display_data"
    },
    {
     "data": {
      "text/html": [
       " View project at <a href='https://wandb.ai/ma23c014-indian-institute-of-technology-madras/fashion-mnist-dataset' target=\"_blank\">https://wandb.ai/ma23c014-indian-institute-of-technology-madras/fashion-mnist-dataset</a>"
      ],
      "text/plain": [
       "<IPython.core.display.HTML object>"
      ]
     },
     "metadata": {},
     "output_type": "display_data"
    },
    {
     "data": {
      "text/html": [
       " View sweep at <a href='https://wandb.ai/ma23c014-indian-institute-of-technology-madras/fashion-mnist-dataset/sweeps/f4yt29uq' target=\"_blank\">https://wandb.ai/ma23c014-indian-institute-of-technology-madras/fashion-mnist-dataset/sweeps/f4yt29uq</a>"
      ],
      "text/plain": [
       "<IPython.core.display.HTML object>"
      ]
     },
     "metadata": {},
     "output_type": "display_data"
    },
    {
     "data": {
      "text/html": [
       " View run at <a href='https://wandb.ai/ma23c014-indian-institute-of-technology-madras/fashion-mnist-dataset/runs/18bprwkm' target=\"_blank\">https://wandb.ai/ma23c014-indian-institute-of-technology-madras/fashion-mnist-dataset/runs/18bprwkm</a>"
      ],
      "text/plain": [
       "<IPython.core.display.HTML object>"
      ]
     },
     "metadata": {},
     "output_type": "display_data"
    },
    {
     "data": {
      "text/html": [],
      "text/plain": [
       "<IPython.core.display.HTML object>"
      ]
     },
     "metadata": {},
     "output_type": "display_data"
    },
    {
     "data": {
      "text/html": [
       "<br>    <style><br>        .wandb-row {<br>            display: flex;<br>            flex-direction: row;<br>            flex-wrap: wrap;<br>            justify-content: flex-start;<br>            width: 100%;<br>        }<br>        .wandb-col {<br>            display: flex;<br>            flex-direction: column;<br>            flex-basis: 100%;<br>            flex: 1;<br>            padding: 10px;<br>        }<br>    </style><br><div class=\"wandb-row\"><div class=\"wandb-col\"><h3>Run history:</h3><br/><table class=\"wandb\"><tr><td>epoch</td><td>▁▂▃▃▄▅▆▆▇█</td></tr><tr><td>train_accuracy</td><td>▁▄▆▆▇▇████</td></tr><tr><td>train_loss</td><td>█▅▃▃▂▂▁▁▁▁</td></tr><tr><td>val_accuracy</td><td>▁▄▆▇██████</td></tr><tr><td>val_loss</td><td>█▅▃▂▁▁▁▁▁▁</td></tr></table><br/></div><div class=\"wandb-col\"><h3>Run summary:</h3><br/><table class=\"wandb\"><tr><td>epoch</td><td>10</td></tr><tr><td>train_accuracy</td><td>0.8718</td></tr><tr><td>train_loss</td><td>0.34568</td></tr><tr><td>val_accuracy</td><td>0.86233</td></tr><tr><td>val_loss</td><td>0.38165</td></tr></table><br/></div></div>"
      ],
      "text/plain": [
       "<IPython.core.display.HTML object>"
      ]
     },
     "metadata": {},
     "output_type": "display_data"
    },
    {
     "data": {
      "text/html": [
       " View run <strong style=\"color:#cdcd00\">_hl_4_hn_32_opt_nag_act_relu_lr_0.01_bs_128_init_xavier_ep_10_l2_0.0001</strong> at: <a href='https://wandb.ai/ma23c014-indian-institute-of-technology-madras/fashion-mnist-dataset/runs/18bprwkm' target=\"_blank\">https://wandb.ai/ma23c014-indian-institute-of-technology-madras/fashion-mnist-dataset/runs/18bprwkm</a><br> View project at: <a href='https://wandb.ai/ma23c014-indian-institute-of-technology-madras/fashion-mnist-dataset' target=\"_blank\">https://wandb.ai/ma23c014-indian-institute-of-technology-madras/fashion-mnist-dataset</a><br>Synced 5 W&B file(s), 0 media file(s), 0 artifact file(s) and 0 other file(s)"
      ],
      "text/plain": [
       "<IPython.core.display.HTML object>"
      ]
     },
     "metadata": {},
     "output_type": "display_data"
    },
    {
     "data": {
      "text/html": [
       "Find logs at: <code>.\\wandb\\run-20250317_071539-18bprwkm\\logs</code>"
      ],
      "text/plain": [
       "<IPython.core.display.HTML object>"
      ]
     },
     "metadata": {},
     "output_type": "display_data"
    },
    {
     "name": "stderr",
     "output_type": "stream",
     "text": [
      "wandb: Sweep Agent: Waiting for job.\n",
      "wandb: Job received.\n",
      "wandb: Agent Starting Run: it30wj4f with config:\n",
      "wandb: \tactivation: relu\n",
      "wandb: \tbatch_size: 128\n",
      "wandb: \tepochs: 20\n",
      "wandb: \thidden_size: 32\n",
      "wandb: \tlearning_rate: 0.001\n",
      "wandb: \tloss: cross_entropy\n",
      "wandb: \tnum_layers: 3\n",
      "wandb: \toptimizer: rmsprop\n",
      "wandb: \tweight_decay: 0.0005\n",
      "wandb: \tweight_init: xavier\n"
     ]
    },
    {
     "data": {
      "text/html": [
       "Tracking run with wandb version 0.19.8"
      ],
      "text/plain": [
       "<IPython.core.display.HTML object>"
      ]
     },
     "metadata": {},
     "output_type": "display_data"
    },
    {
     "data": {
      "text/html": [
       "Run data is saved locally in <code>C:\\Users\\lenovo\\fashion_mnist-backpropagation\\wandb\\run-20250317_071610-it30wj4f</code>"
      ],
      "text/plain": [
       "<IPython.core.display.HTML object>"
      ]
     },
     "metadata": {},
     "output_type": "display_data"
    },
    {
     "data": {
      "text/html": [
       "Syncing run <strong><a href='https://wandb.ai/ma23c014-indian-institute-of-technology-madras/fashion-mnist-dataset/runs/it30wj4f' target=\"_blank\">dry-sweep-39</a></strong> to <a href='https://wandb.ai/ma23c014-indian-institute-of-technology-madras/fashion-mnist-dataset' target=\"_blank\">Weights & Biases</a> (<a href='https://wandb.me/developer-guide' target=\"_blank\">docs</a>)<br>Sweep page: <a href='https://wandb.ai/ma23c014-indian-institute-of-technology-madras/fashion-mnist-dataset/sweeps/f4yt29uq' target=\"_blank\">https://wandb.ai/ma23c014-indian-institute-of-technology-madras/fashion-mnist-dataset/sweeps/f4yt29uq</a>"
      ],
      "text/plain": [
       "<IPython.core.display.HTML object>"
      ]
     },
     "metadata": {},
     "output_type": "display_data"
    },
    {
     "data": {
      "text/html": [
       " View project at <a href='https://wandb.ai/ma23c014-indian-institute-of-technology-madras/fashion-mnist-dataset' target=\"_blank\">https://wandb.ai/ma23c014-indian-institute-of-technology-madras/fashion-mnist-dataset</a>"
      ],
      "text/plain": [
       "<IPython.core.display.HTML object>"
      ]
     },
     "metadata": {},
     "output_type": "display_data"
    },
    {
     "data": {
      "text/html": [
       " View sweep at <a href='https://wandb.ai/ma23c014-indian-institute-of-technology-madras/fashion-mnist-dataset/sweeps/f4yt29uq' target=\"_blank\">https://wandb.ai/ma23c014-indian-institute-of-technology-madras/fashion-mnist-dataset/sweeps/f4yt29uq</a>"
      ],
      "text/plain": [
       "<IPython.core.display.HTML object>"
      ]
     },
     "metadata": {},
     "output_type": "display_data"
    },
    {
     "data": {
      "text/html": [
       " View run at <a href='https://wandb.ai/ma23c014-indian-institute-of-technology-madras/fashion-mnist-dataset/runs/it30wj4f' target=\"_blank\">https://wandb.ai/ma23c014-indian-institute-of-technology-madras/fashion-mnist-dataset/runs/it30wj4f</a>"
      ],
      "text/plain": [
       "<IPython.core.display.HTML object>"
      ]
     },
     "metadata": {},
     "output_type": "display_data"
    },
    {
     "data": {
      "text/html": [],
      "text/plain": [
       "<IPython.core.display.HTML object>"
      ]
     },
     "metadata": {},
     "output_type": "display_data"
    },
    {
     "data": {
      "text/html": [
       "<br>    <style><br>        .wandb-row {<br>            display: flex;<br>            flex-direction: row;<br>            flex-wrap: wrap;<br>            justify-content: flex-start;<br>            width: 100%;<br>        }<br>        .wandb-col {<br>            display: flex;<br>            flex-direction: column;<br>            flex-basis: 100%;<br>            flex: 1;<br>            padding: 10px;<br>        }<br>    </style><br><div class=\"wandb-row\"><div class=\"wandb-col\"><h3>Run history:</h3><br/><table class=\"wandb\"><tr><td>epoch</td><td>▁▁▂▂▂▃▃▄▄▄▅▅▅▆▆▇▇▇██</td></tr><tr><td>train_accuracy</td><td>▁▃▅▅▆▆▆▇▇▇▇▇▇▇▇▇████</td></tr><tr><td>train_loss</td><td>█▆▅▄▃▃▃▃▂▂▂▂▂▂▂▂▁▁▁▁</td></tr><tr><td>val_accuracy</td><td>▁▄▆▆▇▇▇▇▇▇▇▇▇▇▇▇▇███</td></tr><tr><td>val_loss</td><td>█▅▄▃▂▂▂▂▂▂▂▂▂▂▂▂▁▁▁▁</td></tr></table><br/></div><div class=\"wandb-col\"><h3>Run summary:</h3><br/><table class=\"wandb\"><tr><td>epoch</td><td>20</td></tr><tr><td>train_accuracy</td><td>0.89252</td></tr><tr><td>train_loss</td><td>0.29003</td></tr><tr><td>val_accuracy</td><td>0.87517</td></tr><tr><td>val_loss</td><td>0.35593</td></tr></table><br/></div></div>"
      ],
      "text/plain": [
       "<IPython.core.display.HTML object>"
      ]
     },
     "metadata": {},
     "output_type": "display_data"
    },
    {
     "data": {
      "text/html": [
       " View run <strong style=\"color:#cdcd00\">_hl_3_hn_32_opt_rmsprop_act_relu_lr_0.001_bs_128_init_xavier_ep_20_l2_0.0005</strong> at: <a href='https://wandb.ai/ma23c014-indian-institute-of-technology-madras/fashion-mnist-dataset/runs/it30wj4f' target=\"_blank\">https://wandb.ai/ma23c014-indian-institute-of-technology-madras/fashion-mnist-dataset/runs/it30wj4f</a><br> View project at: <a href='https://wandb.ai/ma23c014-indian-institute-of-technology-madras/fashion-mnist-dataset' target=\"_blank\">https://wandb.ai/ma23c014-indian-institute-of-technology-madras/fashion-mnist-dataset</a><br>Synced 5 W&B file(s), 0 media file(s), 0 artifact file(s) and 0 other file(s)"
      ],
      "text/plain": [
       "<IPython.core.display.HTML object>"
      ]
     },
     "metadata": {},
     "output_type": "display_data"
    },
    {
     "data": {
      "text/html": [
       "Find logs at: <code>.\\wandb\\run-20250317_071610-it30wj4f\\logs</code>"
      ],
      "text/plain": [
       "<IPython.core.display.HTML object>"
      ]
     },
     "metadata": {},
     "output_type": "display_data"
    },
    {
     "name": "stderr",
     "output_type": "stream",
     "text": [
      "wandb: Agent Starting Run: g3ldiip8 with config:\n",
      "wandb: \tactivation: relu\n",
      "wandb: \tbatch_size: 128\n",
      "wandb: \tepochs: 20\n",
      "wandb: \thidden_size: 32\n",
      "wandb: \tlearning_rate: 0.001\n",
      "wandb: \tloss: cross_entropy\n",
      "wandb: \tnum_layers: 3\n",
      "wandb: \toptimizer: adam\n",
      "wandb: \tweight_decay: 0.0001\n",
      "wandb: \tweight_init: xavier\n"
     ]
    },
    {
     "data": {
      "text/html": [
       "Tracking run with wandb version 0.19.8"
      ],
      "text/plain": [
       "<IPython.core.display.HTML object>"
      ]
     },
     "metadata": {},
     "output_type": "display_data"
    },
    {
     "data": {
      "text/html": [
       "Run data is saved locally in <code>C:\\Users\\lenovo\\fashion_mnist-backpropagation\\wandb\\run-20250317_071648-g3ldiip8</code>"
      ],
      "text/plain": [
       "<IPython.core.display.HTML object>"
      ]
     },
     "metadata": {},
     "output_type": "display_data"
    },
    {
     "data": {
      "text/html": [
       "Syncing run <strong><a href='https://wandb.ai/ma23c014-indian-institute-of-technology-madras/fashion-mnist-dataset/runs/g3ldiip8' target=\"_blank\">worldly-sweep-40</a></strong> to <a href='https://wandb.ai/ma23c014-indian-institute-of-technology-madras/fashion-mnist-dataset' target=\"_blank\">Weights & Biases</a> (<a href='https://wandb.me/developer-guide' target=\"_blank\">docs</a>)<br>Sweep page: <a href='https://wandb.ai/ma23c014-indian-institute-of-technology-madras/fashion-mnist-dataset/sweeps/f4yt29uq' target=\"_blank\">https://wandb.ai/ma23c014-indian-institute-of-technology-madras/fashion-mnist-dataset/sweeps/f4yt29uq</a>"
      ],
      "text/plain": [
       "<IPython.core.display.HTML object>"
      ]
     },
     "metadata": {},
     "output_type": "display_data"
    },
    {
     "data": {
      "text/html": [
       " View project at <a href='https://wandb.ai/ma23c014-indian-institute-of-technology-madras/fashion-mnist-dataset' target=\"_blank\">https://wandb.ai/ma23c014-indian-institute-of-technology-madras/fashion-mnist-dataset</a>"
      ],
      "text/plain": [
       "<IPython.core.display.HTML object>"
      ]
     },
     "metadata": {},
     "output_type": "display_data"
    },
    {
     "data": {
      "text/html": [
       " View sweep at <a href='https://wandb.ai/ma23c014-indian-institute-of-technology-madras/fashion-mnist-dataset/sweeps/f4yt29uq' target=\"_blank\">https://wandb.ai/ma23c014-indian-institute-of-technology-madras/fashion-mnist-dataset/sweeps/f4yt29uq</a>"
      ],
      "text/plain": [
       "<IPython.core.display.HTML object>"
      ]
     },
     "metadata": {},
     "output_type": "display_data"
    },
    {
     "data": {
      "text/html": [
       " View run at <a href='https://wandb.ai/ma23c014-indian-institute-of-technology-madras/fashion-mnist-dataset/runs/g3ldiip8' target=\"_blank\">https://wandb.ai/ma23c014-indian-institute-of-technology-madras/fashion-mnist-dataset/runs/g3ldiip8</a>"
      ],
      "text/plain": [
       "<IPython.core.display.HTML object>"
      ]
     },
     "metadata": {},
     "output_type": "display_data"
    },
    {
     "data": {
      "text/html": [],
      "text/plain": [
       "<IPython.core.display.HTML object>"
      ]
     },
     "metadata": {},
     "output_type": "display_data"
    },
    {
     "data": {
      "text/html": [
       "<br>    <style><br>        .wandb-row {<br>            display: flex;<br>            flex-direction: row;<br>            flex-wrap: wrap;<br>            justify-content: flex-start;<br>            width: 100%;<br>        }<br>        .wandb-col {<br>            display: flex;<br>            flex-direction: column;<br>            flex-basis: 100%;<br>            flex: 1;<br>            padding: 10px;<br>        }<br>    </style><br><div class=\"wandb-row\"><div class=\"wandb-col\"><h3>Run history:</h3><br/><table class=\"wandb\"><tr><td>epoch</td><td>▁▁▂▂▂▃▃▄▄▄▅▅▅▆▆▇▇▇██</td></tr><tr><td>train_accuracy</td><td>▁▃▃▄▅▅▆▆▆▇▇▇▇▇▇█████</td></tr><tr><td>train_loss</td><td>█▆▆▅▄▄▃▃▃▃▂▂▂▂▂▂▁▁▁▁</td></tr><tr><td>val_accuracy</td><td>▁▃▃▄▅▆▆▇▇▇▇████████▇</td></tr><tr><td>val_loss</td><td>█▆▅▄▃▃▂▂▂▁▁▁▁▁▁▁▁▁▁▁</td></tr></table><br/></div><div class=\"wandb-col\"><h3>Run summary:</h3><br/><table class=\"wandb\"><tr><td>epoch</td><td>20</td></tr><tr><td>train_accuracy</td><td>0.90596</td></tr><tr><td>train_loss</td><td>0.25445</td></tr><tr><td>val_accuracy</td><td>0.88017</td></tr><tr><td>val_loss</td><td>0.33169</td></tr></table><br/></div></div>"
      ],
      "text/plain": [
       "<IPython.core.display.HTML object>"
      ]
     },
     "metadata": {},
     "output_type": "display_data"
    },
    {
     "data": {
      "text/html": [
       " View run <strong style=\"color:#cdcd00\">_hl_3_hn_32_opt_adam_act_relu_lr_0.001_bs_128_init_xavier_ep_20_l2_0.0001</strong> at: <a href='https://wandb.ai/ma23c014-indian-institute-of-technology-madras/fashion-mnist-dataset/runs/g3ldiip8' target=\"_blank\">https://wandb.ai/ma23c014-indian-institute-of-technology-madras/fashion-mnist-dataset/runs/g3ldiip8</a><br> View project at: <a href='https://wandb.ai/ma23c014-indian-institute-of-technology-madras/fashion-mnist-dataset' target=\"_blank\">https://wandb.ai/ma23c014-indian-institute-of-technology-madras/fashion-mnist-dataset</a><br>Synced 5 W&B file(s), 0 media file(s), 0 artifact file(s) and 0 other file(s)"
      ],
      "text/plain": [
       "<IPython.core.display.HTML object>"
      ]
     },
     "metadata": {},
     "output_type": "display_data"
    },
    {
     "data": {
      "text/html": [
       "Find logs at: <code>.\\wandb\\run-20250317_071648-g3ldiip8\\logs</code>"
      ],
      "text/plain": [
       "<IPython.core.display.HTML object>"
      ]
     },
     "metadata": {},
     "output_type": "display_data"
    },
    {
     "name": "stderr",
     "output_type": "stream",
     "text": [
      "wandb: Agent Starting Run: 1ulmhhcu with config:\n",
      "wandb: \tactivation: relu\n",
      "wandb: \tbatch_size: 128\n",
      "wandb: \tepochs: 20\n",
      "wandb: \thidden_size: 32\n",
      "wandb: \tlearning_rate: 0.01\n",
      "wandb: \tloss: cross_entropy\n",
      "wandb: \tnum_layers: 3\n",
      "wandb: \toptimizer: rmsprop\n",
      "wandb: \tweight_decay: 0.0005\n",
      "wandb: \tweight_init: random\n"
     ]
    },
    {
     "data": {
      "text/html": [
       "Tracking run with wandb version 0.19.8"
      ],
      "text/plain": [
       "<IPython.core.display.HTML object>"
      ]
     },
     "metadata": {},
     "output_type": "display_data"
    },
    {
     "data": {
      "text/html": [
       "Run data is saved locally in <code>C:\\Users\\lenovo\\fashion_mnist-backpropagation\\wandb\\run-20250317_071731-1ulmhhcu</code>"
      ],
      "text/plain": [
       "<IPython.core.display.HTML object>"
      ]
     },
     "metadata": {},
     "output_type": "display_data"
    },
    {
     "data": {
      "text/html": [
       "Syncing run <strong><a href='https://wandb.ai/ma23c014-indian-institute-of-technology-madras/fashion-mnist-dataset/runs/1ulmhhcu' target=\"_blank\">ancient-sweep-41</a></strong> to <a href='https://wandb.ai/ma23c014-indian-institute-of-technology-madras/fashion-mnist-dataset' target=\"_blank\">Weights & Biases</a> (<a href='https://wandb.me/developer-guide' target=\"_blank\">docs</a>)<br>Sweep page: <a href='https://wandb.ai/ma23c014-indian-institute-of-technology-madras/fashion-mnist-dataset/sweeps/f4yt29uq' target=\"_blank\">https://wandb.ai/ma23c014-indian-institute-of-technology-madras/fashion-mnist-dataset/sweeps/f4yt29uq</a>"
      ],
      "text/plain": [
       "<IPython.core.display.HTML object>"
      ]
     },
     "metadata": {},
     "output_type": "display_data"
    },
    {
     "data": {
      "text/html": [
       " View project at <a href='https://wandb.ai/ma23c014-indian-institute-of-technology-madras/fashion-mnist-dataset' target=\"_blank\">https://wandb.ai/ma23c014-indian-institute-of-technology-madras/fashion-mnist-dataset</a>"
      ],
      "text/plain": [
       "<IPython.core.display.HTML object>"
      ]
     },
     "metadata": {},
     "output_type": "display_data"
    },
    {
     "data": {
      "text/html": [
       " View sweep at <a href='https://wandb.ai/ma23c014-indian-institute-of-technology-madras/fashion-mnist-dataset/sweeps/f4yt29uq' target=\"_blank\">https://wandb.ai/ma23c014-indian-institute-of-technology-madras/fashion-mnist-dataset/sweeps/f4yt29uq</a>"
      ],
      "text/plain": [
       "<IPython.core.display.HTML object>"
      ]
     },
     "metadata": {},
     "output_type": "display_data"
    },
    {
     "data": {
      "text/html": [
       " View run at <a href='https://wandb.ai/ma23c014-indian-institute-of-technology-madras/fashion-mnist-dataset/runs/1ulmhhcu' target=\"_blank\">https://wandb.ai/ma23c014-indian-institute-of-technology-madras/fashion-mnist-dataset/runs/1ulmhhcu</a>"
      ],
      "text/plain": [
       "<IPython.core.display.HTML object>"
      ]
     },
     "metadata": {},
     "output_type": "display_data"
    },
    {
     "data": {
      "text/html": [],
      "text/plain": [
       "<IPython.core.display.HTML object>"
      ]
     },
     "metadata": {},
     "output_type": "display_data"
    },
    {
     "data": {
      "text/html": [
       "<br>    <style><br>        .wandb-row {<br>            display: flex;<br>            flex-direction: row;<br>            flex-wrap: wrap;<br>            justify-content: flex-start;<br>            width: 100%;<br>        }<br>        .wandb-col {<br>            display: flex;<br>            flex-direction: column;<br>            flex-basis: 100%;<br>            flex: 1;<br>            padding: 10px;<br>        }<br>    </style><br><div class=\"wandb-row\"><div class=\"wandb-col\"><h3>Run history:</h3><br/><table class=\"wandb\"><tr><td>epoch</td><td>▁▁▂▂▂▃▃▄▄▄▅▅▅▆▆▇▇▇██</td></tr><tr><td>train_accuracy</td><td>▅▆▆▁▄▄▆▆▇▁▅▄▇▇██▂▅▇▇</td></tr><tr><td>train_loss</td><td>▃▃▃▆▆▄▃▃▂█▃█▂▂▁▁▇▅▂▂</td></tr><tr><td>val_accuracy</td><td>▆▇▇▂▄▅▆▆▇▁▆▄▇▆██▃▅▇▇</td></tr><tr><td>val_loss</td><td>▃▂▃▆▅▄▃▃▂█▃▇▂▂▁▁▇▅▂▂</td></tr></table><br/></div><div class=\"wandb-col\"><h3>Run summary:</h3><br/><table class=\"wandb\"><tr><td>epoch</td><td>20</td></tr><tr><td>train_accuracy</td><td>0.84393</td></tr><tr><td>train_loss</td><td>0.42527</td></tr><tr><td>val_accuracy</td><td>0.8395</td></tr><tr><td>val_loss</td><td>0.44364</td></tr></table><br/></div></div>"
      ],
      "text/plain": [
       "<IPython.core.display.HTML object>"
      ]
     },
     "metadata": {},
     "output_type": "display_data"
    },
    {
     "data": {
      "text/html": [
       " View run <strong style=\"color:#cdcd00\">_hl_3_hn_32_opt_rmsprop_act_relu_lr_0.01_bs_128_init_random_ep_20_l2_0.0005</strong> at: <a href='https://wandb.ai/ma23c014-indian-institute-of-technology-madras/fashion-mnist-dataset/runs/1ulmhhcu' target=\"_blank\">https://wandb.ai/ma23c014-indian-institute-of-technology-madras/fashion-mnist-dataset/runs/1ulmhhcu</a><br> View project at: <a href='https://wandb.ai/ma23c014-indian-institute-of-technology-madras/fashion-mnist-dataset' target=\"_blank\">https://wandb.ai/ma23c014-indian-institute-of-technology-madras/fashion-mnist-dataset</a><br>Synced 5 W&B file(s), 0 media file(s), 0 artifact file(s) and 0 other file(s)"
      ],
      "text/plain": [
       "<IPython.core.display.HTML object>"
      ]
     },
     "metadata": {},
     "output_type": "display_data"
    },
    {
     "data": {
      "text/html": [
       "Find logs at: <code>.\\wandb\\run-20250317_071731-1ulmhhcu\\logs</code>"
      ],
      "text/plain": [
       "<IPython.core.display.HTML object>"
      ]
     },
     "metadata": {},
     "output_type": "display_data"
    },
    {
     "name": "stderr",
     "output_type": "stream",
     "text": [
      "wandb: Agent Starting Run: 4xtzmt91 with config:\n",
      "wandb: \tactivation: relu\n",
      "wandb: \tbatch_size: 128\n",
      "wandb: \tepochs: 20\n",
      "wandb: \thidden_size: 32\n",
      "wandb: \tlearning_rate: 0.001\n",
      "wandb: \tloss: cross_entropy\n",
      "wandb: \tnum_layers: 4\n",
      "wandb: \toptimizer: adam\n",
      "wandb: \tweight_decay: 0.001\n",
      "wandb: \tweight_init: xavier\n"
     ]
    },
    {
     "data": {
      "text/html": [
       "Tracking run with wandb version 0.19.8"
      ],
      "text/plain": [
       "<IPython.core.display.HTML object>"
      ]
     },
     "metadata": {},
     "output_type": "display_data"
    },
    {
     "data": {
      "text/html": [
       "Run data is saved locally in <code>C:\\Users\\lenovo\\fashion_mnist-backpropagation\\wandb\\run-20250317_071808-4xtzmt91</code>"
      ],
      "text/plain": [
       "<IPython.core.display.HTML object>"
      ]
     },
     "metadata": {},
     "output_type": "display_data"
    },
    {
     "data": {
      "text/html": [
       "Syncing run <strong><a href='https://wandb.ai/ma23c014-indian-institute-of-technology-madras/fashion-mnist-dataset/runs/4xtzmt91' target=\"_blank\">copper-sweep-42</a></strong> to <a href='https://wandb.ai/ma23c014-indian-institute-of-technology-madras/fashion-mnist-dataset' target=\"_blank\">Weights & Biases</a> (<a href='https://wandb.me/developer-guide' target=\"_blank\">docs</a>)<br>Sweep page: <a href='https://wandb.ai/ma23c014-indian-institute-of-technology-madras/fashion-mnist-dataset/sweeps/f4yt29uq' target=\"_blank\">https://wandb.ai/ma23c014-indian-institute-of-technology-madras/fashion-mnist-dataset/sweeps/f4yt29uq</a>"
      ],
      "text/plain": [
       "<IPython.core.display.HTML object>"
      ]
     },
     "metadata": {},
     "output_type": "display_data"
    },
    {
     "data": {
      "text/html": [
       " View project at <a href='https://wandb.ai/ma23c014-indian-institute-of-technology-madras/fashion-mnist-dataset' target=\"_blank\">https://wandb.ai/ma23c014-indian-institute-of-technology-madras/fashion-mnist-dataset</a>"
      ],
      "text/plain": [
       "<IPython.core.display.HTML object>"
      ]
     },
     "metadata": {},
     "output_type": "display_data"
    },
    {
     "data": {
      "text/html": [
       " View sweep at <a href='https://wandb.ai/ma23c014-indian-institute-of-technology-madras/fashion-mnist-dataset/sweeps/f4yt29uq' target=\"_blank\">https://wandb.ai/ma23c014-indian-institute-of-technology-madras/fashion-mnist-dataset/sweeps/f4yt29uq</a>"
      ],
      "text/plain": [
       "<IPython.core.display.HTML object>"
      ]
     },
     "metadata": {},
     "output_type": "display_data"
    },
    {
     "data": {
      "text/html": [
       " View run at <a href='https://wandb.ai/ma23c014-indian-institute-of-technology-madras/fashion-mnist-dataset/runs/4xtzmt91' target=\"_blank\">https://wandb.ai/ma23c014-indian-institute-of-technology-madras/fashion-mnist-dataset/runs/4xtzmt91</a>"
      ],
      "text/plain": [
       "<IPython.core.display.HTML object>"
      ]
     },
     "metadata": {},
     "output_type": "display_data"
    },
    {
     "data": {
      "text/html": [],
      "text/plain": [
       "<IPython.core.display.HTML object>"
      ]
     },
     "metadata": {},
     "output_type": "display_data"
    },
    {
     "data": {
      "text/html": [
       "<br>    <style><br>        .wandb-row {<br>            display: flex;<br>            flex-direction: row;<br>            flex-wrap: wrap;<br>            justify-content: flex-start;<br>            width: 100%;<br>        }<br>        .wandb-col {<br>            display: flex;<br>            flex-direction: column;<br>            flex-basis: 100%;<br>            flex: 1;<br>            padding: 10px;<br>        }<br>    </style><br><div class=\"wandb-row\"><div class=\"wandb-col\"><h3>Run history:</h3><br/><table class=\"wandb\"><tr><td>epoch</td><td>▁▁▂▂▂▃▃▄▄▄▅▅▅▆▆▇▇▇██</td></tr><tr><td>train_accuracy</td><td>▁▂▃▄▅▅▅▆▆▆▇▆▇▇█▇████</td></tr><tr><td>train_loss</td><td>█▆▅▅▄▄▄▃▃▃▂▂▂▂▂▂▂▁▁▁</td></tr><tr><td>val_accuracy</td><td>▁▃▄▄▅▅▅▅▆▆▆▆▇▇▇▇▇▇█▇</td></tr><tr><td>val_loss</td><td>█▆▅▄▃▃▃▃▂▂▂▂▂▂▁▂▂▁▁▁</td></tr></table><br/></div><div class=\"wandb-col\"><h3>Run summary:</h3><br/><table class=\"wandb\"><tr><td>epoch</td><td>20</td></tr><tr><td>train_accuracy</td><td>0.88778</td></tr><tr><td>train_loss</td><td>0.30628</td></tr><tr><td>val_accuracy</td><td>0.86933</td></tr><tr><td>val_loss</td><td>0.36075</td></tr></table><br/></div></div>"
      ],
      "text/plain": [
       "<IPython.core.display.HTML object>"
      ]
     },
     "metadata": {},
     "output_type": "display_data"
    },
    {
     "data": {
      "text/html": [
       " View run <strong style=\"color:#cdcd00\">_hl_4_hn_32_opt_adam_act_relu_lr_0.001_bs_128_init_xavier_ep_20_l2_0.001</strong> at: <a href='https://wandb.ai/ma23c014-indian-institute-of-technology-madras/fashion-mnist-dataset/runs/4xtzmt91' target=\"_blank\">https://wandb.ai/ma23c014-indian-institute-of-technology-madras/fashion-mnist-dataset/runs/4xtzmt91</a><br> View project at: <a href='https://wandb.ai/ma23c014-indian-institute-of-technology-madras/fashion-mnist-dataset' target=\"_blank\">https://wandb.ai/ma23c014-indian-institute-of-technology-madras/fashion-mnist-dataset</a><br>Synced 5 W&B file(s), 0 media file(s), 0 artifact file(s) and 0 other file(s)"
      ],
      "text/plain": [
       "<IPython.core.display.HTML object>"
      ]
     },
     "metadata": {},
     "output_type": "display_data"
    },
    {
     "data": {
      "text/html": [
       "Find logs at: <code>.\\wandb\\run-20250317_071808-4xtzmt91\\logs</code>"
      ],
      "text/plain": [
       "<IPython.core.display.HTML object>"
      ]
     },
     "metadata": {},
     "output_type": "display_data"
    },
    {
     "name": "stderr",
     "output_type": "stream",
     "text": [
      "wandb: Agent Starting Run: uvxfh4rj with config:\n",
      "wandb: \tactivation: relu\n",
      "wandb: \tbatch_size: 128\n",
      "wandb: \tepochs: 10\n",
      "wandb: \thidden_size: 32\n",
      "wandb: \tlearning_rate: 0.01\n",
      "wandb: \tloss: cross_entropy\n",
      "wandb: \tnum_layers: 2\n",
      "wandb: \toptimizer: rmsprop\n",
      "wandb: \tweight_decay: 0.0001\n",
      "wandb: \tweight_init: xavier\n"
     ]
    },
    {
     "data": {
      "text/html": [
       "Tracking run with wandb version 0.19.8"
      ],
      "text/plain": [
       "<IPython.core.display.HTML object>"
      ]
     },
     "metadata": {},
     "output_type": "display_data"
    },
    {
     "data": {
      "text/html": [
       "Run data is saved locally in <code>C:\\Users\\lenovo\\fashion_mnist-backpropagation\\wandb\\run-20250317_071850-uvxfh4rj</code>"
      ],
      "text/plain": [
       "<IPython.core.display.HTML object>"
      ]
     },
     "metadata": {},
     "output_type": "display_data"
    },
    {
     "data": {
      "text/html": [
       "Syncing run <strong><a href='https://wandb.ai/ma23c014-indian-institute-of-technology-madras/fashion-mnist-dataset/runs/uvxfh4rj' target=\"_blank\">serene-sweep-43</a></strong> to <a href='https://wandb.ai/ma23c014-indian-institute-of-technology-madras/fashion-mnist-dataset' target=\"_blank\">Weights & Biases</a> (<a href='https://wandb.me/developer-guide' target=\"_blank\">docs</a>)<br>Sweep page: <a href='https://wandb.ai/ma23c014-indian-institute-of-technology-madras/fashion-mnist-dataset/sweeps/f4yt29uq' target=\"_blank\">https://wandb.ai/ma23c014-indian-institute-of-technology-madras/fashion-mnist-dataset/sweeps/f4yt29uq</a>"
      ],
      "text/plain": [
       "<IPython.core.display.HTML object>"
      ]
     },
     "metadata": {},
     "output_type": "display_data"
    },
    {
     "data": {
      "text/html": [
       " View project at <a href='https://wandb.ai/ma23c014-indian-institute-of-technology-madras/fashion-mnist-dataset' target=\"_blank\">https://wandb.ai/ma23c014-indian-institute-of-technology-madras/fashion-mnist-dataset</a>"
      ],
      "text/plain": [
       "<IPython.core.display.HTML object>"
      ]
     },
     "metadata": {},
     "output_type": "display_data"
    },
    {
     "data": {
      "text/html": [
       " View sweep at <a href='https://wandb.ai/ma23c014-indian-institute-of-technology-madras/fashion-mnist-dataset/sweeps/f4yt29uq' target=\"_blank\">https://wandb.ai/ma23c014-indian-institute-of-technology-madras/fashion-mnist-dataset/sweeps/f4yt29uq</a>"
      ],
      "text/plain": [
       "<IPython.core.display.HTML object>"
      ]
     },
     "metadata": {},
     "output_type": "display_data"
    },
    {
     "data": {
      "text/html": [
       " View run at <a href='https://wandb.ai/ma23c014-indian-institute-of-technology-madras/fashion-mnist-dataset/runs/uvxfh4rj' target=\"_blank\">https://wandb.ai/ma23c014-indian-institute-of-technology-madras/fashion-mnist-dataset/runs/uvxfh4rj</a>"
      ],
      "text/plain": [
       "<IPython.core.display.HTML object>"
      ]
     },
     "metadata": {},
     "output_type": "display_data"
    },
    {
     "data": {
      "text/html": [],
      "text/plain": [
       "<IPython.core.display.HTML object>"
      ]
     },
     "metadata": {},
     "output_type": "display_data"
    },
    {
     "data": {
      "text/html": [
       "<br>    <style><br>        .wandb-row {<br>            display: flex;<br>            flex-direction: row;<br>            flex-wrap: wrap;<br>            justify-content: flex-start;<br>            width: 100%;<br>        }<br>        .wandb-col {<br>            display: flex;<br>            flex-direction: column;<br>            flex-basis: 100%;<br>            flex: 1;<br>            padding: 10px;<br>        }<br>    </style><br><div class=\"wandb-row\"><div class=\"wandb-col\"><h3>Run history:</h3><br/><table class=\"wandb\"><tr><td>epoch</td><td>▁▂▃▃▄▅▆▆▇█</td></tr><tr><td>train_accuracy</td><td>▁▄▆▆▇██▇▄█</td></tr><tr><td>train_loss</td><td>█▅▃▃▂▁▁▂▄▁</td></tr><tr><td>val_accuracy</td><td>▁▅▇▆▇██▇▄▇</td></tr><tr><td>val_loss</td><td>█▅▂▃▂▁▁▂▆▂</td></tr></table><br/></div><div class=\"wandb-col\"><h3>Run summary:</h3><br/><table class=\"wandb\"><tr><td>epoch</td><td>10</td></tr><tr><td>train_accuracy</td><td>0.86835</td></tr><tr><td>train_loss</td><td>0.36451</td></tr><tr><td>val_accuracy</td><td>0.85717</td></tr><tr><td>val_loss</td><td>0.40953</td></tr></table><br/></div></div>"
      ],
      "text/plain": [
       "<IPython.core.display.HTML object>"
      ]
     },
     "metadata": {},
     "output_type": "display_data"
    },
    {
     "data": {
      "text/html": [
       " View run <strong style=\"color:#cdcd00\">_hl_2_hn_32_opt_rmsprop_act_relu_lr_0.01_bs_128_init_xavier_ep_10_l2_0.0001</strong> at: <a href='https://wandb.ai/ma23c014-indian-institute-of-technology-madras/fashion-mnist-dataset/runs/uvxfh4rj' target=\"_blank\">https://wandb.ai/ma23c014-indian-institute-of-technology-madras/fashion-mnist-dataset/runs/uvxfh4rj</a><br> View project at: <a href='https://wandb.ai/ma23c014-indian-institute-of-technology-madras/fashion-mnist-dataset' target=\"_blank\">https://wandb.ai/ma23c014-indian-institute-of-technology-madras/fashion-mnist-dataset</a><br>Synced 5 W&B file(s), 0 media file(s), 0 artifact file(s) and 0 other file(s)"
      ],
      "text/plain": [
       "<IPython.core.display.HTML object>"
      ]
     },
     "metadata": {},
     "output_type": "display_data"
    },
    {
     "data": {
      "text/html": [
       "Find logs at: <code>.\\wandb\\run-20250317_071850-uvxfh4rj\\logs</code>"
      ],
      "text/plain": [
       "<IPython.core.display.HTML object>"
      ]
     },
     "metadata": {},
     "output_type": "display_data"
    },
    {
     "name": "stderr",
     "output_type": "stream",
     "text": [
      "wandb: Agent Starting Run: a5k5tmg3 with config:\n",
      "wandb: \tactivation: relu\n",
      "wandb: \tbatch_size: 128\n",
      "wandb: \tepochs: 20\n",
      "wandb: \thidden_size: 32\n",
      "wandb: \tlearning_rate: 0.001\n",
      "wandb: \tloss: cross_entropy\n",
      "wandb: \tnum_layers: 3\n",
      "wandb: \toptimizer: rmsprop\n",
      "wandb: \tweight_decay: 0.001\n",
      "wandb: \tweight_init: xavier\n"
     ]
    },
    {
     "data": {
      "text/html": [
       "Tracking run with wandb version 0.19.8"
      ],
      "text/plain": [
       "<IPython.core.display.HTML object>"
      ]
     },
     "metadata": {},
     "output_type": "display_data"
    },
    {
     "data": {
      "text/html": [
       "Run data is saved locally in <code>C:\\Users\\lenovo\\fashion_mnist-backpropagation\\wandb\\run-20250317_071912-a5k5tmg3</code>"
      ],
      "text/plain": [
       "<IPython.core.display.HTML object>"
      ]
     },
     "metadata": {},
     "output_type": "display_data"
    },
    {
     "data": {
      "text/html": [
       "Syncing run <strong><a href='https://wandb.ai/ma23c014-indian-institute-of-technology-madras/fashion-mnist-dataset/runs/a5k5tmg3' target=\"_blank\">expert-sweep-44</a></strong> to <a href='https://wandb.ai/ma23c014-indian-institute-of-technology-madras/fashion-mnist-dataset' target=\"_blank\">Weights & Biases</a> (<a href='https://wandb.me/developer-guide' target=\"_blank\">docs</a>)<br>Sweep page: <a href='https://wandb.ai/ma23c014-indian-institute-of-technology-madras/fashion-mnist-dataset/sweeps/f4yt29uq' target=\"_blank\">https://wandb.ai/ma23c014-indian-institute-of-technology-madras/fashion-mnist-dataset/sweeps/f4yt29uq</a>"
      ],
      "text/plain": [
       "<IPython.core.display.HTML object>"
      ]
     },
     "metadata": {},
     "output_type": "display_data"
    },
    {
     "data": {
      "text/html": [
       " View project at <a href='https://wandb.ai/ma23c014-indian-institute-of-technology-madras/fashion-mnist-dataset' target=\"_blank\">https://wandb.ai/ma23c014-indian-institute-of-technology-madras/fashion-mnist-dataset</a>"
      ],
      "text/plain": [
       "<IPython.core.display.HTML object>"
      ]
     },
     "metadata": {},
     "output_type": "display_data"
    },
    {
     "data": {
      "text/html": [
       " View sweep at <a href='https://wandb.ai/ma23c014-indian-institute-of-technology-madras/fashion-mnist-dataset/sweeps/f4yt29uq' target=\"_blank\">https://wandb.ai/ma23c014-indian-institute-of-technology-madras/fashion-mnist-dataset/sweeps/f4yt29uq</a>"
      ],
      "text/plain": [
       "<IPython.core.display.HTML object>"
      ]
     },
     "metadata": {},
     "output_type": "display_data"
    },
    {
     "data": {
      "text/html": [
       " View run at <a href='https://wandb.ai/ma23c014-indian-institute-of-technology-madras/fashion-mnist-dataset/runs/a5k5tmg3' target=\"_blank\">https://wandb.ai/ma23c014-indian-institute-of-technology-madras/fashion-mnist-dataset/runs/a5k5tmg3</a>"
      ],
      "text/plain": [
       "<IPython.core.display.HTML object>"
      ]
     },
     "metadata": {},
     "output_type": "display_data"
    },
    {
     "data": {
      "text/html": [],
      "text/plain": [
       "<IPython.core.display.HTML object>"
      ]
     },
     "metadata": {},
     "output_type": "display_data"
    },
    {
     "data": {
      "text/html": [
       "<br>    <style><br>        .wandb-row {<br>            display: flex;<br>            flex-direction: row;<br>            flex-wrap: wrap;<br>            justify-content: flex-start;<br>            width: 100%;<br>        }<br>        .wandb-col {<br>            display: flex;<br>            flex-direction: column;<br>            flex-basis: 100%;<br>            flex: 1;<br>            padding: 10px;<br>        }<br>    </style><br><div class=\"wandb-row\"><div class=\"wandb-col\"><h3>Run history:</h3><br/><table class=\"wandb\"><tr><td>epoch</td><td>▁▁▂▂▂▃▃▄▄▄▅▅▅▆▆▇▇▇██</td></tr><tr><td>train_accuracy</td><td>▁▃▄▅▅▆▆▆▆▇▇▇████████</td></tr><tr><td>train_loss</td><td>█▆▅▄▃▃▃▃▂▂▂▂▁▁▁▁▁▁▁▁</td></tr><tr><td>val_accuracy</td><td>▁▄▅▆▆▆▆▇▇▇▇▇▇███████</td></tr><tr><td>val_loss</td><td>█▅▄▃▃▃▂▂▂▂▂▁▁▁▁▁▁▁▁▁</td></tr></table><br/></div><div class=\"wandb-col\"><h3>Run summary:</h3><br/><table class=\"wandb\"><tr><td>epoch</td><td>20</td></tr><tr><td>train_accuracy</td><td>0.88809</td></tr><tr><td>train_loss</td><td>0.3045</td></tr><tr><td>val_accuracy</td><td>0.87083</td></tr><tr><td>val_loss</td><td>0.35109</td></tr></table><br/></div></div>"
      ],
      "text/plain": [
       "<IPython.core.display.HTML object>"
      ]
     },
     "metadata": {},
     "output_type": "display_data"
    },
    {
     "data": {
      "text/html": [
       " View run <strong style=\"color:#cdcd00\">_hl_3_hn_32_opt_rmsprop_act_relu_lr_0.001_bs_128_init_xavier_ep_20_l2_0.001</strong> at: <a href='https://wandb.ai/ma23c014-indian-institute-of-technology-madras/fashion-mnist-dataset/runs/a5k5tmg3' target=\"_blank\">https://wandb.ai/ma23c014-indian-institute-of-technology-madras/fashion-mnist-dataset/runs/a5k5tmg3</a><br> View project at: <a href='https://wandb.ai/ma23c014-indian-institute-of-technology-madras/fashion-mnist-dataset' target=\"_blank\">https://wandb.ai/ma23c014-indian-institute-of-technology-madras/fashion-mnist-dataset</a><br>Synced 5 W&B file(s), 0 media file(s), 0 artifact file(s) and 0 other file(s)"
      ],
      "text/plain": [
       "<IPython.core.display.HTML object>"
      ]
     },
     "metadata": {},
     "output_type": "display_data"
    },
    {
     "data": {
      "text/html": [
       "Find logs at: <code>.\\wandb\\run-20250317_071912-a5k5tmg3\\logs</code>"
      ],
      "text/plain": [
       "<IPython.core.display.HTML object>"
      ]
     },
     "metadata": {},
     "output_type": "display_data"
    },
    {
     "name": "stderr",
     "output_type": "stream",
     "text": [
      "wandb: Agent Starting Run: vrrr1egm with config:\n",
      "wandb: \tactivation: relu\n",
      "wandb: \tbatch_size: 128\n",
      "wandb: \tepochs: 10\n",
      "wandb: \thidden_size: 32\n",
      "wandb: \tlearning_rate: 0.01\n",
      "wandb: \tloss: cross_entropy\n",
      "wandb: \tnum_layers: 3\n",
      "wandb: \toptimizer: adam\n",
      "wandb: \tweight_decay: 0.0001\n",
      "wandb: \tweight_init: xavier\n"
     ]
    },
    {
     "data": {
      "text/html": [
       "Tracking run with wandb version 0.19.8"
      ],
      "text/plain": [
       "<IPython.core.display.HTML object>"
      ]
     },
     "metadata": {},
     "output_type": "display_data"
    },
    {
     "data": {
      "text/html": [
       "Run data is saved locally in <code>C:\\Users\\lenovo\\fashion_mnist-backpropagation\\wandb\\run-20250317_071949-vrrr1egm</code>"
      ],
      "text/plain": [
       "<IPython.core.display.HTML object>"
      ]
     },
     "metadata": {},
     "output_type": "display_data"
    },
    {
     "data": {
      "text/html": [
       "Syncing run <strong><a href='https://wandb.ai/ma23c014-indian-institute-of-technology-madras/fashion-mnist-dataset/runs/vrrr1egm' target=\"_blank\">crisp-sweep-45</a></strong> to <a href='https://wandb.ai/ma23c014-indian-institute-of-technology-madras/fashion-mnist-dataset' target=\"_blank\">Weights & Biases</a> (<a href='https://wandb.me/developer-guide' target=\"_blank\">docs</a>)<br>Sweep page: <a href='https://wandb.ai/ma23c014-indian-institute-of-technology-madras/fashion-mnist-dataset/sweeps/f4yt29uq' target=\"_blank\">https://wandb.ai/ma23c014-indian-institute-of-technology-madras/fashion-mnist-dataset/sweeps/f4yt29uq</a>"
      ],
      "text/plain": [
       "<IPython.core.display.HTML object>"
      ]
     },
     "metadata": {},
     "output_type": "display_data"
    },
    {
     "data": {
      "text/html": [
       " View project at <a href='https://wandb.ai/ma23c014-indian-institute-of-technology-madras/fashion-mnist-dataset' target=\"_blank\">https://wandb.ai/ma23c014-indian-institute-of-technology-madras/fashion-mnist-dataset</a>"
      ],
      "text/plain": [
       "<IPython.core.display.HTML object>"
      ]
     },
     "metadata": {},
     "output_type": "display_data"
    },
    {
     "data": {
      "text/html": [
       " View sweep at <a href='https://wandb.ai/ma23c014-indian-institute-of-technology-madras/fashion-mnist-dataset/sweeps/f4yt29uq' target=\"_blank\">https://wandb.ai/ma23c014-indian-institute-of-technology-madras/fashion-mnist-dataset/sweeps/f4yt29uq</a>"
      ],
      "text/plain": [
       "<IPython.core.display.HTML object>"
      ]
     },
     "metadata": {},
     "output_type": "display_data"
    },
    {
     "data": {
      "text/html": [
       " View run at <a href='https://wandb.ai/ma23c014-indian-institute-of-technology-madras/fashion-mnist-dataset/runs/vrrr1egm' target=\"_blank\">https://wandb.ai/ma23c014-indian-institute-of-technology-madras/fashion-mnist-dataset/runs/vrrr1egm</a>"
      ],
      "text/plain": [
       "<IPython.core.display.HTML object>"
      ]
     },
     "metadata": {},
     "output_type": "display_data"
    },
    {
     "data": {
      "text/html": [],
      "text/plain": [
       "<IPython.core.display.HTML object>"
      ]
     },
     "metadata": {},
     "output_type": "display_data"
    },
    {
     "data": {
      "text/html": [
       "<br>    <style><br>        .wandb-row {<br>            display: flex;<br>            flex-direction: row;<br>            flex-wrap: wrap;<br>            justify-content: flex-start;<br>            width: 100%;<br>        }<br>        .wandb-col {<br>            display: flex;<br>            flex-direction: column;<br>            flex-basis: 100%;<br>            flex: 1;<br>            padding: 10px;<br>        }<br>    </style><br><div class=\"wandb-row\"><div class=\"wandb-col\"><h3>Run history:</h3><br/><table class=\"wandb\"><tr><td>epoch</td><td>▁▂▃▃▄▅▆▆▇█</td></tr><tr><td>train_accuracy</td><td>▁▅▆▅▆▇▇▇▇█</td></tr><tr><td>train_loss</td><td>█▄▃▃▃▁▂▂▂▁</td></tr><tr><td>val_accuracy</td><td>▁▄▆▅▆▇█▆▇█</td></tr><tr><td>val_loss</td><td>█▄▂▄▃▁▁▂▂▁</td></tr></table><br/></div><div class=\"wandb-col\"><h3>Run summary:</h3><br/><table class=\"wandb\"><tr><td>epoch</td><td>10</td></tr><tr><td>train_accuracy</td><td>0.8698</td></tr><tr><td>train_loss</td><td>0.35517</td></tr><tr><td>val_accuracy</td><td>0.86167</td></tr><tr><td>val_loss</td><td>0.39817</td></tr></table><br/></div></div>"
      ],
      "text/plain": [
       "<IPython.core.display.HTML object>"
      ]
     },
     "metadata": {},
     "output_type": "display_data"
    },
    {
     "data": {
      "text/html": [
       " View run <strong style=\"color:#cdcd00\">_hl_3_hn_32_opt_adam_act_relu_lr_0.01_bs_128_init_xavier_ep_10_l2_0.0001</strong> at: <a href='https://wandb.ai/ma23c014-indian-institute-of-technology-madras/fashion-mnist-dataset/runs/vrrr1egm' target=\"_blank\">https://wandb.ai/ma23c014-indian-institute-of-technology-madras/fashion-mnist-dataset/runs/vrrr1egm</a><br> View project at: <a href='https://wandb.ai/ma23c014-indian-institute-of-technology-madras/fashion-mnist-dataset' target=\"_blank\">https://wandb.ai/ma23c014-indian-institute-of-technology-madras/fashion-mnist-dataset</a><br>Synced 5 W&B file(s), 0 media file(s), 0 artifact file(s) and 0 other file(s)"
      ],
      "text/plain": [
       "<IPython.core.display.HTML object>"
      ]
     },
     "metadata": {},
     "output_type": "display_data"
    },
    {
     "data": {
      "text/html": [
       "Find logs at: <code>.\\wandb\\run-20250317_071949-vrrr1egm\\logs</code>"
      ],
      "text/plain": [
       "<IPython.core.display.HTML object>"
      ]
     },
     "metadata": {},
     "output_type": "display_data"
    },
    {
     "name": "stderr",
     "output_type": "stream",
     "text": [
      "wandb: Agent Starting Run: aewu4h1a with config:\n",
      "wandb: \tactivation: relu\n",
      "wandb: \tbatch_size: 128\n",
      "wandb: \tepochs: 10\n",
      "wandb: \thidden_size: 32\n",
      "wandb: \tlearning_rate: 0.0001\n",
      "wandb: \tloss: cross_entropy\n",
      "wandb: \tnum_layers: 4\n",
      "wandb: \toptimizer: adam\n",
      "wandb: \tweight_decay: 0.001\n",
      "wandb: \tweight_init: xavier\n"
     ]
    },
    {
     "data": {
      "text/html": [
       "Tracking run with wandb version 0.19.8"
      ],
      "text/plain": [
       "<IPython.core.display.HTML object>"
      ]
     },
     "metadata": {},
     "output_type": "display_data"
    },
    {
     "data": {
      "text/html": [
       "Run data is saved locally in <code>C:\\Users\\lenovo\\fashion_mnist-backpropagation\\wandb\\run-20250317_072015-aewu4h1a</code>"
      ],
      "text/plain": [
       "<IPython.core.display.HTML object>"
      ]
     },
     "metadata": {},
     "output_type": "display_data"
    },
    {
     "data": {
      "text/html": [
       "Syncing run <strong><a href='https://wandb.ai/ma23c014-indian-institute-of-technology-madras/fashion-mnist-dataset/runs/aewu4h1a' target=\"_blank\">logical-sweep-46</a></strong> to <a href='https://wandb.ai/ma23c014-indian-institute-of-technology-madras/fashion-mnist-dataset' target=\"_blank\">Weights & Biases</a> (<a href='https://wandb.me/developer-guide' target=\"_blank\">docs</a>)<br>Sweep page: <a href='https://wandb.ai/ma23c014-indian-institute-of-technology-madras/fashion-mnist-dataset/sweeps/f4yt29uq' target=\"_blank\">https://wandb.ai/ma23c014-indian-institute-of-technology-madras/fashion-mnist-dataset/sweeps/f4yt29uq</a>"
      ],
      "text/plain": [
       "<IPython.core.display.HTML object>"
      ]
     },
     "metadata": {},
     "output_type": "display_data"
    },
    {
     "data": {
      "text/html": [
       " View project at <a href='https://wandb.ai/ma23c014-indian-institute-of-technology-madras/fashion-mnist-dataset' target=\"_blank\">https://wandb.ai/ma23c014-indian-institute-of-technology-madras/fashion-mnist-dataset</a>"
      ],
      "text/plain": [
       "<IPython.core.display.HTML object>"
      ]
     },
     "metadata": {},
     "output_type": "display_data"
    },
    {
     "data": {
      "text/html": [
       " View sweep at <a href='https://wandb.ai/ma23c014-indian-institute-of-technology-madras/fashion-mnist-dataset/sweeps/f4yt29uq' target=\"_blank\">https://wandb.ai/ma23c014-indian-institute-of-technology-madras/fashion-mnist-dataset/sweeps/f4yt29uq</a>"
      ],
      "text/plain": [
       "<IPython.core.display.HTML object>"
      ]
     },
     "metadata": {},
     "output_type": "display_data"
    },
    {
     "data": {
      "text/html": [
       " View run at <a href='https://wandb.ai/ma23c014-indian-institute-of-technology-madras/fashion-mnist-dataset/runs/aewu4h1a' target=\"_blank\">https://wandb.ai/ma23c014-indian-institute-of-technology-madras/fashion-mnist-dataset/runs/aewu4h1a</a>"
      ],
      "text/plain": [
       "<IPython.core.display.HTML object>"
      ]
     },
     "metadata": {},
     "output_type": "display_data"
    },
    {
     "data": {
      "text/html": [],
      "text/plain": [
       "<IPython.core.display.HTML object>"
      ]
     },
     "metadata": {},
     "output_type": "display_data"
    },
    {
     "data": {
      "text/html": [
       "<br>    <style><br>        .wandb-row {<br>            display: flex;<br>            flex-direction: row;<br>            flex-wrap: wrap;<br>            justify-content: flex-start;<br>            width: 100%;<br>        }<br>        .wandb-col {<br>            display: flex;<br>            flex-direction: column;<br>            flex-basis: 100%;<br>            flex: 1;<br>            padding: 10px;<br>        }<br>    </style><br><div class=\"wandb-row\"><div class=\"wandb-col\"><h3>Run history:</h3><br/><table class=\"wandb\"><tr><td>epoch</td><td>▁▂▃▃▄▅▆▆▇█</td></tr><tr><td>train_accuracy</td><td>▁▄▅▆▆▇▇▇██</td></tr><tr><td>train_loss</td><td>█▅▄▃▂▂▂▁▁▁</td></tr><tr><td>val_accuracy</td><td>▁▄▅▆▇▇▇▇██</td></tr><tr><td>val_loss</td><td>█▅▄▃▂▂▂▁▁▁</td></tr></table><br/></div><div class=\"wandb-col\"><h3>Run summary:</h3><br/><table class=\"wandb\"><tr><td>epoch</td><td>10</td></tr><tr><td>train_accuracy</td><td>0.85165</td></tr><tr><td>train_loss</td><td>0.41681</td></tr><tr><td>val_accuracy</td><td>0.85517</td></tr><tr><td>val_loss</td><td>0.4212</td></tr></table><br/></div></div>"
      ],
      "text/plain": [
       "<IPython.core.display.HTML object>"
      ]
     },
     "metadata": {},
     "output_type": "display_data"
    },
    {
     "data": {
      "text/html": [
       " View run <strong style=\"color:#cdcd00\">_hl_4_hn_32_opt_adam_act_relu_lr_0.0001_bs_128_init_xavier_ep_10_l2_0.001</strong> at: <a href='https://wandb.ai/ma23c014-indian-institute-of-technology-madras/fashion-mnist-dataset/runs/aewu4h1a' target=\"_blank\">https://wandb.ai/ma23c014-indian-institute-of-technology-madras/fashion-mnist-dataset/runs/aewu4h1a</a><br> View project at: <a href='https://wandb.ai/ma23c014-indian-institute-of-technology-madras/fashion-mnist-dataset' target=\"_blank\">https://wandb.ai/ma23c014-indian-institute-of-technology-madras/fashion-mnist-dataset</a><br>Synced 5 W&B file(s), 0 media file(s), 0 artifact file(s) and 0 other file(s)"
      ],
      "text/plain": [
       "<IPython.core.display.HTML object>"
      ]
     },
     "metadata": {},
     "output_type": "display_data"
    },
    {
     "data": {
      "text/html": [
       "Find logs at: <code>.\\wandb\\run-20250317_072015-aewu4h1a\\logs</code>"
      ],
      "text/plain": [
       "<IPython.core.display.HTML object>"
      ]
     },
     "metadata": {},
     "output_type": "display_data"
    },
    {
     "name": "stderr",
     "output_type": "stream",
     "text": [
      "wandb: Agent Starting Run: 28kgaj68 with config:\n",
      "wandb: \tactivation: relu\n",
      "wandb: \tbatch_size: 128\n",
      "wandb: \tepochs: 20\n",
      "wandb: \thidden_size: 64\n",
      "wandb: \tlearning_rate: 0.0001\n",
      "wandb: \tloss: cross_entropy\n",
      "wandb: \tnum_layers: 3\n",
      "wandb: \toptimizer: rmsprop\n",
      "wandb: \tweight_decay: 0.0005\n",
      "wandb: \tweight_init: xavier\n"
     ]
    },
    {
     "data": {
      "text/html": [
       "Tracking run with wandb version 0.19.8"
      ],
      "text/plain": [
       "<IPython.core.display.HTML object>"
      ]
     },
     "metadata": {},
     "output_type": "display_data"
    },
    {
     "data": {
      "text/html": [
       "Run data is saved locally in <code>C:\\Users\\lenovo\\fashion_mnist-backpropagation\\wandb\\run-20250317_072043-28kgaj68</code>"
      ],
      "text/plain": [
       "<IPython.core.display.HTML object>"
      ]
     },
     "metadata": {},
     "output_type": "display_data"
    },
    {
     "data": {
      "text/html": [
       "Syncing run <strong><a href='https://wandb.ai/ma23c014-indian-institute-of-technology-madras/fashion-mnist-dataset/runs/28kgaj68' target=\"_blank\">legendary-sweep-47</a></strong> to <a href='https://wandb.ai/ma23c014-indian-institute-of-technology-madras/fashion-mnist-dataset' target=\"_blank\">Weights & Biases</a> (<a href='https://wandb.me/developer-guide' target=\"_blank\">docs</a>)<br>Sweep page: <a href='https://wandb.ai/ma23c014-indian-institute-of-technology-madras/fashion-mnist-dataset/sweeps/f4yt29uq' target=\"_blank\">https://wandb.ai/ma23c014-indian-institute-of-technology-madras/fashion-mnist-dataset/sweeps/f4yt29uq</a>"
      ],
      "text/plain": [
       "<IPython.core.display.HTML object>"
      ]
     },
     "metadata": {},
     "output_type": "display_data"
    },
    {
     "data": {
      "text/html": [
       " View project at <a href='https://wandb.ai/ma23c014-indian-institute-of-technology-madras/fashion-mnist-dataset' target=\"_blank\">https://wandb.ai/ma23c014-indian-institute-of-technology-madras/fashion-mnist-dataset</a>"
      ],
      "text/plain": [
       "<IPython.core.display.HTML object>"
      ]
     },
     "metadata": {},
     "output_type": "display_data"
    },
    {
     "data": {
      "text/html": [
       " View sweep at <a href='https://wandb.ai/ma23c014-indian-institute-of-technology-madras/fashion-mnist-dataset/sweeps/f4yt29uq' target=\"_blank\">https://wandb.ai/ma23c014-indian-institute-of-technology-madras/fashion-mnist-dataset/sweeps/f4yt29uq</a>"
      ],
      "text/plain": [
       "<IPython.core.display.HTML object>"
      ]
     },
     "metadata": {},
     "output_type": "display_data"
    },
    {
     "data": {
      "text/html": [
       " View run at <a href='https://wandb.ai/ma23c014-indian-institute-of-technology-madras/fashion-mnist-dataset/runs/28kgaj68' target=\"_blank\">https://wandb.ai/ma23c014-indian-institute-of-technology-madras/fashion-mnist-dataset/runs/28kgaj68</a>"
      ],
      "text/plain": [
       "<IPython.core.display.HTML object>"
      ]
     },
     "metadata": {},
     "output_type": "display_data"
    },
    {
     "data": {
      "text/html": [],
      "text/plain": [
       "<IPython.core.display.HTML object>"
      ]
     },
     "metadata": {},
     "output_type": "display_data"
    },
    {
     "data": {
      "text/html": [
       "<br>    <style><br>        .wandb-row {<br>            display: flex;<br>            flex-direction: row;<br>            flex-wrap: wrap;<br>            justify-content: flex-start;<br>            width: 100%;<br>        }<br>        .wandb-col {<br>            display: flex;<br>            flex-direction: column;<br>            flex-basis: 100%;<br>            flex: 1;<br>            padding: 10px;<br>        }<br>    </style><br><div class=\"wandb-row\"><div class=\"wandb-col\"><h3>Run history:</h3><br/><table class=\"wandb\"><tr><td>epoch</td><td>▁▁▂▂▂▃▃▄▄▄▅▅▅▆▆▇▇▇██</td></tr><tr><td>train_accuracy</td><td>▁▄▅▆▆▆▇▇▇▇▇▇▇███████</td></tr><tr><td>train_loss</td><td>█▅▄▃▃▃▂▂▂▂▂▂▂▁▁▁▁▁▁▁</td></tr><tr><td>val_accuracy</td><td>▁▄▅▆▆▆▇▇▇▇▇█████████</td></tr><tr><td>val_loss</td><td>█▅▄▃▃▂▂▂▂▂▂▂▁▁▁▁▁▁▁▁</td></tr></table><br/></div><div class=\"wandb-col\"><h3>Run summary:</h3><br/><table class=\"wandb\"><tr><td>epoch</td><td>20</td></tr><tr><td>train_accuracy</td><td>0.87998</td></tr><tr><td>train_loss</td><td>0.34291</td></tr><tr><td>val_accuracy</td><td>0.87117</td></tr><tr><td>val_loss</td><td>0.36477</td></tr></table><br/></div></div>"
      ],
      "text/plain": [
       "<IPython.core.display.HTML object>"
      ]
     },
     "metadata": {},
     "output_type": "display_data"
    },
    {
     "data": {
      "text/html": [
       " View run <strong style=\"color:#cdcd00\">_hl_3_hn_64_opt_rmsprop_act_relu_lr_0.0001_bs_128_init_xavier_ep_20_l2_0.0005</strong> at: <a href='https://wandb.ai/ma23c014-indian-institute-of-technology-madras/fashion-mnist-dataset/runs/28kgaj68' target=\"_blank\">https://wandb.ai/ma23c014-indian-institute-of-technology-madras/fashion-mnist-dataset/runs/28kgaj68</a><br> View project at: <a href='https://wandb.ai/ma23c014-indian-institute-of-technology-madras/fashion-mnist-dataset' target=\"_blank\">https://wandb.ai/ma23c014-indian-institute-of-technology-madras/fashion-mnist-dataset</a><br>Synced 5 W&B file(s), 0 media file(s), 0 artifact file(s) and 0 other file(s)"
      ],
      "text/plain": [
       "<IPython.core.display.HTML object>"
      ]
     },
     "metadata": {},
     "output_type": "display_data"
    },
    {
     "data": {
      "text/html": [
       "Find logs at: <code>.\\wandb\\run-20250317_072043-28kgaj68\\logs</code>"
      ],
      "text/plain": [
       "<IPython.core.display.HTML object>"
      ]
     },
     "metadata": {},
     "output_type": "display_data"
    },
    {
     "name": "stderr",
     "output_type": "stream",
     "text": [
      "wandb: Agent Starting Run: bf5456ri with config:\n",
      "wandb: \tactivation: relu\n",
      "wandb: \tbatch_size: 128\n",
      "wandb: \tepochs: 10\n",
      "wandb: \thidden_size: 32\n",
      "wandb: \tlearning_rate: 0.001\n",
      "wandb: \tloss: cross_entropy\n",
      "wandb: \tnum_layers: 3\n",
      "wandb: \toptimizer: adam\n",
      "wandb: \tweight_decay: 0.001\n",
      "wandb: \tweight_init: xavier\n"
     ]
    },
    {
     "data": {
      "text/html": [
       "Tracking run with wandb version 0.19.8"
      ],
      "text/plain": [
       "<IPython.core.display.HTML object>"
      ]
     },
     "metadata": {},
     "output_type": "display_data"
    },
    {
     "data": {
      "text/html": [
       "Run data is saved locally in <code>C:\\Users\\lenovo\\fashion_mnist-backpropagation\\wandb\\run-20250317_072140-bf5456ri</code>"
      ],
      "text/plain": [
       "<IPython.core.display.HTML object>"
      ]
     },
     "metadata": {},
     "output_type": "display_data"
    },
    {
     "data": {
      "text/html": [
       "Syncing run <strong><a href='https://wandb.ai/ma23c014-indian-institute-of-technology-madras/fashion-mnist-dataset/runs/bf5456ri' target=\"_blank\">vivid-sweep-48</a></strong> to <a href='https://wandb.ai/ma23c014-indian-institute-of-technology-madras/fashion-mnist-dataset' target=\"_blank\">Weights & Biases</a> (<a href='https://wandb.me/developer-guide' target=\"_blank\">docs</a>)<br>Sweep page: <a href='https://wandb.ai/ma23c014-indian-institute-of-technology-madras/fashion-mnist-dataset/sweeps/f4yt29uq' target=\"_blank\">https://wandb.ai/ma23c014-indian-institute-of-technology-madras/fashion-mnist-dataset/sweeps/f4yt29uq</a>"
      ],
      "text/plain": [
       "<IPython.core.display.HTML object>"
      ]
     },
     "metadata": {},
     "output_type": "display_data"
    },
    {
     "data": {
      "text/html": [
       " View project at <a href='https://wandb.ai/ma23c014-indian-institute-of-technology-madras/fashion-mnist-dataset' target=\"_blank\">https://wandb.ai/ma23c014-indian-institute-of-technology-madras/fashion-mnist-dataset</a>"
      ],
      "text/plain": [
       "<IPython.core.display.HTML object>"
      ]
     },
     "metadata": {},
     "output_type": "display_data"
    },
    {
     "data": {
      "text/html": [
       " View sweep at <a href='https://wandb.ai/ma23c014-indian-institute-of-technology-madras/fashion-mnist-dataset/sweeps/f4yt29uq' target=\"_blank\">https://wandb.ai/ma23c014-indian-institute-of-technology-madras/fashion-mnist-dataset/sweeps/f4yt29uq</a>"
      ],
      "text/plain": [
       "<IPython.core.display.HTML object>"
      ]
     },
     "metadata": {},
     "output_type": "display_data"
    },
    {
     "data": {
      "text/html": [
       " View run at <a href='https://wandb.ai/ma23c014-indian-institute-of-technology-madras/fashion-mnist-dataset/runs/bf5456ri' target=\"_blank\">https://wandb.ai/ma23c014-indian-institute-of-technology-madras/fashion-mnist-dataset/runs/bf5456ri</a>"
      ],
      "text/plain": [
       "<IPython.core.display.HTML object>"
      ]
     },
     "metadata": {},
     "output_type": "display_data"
    },
    {
     "data": {
      "text/html": [],
      "text/plain": [
       "<IPython.core.display.HTML object>"
      ]
     },
     "metadata": {},
     "output_type": "display_data"
    },
    {
     "data": {
      "text/html": [
       "<br>    <style><br>        .wandb-row {<br>            display: flex;<br>            flex-direction: row;<br>            flex-wrap: wrap;<br>            justify-content: flex-start;<br>            width: 100%;<br>        }<br>        .wandb-col {<br>            display: flex;<br>            flex-direction: column;<br>            flex-basis: 100%;<br>            flex: 1;<br>            padding: 10px;<br>        }<br>    </style><br><div class=\"wandb-row\"><div class=\"wandb-col\"><h3>Run history:</h3><br/><table class=\"wandb\"><tr><td>epoch</td><td>▁▂▃▃▄▅▆▆▇█</td></tr><tr><td>train_accuracy</td><td>▁▄▅▆▆▇▇███</td></tr><tr><td>train_loss</td><td>█▅▄▃▃▃▂▁▁▁</td></tr><tr><td>val_accuracy</td><td>▁▄▅▆▆▆▇███</td></tr><tr><td>val_loss</td><td>█▅▄▃▃▂▂▁▁▁</td></tr></table><br/></div><div class=\"wandb-col\"><h3>Run summary:</h3><br/><table class=\"wandb\"><tr><td>epoch</td><td>10</td></tr><tr><td>train_accuracy</td><td>0.87813</td></tr><tr><td>train_loss</td><td>0.33808</td></tr><tr><td>val_accuracy</td><td>0.871</td></tr><tr><td>val_loss</td><td>0.36188</td></tr></table><br/></div></div>"
      ],
      "text/plain": [
       "<IPython.core.display.HTML object>"
      ]
     },
     "metadata": {},
     "output_type": "display_data"
    },
    {
     "data": {
      "text/html": [
       " View run <strong style=\"color:#cdcd00\">_hl_3_hn_32_opt_adam_act_relu_lr_0.001_bs_128_init_xavier_ep_10_l2_0.001</strong> at: <a href='https://wandb.ai/ma23c014-indian-institute-of-technology-madras/fashion-mnist-dataset/runs/bf5456ri' target=\"_blank\">https://wandb.ai/ma23c014-indian-institute-of-technology-madras/fashion-mnist-dataset/runs/bf5456ri</a><br> View project at: <a href='https://wandb.ai/ma23c014-indian-institute-of-technology-madras/fashion-mnist-dataset' target=\"_blank\">https://wandb.ai/ma23c014-indian-institute-of-technology-madras/fashion-mnist-dataset</a><br>Synced 5 W&B file(s), 0 media file(s), 0 artifact file(s) and 0 other file(s)"
      ],
      "text/plain": [
       "<IPython.core.display.HTML object>"
      ]
     },
     "metadata": {},
     "output_type": "display_data"
    },
    {
     "data": {
      "text/html": [
       "Find logs at: <code>.\\wandb\\run-20250317_072140-bf5456ri\\logs</code>"
      ],
      "text/plain": [
       "<IPython.core.display.HTML object>"
      ]
     },
     "metadata": {},
     "output_type": "display_data"
    },
    {
     "name": "stderr",
     "output_type": "stream",
     "text": [
      "wandb: Sweep Agent: Waiting for job.\n",
      "wandb: Job received.\n",
      "wandb: Agent Starting Run: 004wfujl with config:\n",
      "wandb: \tactivation: relu\n",
      "wandb: \tbatch_size: 128\n",
      "wandb: \tepochs: 20\n",
      "wandb: \thidden_size: 32\n",
      "wandb: \tlearning_rate: 0.01\n",
      "wandb: \tloss: cross_entropy\n",
      "wandb: \tnum_layers: 3\n",
      "wandb: \toptimizer: nag\n",
      "wandb: \tweight_decay: 0.001\n",
      "wandb: \tweight_init: xavier\n"
     ]
    },
    {
     "data": {
      "text/html": [
       "Tracking run with wandb version 0.19.8"
      ],
      "text/plain": [
       "<IPython.core.display.HTML object>"
      ]
     },
     "metadata": {},
     "output_type": "display_data"
    },
    {
     "data": {
      "text/html": [
       "Run data is saved locally in <code>C:\\Users\\lenovo\\fashion_mnist-backpropagation\\wandb\\run-20250317_072213-004wfujl</code>"
      ],
      "text/plain": [
       "<IPython.core.display.HTML object>"
      ]
     },
     "metadata": {},
     "output_type": "display_data"
    },
    {
     "data": {
      "text/html": [
       "Syncing run <strong><a href='https://wandb.ai/ma23c014-indian-institute-of-technology-madras/fashion-mnist-dataset/runs/004wfujl' target=\"_blank\">treasured-sweep-49</a></strong> to <a href='https://wandb.ai/ma23c014-indian-institute-of-technology-madras/fashion-mnist-dataset' target=\"_blank\">Weights & Biases</a> (<a href='https://wandb.me/developer-guide' target=\"_blank\">docs</a>)<br>Sweep page: <a href='https://wandb.ai/ma23c014-indian-institute-of-technology-madras/fashion-mnist-dataset/sweeps/f4yt29uq' target=\"_blank\">https://wandb.ai/ma23c014-indian-institute-of-technology-madras/fashion-mnist-dataset/sweeps/f4yt29uq</a>"
      ],
      "text/plain": [
       "<IPython.core.display.HTML object>"
      ]
     },
     "metadata": {},
     "output_type": "display_data"
    },
    {
     "data": {
      "text/html": [
       " View project at <a href='https://wandb.ai/ma23c014-indian-institute-of-technology-madras/fashion-mnist-dataset' target=\"_blank\">https://wandb.ai/ma23c014-indian-institute-of-technology-madras/fashion-mnist-dataset</a>"
      ],
      "text/plain": [
       "<IPython.core.display.HTML object>"
      ]
     },
     "metadata": {},
     "output_type": "display_data"
    },
    {
     "data": {
      "text/html": [
       " View sweep at <a href='https://wandb.ai/ma23c014-indian-institute-of-technology-madras/fashion-mnist-dataset/sweeps/f4yt29uq' target=\"_blank\">https://wandb.ai/ma23c014-indian-institute-of-technology-madras/fashion-mnist-dataset/sweeps/f4yt29uq</a>"
      ],
      "text/plain": [
       "<IPython.core.display.HTML object>"
      ]
     },
     "metadata": {},
     "output_type": "display_data"
    },
    {
     "data": {
      "text/html": [
       " View run at <a href='https://wandb.ai/ma23c014-indian-institute-of-technology-madras/fashion-mnist-dataset/runs/004wfujl' target=\"_blank\">https://wandb.ai/ma23c014-indian-institute-of-technology-madras/fashion-mnist-dataset/runs/004wfujl</a>"
      ],
      "text/plain": [
       "<IPython.core.display.HTML object>"
      ]
     },
     "metadata": {},
     "output_type": "display_data"
    },
    {
     "data": {
      "text/html": [],
      "text/plain": [
       "<IPython.core.display.HTML object>"
      ]
     },
     "metadata": {},
     "output_type": "display_data"
    },
    {
     "data": {
      "text/html": [
       "<br>    <style><br>        .wandb-row {<br>            display: flex;<br>            flex-direction: row;<br>            flex-wrap: wrap;<br>            justify-content: flex-start;<br>            width: 100%;<br>        }<br>        .wandb-col {<br>            display: flex;<br>            flex-direction: column;<br>            flex-basis: 100%;<br>            flex: 1;<br>            padding: 10px;<br>        }<br>    </style><br><div class=\"wandb-row\"><div class=\"wandb-col\"><h3>Run history:</h3><br/><table class=\"wandb\"><tr><td>epoch</td><td>▁▁▂▂▂▃▃▄▄▄▅▅▅▆▆▇▇▇██</td></tr><tr><td>train_accuracy</td><td>▁▄▄▆▆▆▆▆▇▇▇█▇▇██████</td></tr><tr><td>train_loss</td><td>█▅▄▃▃▃▃▂▂▂▂▂▂▂▁▁▁▁▁▁</td></tr><tr><td>val_accuracy</td><td>▁▄▅▆▇▇▇▇▇▇▇█▇▇█████▇</td></tr><tr><td>val_loss</td><td>█▅▄▃▃▂▂▂▂▂▂▂▂▂▁▁▁▁▁▂</td></tr></table><br/></div><div class=\"wandb-col\"><h3>Run summary:</h3><br/><table class=\"wandb\"><tr><td>epoch</td><td>20</td></tr><tr><td>train_accuracy</td><td>0.88481</td></tr><tr><td>train_loss</td><td>0.31235</td></tr><tr><td>val_accuracy</td><td>0.86933</td></tr><tr><td>val_loss</td><td>0.35348</td></tr></table><br/></div></div>"
      ],
      "text/plain": [
       "<IPython.core.display.HTML object>"
      ]
     },
     "metadata": {},
     "output_type": "display_data"
    },
    {
     "data": {
      "text/html": [
       " View run <strong style=\"color:#cdcd00\">_hl_3_hn_32_opt_nag_act_relu_lr_0.01_bs_128_init_xavier_ep_20_l2_0.001</strong> at: <a href='https://wandb.ai/ma23c014-indian-institute-of-technology-madras/fashion-mnist-dataset/runs/004wfujl' target=\"_blank\">https://wandb.ai/ma23c014-indian-institute-of-technology-madras/fashion-mnist-dataset/runs/004wfujl</a><br> View project at: <a href='https://wandb.ai/ma23c014-indian-institute-of-technology-madras/fashion-mnist-dataset' target=\"_blank\">https://wandb.ai/ma23c014-indian-institute-of-technology-madras/fashion-mnist-dataset</a><br>Synced 5 W&B file(s), 0 media file(s), 0 artifact file(s) and 0 other file(s)"
      ],
      "text/plain": [
       "<IPython.core.display.HTML object>"
      ]
     },
     "metadata": {},
     "output_type": "display_data"
    },
    {
     "data": {
      "text/html": [
       "Find logs at: <code>.\\wandb\\run-20250317_072213-004wfujl\\logs</code>"
      ],
      "text/plain": [
       "<IPython.core.display.HTML object>"
      ]
     },
     "metadata": {},
     "output_type": "display_data"
    },
    {
     "name": "stderr",
     "output_type": "stream",
     "text": [
      "wandb: Sweep Agent: Waiting for job.\n",
      "wandb: Job received.\n",
      "wandb: Agent Starting Run: 6yn7u4fh with config:\n",
      "wandb: \tactivation: relu\n",
      "wandb: \tbatch_size: 128\n",
      "wandb: \tepochs: 10\n",
      "wandb: \thidden_size: 32\n",
      "wandb: \tlearning_rate: 0.001\n",
      "wandb: \tloss: cross_entropy\n",
      "wandb: \tnum_layers: 3\n",
      "wandb: \toptimizer: nag\n",
      "wandb: \tweight_decay: 0.001\n",
      "wandb: \tweight_init: xavier\n"
     ]
    },
    {
     "data": {
      "text/html": [
       "Tracking run with wandb version 0.19.8"
      ],
      "text/plain": [
       "<IPython.core.display.HTML object>"
      ]
     },
     "metadata": {},
     "output_type": "display_data"
    },
    {
     "data": {
      "text/html": [
       "Run data is saved locally in <code>C:\\Users\\lenovo\\fashion_mnist-backpropagation\\wandb\\run-20250317_072306-6yn7u4fh</code>"
      ],
      "text/plain": [
       "<IPython.core.display.HTML object>"
      ]
     },
     "metadata": {},
     "output_type": "display_data"
    },
    {
     "data": {
      "text/html": [
       "Syncing run <strong><a href='https://wandb.ai/ma23c014-indian-institute-of-technology-madras/fashion-mnist-dataset/runs/6yn7u4fh' target=\"_blank\">confused-sweep-50</a></strong> to <a href='https://wandb.ai/ma23c014-indian-institute-of-technology-madras/fashion-mnist-dataset' target=\"_blank\">Weights & Biases</a> (<a href='https://wandb.me/developer-guide' target=\"_blank\">docs</a>)<br>Sweep page: <a href='https://wandb.ai/ma23c014-indian-institute-of-technology-madras/fashion-mnist-dataset/sweeps/f4yt29uq' target=\"_blank\">https://wandb.ai/ma23c014-indian-institute-of-technology-madras/fashion-mnist-dataset/sweeps/f4yt29uq</a>"
      ],
      "text/plain": [
       "<IPython.core.display.HTML object>"
      ]
     },
     "metadata": {},
     "output_type": "display_data"
    },
    {
     "data": {
      "text/html": [
       " View project at <a href='https://wandb.ai/ma23c014-indian-institute-of-technology-madras/fashion-mnist-dataset' target=\"_blank\">https://wandb.ai/ma23c014-indian-institute-of-technology-madras/fashion-mnist-dataset</a>"
      ],
      "text/plain": [
       "<IPython.core.display.HTML object>"
      ]
     },
     "metadata": {},
     "output_type": "display_data"
    },
    {
     "data": {
      "text/html": [
       " View sweep at <a href='https://wandb.ai/ma23c014-indian-institute-of-technology-madras/fashion-mnist-dataset/sweeps/f4yt29uq' target=\"_blank\">https://wandb.ai/ma23c014-indian-institute-of-technology-madras/fashion-mnist-dataset/sweeps/f4yt29uq</a>"
      ],
      "text/plain": [
       "<IPython.core.display.HTML object>"
      ]
     },
     "metadata": {},
     "output_type": "display_data"
    },
    {
     "data": {
      "text/html": [
       " View run at <a href='https://wandb.ai/ma23c014-indian-institute-of-technology-madras/fashion-mnist-dataset/runs/6yn7u4fh' target=\"_blank\">https://wandb.ai/ma23c014-indian-institute-of-technology-madras/fashion-mnist-dataset/runs/6yn7u4fh</a>"
      ],
      "text/plain": [
       "<IPython.core.display.HTML object>"
      ]
     },
     "metadata": {},
     "output_type": "display_data"
    },
    {
     "data": {
      "text/html": [],
      "text/plain": [
       "<IPython.core.display.HTML object>"
      ]
     },
     "metadata": {},
     "output_type": "display_data"
    },
    {
     "data": {
      "text/html": [
       "<br>    <style><br>        .wandb-row {<br>            display: flex;<br>            flex-direction: row;<br>            flex-wrap: wrap;<br>            justify-content: flex-start;<br>            width: 100%;<br>        }<br>        .wandb-col {<br>            display: flex;<br>            flex-direction: column;<br>            flex-basis: 100%;<br>            flex: 1;<br>            padding: 10px;<br>        }<br>    </style><br><div class=\"wandb-row\"><div class=\"wandb-col\"><h3>Run history:</h3><br/><table class=\"wandb\"><tr><td>epoch</td><td>▁▂▃▃▄▅▆▆▇█</td></tr><tr><td>train_accuracy</td><td>▁▄▅▆▆▇▇▇██</td></tr><tr><td>train_loss</td><td>█▅▄▃▃▂▂▂▁▁</td></tr><tr><td>val_accuracy</td><td>▁▄▅▆▆▇▇▇██</td></tr><tr><td>val_loss</td><td>█▅▄▃▂▂▂▁▁▁</td></tr></table><br/></div><div class=\"wandb-col\"><h3>Run summary:</h3><br/><table class=\"wandb\"><tr><td>epoch</td><td>10</td></tr><tr><td>train_accuracy</td><td>0.85389</td></tr><tr><td>train_loss</td><td>0.41771</td></tr><tr><td>val_accuracy</td><td>0.8535</td></tr><tr><td>val_loss</td><td>0.4279</td></tr></table><br/></div></div>"
      ],
      "text/plain": [
       "<IPython.core.display.HTML object>"
      ]
     },
     "metadata": {},
     "output_type": "display_data"
    },
    {
     "data": {
      "text/html": [
       " View run <strong style=\"color:#cdcd00\">_hl_3_hn_32_opt_nag_act_relu_lr_0.001_bs_128_init_xavier_ep_10_l2_0.001</strong> at: <a href='https://wandb.ai/ma23c014-indian-institute-of-technology-madras/fashion-mnist-dataset/runs/6yn7u4fh' target=\"_blank\">https://wandb.ai/ma23c014-indian-institute-of-technology-madras/fashion-mnist-dataset/runs/6yn7u4fh</a><br> View project at: <a href='https://wandb.ai/ma23c014-indian-institute-of-technology-madras/fashion-mnist-dataset' target=\"_blank\">https://wandb.ai/ma23c014-indian-institute-of-technology-madras/fashion-mnist-dataset</a><br>Synced 5 W&B file(s), 0 media file(s), 0 artifact file(s) and 0 other file(s)"
      ],
      "text/plain": [
       "<IPython.core.display.HTML object>"
      ]
     },
     "metadata": {},
     "output_type": "display_data"
    },
    {
     "data": {
      "text/html": [
       "Find logs at: <code>.\\wandb\\run-20250317_072306-6yn7u4fh\\logs</code>"
      ],
      "text/plain": [
       "<IPython.core.display.HTML object>"
      ]
     },
     "metadata": {},
     "output_type": "display_data"
    }
   ],
   "source": [
    "import numpy as np\n",
    "import wandb\n",
    "\n",
    "# Optimizer Class \n",
    "class Optimizer:\n",
    "    def __init__(self, method=\"sgd\", learning_rate=0.01, beta1=0.9, beta2=0.999, epsilon=1e-8):\n",
    "        self.method = method\n",
    "        self.lr = learning_rate\n",
    "        self.beta1 = beta1\n",
    "        self.beta2 = beta2\n",
    "        self.epsilon = epsilon\n",
    "        self.velocity = {}\n",
    "        self.cache = {}\n",
    "        self.m = {}\n",
    "        self.v = {}\n",
    "        self.t = 0\n",
    "\n",
    "    def update(self, weights, grads, key):\n",
    "        if self.method == \"sgd\":\n",
    "            return weights - self.lr * grads\n",
    "\n",
    "        elif self.method == \"momentum\":\n",
    "            if key not in self.velocity:\n",
    "                self.velocity[key] = np.zeros_like(weights)\n",
    "            self.velocity[key] = self.beta1 * self.velocity[key] - self.lr * grads\n",
    "            return weights + self.velocity[key]\n",
    "\n",
    "        elif self.method == \"nag\":\n",
    "            if key not in self.velocity:\n",
    "                self.velocity[key] = np.zeros_like(weights)\n",
    "            lookahead = weights + self.beta1 * self.velocity[key]\n",
    "            self.velocity[key] = self.beta1 * self.velocity[key] - self.lr * grads\n",
    "            return lookahead + self.velocity[key]\n",
    "\n",
    "        elif self.method == \"rmsprop\":\n",
    "            if key not in self.cache:\n",
    "                self.cache[key] = np.zeros_like(weights)\n",
    "            self.cache[key] = self.beta1 * self.cache[key] + (1 - self.beta1) * (grads ** 2)\n",
    "            return weights - self.lr * grads / (np.sqrt(self.cache[key]) + self.epsilon)\n",
    "\n",
    "        elif self.method == \"adam\":\n",
    "            self.t += 1\n",
    "            if key not in self.m:\n",
    "                self.m[key] = np.zeros_like(weights)\n",
    "                self.v[key] = np.zeros_like(weights)\n",
    "            self.m[key] = self.beta1 * self.m[key] + (1 - self.beta1) * grads\n",
    "            self.v[key] = self.beta2 * self.v[key] + (1 - self.beta2) * (grads ** 2)\n",
    "            m_hat = self.m[key] / (1 - self.beta1 ** self.t)\n",
    "            v_hat = self.v[key] / (1 - self.beta2 ** self.t)\n",
    "            return weights - self.lr * m_hat / (np.sqrt(v_hat) + self.epsilon)\n",
    "\n",
    "def load_data():\n",
    "    from keras.datasets import fashion_mnist  \n",
    "    (X_train, y_train), (X_test, y_test) = fashion_mnist.load_data()\n",
    "    X_train, X_test = X_train / 255.0, X_test / 255.0  # Normalize\n",
    "    X_train = X_train.reshape(X_train.shape[0], -1)\n",
    "    X_test = X_test.reshape(X_test.shape[0], -1)\n",
    "    \n",
    "    # Split 10% of training data for validation\n",
    "    val_size = int(0.1 * X_train.shape[0])\n",
    "    X_val, y_val = X_train[:val_size], y_train[:val_size]\n",
    "    X_train, y_train = X_train[val_size:], y_train[val_size:]\n",
    "    \n",
    "    return X_train, y_train, X_val, y_val, X_test, y_test \n",
    "\n",
    "def initialize_weights(layers, init_type):\n",
    "    weights = {}\n",
    "    for i in range(len(layers) - 1):\n",
    "        if init_type == \"xavier\":\n",
    "            weights[f'W{i+1}'] = np.random.randn(layers[i], layers[i+1]) / np.sqrt(layers[i])\n",
    "        elif init_type == \"he\":\n",
    "            weights[f'W{i+1}'] = np.random.randn(layers[i], layers[i+1]) * np.sqrt(2 / layers[i])\n",
    "        else:\n",
    "            weights[f'W{i+1}'] = np.random.randn(layers[i], layers[i+1]) * 0.1  # Increase from 0.01\n",
    "        weights[f'b{i+1}'] = np.zeros((1, layers[i+1]))\n",
    "    return weights\n",
    "    \n",
    "def softmax(Z):\n",
    "    expZ = np.exp(Z - np.max(Z, axis=1, keepdims=True)) \n",
    "    return expZ / np.sum(expZ, axis=1, keepdims=True)\n",
    "\n",
    "def forward_pass(X, weights, activation):\n",
    "    Z, A = {}, {\"A0\": X}\n",
    "    for i in range(1, len(weights) // 2):\n",
    "        Z[f'Z{i}'] = np.dot(A[f'A{i-1}'], weights[f'W{i}']) + weights[f'b{i}']\n",
    "        A[f'A{i}'] = np.maximum(0, Z[f'Z{i}']) if activation == \"relu\" else 1 / (1 + np.exp(-Z[f'Z{i}']))\n",
    "\n",
    "    # Final layer (Softmax for classification)\n",
    "    last_layer = len(weights) // 2\n",
    "    Z[f'Z{last_layer}'] = np.dot(A[f'A{last_layer-1}'], weights[f'W{last_layer}']) + weights[f'b{last_layer}']\n",
    "    A[f'A{last_layer}'] = softmax(Z[f'Z{last_layer}'])\n",
    "    \n",
    "    return Z, A\n",
    "\n",
    "def backward_pass(X, Y, weights, A, Z, activation, weight_decay):\n",
    "    grads = {}\n",
    "    m = X.shape[0]\n",
    "    dA = A[f'A{len(A)-1}'] - Y \n",
    "\n",
    "    for i in reversed(range(1, len(weights) // 2 + 1)):\n",
    "        if activation == \"relu\":\n",
    "            dZ = dA * (A[f'A{i}'] > 0)\n",
    "        elif activation == \"sigmoid\":\n",
    "            dZ = dA * A[f'A{i}'] * (1 - A[f'A{i}'])\n",
    "        elif activation == \"tanh\":\n",
    "            dZ = dA * (1 - A[f'A{i}'] ** 2)  # tanh derivative: 1 - tanh^2(x)\n",
    "        else:\n",
    "            raise ValueError(\"Unsupported activation function\")\n",
    "\n",
    "        grads[f'dW{i}'] = np.dot(A[f'A{i-1}'].T, dZ) / m + weight_decay * weights[f'W{i}']\n",
    "        grads[f'db{i}'] = np.sum(dZ, axis=0, keepdims=True) / m\n",
    "        dA = np.dot(dZ, weights[f'W{i}'].T)\n",
    "    \n",
    "    return grads\n",
    "\n",
    "\n",
    "def apply_optimizer(optimizer, weights, grads):\n",
    "    for i in range(1, len(weights) // 2 + 1):\n",
    "        weights[f'W{i}'] = optimizer.update(weights[f'W{i}'], grads[f'dW{i}'], f'W{i}')\n",
    "        weights[f'b{i}'] = optimizer.update(weights[f'b{i}'], grads[f'db{i}'], f'b{i}')\n",
    "\n",
    "def compute_loss(Y, A, loss_function):\n",
    "    m = Y.shape[0]\n",
    "    if loss_function == \"cross_entropy\":\n",
    "        return -np.sum(Y * np.log(A + 1e-8)) / m\n",
    "    else:\n",
    "        return np.mean((Y - A) ** 2) # MSE\n",
    "\n",
    "def compute_accuracy(Y, A):\n",
    "    return np.mean(np.argmax(Y, axis=1) == np.argmax(A, axis=1))\n",
    "\n",
    "def train(config=None):\n",
    "    with wandb.init(config=config, reinit=True):\n",
    "        config = wandb.config\n",
    "        wandb.run.name = (\n",
    "            \"_hl_\" + str(config.num_layers) +\n",
    "            \"_hn_\" + str(config.hidden_size) +\n",
    "            \"_opt_\" + config.optimizer +\n",
    "            \"_act_\" + config.activation +\n",
    "            \"_lr_\" + str(config.learning_rate) +\n",
    "            \"_bs_\" + str(config.batch_size) +\n",
    "            \"_init_\" + config.weight_init +\n",
    "            \"_ep_\" + str(config.epochs) +\n",
    "            \"_l2_\" + str(config.weight_decay)\n",
    "        )\n",
    "        \n",
    "        X_train, y_train, X_val, y_val, _, _ = load_data()\n",
    "        num_classes = 10\n",
    "        y_train, y_val = [np.eye(num_classes)[y] for y in [y_train, y_val]]\n",
    "        \n",
    "        layers = [784] + [config.hidden_size] * config.num_layers + [num_classes]\n",
    "        weights = initialize_weights(layers, config.weight_init)\n",
    "        \n",
    "        optimizer = Optimizer(method=config.optimizer, learning_rate=config.learning_rate)\n",
    "        \n",
    "        for epoch in range(config.epochs):\n",
    "            for i in range(0, X_train.shape[0], config.batch_size):\n",
    "                X_batch = X_train[i:i + config.batch_size]\n",
    "                y_batch = y_train[i:i + config.batch_size]\n",
    "                \n",
    "                Z, A = forward_pass(X_batch, weights, config.activation)\n",
    "                grads = backward_pass(X_batch, y_batch, weights, A, Z, config.activation, config.weight_decay)\n",
    "                apply_optimizer(optimizer, weights, grads)\n",
    "                \n",
    "            Z_train, A_train = forward_pass(X_train, weights, config.activation)\n",
    "            train_loss = compute_loss(y_train, A_train[f'A{len(A_train)-1}'], config.loss)\n",
    "            train_acc = compute_accuracy(y_train, A_train[f'A{len(A_train)-1}'])\n",
    "\n",
    "            Z_val, A_val = forward_pass(X_val, weights, config.activation)\n",
    "            val_loss = compute_loss(y_val, A_val[f'A{len(A_val)-1}'], config.loss)\n",
    "            val_acc = compute_accuracy(y_val, A_val[f'A{len(A_val)-1}'])\n",
    "            \n",
    "            wandb.log({\"epoch\": epoch + 1, \"train_loss\": train_loss, \"train_accuracy\": train_acc,\n",
    "                       \"val_loss\": val_loss, \"val_accuracy\": val_acc})\n",
    "\n",
    "sweep_config = {\n",
    "    \"method\": \"bayes\",\n",
    "    \"metric\": {\"name\": \"val_loss\", \"goal\": \"minimize\"},\n",
    "    \"parameters\": {\n",
    "        \"activation\": {\"values\": [\"relu\", \"sigmoid\", \"tanh\"]},\n",
    "        \"batch_size\": {\"values\": [32, 64, 128]},\n",
    "        \"epochs\": {\"values\": [5, 10, 20]},\n",
    "        \"hidden_size\": {\"values\": [32, 64, 128]},\n",
    "        \"learning_rate\": {\"values\": [0.01, 0.001, 0.0001]},\n",
    "        \"num_layers\": {\"values\": [2, 3, 4]},\n",
    "        \"optimizer\": {\"values\": [\"sgd\", \"momentum\",\"nag\",\"adam\", \"rmsprop\"]},\n",
    "        \"weight_decay\": {\"values\": [0.0001, 0.0005, 0.001]},\n",
    "        \"weight_init\": {\"values\": [\"random\", \"xavier\"]},\n",
    "        \"loss\": {\"values\": [\"cross_entropy\"]}\n",
    "    }}\n",
    "\n",
    "sweep_id = wandb.sweep(sweep_config, project=\"fashion-mnist-dataset\")\n",
    "wandb.agent(sweep_id, function=train, count=50)"
   ]
  },
  {
   "cell_type": "code",
   "execution_count": null,
   "id": "0d05ef69-a453-449a-ba01-f283e21cfc4e",
   "metadata": {},
   "outputs": [],
   "source": []
  }
 ],
 "metadata": {
  "kernelspec": {
   "display_name": "Python 3 (ipykernel)",
   "language": "python",
   "name": "python3"
  },
  "language_info": {
   "codemirror_mode": {
    "name": "ipython",
    "version": 3
   },
   "file_extension": ".py",
   "mimetype": "text/x-python",
   "name": "python",
   "nbconvert_exporter": "python",
   "pygments_lexer": "ipython3",
   "version": "3.12.4"
  }
 },
 "nbformat": 4,
 "nbformat_minor": 5
}
