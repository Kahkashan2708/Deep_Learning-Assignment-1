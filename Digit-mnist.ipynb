{
 "cells": [
  {
   "cell_type": "markdown",
   "id": "52bb903c-0b56-47d0-aa61-3fb3beefc723",
   "metadata": {},
   "source": [
    "# Digit Mnist "
   ]
  },
  {
   "cell_type": "code",
   "execution_count": 1,
   "id": "4e04f8b4-b888-47ac-be36-88d277ec1a86",
   "metadata": {},
   "outputs": [],
   "source": [
    "import numpy as np\n",
    "import wandb\n",
    "\n",
    "# Optimizer Class \n",
    "class Optimizer:\n",
    "    def __init__(self, method=\"sgd\", learning_rate=0.01, beta1=0.9, beta2=0.999, epsilon=1e-8):\n",
    "        self.method = method\n",
    "        self.lr = learning_rate\n",
    "        self.beta1 = beta1\n",
    "        self.beta2 = beta2\n",
    "        self.epsilon = epsilon\n",
    "        self.velocity = {}\n",
    "        self.cache = {}\n",
    "        self.m = {}\n",
    "        self.v = {}\n",
    "        self.t = 0\n",
    "\n",
    "    def update(self, weights, grads, key):\n",
    "        if self.method == \"sgd\":\n",
    "            return weights - self.lr * grads\n",
    "\n",
    "        elif self.method == \"momentum\":\n",
    "            if key not in self.velocity:\n",
    "                self.velocity[key] = np.zeros_like(weights)\n",
    "            self.velocity[key] = self.beta1 * self.velocity[key] - self.lr * grads\n",
    "            return weights + self.velocity[key]\n",
    "\n",
    "        elif self.method == \"nag\":\n",
    "            if key not in self.velocity:\n",
    "                self.velocity[key] = np.zeros_like(weights)\n",
    "            lookahead = weights + self.beta1 * self.velocity[key]\n",
    "            self.velocity[key] = self.beta1 * self.velocity[key] - self.lr * grads\n",
    "            return lookahead + self.velocity[key]\n",
    "\n",
    "        elif self.method == \"rmsprop\":\n",
    "            if key not in self.cache:\n",
    "                self.cache[key] = np.zeros_like(weights)\n",
    "            self.cache[key] = self.beta1 * self.cache[key] + (1 - self.beta1) * (grads ** 2)\n",
    "            return weights - self.lr * grads / (np.sqrt(self.cache[key]) + self.epsilon)\n",
    "\n",
    "        elif self.method == \"adam\":\n",
    "            self.t += 1\n",
    "            if key not in self.m:\n",
    "                self.m[key] = np.zeros_like(weights)\n",
    "                self.v[key] = np.zeros_like(weights)\n",
    "            self.m[key] = self.beta1 * self.m[key] + (1 - self.beta1) * grads\n",
    "            self.v[key] = self.beta2 * self.v[key] + (1 - self.beta2) * (grads ** 2)\n",
    "            m_hat = self.m[key] / (1 - self.beta1 ** self.t)\n",
    "            v_hat = self.v[key] / (1 - self.beta2 ** self.t)\n",
    "            return weights - self.lr * m_hat / (np.sqrt(v_hat) + self.epsilon)\n",
    "\n",
    "# Load MNIST Dataset\n",
    "def load_data():\n",
    "    from keras.datasets import mnist  # Using digit MNIST dataset\n",
    "    (X_train, y_train), (X_test, y_test) = mnist.load_data()\n",
    "    X_train, X_test = X_train / 255.0, X_test / 255.0  # Normalize\n",
    "    X_train = X_train.reshape(X_train.shape[0], -1)\n",
    "    X_test = X_test.reshape(X_test.shape[0], -1)\n",
    "    \n",
    "    # Split 10% of training data for validation\n",
    "    val_size = int(0.1 * X_train.shape[0])\n",
    "    X_val, y_val = X_train[:val_size], y_train[:val_size]\n",
    "    X_train, y_train = X_train[val_size:], y_train[val_size:]\n",
    "    \n",
    "    return X_train, y_train, X_val, y_val, X_test, y_test \n",
    "\n",
    "def initialize_weights(layers, init_type):\n",
    "    weights = {}\n",
    "    for i in range(len(layers) - 1):\n",
    "        if init_type == \"xavier\":\n",
    "            weights[f'W{i+1}'] = np.random.randn(layers[i], layers[i+1]) / np.sqrt(layers[i])\n",
    "        elif init_type == \"he\":\n",
    "            weights[f'W{i+1}'] = np.random.randn(layers[i], layers[i+1]) * np.sqrt(2 / layers[i])\n",
    "        else:\n",
    "            weights[f'W{i+1}'] = np.random.randn(layers[i], layers[i+1]) * 0.1  \n",
    "        weights[f'b{i+1}'] = np.zeros((1, layers[i+1]))\n",
    "    return weights\n",
    "    \n",
    "def softmax(Z):\n",
    "    expZ = np.exp(Z - np.max(Z, axis=1, keepdims=True)) \n",
    "    return expZ / np.sum(expZ, axis=1, keepdims=True)\n",
    "\n",
    "def forward_pass(X, weights, activation):\n",
    "    Z, A = {}, {\"A0\": X}\n",
    "    for i in range(1, len(weights) // 2):\n",
    "        Z[f'Z{i}'] = np.dot(A[f'A{i-1}'], weights[f'W{i}']) + weights[f'b{i}']\n",
    "        A[f'A{i}'] = np.maximum(0, Z[f'Z{i}']) if activation == \"relu\" else 1 / (1 + np.exp(-Z[f'Z{i}']))\n",
    "\n",
    "    last_layer = len(weights) // 2\n",
    "    Z[f'Z{last_layer}'] = np.dot(A[f'A{last_layer-1}'], weights[f'W{last_layer}']) + weights[f'b{last_layer}']\n",
    "    A[f'A{last_layer}'] = softmax(Z[f'Z{last_layer}'])\n",
    "    \n",
    "    return Z, A\n",
    "\n",
    "def backward_pass(X, Y, weights, A, Z, activation, weight_decay):\n",
    "    grads = {}\n",
    "    m = X.shape[0]\n",
    "    dA = A[f'A{len(A)-1}'] - Y \n",
    "\n",
    "    for i in reversed(range(1, len(weights) // 2 + 1)):\n",
    "        dZ = dA * (A[f'A{i}'] > 0) if activation == \"relu\" else dA * A[f'A{i}'] * (1 - A[f'A{i}'])\n",
    "        grads[f'dW{i}'] = np.dot(A[f'A{i-1}'].T, dZ) / m + weight_decay * weights[f'W{i}']\n",
    "        grads[f'db{i}'] = np.sum(dZ, axis=0, keepdims=True) / m\n",
    "        dA = np.dot(dZ, weights[f'W{i}'].T)\n",
    "    \n",
    "    return grads\n",
    "\n",
    "def apply_optimizer(optimizer, weights, grads):\n",
    "    for i in range(1, len(weights) // 2 + 1):\n",
    "        weights[f'W{i}'] = optimizer.update(weights[f'W{i}'], grads[f'dW{i}'], f'W{i}')\n",
    "        weights[f'b{i}'] = optimizer.update(weights[f'b{i}'], grads[f'db{i}'], f'b{i}')\n",
    "\n",
    "def compute_loss(Y, A):\n",
    "    m = Y.shape[0]\n",
    "    return -np.sum(Y * np.log(A + 1e-8)) / m  \n",
    "\n",
    "def compute_accuracy(Y, A):\n",
    "    return np.mean(np.argmax(Y, axis=1) == np.argmax(A, axis=1))\n",
    "\n",
    "def train(config=None):\n",
    "    with wandb.init(config=config, reinit=True):\n",
    "        config = wandb.config\n",
    "        wandb.run.name = (\n",
    "            \"_hl_\" + str(config.num_layers) +\n",
    "            \"_hn_\" + str(config.hidden_size) +\n",
    "            \"_opt_\" + config.optimizer +\n",
    "            \"_act_\" + config.activation +\n",
    "            \"_lr_\" + str(config.learning_rate) +\n",
    "            \"_bs_\" + str(config.batch_size) +\n",
    "            \"_init_\" + config.weight_init +\n",
    "            \"_ep_\" + str(config.epochs) +\n",
    "            \"_l2_\" + str(config.weight_decay)\n",
    "        )\n",
    "\n",
    "        X_train, y_train, X_val, y_val, _, _ = load_data()\n",
    "        num_classes = 10\n",
    "        y_train, y_val = [np.eye(num_classes)[y] for y in [y_train, y_val]]\n",
    "        \n",
    "        layers = [784] + [config.hidden_size] * config.num_layers + [num_classes]\n",
    "        weights = initialize_weights(layers, config.weight_init)\n",
    "        \n",
    "        optimizer = Optimizer(method=config.optimizer, learning_rate=config.learning_rate)\n",
    "        \n",
    "        for epoch in range(config.epochs):\n",
    "            for i in range(0, X_train.shape[0], config.batch_size):\n",
    "                X_batch = X_train[i:i + config.batch_size]\n",
    "                y_batch = y_train[i:i + config.batch_size]\n",
    "                \n",
    "                Z, A = forward_pass(X_batch, weights, config.activation)\n",
    "                grads = backward_pass(X_batch, y_batch, weights, A, Z, config.activation, config.weight_decay)\n",
    "                apply_optimizer(optimizer, weights, grads)\n",
    "                \n",
    "            Z_val, A_val = forward_pass(X_val, weights, config.activation)\n",
    "            val_loss = compute_loss(y_val, A_val[f'A{len(A_val)-1}'])\n",
    "            val_acc = compute_accuracy(y_val, A_val[f'A{len(A_val)-1}'])\n",
    "            \n",
    "            wandb.log({\"epoch\": epoch + 1, \"val_loss\": val_loss, \"val_accuracy\": val_acc})"
   ]
  },
  {
   "cell_type": "code",
   "execution_count": 2,
   "id": "c9c919ae-625f-44c6-8652-13fff0fa1845",
   "metadata": {},
   "outputs": [
    {
     "name": "stderr",
     "output_type": "stream",
     "text": [
      "wandb: Using wandb-core as the SDK backend.  Please refer to https://wandb.me/wandb-core for more information.\n"
     ]
    },
    {
     "name": "stdout",
     "output_type": "stream",
     "text": [
      "Create sweep with ID: 2e6bq7lk\n",
      "Sweep URL: https://wandb.ai/ma23c014-indian-institute-of-technology-madras/Digit-MNIST-Data/sweeps/2e6bq7lk\n"
     ]
    },
    {
     "name": "stderr",
     "output_type": "stream",
     "text": [
      "wandb: Agent Starting Run: rm77aizi with config:\n",
      "wandb: \tactivation: tanh\n",
      "wandb: \tbatch_size: 64\n",
      "wandb: \tepochs: 10\n",
      "wandb: \thidden_size: 128\n",
      "wandb: \tlearning_rate: 0.001\n",
      "wandb: \tloss: cross_entropy\n",
      "wandb: \tnum_layers: 2\n",
      "wandb: \toptimizer: adam\n",
      "wandb: \tweight_decay: 0\n",
      "wandb: \tweight_init: random\n",
      "wandb: Currently logged in as: ma23c014 (ma23c014-indian-institute-of-technology-madras) to https://api.wandb.ai. Use `wandb login --relogin` to force relogin\n"
     ]
    },
    {
     "data": {
      "text/html": [
       "Tracking run with wandb version 0.19.8"
      ],
      "text/plain": [
       "<IPython.core.display.HTML object>"
      ]
     },
     "metadata": {},
     "output_type": "display_data"
    },
    {
     "data": {
      "text/html": [
       "Run data is saved locally in <code>C:\\Users\\lenovo\\fashion_mnist-backpropagation\\wandb\\run-20250317_220448-rm77aizi</code>"
      ],
      "text/plain": [
       "<IPython.core.display.HTML object>"
      ]
     },
     "metadata": {},
     "output_type": "display_data"
    },
    {
     "data": {
      "text/html": [
       "Syncing run <strong><a href='https://wandb.ai/ma23c014-indian-institute-of-technology-madras/Digit-MNIST-Data/runs/rm77aizi' target=\"_blank\">trim-sweep-1</a></strong> to <a href='https://wandb.ai/ma23c014-indian-institute-of-technology-madras/Digit-MNIST-Data' target=\"_blank\">Weights & Biases</a> (<a href='https://wandb.me/developer-guide' target=\"_blank\">docs</a>)<br>Sweep page: <a href='https://wandb.ai/ma23c014-indian-institute-of-technology-madras/Digit-MNIST-Data/sweeps/2e6bq7lk' target=\"_blank\">https://wandb.ai/ma23c014-indian-institute-of-technology-madras/Digit-MNIST-Data/sweeps/2e6bq7lk</a>"
      ],
      "text/plain": [
       "<IPython.core.display.HTML object>"
      ]
     },
     "metadata": {},
     "output_type": "display_data"
    },
    {
     "data": {
      "text/html": [
       " View project at <a href='https://wandb.ai/ma23c014-indian-institute-of-technology-madras/Digit-MNIST-Data' target=\"_blank\">https://wandb.ai/ma23c014-indian-institute-of-technology-madras/Digit-MNIST-Data</a>"
      ],
      "text/plain": [
       "<IPython.core.display.HTML object>"
      ]
     },
     "metadata": {},
     "output_type": "display_data"
    },
    {
     "data": {
      "text/html": [
       " View sweep at <a href='https://wandb.ai/ma23c014-indian-institute-of-technology-madras/Digit-MNIST-Data/sweeps/2e6bq7lk' target=\"_blank\">https://wandb.ai/ma23c014-indian-institute-of-technology-madras/Digit-MNIST-Data/sweeps/2e6bq7lk</a>"
      ],
      "text/plain": [
       "<IPython.core.display.HTML object>"
      ]
     },
     "metadata": {},
     "output_type": "display_data"
    },
    {
     "data": {
      "text/html": [
       " View run at <a href='https://wandb.ai/ma23c014-indian-institute-of-technology-madras/Digit-MNIST-Data/runs/rm77aizi' target=\"_blank\">https://wandb.ai/ma23c014-indian-institute-of-technology-madras/Digit-MNIST-Data/runs/rm77aizi</a>"
      ],
      "text/plain": [
       "<IPython.core.display.HTML object>"
      ]
     },
     "metadata": {},
     "output_type": "display_data"
    },
    {
     "data": {
      "text/html": [],
      "text/plain": [
       "<IPython.core.display.HTML object>"
      ]
     },
     "metadata": {},
     "output_type": "display_data"
    },
    {
     "data": {
      "text/html": [
       "<br>    <style><br>        .wandb-row {<br>            display: flex;<br>            flex-direction: row;<br>            flex-wrap: wrap;<br>            justify-content: flex-start;<br>            width: 100%;<br>        }<br>        .wandb-col {<br>            display: flex;<br>            flex-direction: column;<br>            flex-basis: 100%;<br>            flex: 1;<br>            padding: 10px;<br>        }<br>    </style><br><div class=\"wandb-row\"><div class=\"wandb-col\"><h3>Run history:</h3><br/><table class=\"wandb\"><tr><td>epoch</td><td>▁▂▃▃▄▅▆▆▇█</td></tr><tr><td>val_accuracy</td><td>▁▅▆▇▇▇███▇</td></tr><tr><td>val_loss</td><td>█▃▃▂▁▁▁▂▂▂</td></tr></table><br/></div><div class=\"wandb-col\"><h3>Run summary:</h3><br/><table class=\"wandb\"><tr><td>epoch</td><td>10</td></tr><tr><td>val_accuracy</td><td>0.94667</td></tr><tr><td>val_loss</td><td>0.28633</td></tr></table><br/></div></div>"
      ],
      "text/plain": [
       "<IPython.core.display.HTML object>"
      ]
     },
     "metadata": {},
     "output_type": "display_data"
    },
    {
     "data": {
      "text/html": [
       " View run <strong style=\"color:#cdcd00\">_hl_2_hn_128_opt_adam_act_tanh_lr_0.001_bs_64_init_random_ep_10_l2_0</strong> at: <a href='https://wandb.ai/ma23c014-indian-institute-of-technology-madras/Digit-MNIST-Data/runs/rm77aizi' target=\"_blank\">https://wandb.ai/ma23c014-indian-institute-of-technology-madras/Digit-MNIST-Data/runs/rm77aizi</a><br> View project at: <a href='https://wandb.ai/ma23c014-indian-institute-of-technology-madras/Digit-MNIST-Data' target=\"_blank\">https://wandb.ai/ma23c014-indian-institute-of-technology-madras/Digit-MNIST-Data</a><br>Synced 5 W&B file(s), 0 media file(s), 0 artifact file(s) and 0 other file(s)"
      ],
      "text/plain": [
       "<IPython.core.display.HTML object>"
      ]
     },
     "metadata": {},
     "output_type": "display_data"
    },
    {
     "data": {
      "text/html": [
       "Find logs at: <code>.\\wandb\\run-20250317_220448-rm77aizi\\logs</code>"
      ],
      "text/plain": [
       "<IPython.core.display.HTML object>"
      ]
     },
     "metadata": {},
     "output_type": "display_data"
    },
    {
     "name": "stderr",
     "output_type": "stream",
     "text": [
      "wandb: Agent Starting Run: 6b30gezr with config:\n",
      "wandb: \tactivation: relu\n",
      "wandb: \tbatch_size: 128\n",
      "wandb: \tepochs: 5\n",
      "wandb: \thidden_size: 128\n",
      "wandb: \tlearning_rate: 0.001\n",
      "wandb: \tloss: cross_entropy\n",
      "wandb: \tnum_layers: 2\n",
      "wandb: \toptimizer: sgd\n",
      "wandb: \tweight_decay: 0.0001\n",
      "wandb: \tweight_init: xavier\n"
     ]
    },
    {
     "data": {
      "text/html": [
       "Tracking run with wandb version 0.19.8"
      ],
      "text/plain": [
       "<IPython.core.display.HTML object>"
      ]
     },
     "metadata": {},
     "output_type": "display_data"
    },
    {
     "data": {
      "text/html": [
       "Run data is saved locally in <code>C:\\Users\\lenovo\\fashion_mnist-backpropagation\\wandb\\run-20250317_220639-6b30gezr</code>"
      ],
      "text/plain": [
       "<IPython.core.display.HTML object>"
      ]
     },
     "metadata": {},
     "output_type": "display_data"
    },
    {
     "data": {
      "text/html": [
       "Syncing run <strong><a href='https://wandb.ai/ma23c014-indian-institute-of-technology-madras/Digit-MNIST-Data/runs/6b30gezr' target=\"_blank\">fanciful-sweep-2</a></strong> to <a href='https://wandb.ai/ma23c014-indian-institute-of-technology-madras/Digit-MNIST-Data' target=\"_blank\">Weights & Biases</a> (<a href='https://wandb.me/developer-guide' target=\"_blank\">docs</a>)<br>Sweep page: <a href='https://wandb.ai/ma23c014-indian-institute-of-technology-madras/Digit-MNIST-Data/sweeps/2e6bq7lk' target=\"_blank\">https://wandb.ai/ma23c014-indian-institute-of-technology-madras/Digit-MNIST-Data/sweeps/2e6bq7lk</a>"
      ],
      "text/plain": [
       "<IPython.core.display.HTML object>"
      ]
     },
     "metadata": {},
     "output_type": "display_data"
    },
    {
     "data": {
      "text/html": [
       " View project at <a href='https://wandb.ai/ma23c014-indian-institute-of-technology-madras/Digit-MNIST-Data' target=\"_blank\">https://wandb.ai/ma23c014-indian-institute-of-technology-madras/Digit-MNIST-Data</a>"
      ],
      "text/plain": [
       "<IPython.core.display.HTML object>"
      ]
     },
     "metadata": {},
     "output_type": "display_data"
    },
    {
     "data": {
      "text/html": [
       " View sweep at <a href='https://wandb.ai/ma23c014-indian-institute-of-technology-madras/Digit-MNIST-Data/sweeps/2e6bq7lk' target=\"_blank\">https://wandb.ai/ma23c014-indian-institute-of-technology-madras/Digit-MNIST-Data/sweeps/2e6bq7lk</a>"
      ],
      "text/plain": [
       "<IPython.core.display.HTML object>"
      ]
     },
     "metadata": {},
     "output_type": "display_data"
    },
    {
     "data": {
      "text/html": [
       " View run at <a href='https://wandb.ai/ma23c014-indian-institute-of-technology-madras/Digit-MNIST-Data/runs/6b30gezr' target=\"_blank\">https://wandb.ai/ma23c014-indian-institute-of-technology-madras/Digit-MNIST-Data/runs/6b30gezr</a>"
      ],
      "text/plain": [
       "<IPython.core.display.HTML object>"
      ]
     },
     "metadata": {},
     "output_type": "display_data"
    },
    {
     "data": {
      "text/html": [],
      "text/plain": [
       "<IPython.core.display.HTML object>"
      ]
     },
     "metadata": {},
     "output_type": "display_data"
    },
    {
     "data": {
      "text/html": [
       "<br>    <style><br>        .wandb-row {<br>            display: flex;<br>            flex-direction: row;<br>            flex-wrap: wrap;<br>            justify-content: flex-start;<br>            width: 100%;<br>        }<br>        .wandb-col {<br>            display: flex;<br>            flex-direction: column;<br>            flex-basis: 100%;<br>            flex: 1;<br>            padding: 10px;<br>        }<br>    </style><br><div class=\"wandb-row\"><div class=\"wandb-col\"><h3>Run history:</h3><br/><table class=\"wandb\"><tr><td>epoch</td><td>▁▃▅▆█</td></tr><tr><td>val_accuracy</td><td>▁▅▇██</td></tr><tr><td>val_loss</td><td>█▇▅▃▁</td></tr></table><br/></div><div class=\"wandb-col\"><h3>Run summary:</h3><br/><table class=\"wandb\"><tr><td>epoch</td><td>5</td></tr><tr><td>val_accuracy</td><td>0.716</td></tr><tr><td>val_loss</td><td>1.49929</td></tr></table><br/></div></div>"
      ],
      "text/plain": [
       "<IPython.core.display.HTML object>"
      ]
     },
     "metadata": {},
     "output_type": "display_data"
    },
    {
     "data": {
      "text/html": [
       " View run <strong style=\"color:#cdcd00\">_hl_2_hn_128_opt_sgd_act_relu_lr_0.001_bs_128_init_xavier_ep_5_l2_0.0001</strong> at: <a href='https://wandb.ai/ma23c014-indian-institute-of-technology-madras/Digit-MNIST-Data/runs/6b30gezr' target=\"_blank\">https://wandb.ai/ma23c014-indian-institute-of-technology-madras/Digit-MNIST-Data/runs/6b30gezr</a><br> View project at: <a href='https://wandb.ai/ma23c014-indian-institute-of-technology-madras/Digit-MNIST-Data' target=\"_blank\">https://wandb.ai/ma23c014-indian-institute-of-technology-madras/Digit-MNIST-Data</a><br>Synced 5 W&B file(s), 0 media file(s), 0 artifact file(s) and 0 other file(s)"
      ],
      "text/plain": [
       "<IPython.core.display.HTML object>"
      ]
     },
     "metadata": {},
     "output_type": "display_data"
    },
    {
     "data": {
      "text/html": [
       "Find logs at: <code>.\\wandb\\run-20250317_220639-6b30gezr\\logs</code>"
      ],
      "text/plain": [
       "<IPython.core.display.HTML object>"
      ]
     },
     "metadata": {},
     "output_type": "display_data"
    },
    {
     "name": "stderr",
     "output_type": "stream",
     "text": [
      "wandb: Agent Starting Run: zb5or22y with config:\n",
      "wandb: \tactivation: sigmoid\n",
      "wandb: \tbatch_size: 32\n",
      "wandb: \tepochs: 20\n",
      "wandb: \thidden_size: 64\n",
      "wandb: \tlearning_rate: 0.1\n",
      "wandb: \tloss: mean_squared_error\n",
      "wandb: \tnum_layers: 2\n",
      "wandb: \toptimizer: adam\n",
      "wandb: \tweight_decay: 0\n",
      "wandb: \tweight_init: xavier\n"
     ]
    },
    {
     "data": {
      "text/html": [
       "Tracking run with wandb version 0.19.8"
      ],
      "text/plain": [
       "<IPython.core.display.HTML object>"
      ]
     },
     "metadata": {},
     "output_type": "display_data"
    },
    {
     "data": {
      "text/html": [
       "Run data is saved locally in <code>C:\\Users\\lenovo\\fashion_mnist-backpropagation\\wandb\\run-20250317_220705-zb5or22y</code>"
      ],
      "text/plain": [
       "<IPython.core.display.HTML object>"
      ]
     },
     "metadata": {},
     "output_type": "display_data"
    },
    {
     "data": {
      "text/html": [
       "Syncing run <strong><a href='https://wandb.ai/ma23c014-indian-institute-of-technology-madras/Digit-MNIST-Data/runs/zb5or22y' target=\"_blank\">colorful-sweep-3</a></strong> to <a href='https://wandb.ai/ma23c014-indian-institute-of-technology-madras/Digit-MNIST-Data' target=\"_blank\">Weights & Biases</a> (<a href='https://wandb.me/developer-guide' target=\"_blank\">docs</a>)<br>Sweep page: <a href='https://wandb.ai/ma23c014-indian-institute-of-technology-madras/Digit-MNIST-Data/sweeps/2e6bq7lk' target=\"_blank\">https://wandb.ai/ma23c014-indian-institute-of-technology-madras/Digit-MNIST-Data/sweeps/2e6bq7lk</a>"
      ],
      "text/plain": [
       "<IPython.core.display.HTML object>"
      ]
     },
     "metadata": {},
     "output_type": "display_data"
    },
    {
     "data": {
      "text/html": [
       " View project at <a href='https://wandb.ai/ma23c014-indian-institute-of-technology-madras/Digit-MNIST-Data' target=\"_blank\">https://wandb.ai/ma23c014-indian-institute-of-technology-madras/Digit-MNIST-Data</a>"
      ],
      "text/plain": [
       "<IPython.core.display.HTML object>"
      ]
     },
     "metadata": {},
     "output_type": "display_data"
    },
    {
     "data": {
      "text/html": [
       " View sweep at <a href='https://wandb.ai/ma23c014-indian-institute-of-technology-madras/Digit-MNIST-Data/sweeps/2e6bq7lk' target=\"_blank\">https://wandb.ai/ma23c014-indian-institute-of-technology-madras/Digit-MNIST-Data/sweeps/2e6bq7lk</a>"
      ],
      "text/plain": [
       "<IPython.core.display.HTML object>"
      ]
     },
     "metadata": {},
     "output_type": "display_data"
    },
    {
     "data": {
      "text/html": [
       " View run at <a href='https://wandb.ai/ma23c014-indian-institute-of-technology-madras/Digit-MNIST-Data/runs/zb5or22y' target=\"_blank\">https://wandb.ai/ma23c014-indian-institute-of-technology-madras/Digit-MNIST-Data/runs/zb5or22y</a>"
      ],
      "text/plain": [
       "<IPython.core.display.HTML object>"
      ]
     },
     "metadata": {},
     "output_type": "display_data"
    },
    {
     "name": "stderr",
     "output_type": "stream",
     "text": [
      "C:\\Users\\lenovo\\AppData\\Local\\Temp\\ipykernel_8696\\2664135330.py:87: RuntimeWarning: overflow encountered in exp\n",
      "  A[f'A{i}'] = np.maximum(0, Z[f'Z{i}']) if activation == \"relu\" else 1 / (1 + np.exp(-Z[f'Z{i}']))\n"
     ]
    },
    {
     "data": {
      "text/html": [],
      "text/plain": [
       "<IPython.core.display.HTML object>"
      ]
     },
     "metadata": {},
     "output_type": "display_data"
    },
    {
     "data": {
      "text/html": [
       "<br>    <style><br>        .wandb-row {<br>            display: flex;<br>            flex-direction: row;<br>            flex-wrap: wrap;<br>            justify-content: flex-start;<br>            width: 100%;<br>        }<br>        .wandb-col {<br>            display: flex;<br>            flex-direction: column;<br>            flex-basis: 100%;<br>            flex: 1;<br>            padding: 10px;<br>        }<br>    </style><br><div class=\"wandb-row\"><div class=\"wandb-col\"><h3>Run history:</h3><br/><table class=\"wandb\"><tr><td>epoch</td><td>▁▁▂▂▂▃▃▄▄▄▅▅▅▆▆▇▇▇██</td></tr><tr><td>val_accuracy</td><td>█▁▁█▅▇▁▁▂▁▁▁▂▁▂▁▁▁▃▂</td></tr><tr><td>val_loss</td><td>▁▄▅▃▃▄█▄▄▅▃▅▄▄▅▅▅▅▃▃</td></tr></table><br/></div><div class=\"wandb-col\"><h3>Run summary:</h3><br/><table class=\"wandb\"><tr><td>epoch</td><td>20</td></tr><tr><td>val_accuracy</td><td>0.10133</td></tr><tr><td>val_loss</td><td>2.39526</td></tr></table><br/></div></div>"
      ],
      "text/plain": [
       "<IPython.core.display.HTML object>"
      ]
     },
     "metadata": {},
     "output_type": "display_data"
    },
    {
     "data": {
      "text/html": [
       " View run <strong style=\"color:#cdcd00\">_hl_2_hn_64_opt_adam_act_sigmoid_lr_0.1_bs_32_init_xavier_ep_20_l2_0</strong> at: <a href='https://wandb.ai/ma23c014-indian-institute-of-technology-madras/Digit-MNIST-Data/runs/zb5or22y' target=\"_blank\">https://wandb.ai/ma23c014-indian-institute-of-technology-madras/Digit-MNIST-Data/runs/zb5or22y</a><br> View project at: <a href='https://wandb.ai/ma23c014-indian-institute-of-technology-madras/Digit-MNIST-Data' target=\"_blank\">https://wandb.ai/ma23c014-indian-institute-of-technology-madras/Digit-MNIST-Data</a><br>Synced 5 W&B file(s), 0 media file(s), 0 artifact file(s) and 0 other file(s)"
      ],
      "text/plain": [
       "<IPython.core.display.HTML object>"
      ]
     },
     "metadata": {},
     "output_type": "display_data"
    },
    {
     "data": {
      "text/html": [
       "Find logs at: <code>.\\wandb\\run-20250317_220705-zb5or22y\\logs</code>"
      ],
      "text/plain": [
       "<IPython.core.display.HTML object>"
      ]
     },
     "metadata": {},
     "output_type": "display_data"
    },
    {
     "name": "stderr",
     "output_type": "stream",
     "text": [
      "wandb: Agent Starting Run: uzkh8rmn with config:\n",
      "wandb: \tactivation: tanh\n",
      "wandb: \tbatch_size: 64\n",
      "wandb: \tepochs: 20\n",
      "wandb: \thidden_size: 256\n",
      "wandb: \tlearning_rate: 0.001\n",
      "wandb: \tloss: cross_entropy\n",
      "wandb: \tnum_layers: 2\n",
      "wandb: \toptimizer: sgd\n",
      "wandb: \tweight_decay: 0.0001\n",
      "wandb: \tweight_init: random\n"
     ]
    },
    {
     "data": {
      "text/html": [
       "Tracking run with wandb version 0.19.8"
      ],
      "text/plain": [
       "<IPython.core.display.HTML object>"
      ]
     },
     "metadata": {},
     "output_type": "display_data"
    },
    {
     "data": {
      "text/html": [
       "Run data is saved locally in <code>C:\\Users\\lenovo\\fashion_mnist-backpropagation\\wandb\\run-20250317_221022-uzkh8rmn</code>"
      ],
      "text/plain": [
       "<IPython.core.display.HTML object>"
      ]
     },
     "metadata": {},
     "output_type": "display_data"
    },
    {
     "data": {
      "text/html": [
       "Syncing run <strong><a href='https://wandb.ai/ma23c014-indian-institute-of-technology-madras/Digit-MNIST-Data/runs/uzkh8rmn' target=\"_blank\">cerulean-sweep-4</a></strong> to <a href='https://wandb.ai/ma23c014-indian-institute-of-technology-madras/Digit-MNIST-Data' target=\"_blank\">Weights & Biases</a> (<a href='https://wandb.me/developer-guide' target=\"_blank\">docs</a>)<br>Sweep page: <a href='https://wandb.ai/ma23c014-indian-institute-of-technology-madras/Digit-MNIST-Data/sweeps/2e6bq7lk' target=\"_blank\">https://wandb.ai/ma23c014-indian-institute-of-technology-madras/Digit-MNIST-Data/sweeps/2e6bq7lk</a>"
      ],
      "text/plain": [
       "<IPython.core.display.HTML object>"
      ]
     },
     "metadata": {},
     "output_type": "display_data"
    },
    {
     "data": {
      "text/html": [
       " View project at <a href='https://wandb.ai/ma23c014-indian-institute-of-technology-madras/Digit-MNIST-Data' target=\"_blank\">https://wandb.ai/ma23c014-indian-institute-of-technology-madras/Digit-MNIST-Data</a>"
      ],
      "text/plain": [
       "<IPython.core.display.HTML object>"
      ]
     },
     "metadata": {},
     "output_type": "display_data"
    },
    {
     "data": {
      "text/html": [
       " View sweep at <a href='https://wandb.ai/ma23c014-indian-institute-of-technology-madras/Digit-MNIST-Data/sweeps/2e6bq7lk' target=\"_blank\">https://wandb.ai/ma23c014-indian-institute-of-technology-madras/Digit-MNIST-Data/sweeps/2e6bq7lk</a>"
      ],
      "text/plain": [
       "<IPython.core.display.HTML object>"
      ]
     },
     "metadata": {},
     "output_type": "display_data"
    },
    {
     "data": {
      "text/html": [
       " View run at <a href='https://wandb.ai/ma23c014-indian-institute-of-technology-madras/Digit-MNIST-Data/runs/uzkh8rmn' target=\"_blank\">https://wandb.ai/ma23c014-indian-institute-of-technology-madras/Digit-MNIST-Data/runs/uzkh8rmn</a>"
      ],
      "text/plain": [
       "<IPython.core.display.HTML object>"
      ]
     },
     "metadata": {},
     "output_type": "display_data"
    },
    {
     "data": {
      "text/html": [],
      "text/plain": [
       "<IPython.core.display.HTML object>"
      ]
     },
     "metadata": {},
     "output_type": "display_data"
    },
    {
     "data": {
      "text/html": [
       "<br>    <style><br>        .wandb-row {<br>            display: flex;<br>            flex-direction: row;<br>            flex-wrap: wrap;<br>            justify-content: flex-start;<br>            width: 100%;<br>        }<br>        .wandb-col {<br>            display: flex;<br>            flex-direction: column;<br>            flex-basis: 100%;<br>            flex: 1;<br>            padding: 10px;<br>        }<br>    </style><br><div class=\"wandb-row\"><div class=\"wandb-col\"><h3>Run history:</h3><br/><table class=\"wandb\"><tr><td>epoch</td><td>▁▁▂▂▂▃▃▄▄▄▅▅▅▆▆▇▇▇██</td></tr><tr><td>val_accuracy</td><td>▁▂▂▂▂▃▃▃▄▄▅▅▆▆▆▇▇▇██</td></tr><tr><td>val_loss</td><td>█▅▄▄▄▄▃▃▃▃▃▂▂▂▂▂▂▁▁▁</td></tr></table><br/></div><div class=\"wandb-col\"><h3>Run summary:</h3><br/><table class=\"wandb\"><tr><td>epoch</td><td>20</td></tr><tr><td>val_accuracy</td><td>0.27167</td></tr><tr><td>val_loss</td><td>2.24266</td></tr></table><br/></div></div>"
      ],
      "text/plain": [
       "<IPython.core.display.HTML object>"
      ]
     },
     "metadata": {},
     "output_type": "display_data"
    },
    {
     "data": {
      "text/html": [
       " View run <strong style=\"color:#cdcd00\">_hl_2_hn_256_opt_sgd_act_tanh_lr_0.001_bs_64_init_random_ep_20_l2_0.0001</strong> at: <a href='https://wandb.ai/ma23c014-indian-institute-of-technology-madras/Digit-MNIST-Data/runs/uzkh8rmn' target=\"_blank\">https://wandb.ai/ma23c014-indian-institute-of-technology-madras/Digit-MNIST-Data/runs/uzkh8rmn</a><br> View project at: <a href='https://wandb.ai/ma23c014-indian-institute-of-technology-madras/Digit-MNIST-Data' target=\"_blank\">https://wandb.ai/ma23c014-indian-institute-of-technology-madras/Digit-MNIST-Data</a><br>Synced 5 W&B file(s), 0 media file(s), 0 artifact file(s) and 0 other file(s)"
      ],
      "text/plain": [
       "<IPython.core.display.HTML object>"
      ]
     },
     "metadata": {},
     "output_type": "display_data"
    },
    {
     "data": {
      "text/html": [
       "Find logs at: <code>.\\wandb\\run-20250317_221022-uzkh8rmn\\logs</code>"
      ],
      "text/plain": [
       "<IPython.core.display.HTML object>"
      ]
     },
     "metadata": {},
     "output_type": "display_data"
    },
    {
     "name": "stderr",
     "output_type": "stream",
     "text": [
      "wandb: Sweep Agent: Waiting for job.\n",
      "wandb: Job received.\n",
      "wandb: Agent Starting Run: p2sgqw0o with config:\n",
      "wandb: \tactivation: sigmoid\n",
      "wandb: \tbatch_size: 128\n",
      "wandb: \tepochs: 5\n",
      "wandb: \thidden_size: 128\n",
      "wandb: \tlearning_rate: 0.001\n",
      "wandb: \tloss: mean_squared_error\n",
      "wandb: \tnum_layers: 3\n",
      "wandb: \toptimizer: nag\n",
      "wandb: \tweight_decay: 0.001\n",
      "wandb: \tweight_init: xavier\n"
     ]
    },
    {
     "data": {
      "text/html": [
       "Tracking run with wandb version 0.19.8"
      ],
      "text/plain": [
       "<IPython.core.display.HTML object>"
      ]
     },
     "metadata": {},
     "output_type": "display_data"
    },
    {
     "data": {
      "text/html": [
       "Run data is saved locally in <code>C:\\Users\\lenovo\\fashion_mnist-backpropagation\\wandb\\run-20250317_221621-p2sgqw0o</code>"
      ],
      "text/plain": [
       "<IPython.core.display.HTML object>"
      ]
     },
     "metadata": {},
     "output_type": "display_data"
    },
    {
     "data": {
      "text/html": [
       "Syncing run <strong><a href='https://wandb.ai/ma23c014-indian-institute-of-technology-madras/Digit-MNIST-Data/runs/p2sgqw0o' target=\"_blank\">quiet-sweep-5</a></strong> to <a href='https://wandb.ai/ma23c014-indian-institute-of-technology-madras/Digit-MNIST-Data' target=\"_blank\">Weights & Biases</a> (<a href='https://wandb.me/developer-guide' target=\"_blank\">docs</a>)<br>Sweep page: <a href='https://wandb.ai/ma23c014-indian-institute-of-technology-madras/Digit-MNIST-Data/sweeps/2e6bq7lk' target=\"_blank\">https://wandb.ai/ma23c014-indian-institute-of-technology-madras/Digit-MNIST-Data/sweeps/2e6bq7lk</a>"
      ],
      "text/plain": [
       "<IPython.core.display.HTML object>"
      ]
     },
     "metadata": {},
     "output_type": "display_data"
    },
    {
     "data": {
      "text/html": [
       " View project at <a href='https://wandb.ai/ma23c014-indian-institute-of-technology-madras/Digit-MNIST-Data' target=\"_blank\">https://wandb.ai/ma23c014-indian-institute-of-technology-madras/Digit-MNIST-Data</a>"
      ],
      "text/plain": [
       "<IPython.core.display.HTML object>"
      ]
     },
     "metadata": {},
     "output_type": "display_data"
    },
    {
     "data": {
      "text/html": [
       " View sweep at <a href='https://wandb.ai/ma23c014-indian-institute-of-technology-madras/Digit-MNIST-Data/sweeps/2e6bq7lk' target=\"_blank\">https://wandb.ai/ma23c014-indian-institute-of-technology-madras/Digit-MNIST-Data/sweeps/2e6bq7lk</a>"
      ],
      "text/plain": [
       "<IPython.core.display.HTML object>"
      ]
     },
     "metadata": {},
     "output_type": "display_data"
    },
    {
     "data": {
      "text/html": [
       " View run at <a href='https://wandb.ai/ma23c014-indian-institute-of-technology-madras/Digit-MNIST-Data/runs/p2sgqw0o' target=\"_blank\">https://wandb.ai/ma23c014-indian-institute-of-technology-madras/Digit-MNIST-Data/runs/p2sgqw0o</a>"
      ],
      "text/plain": [
       "<IPython.core.display.HTML object>"
      ]
     },
     "metadata": {},
     "output_type": "display_data"
    },
    {
     "data": {
      "text/html": [],
      "text/plain": [
       "<IPython.core.display.HTML object>"
      ]
     },
     "metadata": {},
     "output_type": "display_data"
    },
    {
     "data": {
      "text/html": [
       "<br>    <style><br>        .wandb-row {<br>            display: flex;<br>            flex-direction: row;<br>            flex-wrap: wrap;<br>            justify-content: flex-start;<br>            width: 100%;<br>        }<br>        .wandb-col {<br>            display: flex;<br>            flex-direction: column;<br>            flex-basis: 100%;<br>            flex: 1;<br>            padding: 10px;<br>        }<br>    </style><br><div class=\"wandb-row\"><div class=\"wandb-col\"><h3>Run history:</h3><br/><table class=\"wandb\"><tr><td>epoch</td><td>▁▃▅▆█</td></tr><tr><td>val_accuracy</td><td>▁▁▁▁▁</td></tr><tr><td>val_loss</td><td>█▆▅▃▁</td></tr></table><br/></div><div class=\"wandb-col\"><h3>Run summary:</h3><br/><table class=\"wandb\"><tr><td>epoch</td><td>5</td></tr><tr><td>val_accuracy</td><td>0.11183</td></tr><tr><td>val_loss</td><td>2.29954</td></tr></table><br/></div></div>"
      ],
      "text/plain": [
       "<IPython.core.display.HTML object>"
      ]
     },
     "metadata": {},
     "output_type": "display_data"
    },
    {
     "data": {
      "text/html": [
       " View run <strong style=\"color:#cdcd00\">_hl_3_hn_128_opt_nag_act_sigmoid_lr_0.001_bs_128_init_xavier_ep_5_l2_0.001</strong> at: <a href='https://wandb.ai/ma23c014-indian-institute-of-technology-madras/Digit-MNIST-Data/runs/p2sgqw0o' target=\"_blank\">https://wandb.ai/ma23c014-indian-institute-of-technology-madras/Digit-MNIST-Data/runs/p2sgqw0o</a><br> View project at: <a href='https://wandb.ai/ma23c014-indian-institute-of-technology-madras/Digit-MNIST-Data' target=\"_blank\">https://wandb.ai/ma23c014-indian-institute-of-technology-madras/Digit-MNIST-Data</a><br>Synced 5 W&B file(s), 0 media file(s), 0 artifact file(s) and 0 other file(s)"
      ],
      "text/plain": [
       "<IPython.core.display.HTML object>"
      ]
     },
     "metadata": {},
     "output_type": "display_data"
    },
    {
     "data": {
      "text/html": [
       "Find logs at: <code>.\\wandb\\run-20250317_221621-p2sgqw0o\\logs</code>"
      ],
      "text/plain": [
       "<IPython.core.display.HTML object>"
      ]
     },
     "metadata": {},
     "output_type": "display_data"
    },
    {
     "name": "stderr",
     "output_type": "stream",
     "text": [
      "wandb: Agent Starting Run: wvl6xuy2 with config:\n",
      "wandb: \tactivation: relu\n",
      "wandb: \tbatch_size: 128\n",
      "wandb: \tepochs: 10\n",
      "wandb: \thidden_size: 64\n",
      "wandb: \tlearning_rate: 0.001\n",
      "wandb: \tloss: mean_squared_error\n",
      "wandb: \tnum_layers: 3\n",
      "wandb: \toptimizer: sgd\n",
      "wandb: \tweight_decay: 0.001\n",
      "wandb: \tweight_init: xavier\n"
     ]
    },
    {
     "data": {
      "text/html": [
       "Tracking run with wandb version 0.19.8"
      ],
      "text/plain": [
       "<IPython.core.display.HTML object>"
      ]
     },
     "metadata": {},
     "output_type": "display_data"
    },
    {
     "data": {
      "text/html": [
       "Run data is saved locally in <code>C:\\Users\\lenovo\\fashion_mnist-backpropagation\\wandb\\run-20250317_221703-wvl6xuy2</code>"
      ],
      "text/plain": [
       "<IPython.core.display.HTML object>"
      ]
     },
     "metadata": {},
     "output_type": "display_data"
    },
    {
     "data": {
      "text/html": [
       "Syncing run <strong><a href='https://wandb.ai/ma23c014-indian-institute-of-technology-madras/Digit-MNIST-Data/runs/wvl6xuy2' target=\"_blank\">dandy-sweep-6</a></strong> to <a href='https://wandb.ai/ma23c014-indian-institute-of-technology-madras/Digit-MNIST-Data' target=\"_blank\">Weights & Biases</a> (<a href='https://wandb.me/developer-guide' target=\"_blank\">docs</a>)<br>Sweep page: <a href='https://wandb.ai/ma23c014-indian-institute-of-technology-madras/Digit-MNIST-Data/sweeps/2e6bq7lk' target=\"_blank\">https://wandb.ai/ma23c014-indian-institute-of-technology-madras/Digit-MNIST-Data/sweeps/2e6bq7lk</a>"
      ],
      "text/plain": [
       "<IPython.core.display.HTML object>"
      ]
     },
     "metadata": {},
     "output_type": "display_data"
    },
    {
     "data": {
      "text/html": [
       " View project at <a href='https://wandb.ai/ma23c014-indian-institute-of-technology-madras/Digit-MNIST-Data' target=\"_blank\">https://wandb.ai/ma23c014-indian-institute-of-technology-madras/Digit-MNIST-Data</a>"
      ],
      "text/plain": [
       "<IPython.core.display.HTML object>"
      ]
     },
     "metadata": {},
     "output_type": "display_data"
    },
    {
     "data": {
      "text/html": [
       " View sweep at <a href='https://wandb.ai/ma23c014-indian-institute-of-technology-madras/Digit-MNIST-Data/sweeps/2e6bq7lk' target=\"_blank\">https://wandb.ai/ma23c014-indian-institute-of-technology-madras/Digit-MNIST-Data/sweeps/2e6bq7lk</a>"
      ],
      "text/plain": [
       "<IPython.core.display.HTML object>"
      ]
     },
     "metadata": {},
     "output_type": "display_data"
    },
    {
     "data": {
      "text/html": [
       " View run at <a href='https://wandb.ai/ma23c014-indian-institute-of-technology-madras/Digit-MNIST-Data/runs/wvl6xuy2' target=\"_blank\">https://wandb.ai/ma23c014-indian-institute-of-technology-madras/Digit-MNIST-Data/runs/wvl6xuy2</a>"
      ],
      "text/plain": [
       "<IPython.core.display.HTML object>"
      ]
     },
     "metadata": {},
     "output_type": "display_data"
    },
    {
     "data": {
      "text/html": [],
      "text/plain": [
       "<IPython.core.display.HTML object>"
      ]
     },
     "metadata": {},
     "output_type": "display_data"
    },
    {
     "data": {
      "text/html": [
       "<br>    <style><br>        .wandb-row {<br>            display: flex;<br>            flex-direction: row;<br>            flex-wrap: wrap;<br>            justify-content: flex-start;<br>            width: 100%;<br>        }<br>        .wandb-col {<br>            display: flex;<br>            flex-direction: column;<br>            flex-basis: 100%;<br>            flex: 1;<br>            padding: 10px;<br>        }<br>    </style><br><div class=\"wandb-row\"><div class=\"wandb-col\"><h3>Run history:</h3><br/><table class=\"wandb\"><tr><td>epoch</td><td>▁▂▃▃▄▅▆▆▇█</td></tr><tr><td>val_accuracy</td><td>▁▂▃▄▅▆▇▇██</td></tr><tr><td>val_loss</td><td>██▇▇▆▅▄▃▂▁</td></tr></table><br/></div><div class=\"wandb-col\"><h3>Run summary:</h3><br/><table class=\"wandb\"><tr><td>epoch</td><td>10</td></tr><tr><td>val_accuracy</td><td>0.76917</td></tr><tr><td>val_loss</td><td>0.99085</td></tr></table><br/></div></div>"
      ],
      "text/plain": [
       "<IPython.core.display.HTML object>"
      ]
     },
     "metadata": {},
     "output_type": "display_data"
    },
    {
     "data": {
      "text/html": [
       " View run <strong style=\"color:#cdcd00\">_hl_3_hn_64_opt_sgd_act_relu_lr_0.001_bs_128_init_xavier_ep_10_l2_0.001</strong> at: <a href='https://wandb.ai/ma23c014-indian-institute-of-technology-madras/Digit-MNIST-Data/runs/wvl6xuy2' target=\"_blank\">https://wandb.ai/ma23c014-indian-institute-of-technology-madras/Digit-MNIST-Data/runs/wvl6xuy2</a><br> View project at: <a href='https://wandb.ai/ma23c014-indian-institute-of-technology-madras/Digit-MNIST-Data' target=\"_blank\">https://wandb.ai/ma23c014-indian-institute-of-technology-madras/Digit-MNIST-Data</a><br>Synced 5 W&B file(s), 0 media file(s), 0 artifact file(s) and 0 other file(s)"
      ],
      "text/plain": [
       "<IPython.core.display.HTML object>"
      ]
     },
     "metadata": {},
     "output_type": "display_data"
    },
    {
     "data": {
      "text/html": [
       "Find logs at: <code>.\\wandb\\run-20250317_221703-wvl6xuy2\\logs</code>"
      ],
      "text/plain": [
       "<IPython.core.display.HTML object>"
      ]
     },
     "metadata": {},
     "output_type": "display_data"
    },
    {
     "name": "stderr",
     "output_type": "stream",
     "text": [
      "wandb: Sweep Agent: Waiting for job.\n",
      "wandb: Job received.\n",
      "wandb: Agent Starting Run: d2k2f2rg with config:\n",
      "wandb: \tactivation: tanh\n",
      "wandb: \tbatch_size: 64\n",
      "wandb: \tepochs: 5\n",
      "wandb: \thidden_size: 256\n",
      "wandb: \tlearning_rate: 0.001\n",
      "wandb: \tloss: mean_squared_error\n",
      "wandb: \tnum_layers: 2\n",
      "wandb: \toptimizer: adam\n",
      "wandb: \tweight_decay: 0\n",
      "wandb: \tweight_init: he\n"
     ]
    },
    {
     "data": {
      "text/html": [
       "Tracking run with wandb version 0.19.8"
      ],
      "text/plain": [
       "<IPython.core.display.HTML object>"
      ]
     },
     "metadata": {},
     "output_type": "display_data"
    },
    {
     "data": {
      "text/html": [
       "Run data is saved locally in <code>C:\\Users\\lenovo\\fashion_mnist-backpropagation\\wandb\\run-20250317_221746-d2k2f2rg</code>"
      ],
      "text/plain": [
       "<IPython.core.display.HTML object>"
      ]
     },
     "metadata": {},
     "output_type": "display_data"
    },
    {
     "data": {
      "text/html": [
       "Syncing run <strong><a href='https://wandb.ai/ma23c014-indian-institute-of-technology-madras/Digit-MNIST-Data/runs/d2k2f2rg' target=\"_blank\">honest-sweep-7</a></strong> to <a href='https://wandb.ai/ma23c014-indian-institute-of-technology-madras/Digit-MNIST-Data' target=\"_blank\">Weights & Biases</a> (<a href='https://wandb.me/developer-guide' target=\"_blank\">docs</a>)<br>Sweep page: <a href='https://wandb.ai/ma23c014-indian-institute-of-technology-madras/Digit-MNIST-Data/sweeps/2e6bq7lk' target=\"_blank\">https://wandb.ai/ma23c014-indian-institute-of-technology-madras/Digit-MNIST-Data/sweeps/2e6bq7lk</a>"
      ],
      "text/plain": [
       "<IPython.core.display.HTML object>"
      ]
     },
     "metadata": {},
     "output_type": "display_data"
    },
    {
     "data": {
      "text/html": [
       " View project at <a href='https://wandb.ai/ma23c014-indian-institute-of-technology-madras/Digit-MNIST-Data' target=\"_blank\">https://wandb.ai/ma23c014-indian-institute-of-technology-madras/Digit-MNIST-Data</a>"
      ],
      "text/plain": [
       "<IPython.core.display.HTML object>"
      ]
     },
     "metadata": {},
     "output_type": "display_data"
    },
    {
     "data": {
      "text/html": [
       " View sweep at <a href='https://wandb.ai/ma23c014-indian-institute-of-technology-madras/Digit-MNIST-Data/sweeps/2e6bq7lk' target=\"_blank\">https://wandb.ai/ma23c014-indian-institute-of-technology-madras/Digit-MNIST-Data/sweeps/2e6bq7lk</a>"
      ],
      "text/plain": [
       "<IPython.core.display.HTML object>"
      ]
     },
     "metadata": {},
     "output_type": "display_data"
    },
    {
     "data": {
      "text/html": [
       " View run at <a href='https://wandb.ai/ma23c014-indian-institute-of-technology-madras/Digit-MNIST-Data/runs/d2k2f2rg' target=\"_blank\">https://wandb.ai/ma23c014-indian-institute-of-technology-madras/Digit-MNIST-Data/runs/d2k2f2rg</a>"
      ],
      "text/plain": [
       "<IPython.core.display.HTML object>"
      ]
     },
     "metadata": {},
     "output_type": "display_data"
    },
    {
     "data": {
      "text/html": [],
      "text/plain": [
       "<IPython.core.display.HTML object>"
      ]
     },
     "metadata": {},
     "output_type": "display_data"
    },
    {
     "data": {
      "text/html": [
       "<br>    <style><br>        .wandb-row {<br>            display: flex;<br>            flex-direction: row;<br>            flex-wrap: wrap;<br>            justify-content: flex-start;<br>            width: 100%;<br>        }<br>        .wandb-col {<br>            display: flex;<br>            flex-direction: column;<br>            flex-basis: 100%;<br>            flex: 1;<br>            padding: 10px;<br>        }<br>    </style><br><div class=\"wandb-row\"><div class=\"wandb-col\"><h3>Run history:</h3><br/><table class=\"wandb\"><tr><td>epoch</td><td>▁▃▅▆█</td></tr><tr><td>val_accuracy</td><td>▁▅▆██</td></tr><tr><td>val_loss</td><td>█▄▂▁▁</td></tr></table><br/></div><div class=\"wandb-col\"><h3>Run summary:</h3><br/><table class=\"wandb\"><tr><td>epoch</td><td>5</td></tr><tr><td>val_accuracy</td><td>0.9565</td></tr><tr><td>val_loss</td><td>0.20776</td></tr></table><br/></div></div>"
      ],
      "text/plain": [
       "<IPython.core.display.HTML object>"
      ]
     },
     "metadata": {},
     "output_type": "display_data"
    },
    {
     "data": {
      "text/html": [
       " View run <strong style=\"color:#cdcd00\">_hl_2_hn_256_opt_adam_act_tanh_lr_0.001_bs_64_init_he_ep_5_l2_0</strong> at: <a href='https://wandb.ai/ma23c014-indian-institute-of-technology-madras/Digit-MNIST-Data/runs/d2k2f2rg' target=\"_blank\">https://wandb.ai/ma23c014-indian-institute-of-technology-madras/Digit-MNIST-Data/runs/d2k2f2rg</a><br> View project at: <a href='https://wandb.ai/ma23c014-indian-institute-of-technology-madras/Digit-MNIST-Data' target=\"_blank\">https://wandb.ai/ma23c014-indian-institute-of-technology-madras/Digit-MNIST-Data</a><br>Synced 5 W&B file(s), 0 media file(s), 0 artifact file(s) and 0 other file(s)"
      ],
      "text/plain": [
       "<IPython.core.display.HTML object>"
      ]
     },
     "metadata": {},
     "output_type": "display_data"
    },
    {
     "data": {
      "text/html": [
       "Find logs at: <code>.\\wandb\\run-20250317_221746-d2k2f2rg\\logs</code>"
      ],
      "text/plain": [
       "<IPython.core.display.HTML object>"
      ]
     },
     "metadata": {},
     "output_type": "display_data"
    },
    {
     "name": "stderr",
     "output_type": "stream",
     "text": [
      "wandb: Agent Starting Run: uvvic713 with config:\n",
      "wandb: \tactivation: tanh\n",
      "wandb: \tbatch_size: 128\n",
      "wandb: \tepochs: 5\n",
      "wandb: \thidden_size: 256\n",
      "wandb: \tlearning_rate: 0.001\n",
      "wandb: \tloss: mean_squared_error\n",
      "wandb: \tnum_layers: 2\n",
      "wandb: \toptimizer: adam\n",
      "wandb: \tweight_decay: 0.0001\n",
      "wandb: \tweight_init: he\n"
     ]
    },
    {
     "data": {
      "text/html": [
       "Tracking run with wandb version 0.19.8"
      ],
      "text/plain": [
       "<IPython.core.display.HTML object>"
      ]
     },
     "metadata": {},
     "output_type": "display_data"
    },
    {
     "data": {
      "text/html": [
       "Run data is saved locally in <code>C:\\Users\\lenovo\\fashion_mnist-backpropagation\\wandb\\run-20250317_222057-uvvic713</code>"
      ],
      "text/plain": [
       "<IPython.core.display.HTML object>"
      ]
     },
     "metadata": {},
     "output_type": "display_data"
    },
    {
     "data": {
      "text/html": [
       "Syncing run <strong><a href='https://wandb.ai/ma23c014-indian-institute-of-technology-madras/Digit-MNIST-Data/runs/uvvic713' target=\"_blank\">ethereal-sweep-8</a></strong> to <a href='https://wandb.ai/ma23c014-indian-institute-of-technology-madras/Digit-MNIST-Data' target=\"_blank\">Weights & Biases</a> (<a href='https://wandb.me/developer-guide' target=\"_blank\">docs</a>)<br>Sweep page: <a href='https://wandb.ai/ma23c014-indian-institute-of-technology-madras/Digit-MNIST-Data/sweeps/2e6bq7lk' target=\"_blank\">https://wandb.ai/ma23c014-indian-institute-of-technology-madras/Digit-MNIST-Data/sweeps/2e6bq7lk</a>"
      ],
      "text/plain": [
       "<IPython.core.display.HTML object>"
      ]
     },
     "metadata": {},
     "output_type": "display_data"
    },
    {
     "data": {
      "text/html": [
       " View project at <a href='https://wandb.ai/ma23c014-indian-institute-of-technology-madras/Digit-MNIST-Data' target=\"_blank\">https://wandb.ai/ma23c014-indian-institute-of-technology-madras/Digit-MNIST-Data</a>"
      ],
      "text/plain": [
       "<IPython.core.display.HTML object>"
      ]
     },
     "metadata": {},
     "output_type": "display_data"
    },
    {
     "data": {
      "text/html": [
       " View sweep at <a href='https://wandb.ai/ma23c014-indian-institute-of-technology-madras/Digit-MNIST-Data/sweeps/2e6bq7lk' target=\"_blank\">https://wandb.ai/ma23c014-indian-institute-of-technology-madras/Digit-MNIST-Data/sweeps/2e6bq7lk</a>"
      ],
      "text/plain": [
       "<IPython.core.display.HTML object>"
      ]
     },
     "metadata": {},
     "output_type": "display_data"
    },
    {
     "data": {
      "text/html": [
       " View run at <a href='https://wandb.ai/ma23c014-indian-institute-of-technology-madras/Digit-MNIST-Data/runs/uvvic713' target=\"_blank\">https://wandb.ai/ma23c014-indian-institute-of-technology-madras/Digit-MNIST-Data/runs/uvvic713</a>"
      ],
      "text/plain": [
       "<IPython.core.display.HTML object>"
      ]
     },
     "metadata": {},
     "output_type": "display_data"
    },
    {
     "data": {
      "text/html": [],
      "text/plain": [
       "<IPython.core.display.HTML object>"
      ]
     },
     "metadata": {},
     "output_type": "display_data"
    },
    {
     "data": {
      "text/html": [
       "<br>    <style><br>        .wandb-row {<br>            display: flex;<br>            flex-direction: row;<br>            flex-wrap: wrap;<br>            justify-content: flex-start;<br>            width: 100%;<br>        }<br>        .wandb-col {<br>            display: flex;<br>            flex-direction: column;<br>            flex-basis: 100%;<br>            flex: 1;<br>            padding: 10px;<br>        }<br>    </style><br><div class=\"wandb-row\"><div class=\"wandb-col\"><h3>Run history:</h3><br/><table class=\"wandb\"><tr><td>epoch</td><td>▁▃▅▆█</td></tr><tr><td>val_accuracy</td><td>▁▃▃▅█</td></tr><tr><td>val_loss</td><td>█▄▅▃▁</td></tr></table><br/></div><div class=\"wandb-col\"><h3>Run summary:</h3><br/><table class=\"wandb\"><tr><td>epoch</td><td>5</td></tr><tr><td>val_accuracy</td><td>0.905</td></tr><tr><td>val_loss</td><td>0.532</td></tr></table><br/></div></div>"
      ],
      "text/plain": [
       "<IPython.core.display.HTML object>"
      ]
     },
     "metadata": {},
     "output_type": "display_data"
    },
    {
     "data": {
      "text/html": [
       " View run <strong style=\"color:#cdcd00\">_hl_2_hn_256_opt_adam_act_tanh_lr_0.001_bs_128_init_he_ep_5_l2_0.0001</strong> at: <a href='https://wandb.ai/ma23c014-indian-institute-of-technology-madras/Digit-MNIST-Data/runs/uvvic713' target=\"_blank\">https://wandb.ai/ma23c014-indian-institute-of-technology-madras/Digit-MNIST-Data/runs/uvvic713</a><br> View project at: <a href='https://wandb.ai/ma23c014-indian-institute-of-technology-madras/Digit-MNIST-Data' target=\"_blank\">https://wandb.ai/ma23c014-indian-institute-of-technology-madras/Digit-MNIST-Data</a><br>Synced 5 W&B file(s), 0 media file(s), 0 artifact file(s) and 0 other file(s)"
      ],
      "text/plain": [
       "<IPython.core.display.HTML object>"
      ]
     },
     "metadata": {},
     "output_type": "display_data"
    },
    {
     "data": {
      "text/html": [
       "Find logs at: <code>.\\wandb\\run-20250317_222057-uvvic713\\logs</code>"
      ],
      "text/plain": [
       "<IPython.core.display.HTML object>"
      ]
     },
     "metadata": {},
     "output_type": "display_data"
    },
    {
     "name": "stderr",
     "output_type": "stream",
     "text": [
      "wandb: Agent Starting Run: 7wrf2ouu with config:\n",
      "wandb: \tactivation: tanh\n",
      "wandb: \tbatch_size: 64\n",
      "wandb: \tepochs: 10\n",
      "wandb: \thidden_size: 256\n",
      "wandb: \tlearning_rate: 0.001\n",
      "wandb: \tloss: mean_squared_error\n",
      "wandb: \tnum_layers: 3\n",
      "wandb: \toptimizer: adam\n",
      "wandb: \tweight_decay: 0\n",
      "wandb: \tweight_init: random\n"
     ]
    },
    {
     "data": {
      "text/html": [
       "Tracking run with wandb version 0.19.8"
      ],
      "text/plain": [
       "<IPython.core.display.HTML object>"
      ]
     },
     "metadata": {},
     "output_type": "display_data"
    },
    {
     "data": {
      "text/html": [
       "Run data is saved locally in <code>C:\\Users\\lenovo\\fashion_mnist-backpropagation\\wandb\\run-20250317_222253-7wrf2ouu</code>"
      ],
      "text/plain": [
       "<IPython.core.display.HTML object>"
      ]
     },
     "metadata": {},
     "output_type": "display_data"
    },
    {
     "data": {
      "text/html": [
       "Syncing run <strong><a href='https://wandb.ai/ma23c014-indian-institute-of-technology-madras/Digit-MNIST-Data/runs/7wrf2ouu' target=\"_blank\">autumn-sweep-9</a></strong> to <a href='https://wandb.ai/ma23c014-indian-institute-of-technology-madras/Digit-MNIST-Data' target=\"_blank\">Weights & Biases</a> (<a href='https://wandb.me/developer-guide' target=\"_blank\">docs</a>)<br>Sweep page: <a href='https://wandb.ai/ma23c014-indian-institute-of-technology-madras/Digit-MNIST-Data/sweeps/2e6bq7lk' target=\"_blank\">https://wandb.ai/ma23c014-indian-institute-of-technology-madras/Digit-MNIST-Data/sweeps/2e6bq7lk</a>"
      ],
      "text/plain": [
       "<IPython.core.display.HTML object>"
      ]
     },
     "metadata": {},
     "output_type": "display_data"
    },
    {
     "data": {
      "text/html": [
       " View project at <a href='https://wandb.ai/ma23c014-indian-institute-of-technology-madras/Digit-MNIST-Data' target=\"_blank\">https://wandb.ai/ma23c014-indian-institute-of-technology-madras/Digit-MNIST-Data</a>"
      ],
      "text/plain": [
       "<IPython.core.display.HTML object>"
      ]
     },
     "metadata": {},
     "output_type": "display_data"
    },
    {
     "data": {
      "text/html": [
       " View sweep at <a href='https://wandb.ai/ma23c014-indian-institute-of-technology-madras/Digit-MNIST-Data/sweeps/2e6bq7lk' target=\"_blank\">https://wandb.ai/ma23c014-indian-institute-of-technology-madras/Digit-MNIST-Data/sweeps/2e6bq7lk</a>"
      ],
      "text/plain": [
       "<IPython.core.display.HTML object>"
      ]
     },
     "metadata": {},
     "output_type": "display_data"
    },
    {
     "data": {
      "text/html": [
       " View run at <a href='https://wandb.ai/ma23c014-indian-institute-of-technology-madras/Digit-MNIST-Data/runs/7wrf2ouu' target=\"_blank\">https://wandb.ai/ma23c014-indian-institute-of-technology-madras/Digit-MNIST-Data/runs/7wrf2ouu</a>"
      ],
      "text/plain": [
       "<IPython.core.display.HTML object>"
      ]
     },
     "metadata": {},
     "output_type": "display_data"
    },
    {
     "data": {
      "text/html": [],
      "text/plain": [
       "<IPython.core.display.HTML object>"
      ]
     },
     "metadata": {},
     "output_type": "display_data"
    },
    {
     "data": {
      "text/html": [
       "<br>    <style><br>        .wandb-row {<br>            display: flex;<br>            flex-direction: row;<br>            flex-wrap: wrap;<br>            justify-content: flex-start;<br>            width: 100%;<br>        }<br>        .wandb-col {<br>            display: flex;<br>            flex-direction: column;<br>            flex-basis: 100%;<br>            flex: 1;<br>            padding: 10px;<br>        }<br>    </style><br><div class=\"wandb-row\"><div class=\"wandb-col\"><h3>Run history:</h3><br/><table class=\"wandb\"><tr><td>epoch</td><td>▁▂▃▃▄▅▆▆▇█</td></tr><tr><td>val_accuracy</td><td>▁▄▆▇▇▇▆█▇█</td></tr><tr><td>val_loss</td><td>█▅▃▂▂▂▃▁▁▁</td></tr></table><br/></div><div class=\"wandb-col\"><h3>Run summary:</h3><br/><table class=\"wandb\"><tr><td>epoch</td><td>10</td></tr><tr><td>val_accuracy</td><td>0.97383</td></tr><tr><td>val_loss</td><td>0.0992</td></tr></table><br/></div></div>"
      ],
      "text/plain": [
       "<IPython.core.display.HTML object>"
      ]
     },
     "metadata": {},
     "output_type": "display_data"
    },
    {
     "data": {
      "text/html": [
       " View run <strong style=\"color:#cdcd00\">_hl_3_hn_256_opt_adam_act_tanh_lr_0.001_bs_64_init_random_ep_10_l2_0</strong> at: <a href='https://wandb.ai/ma23c014-indian-institute-of-technology-madras/Digit-MNIST-Data/runs/7wrf2ouu' target=\"_blank\">https://wandb.ai/ma23c014-indian-institute-of-technology-madras/Digit-MNIST-Data/runs/7wrf2ouu</a><br> View project at: <a href='https://wandb.ai/ma23c014-indian-institute-of-technology-madras/Digit-MNIST-Data' target=\"_blank\">https://wandb.ai/ma23c014-indian-institute-of-technology-madras/Digit-MNIST-Data</a><br>Synced 5 W&B file(s), 0 media file(s), 0 artifact file(s) and 0 other file(s)"
      ],
      "text/plain": [
       "<IPython.core.display.HTML object>"
      ]
     },
     "metadata": {},
     "output_type": "display_data"
    },
    {
     "data": {
      "text/html": [
       "Find logs at: <code>.\\wandb\\run-20250317_222253-7wrf2ouu\\logs</code>"
      ],
      "text/plain": [
       "<IPython.core.display.HTML object>"
      ]
     },
     "metadata": {},
     "output_type": "display_data"
    },
    {
     "name": "stderr",
     "output_type": "stream",
     "text": [
      "wandb: Agent Starting Run: u8yn21zl with config:\n",
      "wandb: \tactivation: tanh\n",
      "wandb: \tbatch_size: 64\n",
      "wandb: \tepochs: 5\n",
      "wandb: \thidden_size: 256\n",
      "wandb: \tlearning_rate: 0.001\n",
      "wandb: \tloss: mean_squared_error\n",
      "wandb: \tnum_layers: 2\n",
      "wandb: \toptimizer: adam\n",
      "wandb: \tweight_decay: 0.0001\n",
      "wandb: \tweight_init: random\n"
     ]
    },
    {
     "data": {
      "text/html": [
       "Tracking run with wandb version 0.19.8"
      ],
      "text/plain": [
       "<IPython.core.display.HTML object>"
      ]
     },
     "metadata": {},
     "output_type": "display_data"
    },
    {
     "data": {
      "text/html": [
       "Run data is saved locally in <code>C:\\Users\\lenovo\\fashion_mnist-backpropagation\\wandb\\run-20250317_222858-u8yn21zl</code>"
      ],
      "text/plain": [
       "<IPython.core.display.HTML object>"
      ]
     },
     "metadata": {},
     "output_type": "display_data"
    },
    {
     "data": {
      "text/html": [
       "Syncing run <strong><a href='https://wandb.ai/ma23c014-indian-institute-of-technology-madras/Digit-MNIST-Data/runs/u8yn21zl' target=\"_blank\">peach-sweep-10</a></strong> to <a href='https://wandb.ai/ma23c014-indian-institute-of-technology-madras/Digit-MNIST-Data' target=\"_blank\">Weights & Biases</a> (<a href='https://wandb.me/developer-guide' target=\"_blank\">docs</a>)<br>Sweep page: <a href='https://wandb.ai/ma23c014-indian-institute-of-technology-madras/Digit-MNIST-Data/sweeps/2e6bq7lk' target=\"_blank\">https://wandb.ai/ma23c014-indian-institute-of-technology-madras/Digit-MNIST-Data/sweeps/2e6bq7lk</a>"
      ],
      "text/plain": [
       "<IPython.core.display.HTML object>"
      ]
     },
     "metadata": {},
     "output_type": "display_data"
    },
    {
     "data": {
      "text/html": [
       " View project at <a href='https://wandb.ai/ma23c014-indian-institute-of-technology-madras/Digit-MNIST-Data' target=\"_blank\">https://wandb.ai/ma23c014-indian-institute-of-technology-madras/Digit-MNIST-Data</a>"
      ],
      "text/plain": [
       "<IPython.core.display.HTML object>"
      ]
     },
     "metadata": {},
     "output_type": "display_data"
    },
    {
     "data": {
      "text/html": [
       " View sweep at <a href='https://wandb.ai/ma23c014-indian-institute-of-technology-madras/Digit-MNIST-Data/sweeps/2e6bq7lk' target=\"_blank\">https://wandb.ai/ma23c014-indian-institute-of-technology-madras/Digit-MNIST-Data/sweeps/2e6bq7lk</a>"
      ],
      "text/plain": [
       "<IPython.core.display.HTML object>"
      ]
     },
     "metadata": {},
     "output_type": "display_data"
    },
    {
     "data": {
      "text/html": [
       " View run at <a href='https://wandb.ai/ma23c014-indian-institute-of-technology-madras/Digit-MNIST-Data/runs/u8yn21zl' target=\"_blank\">https://wandb.ai/ma23c014-indian-institute-of-technology-madras/Digit-MNIST-Data/runs/u8yn21zl</a>"
      ],
      "text/plain": [
       "<IPython.core.display.HTML object>"
      ]
     },
     "metadata": {},
     "output_type": "display_data"
    },
    {
     "data": {
      "text/html": [],
      "text/plain": [
       "<IPython.core.display.HTML object>"
      ]
     },
     "metadata": {},
     "output_type": "display_data"
    },
    {
     "data": {
      "text/html": [
       "<br>    <style><br>        .wandb-row {<br>            display: flex;<br>            flex-direction: row;<br>            flex-wrap: wrap;<br>            justify-content: flex-start;<br>            width: 100%;<br>        }<br>        .wandb-col {<br>            display: flex;<br>            flex-direction: column;<br>            flex-basis: 100%;<br>            flex: 1;<br>            padding: 10px;<br>        }<br>    </style><br><div class=\"wandb-row\"><div class=\"wandb-col\"><h3>Run history:</h3><br/><table class=\"wandb\"><tr><td>epoch</td><td>▁▃▅▆█</td></tr><tr><td>val_accuracy</td><td>▂▁▅█▇</td></tr><tr><td>val_loss</td><td>█▃▂▂▁</td></tr></table><br/></div><div class=\"wandb-col\"><h3>Run summary:</h3><br/><table class=\"wandb\"><tr><td>epoch</td><td>5</td></tr><tr><td>val_accuracy</td><td>0.90083</td></tr><tr><td>val_loss</td><td>0.58093</td></tr></table><br/></div></div>"
      ],
      "text/plain": [
       "<IPython.core.display.HTML object>"
      ]
     },
     "metadata": {},
     "output_type": "display_data"
    },
    {
     "data": {
      "text/html": [
       " View run <strong style=\"color:#cdcd00\">_hl_2_hn_256_opt_adam_act_tanh_lr_0.001_bs_64_init_random_ep_5_l2_0.0001</strong> at: <a href='https://wandb.ai/ma23c014-indian-institute-of-technology-madras/Digit-MNIST-Data/runs/u8yn21zl' target=\"_blank\">https://wandb.ai/ma23c014-indian-institute-of-technology-madras/Digit-MNIST-Data/runs/u8yn21zl</a><br> View project at: <a href='https://wandb.ai/ma23c014-indian-institute-of-technology-madras/Digit-MNIST-Data' target=\"_blank\">https://wandb.ai/ma23c014-indian-institute-of-technology-madras/Digit-MNIST-Data</a><br>Synced 5 W&B file(s), 0 media file(s), 0 artifact file(s) and 0 other file(s)"
      ],
      "text/plain": [
       "<IPython.core.display.HTML object>"
      ]
     },
     "metadata": {},
     "output_type": "display_data"
    },
    {
     "data": {
      "text/html": [
       "Find logs at: <code>.\\wandb\\run-20250317_222858-u8yn21zl\\logs</code>"
      ],
      "text/plain": [
       "<IPython.core.display.HTML object>"
      ]
     },
     "metadata": {},
     "output_type": "display_data"
    },
    {
     "name": "stderr",
     "output_type": "stream",
     "text": [
      "wandb: Agent Starting Run: eyym70fv with config:\n",
      "wandb: \tactivation: tanh\n",
      "wandb: \tbatch_size: 32\n",
      "wandb: \tepochs: 5\n",
      "wandb: \thidden_size: 256\n",
      "wandb: \tlearning_rate: 0.001\n",
      "wandb: \tloss: cross_entropy\n",
      "wandb: \tnum_layers: 2\n",
      "wandb: \toptimizer: adam\n",
      "wandb: \tweight_decay: 0\n",
      "wandb: \tweight_init: he\n"
     ]
    },
    {
     "data": {
      "text/html": [
       "Tracking run with wandb version 0.19.8"
      ],
      "text/plain": [
       "<IPython.core.display.HTML object>"
      ]
     },
     "metadata": {},
     "output_type": "display_data"
    },
    {
     "data": {
      "text/html": [
       "Run data is saved locally in <code>C:\\Users\\lenovo\\fashion_mnist-backpropagation\\wandb\\run-20250317_223131-eyym70fv</code>"
      ],
      "text/plain": [
       "<IPython.core.display.HTML object>"
      ]
     },
     "metadata": {},
     "output_type": "display_data"
    },
    {
     "data": {
      "text/html": [
       "Syncing run <strong><a href='https://wandb.ai/ma23c014-indian-institute-of-technology-madras/Digit-MNIST-Data/runs/eyym70fv' target=\"_blank\">golden-sweep-11</a></strong> to <a href='https://wandb.ai/ma23c014-indian-institute-of-technology-madras/Digit-MNIST-Data' target=\"_blank\">Weights & Biases</a> (<a href='https://wandb.me/developer-guide' target=\"_blank\">docs</a>)<br>Sweep page: <a href='https://wandb.ai/ma23c014-indian-institute-of-technology-madras/Digit-MNIST-Data/sweeps/2e6bq7lk' target=\"_blank\">https://wandb.ai/ma23c014-indian-institute-of-technology-madras/Digit-MNIST-Data/sweeps/2e6bq7lk</a>"
      ],
      "text/plain": [
       "<IPython.core.display.HTML object>"
      ]
     },
     "metadata": {},
     "output_type": "display_data"
    },
    {
     "data": {
      "text/html": [
       " View project at <a href='https://wandb.ai/ma23c014-indian-institute-of-technology-madras/Digit-MNIST-Data' target=\"_blank\">https://wandb.ai/ma23c014-indian-institute-of-technology-madras/Digit-MNIST-Data</a>"
      ],
      "text/plain": [
       "<IPython.core.display.HTML object>"
      ]
     },
     "metadata": {},
     "output_type": "display_data"
    },
    {
     "data": {
      "text/html": [
       " View sweep at <a href='https://wandb.ai/ma23c014-indian-institute-of-technology-madras/Digit-MNIST-Data/sweeps/2e6bq7lk' target=\"_blank\">https://wandb.ai/ma23c014-indian-institute-of-technology-madras/Digit-MNIST-Data/sweeps/2e6bq7lk</a>"
      ],
      "text/plain": [
       "<IPython.core.display.HTML object>"
      ]
     },
     "metadata": {},
     "output_type": "display_data"
    },
    {
     "data": {
      "text/html": [
       " View run at <a href='https://wandb.ai/ma23c014-indian-institute-of-technology-madras/Digit-MNIST-Data/runs/eyym70fv' target=\"_blank\">https://wandb.ai/ma23c014-indian-institute-of-technology-madras/Digit-MNIST-Data/runs/eyym70fv</a>"
      ],
      "text/plain": [
       "<IPython.core.display.HTML object>"
      ]
     },
     "metadata": {},
     "output_type": "display_data"
    },
    {
     "data": {
      "text/html": [],
      "text/plain": [
       "<IPython.core.display.HTML object>"
      ]
     },
     "metadata": {},
     "output_type": "display_data"
    },
    {
     "data": {
      "text/html": [
       "<br>    <style><br>        .wandb-row {<br>            display: flex;<br>            flex-direction: row;<br>            flex-wrap: wrap;<br>            justify-content: flex-start;<br>            width: 100%;<br>        }<br>        .wandb-col {<br>            display: flex;<br>            flex-direction: column;<br>            flex-basis: 100%;<br>            flex: 1;<br>            padding: 10px;<br>        }<br>    </style><br><div class=\"wandb-row\"><div class=\"wandb-col\"><h3>Run history:</h3><br/><table class=\"wandb\"><tr><td>epoch</td><td>▁▃▅▆█</td></tr><tr><td>val_accuracy</td><td>▁▅▇██</td></tr><tr><td>val_loss</td><td>█▄▂▁▁</td></tr></table><br/></div><div class=\"wandb-col\"><h3>Run summary:</h3><br/><table class=\"wandb\"><tr><td>epoch</td><td>5</td></tr><tr><td>val_accuracy</td><td>0.965</td></tr><tr><td>val_loss</td><td>0.12151</td></tr></table><br/></div></div>"
      ],
      "text/plain": [
       "<IPython.core.display.HTML object>"
      ]
     },
     "metadata": {},
     "output_type": "display_data"
    },
    {
     "data": {
      "text/html": [
       " View run <strong style=\"color:#cdcd00\">_hl_2_hn_256_opt_adam_act_tanh_lr_0.001_bs_32_init_he_ep_5_l2_0</strong> at: <a href='https://wandb.ai/ma23c014-indian-institute-of-technology-madras/Digit-MNIST-Data/runs/eyym70fv' target=\"_blank\">https://wandb.ai/ma23c014-indian-institute-of-technology-madras/Digit-MNIST-Data/runs/eyym70fv</a><br> View project at: <a href='https://wandb.ai/ma23c014-indian-institute-of-technology-madras/Digit-MNIST-Data' target=\"_blank\">https://wandb.ai/ma23c014-indian-institute-of-technology-madras/Digit-MNIST-Data</a><br>Synced 5 W&B file(s), 0 media file(s), 0 artifact file(s) and 0 other file(s)"
      ],
      "text/plain": [
       "<IPython.core.display.HTML object>"
      ]
     },
     "metadata": {},
     "output_type": "display_data"
    },
    {
     "data": {
      "text/html": [
       "Find logs at: <code>.\\wandb\\run-20250317_223131-eyym70fv\\logs</code>"
      ],
      "text/plain": [
       "<IPython.core.display.HTML object>"
      ]
     },
     "metadata": {},
     "output_type": "display_data"
    },
    {
     "name": "stderr",
     "output_type": "stream",
     "text": [
      "wandb: Agent Starting Run: e73j2q3y with config:\n",
      "wandb: \tactivation: tanh\n",
      "wandb: \tbatch_size: 128\n",
      "wandb: \tepochs: 5\n",
      "wandb: \thidden_size: 256\n",
      "wandb: \tlearning_rate: 0.001\n",
      "wandb: \tloss: cross_entropy\n",
      "wandb: \tnum_layers: 1\n",
      "wandb: \toptimizer: rmsprop\n",
      "wandb: \tweight_decay: 0\n",
      "wandb: \tweight_init: random\n"
     ]
    },
    {
     "data": {
      "text/html": [
       "Tracking run with wandb version 0.19.8"
      ],
      "text/plain": [
       "<IPython.core.display.HTML object>"
      ]
     },
     "metadata": {},
     "output_type": "display_data"
    },
    {
     "data": {
      "text/html": [
       "Run data is saved locally in <code>C:\\Users\\lenovo\\fashion_mnist-backpropagation\\wandb\\run-20250317_223600-e73j2q3y</code>"
      ],
      "text/plain": [
       "<IPython.core.display.HTML object>"
      ]
     },
     "metadata": {},
     "output_type": "display_data"
    },
    {
     "data": {
      "text/html": [
       "Syncing run <strong><a href='https://wandb.ai/ma23c014-indian-institute-of-technology-madras/Digit-MNIST-Data/runs/e73j2q3y' target=\"_blank\">solar-sweep-12</a></strong> to <a href='https://wandb.ai/ma23c014-indian-institute-of-technology-madras/Digit-MNIST-Data' target=\"_blank\">Weights & Biases</a> (<a href='https://wandb.me/developer-guide' target=\"_blank\">docs</a>)<br>Sweep page: <a href='https://wandb.ai/ma23c014-indian-institute-of-technology-madras/Digit-MNIST-Data/sweeps/2e6bq7lk' target=\"_blank\">https://wandb.ai/ma23c014-indian-institute-of-technology-madras/Digit-MNIST-Data/sweeps/2e6bq7lk</a>"
      ],
      "text/plain": [
       "<IPython.core.display.HTML object>"
      ]
     },
     "metadata": {},
     "output_type": "display_data"
    },
    {
     "data": {
      "text/html": [
       " View project at <a href='https://wandb.ai/ma23c014-indian-institute-of-technology-madras/Digit-MNIST-Data' target=\"_blank\">https://wandb.ai/ma23c014-indian-institute-of-technology-madras/Digit-MNIST-Data</a>"
      ],
      "text/plain": [
       "<IPython.core.display.HTML object>"
      ]
     },
     "metadata": {},
     "output_type": "display_data"
    },
    {
     "data": {
      "text/html": [
       " View sweep at <a href='https://wandb.ai/ma23c014-indian-institute-of-technology-madras/Digit-MNIST-Data/sweeps/2e6bq7lk' target=\"_blank\">https://wandb.ai/ma23c014-indian-institute-of-technology-madras/Digit-MNIST-Data/sweeps/2e6bq7lk</a>"
      ],
      "text/plain": [
       "<IPython.core.display.HTML object>"
      ]
     },
     "metadata": {},
     "output_type": "display_data"
    },
    {
     "data": {
      "text/html": [
       " View run at <a href='https://wandb.ai/ma23c014-indian-institute-of-technology-madras/Digit-MNIST-Data/runs/e73j2q3y' target=\"_blank\">https://wandb.ai/ma23c014-indian-institute-of-technology-madras/Digit-MNIST-Data/runs/e73j2q3y</a>"
      ],
      "text/plain": [
       "<IPython.core.display.HTML object>"
      ]
     },
     "metadata": {},
     "output_type": "display_data"
    },
    {
     "data": {
      "text/html": [],
      "text/plain": [
       "<IPython.core.display.HTML object>"
      ]
     },
     "metadata": {},
     "output_type": "display_data"
    },
    {
     "data": {
      "text/html": [
       "<br>    <style><br>        .wandb-row {<br>            display: flex;<br>            flex-direction: row;<br>            flex-wrap: wrap;<br>            justify-content: flex-start;<br>            width: 100%;<br>        }<br>        .wandb-col {<br>            display: flex;<br>            flex-direction: column;<br>            flex-basis: 100%;<br>            flex: 1;<br>            padding: 10px;<br>        }<br>    </style><br><div class=\"wandb-row\"><div class=\"wandb-col\"><h3>Run history:</h3><br/><table class=\"wandb\"><tr><td>epoch</td><td>▁▃▅▆█</td></tr><tr><td>val_accuracy</td><td>▁▄▆▇█</td></tr><tr><td>val_loss</td><td>█▅▃▂▁</td></tr></table><br/></div><div class=\"wandb-col\"><h3>Run summary:</h3><br/><table class=\"wandb\"><tr><td>epoch</td><td>5</td></tr><tr><td>val_accuracy</td><td>0.91617</td></tr><tr><td>val_loss</td><td>0.38243</td></tr></table><br/></div></div>"
      ],
      "text/plain": [
       "<IPython.core.display.HTML object>"
      ]
     },
     "metadata": {},
     "output_type": "display_data"
    },
    {
     "data": {
      "text/html": [
       " View run <strong style=\"color:#cdcd00\">_hl_1_hn_256_opt_rmsprop_act_tanh_lr_0.001_bs_128_init_random_ep_5_l2_0</strong> at: <a href='https://wandb.ai/ma23c014-indian-institute-of-technology-madras/Digit-MNIST-Data/runs/e73j2q3y' target=\"_blank\">https://wandb.ai/ma23c014-indian-institute-of-technology-madras/Digit-MNIST-Data/runs/e73j2q3y</a><br> View project at: <a href='https://wandb.ai/ma23c014-indian-institute-of-technology-madras/Digit-MNIST-Data' target=\"_blank\">https://wandb.ai/ma23c014-indian-institute-of-technology-madras/Digit-MNIST-Data</a><br>Synced 5 W&B file(s), 0 media file(s), 0 artifact file(s) and 0 other file(s)"
      ],
      "text/plain": [
       "<IPython.core.display.HTML object>"
      ]
     },
     "metadata": {},
     "output_type": "display_data"
    },
    {
     "data": {
      "text/html": [
       "Find logs at: <code>.\\wandb\\run-20250317_223600-e73j2q3y\\logs</code>"
      ],
      "text/plain": [
       "<IPython.core.display.HTML object>"
      ]
     },
     "metadata": {},
     "output_type": "display_data"
    },
    {
     "name": "stderr",
     "output_type": "stream",
     "text": [
      "wandb: Agent Starting Run: ra6z8t8n with config:\n",
      "wandb: \tactivation: tanh\n",
      "wandb: \tbatch_size: 32\n",
      "wandb: \tepochs: 5\n",
      "wandb: \thidden_size: 128\n",
      "wandb: \tlearning_rate: 0.001\n",
      "wandb: \tloss: cross_entropy\n",
      "wandb: \tnum_layers: 3\n",
      "wandb: \toptimizer: adam\n",
      "wandb: \tweight_decay: 0\n",
      "wandb: \tweight_init: random\n"
     ]
    },
    {
     "data": {
      "text/html": [
       "Tracking run with wandb version 0.19.8"
      ],
      "text/plain": [
       "<IPython.core.display.HTML object>"
      ]
     },
     "metadata": {},
     "output_type": "display_data"
    },
    {
     "data": {
      "text/html": [
       "Run data is saved locally in <code>C:\\Users\\lenovo\\fashion_mnist-backpropagation\\wandb\\run-20250317_223701-ra6z8t8n</code>"
      ],
      "text/plain": [
       "<IPython.core.display.HTML object>"
      ]
     },
     "metadata": {},
     "output_type": "display_data"
    },
    {
     "data": {
      "text/html": [
       "Syncing run <strong><a href='https://wandb.ai/ma23c014-indian-institute-of-technology-madras/Digit-MNIST-Data/runs/ra6z8t8n' target=\"_blank\">generous-sweep-13</a></strong> to <a href='https://wandb.ai/ma23c014-indian-institute-of-technology-madras/Digit-MNIST-Data' target=\"_blank\">Weights & Biases</a> (<a href='https://wandb.me/developer-guide' target=\"_blank\">docs</a>)<br>Sweep page: <a href='https://wandb.ai/ma23c014-indian-institute-of-technology-madras/Digit-MNIST-Data/sweeps/2e6bq7lk' target=\"_blank\">https://wandb.ai/ma23c014-indian-institute-of-technology-madras/Digit-MNIST-Data/sweeps/2e6bq7lk</a>"
      ],
      "text/plain": [
       "<IPython.core.display.HTML object>"
      ]
     },
     "metadata": {},
     "output_type": "display_data"
    },
    {
     "data": {
      "text/html": [
       " View project at <a href='https://wandb.ai/ma23c014-indian-institute-of-technology-madras/Digit-MNIST-Data' target=\"_blank\">https://wandb.ai/ma23c014-indian-institute-of-technology-madras/Digit-MNIST-Data</a>"
      ],
      "text/plain": [
       "<IPython.core.display.HTML object>"
      ]
     },
     "metadata": {},
     "output_type": "display_data"
    },
    {
     "data": {
      "text/html": [
       " View sweep at <a href='https://wandb.ai/ma23c014-indian-institute-of-technology-madras/Digit-MNIST-Data/sweeps/2e6bq7lk' target=\"_blank\">https://wandb.ai/ma23c014-indian-institute-of-technology-madras/Digit-MNIST-Data/sweeps/2e6bq7lk</a>"
      ],
      "text/plain": [
       "<IPython.core.display.HTML object>"
      ]
     },
     "metadata": {},
     "output_type": "display_data"
    },
    {
     "data": {
      "text/html": [
       " View run at <a href='https://wandb.ai/ma23c014-indian-institute-of-technology-madras/Digit-MNIST-Data/runs/ra6z8t8n' target=\"_blank\">https://wandb.ai/ma23c014-indian-institute-of-technology-madras/Digit-MNIST-Data/runs/ra6z8t8n</a>"
      ],
      "text/plain": [
       "<IPython.core.display.HTML object>"
      ]
     },
     "metadata": {},
     "output_type": "display_data"
    },
    {
     "data": {
      "text/html": [],
      "text/plain": [
       "<IPython.core.display.HTML object>"
      ]
     },
     "metadata": {},
     "output_type": "display_data"
    },
    {
     "data": {
      "text/html": [
       "<br>    <style><br>        .wandb-row {<br>            display: flex;<br>            flex-direction: row;<br>            flex-wrap: wrap;<br>            justify-content: flex-start;<br>            width: 100%;<br>        }<br>        .wandb-col {<br>            display: flex;<br>            flex-direction: column;<br>            flex-basis: 100%;<br>            flex: 1;<br>            padding: 10px;<br>        }<br>    </style><br><div class=\"wandb-row\"><div class=\"wandb-col\"><h3>Run history:</h3><br/><table class=\"wandb\"><tr><td>epoch</td><td>▁▃▅▆█</td></tr><tr><td>val_accuracy</td><td>▁▄▅▇█</td></tr><tr><td>val_loss</td><td>█▄▃▂▁</td></tr></table><br/></div><div class=\"wandb-col\"><h3>Run summary:</h3><br/><table class=\"wandb\"><tr><td>epoch</td><td>5</td></tr><tr><td>val_accuracy</td><td>0.96983</td></tr><tr><td>val_loss</td><td>0.11284</td></tr></table><br/></div></div>"
      ],
      "text/plain": [
       "<IPython.core.display.HTML object>"
      ]
     },
     "metadata": {},
     "output_type": "display_data"
    },
    {
     "data": {
      "text/html": [
       " View run <strong style=\"color:#cdcd00\">_hl_3_hn_128_opt_adam_act_tanh_lr_0.001_bs_32_init_random_ep_5_l2_0</strong> at: <a href='https://wandb.ai/ma23c014-indian-institute-of-technology-madras/Digit-MNIST-Data/runs/ra6z8t8n' target=\"_blank\">https://wandb.ai/ma23c014-indian-institute-of-technology-madras/Digit-MNIST-Data/runs/ra6z8t8n</a><br> View project at: <a href='https://wandb.ai/ma23c014-indian-institute-of-technology-madras/Digit-MNIST-Data' target=\"_blank\">https://wandb.ai/ma23c014-indian-institute-of-technology-madras/Digit-MNIST-Data</a><br>Synced 5 W&B file(s), 0 media file(s), 0 artifact file(s) and 0 other file(s)"
      ],
      "text/plain": [
       "<IPython.core.display.HTML object>"
      ]
     },
     "metadata": {},
     "output_type": "display_data"
    },
    {
     "data": {
      "text/html": [
       "Find logs at: <code>.\\wandb\\run-20250317_223701-ra6z8t8n\\logs</code>"
      ],
      "text/plain": [
       "<IPython.core.display.HTML object>"
      ]
     },
     "metadata": {},
     "output_type": "display_data"
    },
    {
     "name": "stderr",
     "output_type": "stream",
     "text": [
      "wandb: Agent Starting Run: wof4hoaq with config:\n",
      "wandb: \tactivation: tanh\n",
      "wandb: \tbatch_size: 32\n",
      "wandb: \tepochs: 5\n",
      "wandb: \thidden_size: 64\n",
      "wandb: \tlearning_rate: 0.001\n",
      "wandb: \tloss: cross_entropy\n",
      "wandb: \tnum_layers: 1\n",
      "wandb: \toptimizer: rmsprop\n",
      "wandb: \tweight_decay: 0\n",
      "wandb: \tweight_init: random\n"
     ]
    },
    {
     "data": {
      "text/html": [
       "Tracking run with wandb version 0.19.8"
      ],
      "text/plain": [
       "<IPython.core.display.HTML object>"
      ]
     },
     "metadata": {},
     "output_type": "display_data"
    },
    {
     "data": {
      "text/html": [
       "Run data is saved locally in <code>C:\\Users\\lenovo\\fashion_mnist-backpropagation\\wandb\\run-20250317_223815-wof4hoaq</code>"
      ],
      "text/plain": [
       "<IPython.core.display.HTML object>"
      ]
     },
     "metadata": {},
     "output_type": "display_data"
    },
    {
     "data": {
      "text/html": [
       "Syncing run <strong><a href='https://wandb.ai/ma23c014-indian-institute-of-technology-madras/Digit-MNIST-Data/runs/wof4hoaq' target=\"_blank\">clear-sweep-14</a></strong> to <a href='https://wandb.ai/ma23c014-indian-institute-of-technology-madras/Digit-MNIST-Data' target=\"_blank\">Weights & Biases</a> (<a href='https://wandb.me/developer-guide' target=\"_blank\">docs</a>)<br>Sweep page: <a href='https://wandb.ai/ma23c014-indian-institute-of-technology-madras/Digit-MNIST-Data/sweeps/2e6bq7lk' target=\"_blank\">https://wandb.ai/ma23c014-indian-institute-of-technology-madras/Digit-MNIST-Data/sweeps/2e6bq7lk</a>"
      ],
      "text/plain": [
       "<IPython.core.display.HTML object>"
      ]
     },
     "metadata": {},
     "output_type": "display_data"
    },
    {
     "data": {
      "text/html": [
       " View project at <a href='https://wandb.ai/ma23c014-indian-institute-of-technology-madras/Digit-MNIST-Data' target=\"_blank\">https://wandb.ai/ma23c014-indian-institute-of-technology-madras/Digit-MNIST-Data</a>"
      ],
      "text/plain": [
       "<IPython.core.display.HTML object>"
      ]
     },
     "metadata": {},
     "output_type": "display_data"
    },
    {
     "data": {
      "text/html": [
       " View sweep at <a href='https://wandb.ai/ma23c014-indian-institute-of-technology-madras/Digit-MNIST-Data/sweeps/2e6bq7lk' target=\"_blank\">https://wandb.ai/ma23c014-indian-institute-of-technology-madras/Digit-MNIST-Data/sweeps/2e6bq7lk</a>"
      ],
      "text/plain": [
       "<IPython.core.display.HTML object>"
      ]
     },
     "metadata": {},
     "output_type": "display_data"
    },
    {
     "data": {
      "text/html": [
       " View run at <a href='https://wandb.ai/ma23c014-indian-institute-of-technology-madras/Digit-MNIST-Data/runs/wof4hoaq' target=\"_blank\">https://wandb.ai/ma23c014-indian-institute-of-technology-madras/Digit-MNIST-Data/runs/wof4hoaq</a>"
      ],
      "text/plain": [
       "<IPython.core.display.HTML object>"
      ]
     },
     "metadata": {},
     "output_type": "display_data"
    },
    {
     "data": {
      "text/html": [],
      "text/plain": [
       "<IPython.core.display.HTML object>"
      ]
     },
     "metadata": {},
     "output_type": "display_data"
    },
    {
     "data": {
      "text/html": [
       "<br>    <style><br>        .wandb-row {<br>            display: flex;<br>            flex-direction: row;<br>            flex-wrap: wrap;<br>            justify-content: flex-start;<br>            width: 100%;<br>        }<br>        .wandb-col {<br>            display: flex;<br>            flex-direction: column;<br>            flex-basis: 100%;<br>            flex: 1;<br>            padding: 10px;<br>        }<br>    </style><br><div class=\"wandb-row\"><div class=\"wandb-col\"><h3>Run history:</h3><br/><table class=\"wandb\"><tr><td>epoch</td><td>▁▃▅▆█</td></tr><tr><td>val_accuracy</td><td>▁▅▇██</td></tr><tr><td>val_loss</td><td>█▃▂▁▁</td></tr></table><br/></div><div class=\"wandb-col\"><h3>Run summary:</h3><br/><table class=\"wandb\"><tr><td>epoch</td><td>5</td></tr><tr><td>val_accuracy</td><td>0.935</td></tr><tr><td>val_loss</td><td>0.25544</td></tr></table><br/></div></div>"
      ],
      "text/plain": [
       "<IPython.core.display.HTML object>"
      ]
     },
     "metadata": {},
     "output_type": "display_data"
    },
    {
     "data": {
      "text/html": [
       " View run <strong style=\"color:#cdcd00\">_hl_1_hn_64_opt_rmsprop_act_tanh_lr_0.001_bs_32_init_random_ep_5_l2_0</strong> at: <a href='https://wandb.ai/ma23c014-indian-institute-of-technology-madras/Digit-MNIST-Data/runs/wof4hoaq' target=\"_blank\">https://wandb.ai/ma23c014-indian-institute-of-technology-madras/Digit-MNIST-Data/runs/wof4hoaq</a><br> View project at: <a href='https://wandb.ai/ma23c014-indian-institute-of-technology-madras/Digit-MNIST-Data' target=\"_blank\">https://wandb.ai/ma23c014-indian-institute-of-technology-madras/Digit-MNIST-Data</a><br>Synced 5 W&B file(s), 0 media file(s), 0 artifact file(s) and 0 other file(s)"
      ],
      "text/plain": [
       "<IPython.core.display.HTML object>"
      ]
     },
     "metadata": {},
     "output_type": "display_data"
    },
    {
     "data": {
      "text/html": [
       "Find logs at: <code>.\\wandb\\run-20250317_223815-wof4hoaq\\logs</code>"
      ],
      "text/plain": [
       "<IPython.core.display.HTML object>"
      ]
     },
     "metadata": {},
     "output_type": "display_data"
    },
    {
     "name": "stderr",
     "output_type": "stream",
     "text": [
      "wandb: Agent Starting Run: h8fg3r7b with config:\n",
      "wandb: \tactivation: tanh\n",
      "wandb: \tbatch_size: 32\n",
      "wandb: \tepochs: 10\n",
      "wandb: \thidden_size: 256\n",
      "wandb: \tlearning_rate: 0.001\n",
      "wandb: \tloss: mean_squared_error\n",
      "wandb: \tnum_layers: 2\n",
      "wandb: \toptimizer: adam\n",
      "wandb: \tweight_decay: 0\n",
      "wandb: \tweight_init: random\n"
     ]
    },
    {
     "data": {
      "text/html": [
       "Tracking run with wandb version 0.19.8"
      ],
      "text/plain": [
       "<IPython.core.display.HTML object>"
      ]
     },
     "metadata": {},
     "output_type": "display_data"
    },
    {
     "data": {
      "text/html": [
       "Run data is saved locally in <code>C:\\Users\\lenovo\\fashion_mnist-backpropagation\\wandb\\run-20250317_223842-h8fg3r7b</code>"
      ],
      "text/plain": [
       "<IPython.core.display.HTML object>"
      ]
     },
     "metadata": {},
     "output_type": "display_data"
    },
    {
     "data": {
      "text/html": [
       "Syncing run <strong><a href='https://wandb.ai/ma23c014-indian-institute-of-technology-madras/Digit-MNIST-Data/runs/h8fg3r7b' target=\"_blank\">fallen-sweep-15</a></strong> to <a href='https://wandb.ai/ma23c014-indian-institute-of-technology-madras/Digit-MNIST-Data' target=\"_blank\">Weights & Biases</a> (<a href='https://wandb.me/developer-guide' target=\"_blank\">docs</a>)<br>Sweep page: <a href='https://wandb.ai/ma23c014-indian-institute-of-technology-madras/Digit-MNIST-Data/sweeps/2e6bq7lk' target=\"_blank\">https://wandb.ai/ma23c014-indian-institute-of-technology-madras/Digit-MNIST-Data/sweeps/2e6bq7lk</a>"
      ],
      "text/plain": [
       "<IPython.core.display.HTML object>"
      ]
     },
     "metadata": {},
     "output_type": "display_data"
    },
    {
     "data": {
      "text/html": [
       " View project at <a href='https://wandb.ai/ma23c014-indian-institute-of-technology-madras/Digit-MNIST-Data' target=\"_blank\">https://wandb.ai/ma23c014-indian-institute-of-technology-madras/Digit-MNIST-Data</a>"
      ],
      "text/plain": [
       "<IPython.core.display.HTML object>"
      ]
     },
     "metadata": {},
     "output_type": "display_data"
    },
    {
     "data": {
      "text/html": [
       " View sweep at <a href='https://wandb.ai/ma23c014-indian-institute-of-technology-madras/Digit-MNIST-Data/sweeps/2e6bq7lk' target=\"_blank\">https://wandb.ai/ma23c014-indian-institute-of-technology-madras/Digit-MNIST-Data/sweeps/2e6bq7lk</a>"
      ],
      "text/plain": [
       "<IPython.core.display.HTML object>"
      ]
     },
     "metadata": {},
     "output_type": "display_data"
    },
    {
     "data": {
      "text/html": [
       " View run at <a href='https://wandb.ai/ma23c014-indian-institute-of-technology-madras/Digit-MNIST-Data/runs/h8fg3r7b' target=\"_blank\">https://wandb.ai/ma23c014-indian-institute-of-technology-madras/Digit-MNIST-Data/runs/h8fg3r7b</a>"
      ],
      "text/plain": [
       "<IPython.core.display.HTML object>"
      ]
     },
     "metadata": {},
     "output_type": "display_data"
    },
    {
     "data": {
      "text/html": [],
      "text/plain": [
       "<IPython.core.display.HTML object>"
      ]
     },
     "metadata": {},
     "output_type": "display_data"
    },
    {
     "data": {
      "text/html": [
       "<br>    <style><br>        .wandb-row {<br>            display: flex;<br>            flex-direction: row;<br>            flex-wrap: wrap;<br>            justify-content: flex-start;<br>            width: 100%;<br>        }<br>        .wandb-col {<br>            display: flex;<br>            flex-direction: column;<br>            flex-basis: 100%;<br>            flex: 1;<br>            padding: 10px;<br>        }<br>    </style><br><div class=\"wandb-row\"><div class=\"wandb-col\"><h3>Run history:</h3><br/><table class=\"wandb\"><tr><td>epoch</td><td>▁▂▃▃▄▅▆▆▇█</td></tr><tr><td>val_accuracy</td><td>▁▃▅▆▆███▇▇</td></tr><tr><td>val_loss</td><td>█▅▄▂▂▁▁▁▂▂</td></tr></table><br/></div><div class=\"wandb-col\"><h3>Run summary:</h3><br/><table class=\"wandb\"><tr><td>epoch</td><td>10</td></tr><tr><td>val_accuracy</td><td>0.97133</td></tr><tr><td>val_loss</td><td>0.10731</td></tr></table><br/></div></div>"
      ],
      "text/plain": [
       "<IPython.core.display.HTML object>"
      ]
     },
     "metadata": {},
     "output_type": "display_data"
    },
    {
     "data": {
      "text/html": [
       " View run <strong style=\"color:#cdcd00\">_hl_2_hn_256_opt_adam_act_tanh_lr_0.001_bs_32_init_random_ep_10_l2_0</strong> at: <a href='https://wandb.ai/ma23c014-indian-institute-of-technology-madras/Digit-MNIST-Data/runs/h8fg3r7b' target=\"_blank\">https://wandb.ai/ma23c014-indian-institute-of-technology-madras/Digit-MNIST-Data/runs/h8fg3r7b</a><br> View project at: <a href='https://wandb.ai/ma23c014-indian-institute-of-technology-madras/Digit-MNIST-Data' target=\"_blank\">https://wandb.ai/ma23c014-indian-institute-of-technology-madras/Digit-MNIST-Data</a><br>Synced 5 W&B file(s), 0 media file(s), 0 artifact file(s) and 0 other file(s)"
      ],
      "text/plain": [
       "<IPython.core.display.HTML object>"
      ]
     },
     "metadata": {},
     "output_type": "display_data"
    },
    {
     "data": {
      "text/html": [
       "Find logs at: <code>.\\wandb\\run-20250317_223842-h8fg3r7b\\logs</code>"
      ],
      "text/plain": [
       "<IPython.core.display.HTML object>"
      ]
     },
     "metadata": {},
     "output_type": "display_data"
    }
   ],
   "source": [
    "sweep_config = {\n",
    "    \"method\": \"bayes\",  # Bayesian \n",
    "    \"metric\": {\"name\": \"val_loss\", \"goal\": \"minimize\"},\n",
    "    \"parameters\": {\n",
    "        \"activation\": {\"values\": [\"relu\", \"sigmoid\", \"tanh\"]},\n",
    "        \"batch_size\": {\"values\": [32, 64, 128]},\n",
    "        \"epochs\": {\"values\": [5, 10, 20]},\n",
    "        \"optimizer\": {\"values\": [\"sgd\", \"momentum\", \"nag\", \"rmsprop\", \"adam\"]},\n",
    "        \"learning_rate\": {\"values\": [0.1, 0.01, 0.001]},\n",
    "        \"hidden_size\": {\"values\": [64, 128, 256]},\n",
    "        \"num_layers\": {\"values\": [1, 2, 3]},\n",
    "        \"weight_init\": {\"values\": [\"xavier\", \"he\", \"random\"]},\n",
    "        \"loss\": {\"values\": [\"cross_entropy\", \"mean_squared_error\"]},\n",
    "        \"weight_decay\": {\"values\": [0.0, 0.0001, 0.001]}\n",
    "    }\n",
    "}\n",
    "\n",
    "sweep_id = wandb.sweep(sweep_config, project=\"Digit-MNIST-Data\")\n",
    "\n",
    "def sweep_function():\n",
    "    wandb.agent(sweep_id, function=train, count=15)\n",
    "sweep_function()"
   ]
  }
 ],
 "metadata": {
  "kernelspec": {
   "display_name": "Python 3 (ipykernel)",
   "language": "python",
   "name": "python3"
  },
  "language_info": {
   "codemirror_mode": {
    "name": "ipython",
    "version": 3
   },
   "file_extension": ".py",
   "mimetype": "text/x-python",
   "name": "python",
   "nbconvert_exporter": "python",
   "pygments_lexer": "ipython3",
   "version": "3.12.4"
  }
 },
 "nbformat": 4,
 "nbformat_minor": 5
}
